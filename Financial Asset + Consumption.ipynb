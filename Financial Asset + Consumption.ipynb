{
 "cells": [
  {
   "cell_type": "code",
   "execution_count": 1,
   "metadata": {},
   "outputs": [],
   "source": [
    "import numpy as np\n",
    "import pandas as pd\n",
    "import xlwings as xw"
   ]
  },
  {
   "cell_type": "code",
   "execution_count": 2,
   "metadata": {},
   "outputs": [],
   "source": [
    "# 定義一些函數方便整理資料\n",
    "def int_limit(ip, maximum=10*10, minimum=0):\n",
    "    try:\n",
    "        op = int(ip)\n",
    "        if op > maximum or op < minimum:\n",
    "            return None\n",
    "        return op\n",
    "    except:\n",
    "        return None\n",
    "\n",
    "def float_limit(ip, maximum=10*10, minimum=0):\n",
    "    try:\n",
    "        op = float(ip)\n",
    "        if op > maximum or op < minimum:\n",
    "            return None\n",
    "        return op\n",
    "    except:\n",
    "        return None"
   ]
  },
  {
   "cell_type": "code",
   "execution_count": 3,
   "metadata": {},
   "outputs": [
    {
     "name": "stdout",
     "output_type": "stream",
     "text": [
      "          id subhh fs_hold_1996\n",
      "0     000002     0         None\n",
      "1     000003     0         None\n",
      "2     010001     0         None\n",
      "3     010003     0         None\n",
      "4     010004     0         None\n",
      "...      ...   ...          ...\n",
      "6811  098121     0         None\n",
      "6812  098802     0         None\n",
      "6813  098859     0         None\n",
      "6814  099231     0         None\n",
      "6815  099564     0         None\n",
      "\n",
      "[6816 rows x 3 columns]\n"
     ]
    }
   ],
   "source": [
    "# 1996, 以 household 為單位的回答\n",
    "J_H = np.array(list(open('D:\\Desktop\\imf\\專題\\data\\\\1996\\h96da\\H96J_H.DA', mode='r').read()))\n",
    "\n",
    "cols = ['id', 'subhh', 'fs_hold_1996']\n",
    "data_1996_H = pd.DataFrame(columns=cols)\n",
    "for i in range(6816):\n",
    "    fs_hold = int_limit(''.join(J_H[(1350 * i + 1197) : (1350 * i + 1204)]), 9999996)\n",
    "    new = pd.DataFrame({\n",
    "        'id': ''.join(J_H[(1350 * i) : (1350 * i + 6)]),\n",
    "        'subhh': ''.join(J_H[1350 * i + 6]),\n",
    "        'fs_hold_1996': fs_hold\n",
    "    }, index=[0])\n",
    "    data_1996_H = pd.concat([data_1996_H, new], ignore_index=True)\n",
    "\n",
    "print(data_1996_H)\n",
    "# alter_data_1996_H = data_1996_H.dropna()\n",
    "# maps = alter_data_1996_H['income_1996'].groupby(alter_data_1996_H['id']).mean()\n",
    "# print(maps)"
   ]
  },
  {
   "cell_type": "code",
   "execution_count": 4,
   "metadata": {},
   "outputs": [
    {
     "name": "stdout",
     "output_type": "stream",
     "text": [
      "           id subhh fs_hold_1998\n",
      "0      000002     0         None\n",
      "1      000003     0         None\n",
      "2      010001     0         None\n",
      "3      010003     0         None\n",
      "4      010004     0         None\n",
      "...       ...   ...          ...\n",
      "14390  213467     0         None\n",
      "14391  213468     0         None\n",
      "14392  213471     0         None\n",
      "14393  213475     0         None\n",
      "14394  213479     0         None\n",
      "\n",
      "[14395 rows x 3 columns]\n"
     ]
    }
   ],
   "source": [
    "# 1998, 以 household 為單位的回答\n",
    "J_H = np.array(list(open('D:\\Desktop\\imf\\專題\\data\\\\1998\\h98da\\H98J_H.DA', mode='r').read()))\n",
    "\n",
    "cols = ['id', 'subhh', 'fs_hold_1998']\n",
    "data_1998_H = pd.DataFrame(columns=cols)\n",
    "for i in range(14395):\n",
    "    fs_hold = int_limit(''.join(J_H[(1316 * i + 1167) : (1316 * i + 1174)]), 9999996)\n",
    "    new = pd.DataFrame({\n",
    "        'id': ''.join(J_H[(1316 * i) : (1316 * i + 6)]),\n",
    "        'subhh': ''.join(J_H[1316 * i + 6]),\n",
    "        'fs_hold_1998': fs_hold\n",
    "    }, index=[0])\n",
    "    data_1998_H = pd.concat([data_1998_H, new], ignore_index=True)\n",
    "\n",
    "print(data_1998_H)\n",
    "# alter_data_1998_H = data_1998_H.dropna()\n",
    "# maps = alter_data_1998_H['income_1998'].groupby(alter_data_1998_H['id']).mean()\n",
    "# print(maps)"
   ]
  },
  {
   "cell_type": "code",
   "execution_count": 5,
   "metadata": {},
   "outputs": [
    {
     "name": "stdout",
     "output_type": "stream",
     "text": [
      "           id subhh fs_hold_2000\n",
      "0      000002     0         3800\n",
      "1      000003     0         None\n",
      "2      010001     0         None\n",
      "3      010003     0         None\n",
      "4      010004     0         None\n",
      "...       ...   ...          ...\n",
      "13209  213467     0         None\n",
      "13210  213468     0         None\n",
      "13211  213471     0         None\n",
      "13212  213475     0         None\n",
      "13213  213479     0         None\n",
      "\n",
      "[13214 rows x 3 columns]\n"
     ]
    }
   ],
   "source": [
    "# 2000, 以 household 為單位的回答\n",
    "J_H = np.array(list(open('D:\\Desktop\\imf\\專題\\data\\\\2000\\h00da\\H00J_H.DA', mode='r').read()))\n",
    "\n",
    "cols = ['id', 'subhh', 'fs_hold_2000']\n",
    "data_2000_H = pd.DataFrame(columns=cols)\n",
    "for i in range(13214):\n",
    "    fs_hold = int_limit(''.join(J_H[(1298 * i + 1149) : (1298 * i + 1156)]), 9999996)\n",
    "    new = pd.DataFrame({\n",
    "        'id': ''.join(J_H[(1298 * i) : (1298 * i + 6)]),\n",
    "        'subhh': ''.join(J_H[1298 * i + 6]),\n",
    "        'fs_hold_2000': fs_hold\n",
    "    }, index=[0])\n",
    "    data_2000_H = pd.concat([data_2000_H, new], ignore_index=True)\n",
    "\n",
    "print(data_2000_H)\n",
    "# alter_data_2000_H = data_2000_H.dropna()\n",
    "# maps = alter_data_2000_H['income_2000'].groupby(alter_data_2000_H['id']).mean()\n",
    "# print(maps)"
   ]
  },
  {
   "cell_type": "code",
   "execution_count": 6,
   "metadata": {},
   "outputs": [
    {
     "name": "stdout",
     "output_type": "stream",
     "text": [
      "           id subhh fs_hold_2002\n",
      "0      000003     0         None\n",
      "1      010001     0         None\n",
      "2      010003     0         None\n",
      "3      010004     0         None\n",
      "4      010013     1         None\n",
      "...       ...   ...          ...\n",
      "12345  213467     0         None\n",
      "12346  213468     0         None\n",
      "12347  213471     0         None\n",
      "12348  213475     0         None\n",
      "12349  213479     0         None\n",
      "\n",
      "[12350 rows x 3 columns]\n"
     ]
    }
   ],
   "source": [
    "# 2002, 以 household 為單位的回答\n",
    "Q_H = np.array(list(open('D:\\Desktop\\imf\\專題\\data\\\\2002\\h02da\\H02Q_H.DA', mode='r').read()))\n",
    "\n",
    "cols = ['id', 'subhh', 'fs_hold_2002']\n",
    "data_2002_H = pd.DataFrame(columns=cols)\n",
    "for i in range(12350):\n",
    "    fs_hold = int_limit(''.join(Q_H[(2245 * i + 1974) : (2245 * i + 1981)]), 9999998)\n",
    "    new = pd.DataFrame({\n",
    "        'id': ''.join(Q_H[(2245 * i) : (2245 * i + 6)]),\n",
    "        'subhh': ''.join(Q_H[2245 * i + 6]),\n",
    "        'fs_hold_2002': fs_hold\n",
    "    }, index=[0])\n",
    "    data_2002_H = pd.concat([data_2002_H, new], ignore_index=True)\n",
    "\n",
    "print(data_2002_H)\n",
    "# alter_data_2002_H = data_2002_H.dropna()\n",
    "# maps = alter_data_2002_H['income_2002'].groupby(alter_data_2002_H['id']).mean()\n",
    "# print(maps)"
   ]
  },
  {
   "cell_type": "code",
   "execution_count": 7,
   "metadata": {},
   "outputs": [
    {
     "name": "stdout",
     "output_type": "stream",
     "text": [
      "           id subhh fs_hold_2004\n",
      "0      000003     0         None\n",
      "1      010001     0         None\n",
      "2      010003     0         None\n",
      "3      010004     0         None\n",
      "4      010013     1      9999998\n",
      "...       ...   ...          ...\n",
      "13640  502755     0         None\n",
      "13641  502757     0         None\n",
      "13642  502758     0         None\n",
      "13643  502759     0         None\n",
      "13644  502761     0         None\n",
      "\n",
      "[13645 rows x 3 columns]\n"
     ]
    }
   ],
   "source": [
    "# 2004, 以 household 為單位的回答\n",
    "Q_H = np.array(list(open('D:\\Desktop\\imf\\專題\\data\\\\2004\\h04da\\H04Q_H.DA', mode='r').read()))\n",
    "\n",
    "cols = ['id', 'subhh', 'fs_hold_2004']\n",
    "data_2004_H = pd.DataFrame(columns=cols)\n",
    "for i in range(13645):\n",
    "    fs_hold = int_limit(''.join(Q_H[(2336 * i + 2112) : (2336 * i + 2119)]), 9999998)\n",
    "    new = pd.DataFrame({\n",
    "        'id': ''.join(Q_H[(2336 * i) : (2336 * i + 6)]),\n",
    "        'subhh': ''.join(Q_H[2336 * i + 6]),\n",
    "        'fs_hold_2004': fs_hold\n",
    "    }, index=[0])\n",
    "    data_2004_H = pd.concat([data_2004_H, new], ignore_index=True)\n",
    "\n",
    "print(data_2004_H)\n",
    "# alter_data_2004_H = data_2004_H.dropna()\n",
    "# maps = alter_data_2004_H['income_2004'].groupby(alter_data_2004_H['id']).mean()\n",
    "# print(maps)"
   ]
  },
  {
   "cell_type": "code",
   "execution_count": 8,
   "metadata": {},
   "outputs": [
    {
     "name": "stdout",
     "output_type": "stream",
     "text": [
      "           id subhh fs_hold_2006\n",
      "0      000003     0         None\n",
      "1      010001     0         None\n",
      "2      010003     0         None\n",
      "3      010004     0         None\n",
      "4      010013     1         None\n",
      "...       ...   ...          ...\n",
      "12600  502754     0         None\n",
      "12601  502755     0         None\n",
      "12602  502758     0         None\n",
      "12603  502759     0      9999998\n",
      "12604  502761     0         None\n",
      "\n",
      "[12605 rows x 3 columns]\n"
     ]
    }
   ],
   "source": [
    "# 2006, 以 household 為單位的回答\n",
    "Q_H = np.array(list(open('D:\\Desktop\\imf\\專題\\data\\\\2006\\h06da\\H06Q_H.DA', mode='r').read()))\n",
    "\n",
    "cols = ['id', 'subhh', 'fs_hold_2006']\n",
    "data_2006_H = pd.DataFrame(columns=cols)\n",
    "for i in range(12605):\n",
    "    fs_hold = int_limit(''.join(Q_H[(3109 * i + 2820) : (3109 * i + 2827)]), 9999998)\n",
    "    new = pd.DataFrame({\n",
    "        'id': ''.join(Q_H[(3109 * i) : (3109 * i + 6)]),\n",
    "        'subhh': ''.join(Q_H[3109 * i + 6]),\n",
    "        'fs_hold_2006': fs_hold\n",
    "    }, index=[0])\n",
    "    data_2006_H = pd.concat([data_2006_H, new], ignore_index=True)\n",
    "\n",
    "print(data_2006_H)\n",
    "# alter_data_2006_H = data_2006_H.dropna()\n",
    "# maps = alter_data_2006_H['income_2006'].groupby(alter_data_2006_H['id']).mean()\n",
    "# print(maps)"
   ]
  },
  {
   "cell_type": "code",
   "execution_count": 9,
   "metadata": {},
   "outputs": [
    {
     "name": "stdout",
     "output_type": "stream",
     "text": [
      "           id subhh fs_hold_2008\n",
      "0      000003     0         None\n",
      "1      010001     0         None\n",
      "2      010003     0         None\n",
      "3      010004     0         None\n",
      "4      010013     1         None\n",
      "...       ...   ...          ...\n",
      "11892  502755     0        10000\n",
      "11893  502757     0         None\n",
      "11894  502758     0         None\n",
      "11895  502759     0         None\n",
      "11896  502761     0         None\n",
      "\n",
      "[11897 rows x 3 columns]\n"
     ]
    }
   ],
   "source": [
    "# 2008, 以 household 為單位的回答\n",
    "Q_H = np.array(list(open('D:\\Desktop\\imf\\專題\\data\\\\2008\\h08da\\H08Q_H.DA', mode='r').read()))\n",
    "\n",
    "cols = ['id', 'subhh', 'fs_hold_2008']\n",
    "data_2008_H = pd.DataFrame(columns=cols)\n",
    "for i in range(11897):\n",
    "    fs_hold = int_limit(''.join(Q_H[(3131 * i + 2780) : (3131 * i + 2787)]), 9999998)\n",
    "    new = pd.DataFrame({\n",
    "        'id': ''.join(Q_H[(3131 * i) : (3131 * i + 6)]),\n",
    "        'subhh': ''.join(Q_H[3131 * i + 6]),\n",
    "        'fs_hold_2008': fs_hold\n",
    "    }, index=[0])\n",
    "    data_2008_H = pd.concat([data_2008_H, new], ignore_index=True)\n",
    "\n",
    "print(data_2008_H)\n",
    "# alter_data_2008_H = data_2008_H.dropna()\n",
    "# maps = alter_data_2008_H['income_2008'].groupby(alter_data_2008_H['id']).mean()\n",
    "# print(maps)"
   ]
  },
  {
   "cell_type": "code",
   "execution_count": 10,
   "metadata": {},
   "outputs": [
    {
     "name": "stdout",
     "output_type": "stream",
     "text": [
      "           id subhh fs_hold_2010\n",
      "0      000003     0         None\n",
      "1      010001     0         None\n",
      "2      010003     0         None\n",
      "3      010004     0         None\n",
      "4      010013     1         None\n",
      "...       ...   ...          ...\n",
      "15275  923525     0         None\n",
      "15276  952836     0         None\n",
      "15277  958361     0         None\n",
      "15278  959733     0         None\n",
      "15279  959738     0         None\n",
      "\n",
      "[15280 rows x 3 columns]\n"
     ]
    }
   ],
   "source": [
    "# 2010, 以 household 為單位的回答\n",
    "Q_H = np.array(list(open('D:\\Desktop\\imf\\專題\\data\\\\2010\\h10da\\H10Q_H.DA', mode='r').read()))\n",
    "\n",
    "cols = ['id', 'subhh', 'fs_hold_2010']\n",
    "data_2010_H = pd.DataFrame(columns=cols)\n",
    "for i in range(15280):\n",
    "    fs_hold = int_limit(''.join(Q_H[(2538 * i + 2281) : (2538 * i + 2288)]), 9999998)\n",
    "    new = pd.DataFrame({\n",
    "        'id': ''.join(Q_H[(2538 * i) : (2538 * i + 6)]),\n",
    "        'subhh': ''.join(Q_H[2538 * i + 6]),\n",
    "        'fs_hold_2010': fs_hold\n",
    "    }, index=[0])\n",
    "    data_2010_H = pd.concat([data_2010_H, new], ignore_index=True)\n",
    "\n",
    "print(data_2010_H)\n",
    "# alter_data_2010_H = data_2010_H.dropna()\n",
    "# maps = alter_data_2010_H['income_2010'].groupby(alter_data_2010_H['id']).mean()\n",
    "# print(maps)"
   ]
  },
  {
   "cell_type": "code",
   "execution_count": 11,
   "metadata": {},
   "outputs": [
    {
     "name": "stdout",
     "output_type": "stream",
     "text": [
      "           id subhh fs_hold_2012\n",
      "0      000003     0         None\n",
      "1      010001     0         None\n",
      "2      010003     0         None\n",
      "3      010004     0         None\n",
      "4      010013     1      9999998\n",
      "...       ...   ...          ...\n",
      "14311  923498     0         None\n",
      "14312  923525     0         None\n",
      "14313  952836     0         None\n",
      "14314  958361     0         None\n",
      "14315  959738     0         None\n",
      "\n",
      "[14316 rows x 3 columns]\n"
     ]
    }
   ],
   "source": [
    "# 2012, 以 household 為單位的回答\n",
    "Q_H = np.array(list(open('D:\\Desktop\\imf\\專題\\data\\\\2012\\h12da\\H12Q_H.DA', mode='r').read()))\n",
    "\n",
    "cols = ['id', 'subhh', 'fs_hold_2012']\n",
    "data_2012_H = pd.DataFrame(columns=cols)\n",
    "for i in range(14316):\n",
    "    fs_hold = int_limit(''.join(Q_H[(2611 * i + 2350) : (2611 * i + 2357)]), 9999998)\n",
    "    new = pd.DataFrame({\n",
    "        'id': ''.join(Q_H[(2611 * i) : (2611 * i + 6)]),\n",
    "        'subhh': ''.join(Q_H[2611 * i + 6]),\n",
    "        'fs_hold_2012': fs_hold\n",
    "    }, index=[0])\n",
    "    data_2012_H = pd.concat([data_2012_H, new], ignore_index=True)\n",
    "\n",
    "print(data_2012_H)\n",
    "# alter_data_2012_H = data_2012_H.dropna()\n",
    "# maps = alter_data_2012_H['income_2012'].groupby(alter_data_2012_H['id']).mean()\n",
    "# print(maps)"
   ]
  },
  {
   "cell_type": "code",
   "execution_count": 12,
   "metadata": {},
   "outputs": [
    {
     "ename": "IndexError",
     "evalue": "index 32493901 is out of bounds for axis 0 with size 32493414",
     "output_type": "error",
     "traceback": [
      "\u001b[1;31m---------------------------------------------------------------------------\u001b[0m",
      "\u001b[1;31mIndexError\u001b[0m                                Traceback (most recent call last)",
      "Input \u001b[1;32mIn [12]\u001b[0m, in \u001b[0;36m<cell line: 6>\u001b[1;34m()\u001b[0m\n\u001b[0;32m      6\u001b[0m \u001b[38;5;28;01mfor\u001b[39;00m i \u001b[38;5;129;01min\u001b[39;00m \u001b[38;5;28mrange\u001b[39m(\u001b[38;5;241m14316\u001b[39m):\n\u001b[0;32m      7\u001b[0m     fs_hold \u001b[38;5;241m=\u001b[39m int_limit(\u001b[38;5;124m'\u001b[39m\u001b[38;5;124m'\u001b[39m\u001b[38;5;241m.\u001b[39mjoin(Q_H[(\u001b[38;5;241m2611\u001b[39m \u001b[38;5;241m*\u001b[39m i \u001b[38;5;241m+\u001b[39m \u001b[38;5;241m2207\u001b[39m) : (\u001b[38;5;241m2611\u001b[39m \u001b[38;5;241m*\u001b[39m i \u001b[38;5;241m+\u001b[39m \u001b[38;5;241m2214\u001b[39m)]), \u001b[38;5;241m9999998\u001b[39m)\n\u001b[0;32m      8\u001b[0m     new \u001b[38;5;241m=\u001b[39m pd\u001b[38;5;241m.\u001b[39mDataFrame({\n\u001b[0;32m      9\u001b[0m         \u001b[38;5;124m'\u001b[39m\u001b[38;5;124mid\u001b[39m\u001b[38;5;124m'\u001b[39m: \u001b[38;5;124m'\u001b[39m\u001b[38;5;124m'\u001b[39m\u001b[38;5;241m.\u001b[39mjoin(Q_H[(\u001b[38;5;241m2611\u001b[39m \u001b[38;5;241m*\u001b[39m i) : (\u001b[38;5;241m2611\u001b[39m \u001b[38;5;241m*\u001b[39m i \u001b[38;5;241m+\u001b[39m \u001b[38;5;241m6\u001b[39m)]),\n\u001b[1;32m---> 10\u001b[0m         \u001b[38;5;124m'\u001b[39m\u001b[38;5;124msubhh\u001b[39m\u001b[38;5;124m'\u001b[39m: \u001b[38;5;124m'\u001b[39m\u001b[38;5;124m'\u001b[39m\u001b[38;5;241m.\u001b[39mjoin(\u001b[43mQ_H\u001b[49m\u001b[43m[\u001b[49m\u001b[38;5;241;43m2611\u001b[39;49m\u001b[43m \u001b[49m\u001b[38;5;241;43m*\u001b[39;49m\u001b[43m \u001b[49m\u001b[43mi\u001b[49m\u001b[43m \u001b[49m\u001b[38;5;241;43m+\u001b[39;49m\u001b[43m \u001b[49m\u001b[38;5;241;43m6\u001b[39;49m\u001b[43m]\u001b[49m),\n\u001b[0;32m     11\u001b[0m         \u001b[38;5;124m'\u001b[39m\u001b[38;5;124mfs_hold_2014\u001b[39m\u001b[38;5;124m'\u001b[39m: fs_hold\n\u001b[0;32m     12\u001b[0m     }, index\u001b[38;5;241m=\u001b[39m[\u001b[38;5;241m0\u001b[39m])\n\u001b[0;32m     13\u001b[0m     data_2014_H \u001b[38;5;241m=\u001b[39m pd\u001b[38;5;241m.\u001b[39mconcat([data_2014_H, new], ignore_index\u001b[38;5;241m=\u001b[39m\u001b[38;5;28;01mTrue\u001b[39;00m)\n\u001b[0;32m     15\u001b[0m \u001b[38;5;28mprint\u001b[39m(data_2014_H)\n",
      "\u001b[1;31mIndexError\u001b[0m: index 32493901 is out of bounds for axis 0 with size 32493414"
     ]
    }
   ],
   "source": [
    "# 2014, 以 household 為單位的回答\n",
    "Q_H = np.array(list(open('D:\\Desktop\\imf\\專題\\data\\\\2014\\h14da\\H14Q_H.DA', mode='r').read()))\n",
    "\n",
    "cols = ['id', 'subhh', 'fs_hold_2014']\n",
    "data_2014_H = pd.DataFrame(columns=cols)\n",
    "for i in range(14316):\n",
    "    fs_hold = int_limit(''.join(Q_H[(2454 * i + 2207) : (2454 * i + 2214)]), 9999998)\n",
    "    new = pd.DataFrame({\n",
    "        'id': ''.join(Q_H[(2454 * i) : (2454 * i + 6)]),\n",
    "        'subhh': ''.join(Q_H[2454 * i + 6]),\n",
    "        'fs_hold_2014': fs_hold\n",
    "    }, index=[0])\n",
    "    data_2014_H = pd.concat([data_2014_H, new], ignore_index=True)\n",
    "\n",
    "print(data_2014_H)\n",
    "# alter_data_2014_H = data_2014_H.dropna()\n",
    "# maps = alter_data_2014_H['income_2014'].groupby(alter_data_2014_H['id']).mean()\n",
    "# print(maps)"
   ]
  },
  {
   "cell_type": "code",
   "execution_count": 13,
   "metadata": {},
   "outputs": [
    {
     "name": "stdout",
     "output_type": "stream",
     "text": [
      "           id subhh fs_hold_2016\n",
      "0      010001     0         None\n",
      "1      010003     0         None\n",
      "2      010004     0         None\n",
      "3      010013     1         None\n",
      "4      010038     0         None\n",
      "...       ...   ...          ...\n",
      "15018  923498     0         None\n",
      "15019  923525     0         None\n",
      "15020  952836     0         None\n",
      "15021  958361     1         None\n",
      "15022  959738     0       500000\n",
      "\n",
      "[15023 rows x 3 columns]\n"
     ]
    }
   ],
   "source": [
    "# 2016, 以 household 為單位的回答\n",
    "Q_H = np.array(list(open('D:\\Desktop\\imf\\專題\\data\\\\2016\\h16da\\H16Q_H.DA', mode='r').read()))\n",
    "\n",
    "cols = ['id', 'subhh', 'fs_hold_2016']\n",
    "data_2016_H = pd.DataFrame(columns=cols)\n",
    "for i in range(15023):\n",
    "    fs_hold = int_limit(''.join(Q_H[(2367 * i + 2157) : (2367 * i + 2165)]), 99999998)\n",
    "    new = pd.DataFrame({\n",
    "        'id': ''.join(Q_H[(2367 * i) : (2367 * i + 6)]),\n",
    "        'subhh': ''.join(Q_H[2367 * i + 6]),\n",
    "        'fs_hold_2016': fs_hold\n",
    "    }, index=[0])\n",
    "    data_2016_H = pd.concat([data_2016_H, new], ignore_index=True)\n",
    "\n",
    "print(data_2016_H)\n",
    "# alter_data_2016_H = data_2016_H.dropna()\n",
    "# maps = alter_data_2016_H['income_2016'].groupby(alter_data_2016_H['id']).mean()\n",
    "# print(maps)"
   ]
  },
  {
   "cell_type": "code",
   "execution_count": 14,
   "metadata": {},
   "outputs": [
    {
     "name": "stdout",
     "output_type": "stream",
     "text": [
      "           id subhh fs_hold_2018\n",
      "0      010003     0         None\n",
      "1      010004     0         None\n",
      "2      010013     1         None\n",
      "3      010038     0         None\n",
      "4      010059     0         None\n",
      "...       ...   ...          ...\n",
      "12462  923497     0         None\n",
      "12463  923498     0         None\n",
      "12464  923525     0         None\n",
      "12465  952836     0         None\n",
      "12466  959738     0         None\n",
      "\n",
      "[12467 rows x 3 columns]\n"
     ]
    }
   ],
   "source": [
    "# 2018, 以 household 為單位的回答\n",
    "Q_H = np.array(list(open('D:\\Desktop\\imf\\專題\\data\\\\2018\\h18da\\H18Q_H.DA', mode='r').read()))\n",
    "\n",
    "cols = ['id', 'subhh', 'fs_hold_2018']\n",
    "data_2018_H = pd.DataFrame(columns=cols)\n",
    "for i in range(12467):\n",
    "    fs_hold = int_limit(''.join(Q_H[(2602 * i + 2353) : (2602 * i + 2360)]), 9999998, 0)\n",
    "    new = pd.DataFrame({\n",
    "        'id': ''.join(Q_H[(2602 * i) : (2602 * i + 6)]),\n",
    "        'subhh': ''.join(Q_H[2602 * i + 6]),\n",
    "        'fs_hold_2018': fs_hold\n",
    "    }, index=[0])\n",
    "    data_2018_H = pd.concat([data_2018_H, new], ignore_index=True)\n",
    "\n",
    "print(data_2018_H)\n",
    "# alter_data_2018_H = data_2018_H.dropna()\n",
    "# maps = alter_data_2018_H['income_2018'].groupby(alter_data_2018_H['id']).mean()\n",
    "# print(maps)"
   ]
  },
  {
   "cell_type": "code",
   "execution_count": 16,
   "metadata": {},
   "outputs": [
    {
     "ename": "IndexError",
     "evalue": "index 29852752 is out of bounds for axis 0 with size 29851020",
     "output_type": "error",
     "traceback": [
      "\u001b[1;31m---------------------------------------------------------------------------\u001b[0m",
      "\u001b[1;31mIndexError\u001b[0m                                Traceback (most recent call last)",
      "Input \u001b[1;32mIn [16]\u001b[0m, in \u001b[0;36m<cell line: 6>\u001b[1;34m()\u001b[0m\n\u001b[0;32m      6\u001b[0m \u001b[38;5;28;01mfor\u001b[39;00m i \u001b[38;5;129;01min\u001b[39;00m \u001b[38;5;28mrange\u001b[39m(\u001b[38;5;241m12467\u001b[39m):\n\u001b[0;32m      7\u001b[0m     fs_hold \u001b[38;5;241m=\u001b[39m int_limit(\u001b[38;5;124m'\u001b[39m\u001b[38;5;124m'\u001b[39m\u001b[38;5;241m.\u001b[39mjoin(Q_H[(\u001b[38;5;241m2602\u001b[39m \u001b[38;5;241m*\u001b[39m i \u001b[38;5;241m+\u001b[39m \u001b[38;5;241m2342\u001b[39m) : (\u001b[38;5;241m2602\u001b[39m \u001b[38;5;241m*\u001b[39m i \u001b[38;5;241m+\u001b[39m \u001b[38;5;241m2349\u001b[39m)]), \u001b[38;5;241m9999998\u001b[39m, \u001b[38;5;241m0\u001b[39m)\n\u001b[0;32m      8\u001b[0m     new \u001b[38;5;241m=\u001b[39m pd\u001b[38;5;241m.\u001b[39mDataFrame({\n\u001b[0;32m      9\u001b[0m         \u001b[38;5;124m'\u001b[39m\u001b[38;5;124mid\u001b[39m\u001b[38;5;124m'\u001b[39m: \u001b[38;5;124m'\u001b[39m\u001b[38;5;124m'\u001b[39m\u001b[38;5;241m.\u001b[39mjoin(Q_H[(\u001b[38;5;241m2602\u001b[39m \u001b[38;5;241m*\u001b[39m i) : (\u001b[38;5;241m2602\u001b[39m \u001b[38;5;241m*\u001b[39m i \u001b[38;5;241m+\u001b[39m \u001b[38;5;241m6\u001b[39m)]),\n\u001b[1;32m---> 10\u001b[0m         \u001b[38;5;124m'\u001b[39m\u001b[38;5;124msubhh\u001b[39m\u001b[38;5;124m'\u001b[39m: \u001b[38;5;124m'\u001b[39m\u001b[38;5;124m'\u001b[39m\u001b[38;5;241m.\u001b[39mjoin(\u001b[43mQ_H\u001b[49m\u001b[43m[\u001b[49m\u001b[38;5;241;43m2602\u001b[39;49m\u001b[43m \u001b[49m\u001b[38;5;241;43m*\u001b[39;49m\u001b[43m \u001b[49m\u001b[43mi\u001b[49m\u001b[43m \u001b[49m\u001b[38;5;241;43m+\u001b[39;49m\u001b[43m \u001b[49m\u001b[38;5;241;43m6\u001b[39;49m\u001b[43m]\u001b[49m),\n\u001b[0;32m     11\u001b[0m         \u001b[38;5;124m'\u001b[39m\u001b[38;5;124mfs_hold_2020\u001b[39m\u001b[38;5;124m'\u001b[39m: fs_hold\n\u001b[0;32m     12\u001b[0m     }, index\u001b[38;5;241m=\u001b[39m[\u001b[38;5;241m0\u001b[39m])\n\u001b[0;32m     13\u001b[0m     data_2020_H \u001b[38;5;241m=\u001b[39m pd\u001b[38;5;241m.\u001b[39mconcat([data_2020_H, new], ignore_index\u001b[38;5;241m=\u001b[39m\u001b[38;5;28;01mTrue\u001b[39;00m)\n\u001b[0;32m     15\u001b[0m \u001b[38;5;28mprint\u001b[39m(data_2020_H)\n",
      "\u001b[1;31mIndexError\u001b[0m: index 29852752 is out of bounds for axis 0 with size 29851020"
     ]
    }
   ],
   "source": [
    "# 2020, 以 household 為單位的回答\n",
    "Q_H = np.array(list(open('D:\\Desktop\\imf\\專題\\data\\\\2020\\h20da\\H20Q_H.DA', mode='r').read()))\n",
    "\n",
    "cols = ['id', 'subhh', 'fs_hold_2020']\n",
    "data_2020_H = pd.DataFrame(columns=cols)\n",
    "for i in range(12467):\n",
    "    fs_hold = int_limit(''.join(Q_H[(2598 * i + 2342) : (2598 * i + 2349)]), 9999998, 0)\n",
    "    new = pd.DataFrame({\n",
    "        'id': ''.join(Q_H[(2598 * i) : (2598 * i + 6)]),\n",
    "        'subhh': ''.join(Q_H[2598 * i + 6]),\n",
    "        'fs_hold_2020': fs_hold\n",
    "    }, index=[0])\n",
    "    data_2020_H = pd.concat([data_2020_H, new], ignore_index=True)\n",
    "\n",
    "print(data_2020_H)\n",
    "# alter_data_2020_H = data_2020_H.dropna()\n",
    "# maps = alter_data_2020_H['income_2020'].groupby(alter_data_2020_H['id']).mean()\n",
    "# print(maps)"
   ]
  }
 ],
 "metadata": {
  "kernelspec": {
   "display_name": "Python 3 (ipykernel)",
   "language": "python",
   "name": "python3"
  },
  "language_info": {
   "codemirror_mode": {
    "name": "ipython",
    "version": 3
   },
   "file_extension": ".py",
   "mimetype": "text/x-python",
   "name": "python",
   "nbconvert_exporter": "python",
   "pygments_lexer": "ipython3",
   "version": "3.9.0"
  },
  "vscode": {
   "interpreter": {
    "hash": "81794d4967e6c3204c66dcd87b604927b115b27c00565d3d43f05ba2f3a2cb0d"
   }
  }
 },
 "nbformat": 4,
 "nbformat_minor": 4
}
