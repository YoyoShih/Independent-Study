{
 "cells": [
  {
   "cell_type": "code",
   "execution_count": 1,
   "metadata": {},
   "outputs": [],
   "source": [
    "import numpy as np\n",
    "import pandas as pd\n",
    "import xlwings as xw"
   ]
  },
  {
   "cell_type": "code",
   "execution_count": 3,
   "metadata": {},
   "outputs": [
    {
     "name": "stdout",
     "output_type": "stream",
     "text": [
      "   \n",
      "   \n",
      "         id + pn age_1996 gender_1996 hh_size_1996\n",
      "0      000002010       62      Female            1\n",
      "1      000003010       60        Male            2\n",
      "2      000003020       58      Female            2\n",
      "3      010001010       57        Male            1\n",
      "4      010003020       62        Male            2\n",
      "...          ...      ...         ...          ...\n",
      "10959  098802010       64        Male            2\n",
      "10960  098802040       69      Female            2\n",
      "10961  098859020       58        Male            1\n",
      "10962  099231010       56        Male            1\n",
      "10963  099564010       62      Female            1\n",
      "\n",
      "[10881 rows x 4 columns]\n"
     ]
    }
   ],
   "source": [
    "# 1996\n",
    "index = list(range(10964))\n",
    "data_1996 = pd.DataFrame(columns=['id + pn', 'age_1996', 'gender_1996', 'hh_size_1996'], index = index)\n",
    "\n",
    "A_R = open('D:\\Desktop\\imf\\專題\\data\\\\1996\\h96da\\H96A_R.DA', mode='r').read()\n",
    "CS_R = open('D:\\Desktop\\imf\\專題\\data\\\\1996\\h96da\\H96CS_R.DA', mode='r').read()\n",
    "\n",
    "for i in range(10964):\n",
    "    data_1996['id + pn'][i] = A_R[(147 * i) : (147 * i + 9)]\n",
    "    try:\n",
    "        data_1996['age_1996'][i] = int(A_R[(147 * i + 91) : (147 * i + 94)])\n",
    "        if data_1996['age_1996'][i] > 200:\n",
    "            data_1996['age_1996'][i] = None\n",
    "    except:\n",
    "        data_1996['age_1996'][i] = None\n",
    "        print(A_R[(147 * i + 91) : (147 * i + 94)])\n",
    "    data_1996['hh_size_1996'][i] = { '1': 2, '2': 2, '3': 2, '4': 1, '5': 1, '6': 1, '7': 1, '9': 1 }.get(CS_R[392 * i + 56], None)\n",
    "    data_1996['gender_1996'][i] = { '1': 'Male', '2': 'Female' }.get(CS_R[392 * i + 45], None)\n",
    "\n",
    "alter_data_1996 = data_1996.dropna()\n",
    "print(alter_data_1996)"
   ]
  },
  {
   "cell_type": "code",
   "execution_count": 3,
   "metadata": {},
   "outputs": [
    {
     "name": "stdout",
     "output_type": "stream",
     "text": [
      "         id + pn age_1998 gender_1998 hh_size_1998\n",
      "0      000002010       64      Female            1\n",
      "1      000003010       62        Male            2\n",
      "2      000003020       60      Female            2\n",
      "3      010001010       59        Male            1\n",
      "4      010003020       64        Male            2\n",
      "...          ...      ...         ...          ...\n",
      "21379  213471010       68      Female            1\n",
      "21380  213471020       72        Male            1\n",
      "21381  213475010       73      Female            1\n",
      "21382  213479010       71        Male            1\n",
      "21383  213479020       72      Female            1\n",
      "\n",
      "[21384 rows x 4 columns]\n"
     ]
    }
   ],
   "source": [
    "# 1998\n",
    "A_R = open('D:\\Desktop\\imf\\專題\\data\\\\1998\\h98da\\H98A_R.DA', mode='r').read()\n",
    "CS_R = open('D:\\Desktop\\imf\\專題\\data\\\\1998\\h98da\\H98CS_R.DA', mode='r').read()\n",
    "\n",
    "index = list(range(21384))\n",
    "data_1998 = pd.DataFrame(columns=['id + pn', 'age_1998', 'gender_1998', 'hh_size_1998'], index = index)\n",
    "\n",
    "for i in range(21384):\n",
    "    data_1998['id + pn'][i] = A_R[(193 * i) : (193 * i + 9)]\n",
    "    try:\n",
    "        data_1998['age_1998'][i] = int(A_R[(193 * i + 98) : (193 * i + 101)])\n",
    "    except:\n",
    "        data_1998['age_1998'][i] = None\n",
    "    data_1998['hh_size_1998'][i] = { '0': 1, '1': 2, '2': 2, '3': 1, '4': 1, '5': 1, '6': ' ' }.get(CS_R[153 * i + 52], None)\n",
    "    data_1998['gender_1998'][i] = { '1': 'Male', '2': 'Female' }.get(CS_R[153 * i + 37], None)\n",
    "\n",
    "alter_data_1998 = data_1998.dropna()\n",
    "print(alter_data_1998)"
   ]
  },
  {
   "cell_type": "code",
   "execution_count": 4,
   "metadata": {},
   "outputs": [
    {
     "name": "stdout",
     "output_type": "stream",
     "text": [
      "         id + pn age_2000 gender_2000 hh_size_2000\n",
      "0      000002010       65      Female            1\n",
      "1      000003010       64        Male            2\n",
      "2      000003020       61      Female            2\n",
      "3      010001010       60        Male            1\n",
      "4      010003030       44      Female            1\n",
      "...          ...      ...         ...          ...\n",
      "19575  213468010       75      Female            1\n",
      "19576  213471010       69      Female            1\n",
      "19577  213475010       75      Female            1\n",
      "19578  213479010       73        Male            1\n",
      "19579  213479020       73      Female            2\n",
      "\n",
      "[19580 rows x 4 columns]\n"
     ]
    }
   ],
   "source": [
    "# 2000\n",
    "A_R = open('D:\\Desktop\\imf\\專題\\data\\\\2000\\h00da\\H00A_R.DA', mode='r').read()\n",
    "CS_R = open('D:\\Desktop\\imf\\專題\\data\\\\2000\\h00da\\H00CS_R.DA', mode='r').read()\n",
    "\n",
    "index = list(range(19580))\n",
    "data_2000 = pd.DataFrame(columns=['id + pn', 'age_2000', 'gender_2000', 'hh_size_2000'], index = index)\n",
    "\n",
    "for i in range(19580):\n",
    "    data_2000['id + pn'][i] = A_R[(195 * i) : (195 * i + 9)]\n",
    "    try:\n",
    "        data_2000['age_2000'][i] = int(A_R[(195 * i + 99) : (195 * i + 102)])\n",
    "    except:\n",
    "        data_2000['age_2000'][i] = None\n",
    "    data_2000['hh_size_2000'][i] = { '0': 1, '1': 2, '2': 2, '3': 1, '4': 1, '5': 1, '6': 1 }.get(CS_R[168 * i + 61], None)\n",
    "    data_2000['gender_2000'][i] = { '1': 'Male', '2': 'Female' }.get(CS_R[168 * i + 42], None)\n",
    "\n",
    "alter_data_2000 = data_2000.dropna()\n",
    "print(alter_data_2000)"
   ]
  },
  {
   "cell_type": "code",
   "execution_count": 5,
   "metadata": {},
   "outputs": [
    {
     "name": "stdout",
     "output_type": "stream",
     "text": [
      "         id + pn age_2002 gender_2002 hh_size_2002\n",
      "0      000003010       66        Male            2\n",
      "1      000003020       63      Female            2\n",
      "2      010001010       62        Male            1\n",
      "3      010003030       46      Female            1\n",
      "4      010004010       62        Male            2\n",
      "...          ...      ...         ...          ...\n",
      "18161  213467020       73      Female            1\n",
      "18162  213468010       77      Female            1\n",
      "18163  213471010       71      Female            1\n",
      "18164  213475010       77        Male            2\n",
      "18165  213479010       75      Female            2\n",
      "\n",
      "[18063 rows x 4 columns]\n"
     ]
    }
   ],
   "source": [
    "# 2002\n",
    "A_R = open('D:\\Desktop\\imf\\專題\\data\\\\2002\\h02da\\H02A_R.DA', mode='r').read()\n",
    "B_R = open('D:\\Desktop\\imf\\專題\\data\\\\2002\\h02da\\H02B_R.DA', mode='r').read()\n",
    "PR_R = open('D:\\Desktop\\imf\\專題\\data\\\\2002\\h02da\\H02PR_R.DA', mode='r').read()\n",
    "\n",
    "index = list(range(18167))\n",
    "data_2002 = pd.DataFrame(columns=['id + pn', 'age_2002', 'gender_2002', 'hh_size_2002'], index = index)\n",
    "\n",
    "for i in range(18167):\n",
    "    data_2002['id + pn'][i] = A_R[(67 * i) : (67 * i + 9)]\n",
    "    try:\n",
    "        data_2002['age_2002'][i] = int(A_R[(67 * i + 30) : (67 * i + 33)])\n",
    "    except:\n",
    "        data_2002['age_2002'][i] = None\n",
    "    data_2002['hh_size_2002'][i] = { '1': 2, '2': 1, '3': 1, '4': 1, '5': 1, '6': 1 }.get(B_R[174 * i + 131], None)\n",
    "    data_2002['gender_2002'][i] = { '1': 'Male', '2': 'Female' }.get(PR_R[414 * i + 19], None)\n",
    "\n",
    "alter_data_2002 = data_2002.dropna()\n",
    "print(alter_data_2002)"
   ]
  },
  {
   "cell_type": "code",
   "execution_count": 6,
   "metadata": {
    "scrolled": true
   },
   "outputs": [
    {
     "name": "stdout",
     "output_type": "stream",
     "text": [
      "         id + pn age_2004 gender_2004 hh_size_2004\n",
      "0      000003010       68        Male            2\n",
      "1      000003020       65      Female            2\n",
      "2      010001010       64        Male            2\n",
      "3      010003030       48      Female            1\n",
      "4      010004010       64        Male            1\n",
      "...          ...      ...         ...          ...\n",
      "13640  205061020       65      Female            2\n",
      "13641  205063010       81        Male            2\n",
      "13642  205063020       76      Female            2\n",
      "13643  205064010       84      Female            1\n",
      "13644  205066010       82        Male            1\n",
      "\n",
      "[13617 rows x 4 columns]\n"
     ]
    }
   ],
   "source": [
    "# 2004\n",
    "A_R = open('D:\\Desktop\\imf\\專題\\data\\\\2004\\h04da\\H04A_R.DA', mode='r').read()\n",
    "B_R = open('D:\\Desktop\\imf\\專題\\data\\\\2004\\h04da\\H04B_R.DA', mode='r').read()\n",
    "PR_R = open('D:\\Desktop\\imf\\專題\\data\\\\2004\\h04da\\H04PR_R.DA', mode='r').read()\n",
    "\n",
    "index = list(range(13645))\n",
    "data_2004 = pd.DataFrame(columns=['id + pn', 'age_2004', 'gender_2004', 'hh_size_2004'], index = index)\n",
    "\n",
    "for i in range(13645):\n",
    "    data_2004['id + pn'][i] = A_R[(57 * i) : (57 * i + 9)]\n",
    "    try:\n",
    "        data_2004['age_2004'][i] = int(A_R[(57 * i + 42) : (57 * i + 45)])\n",
    "    except:\n",
    "        data_2004['age_2004'][i] = None\n",
    "    data_2004['hh_size_2004'][i] = { '1': 2, '2': 1, '3': 1, '4': 1, '5': 1, '6': 1 }.get(B_R[166 * i + 161], None)\n",
    "    data_2004['gender_2004'][i] = { '1': 'Male', '2': 'Female' }.get(PR_R[546 * i + 20], None)\n",
    "\n",
    "alter_data_2004 = data_2004.dropna()\n",
    "print(alter_data_2004)"
   ]
  },
  {
   "cell_type": "code",
   "execution_count": 7,
   "metadata": {},
   "outputs": [
    {
     "name": "stdout",
     "output_type": "stream",
     "text": [
      "         id + pn age_2006 gender_2006 hh_size_2006\n",
      "0      000003010       70        Male            2\n",
      "1      000003020       67      Female            2\n",
      "2      010001010       66        Male            1\n",
      "3      010003030       50      Female            1\n",
      "4      010004010       66        Male            2\n",
      "...          ...      ...         ...          ...\n",
      "18464  502755020       57        Male            2\n",
      "18465  502758010       54        Male            1\n",
      "18466  502759010       56        Male            2\n",
      "18467  502759020       57      Female            2\n",
      "18468  502761010       53      Female            1\n",
      "\n",
      "[18422 rows x 4 columns]\n"
     ]
    }
   ],
   "source": [
    "# 2006\n",
    "A_R = open('D:\\Desktop\\imf\\專題\\data\\\\2006\\h06da\\H06A_R.DA', mode='r').read()\n",
    "B_R = open('D:\\Desktop\\imf\\專題\\data\\\\2006\\h06da\\H06B_R.DA', mode='r').read()\n",
    "PR_R = open('D:\\Desktop\\imf\\專題\\data\\\\2006\\h06da\\H06PR_R.DA', mode='r').read()\n",
    "\n",
    "index = list(range(18469))\n",
    "data_2006 = pd.DataFrame(columns=['id + pn', 'age_2006', 'gender_2006', 'hh_size_2006'], index = index)\n",
    "\n",
    "for i in range(18469):\n",
    "    data_2006['id + pn'][i] = A_R[(139 * i) : (139 * i + 9)]\n",
    "    try:\n",
    "        data_2006['age_2006'][i] = int(A_R[(139 * i + 54) : (139 * i + 57)])\n",
    "    except:\n",
    "        data_2006['age_2006'][i] = None\n",
    "    data_2006['hh_size_2006'][i] = { '1': 2, '2': 1, '3': 1, '4': 1, '5': 1, '6': 1 }.get(B_R[182 * i + 177], None)\n",
    "    data_2006['gender_2006'][i] = { '1': 'Male', '2': 'Female' }.get(PR_R[659 * i + 20], None)\n",
    "\n",
    "alter_data_2006 = data_2006.dropna()\n",
    "print(alter_data_2006)"
   ]
  },
  {
   "cell_type": "code",
   "execution_count": 8,
   "metadata": {
    "scrolled": true
   },
   "outputs": [
    {
     "name": "stdout",
     "output_type": "stream",
     "text": [
      "         id + pn age_2008 gender_2008 hh_size_2008\n",
      "0      000003010       72        Male            2\n",
      "1      000003020       69      Female            2\n",
      "2      010001010       69        Male            1\n",
      "3      010003030       51      Female            1\n",
      "4      010004010       68        Male            2\n",
      "...          ...      ...         ...          ...\n",
      "17212  502757010       58      Female            1\n",
      "17213  502758010       56        Male            1\n",
      "17214  502759010       59        Male            2\n",
      "17215  502759020       59      Female            2\n",
      "17216  502761010       54      Female            1\n",
      "\n",
      "[17185 rows x 4 columns]\n"
     ]
    }
   ],
   "source": [
    "# 2008\n",
    "A_R = open('D:\\Desktop\\imf\\專題\\data\\\\2008\\h08da\\H08A_R.DA', mode='r').read()\n",
    "B_R = open('D:\\Desktop\\imf\\專題\\data\\\\2008\\h08da\\H08B_R.DA', mode='r').read()\n",
    "PR_R = open('D:\\Desktop\\imf\\專題\\data\\\\2008\\h08da\\H08PR_R.DA', mode='r').read()\n",
    "\n",
    "index = list(range(17217))\n",
    "data_2008 = pd.DataFrame(columns=['id + pn', 'age_2008', 'gender_2008', 'hh_size_2008'], index = index)\n",
    "\n",
    "for i in range(17217):\n",
    "    data_2008['id + pn'][i] = A_R[(131 * i) : (131 * i + 9)]\n",
    "    try:\n",
    "        data_2008['age_2008'][i] = int(A_R[(131 * i + 54) : (131 * i + 57)])\n",
    "    except:\n",
    "        data_2008['age_2008'][i] = None\n",
    "    data_2008['hh_size_2008'][i] = { '1': 2, '2': 1, '3': 1, '4': 1, '5': 1, '6': 1 }.get(B_R[316 * i + 311], None)\n",
    "    data_2008['gender_2008'][i] = { '1': 'Male', '2': 'Female' }.get(PR_R[674 * i + 20], None)\n",
    "\n",
    "alter_data_2008 = data_2008.dropna()\n",
    "print(alter_data_2008)"
   ]
  },
  {
   "cell_type": "code",
   "execution_count": 9,
   "metadata": {},
   "outputs": [
    {
     "name": "stdout",
     "output_type": "stream",
     "text": [
      "         id + pn age_2010 gender_2010 hh_size_2010\n",
      "0      000003010       74        Male            2\n",
      "1      000003020       72      Female            2\n",
      "2      010001010       71        Male            1\n",
      "3      010003030       54      Female            1\n",
      "4      010004010       70        Male            2\n",
      "...          ...      ...         ...          ...\n",
      "22029  923525020       55        Male            2\n",
      "22030  952836010       51      Female            1\n",
      "22031  958361010       46        Male            1\n",
      "22032  959733010       49        Male            1\n",
      "22033  959738010       59        Male            1\n",
      "\n",
      "[21971 rows x 4 columns]\n"
     ]
    }
   ],
   "source": [
    "# 2010\n",
    "A_R = open('D:\\Desktop\\imf\\專題\\data\\\\2010\\h10da\\H10A_R.DA', mode='r').read()\n",
    "B_R = open('D:\\Desktop\\imf\\專題\\data\\\\2010\\h10da\\H10B_R.DA', mode='r').read()\n",
    "PR_R = open('D:\\Desktop\\imf\\專題\\data\\\\2010\\h10da\\H10PR_R.DA', mode='r').read()\n",
    "\n",
    "index = list(range(22034))\n",
    "data_2010 = pd.DataFrame(columns=['id + pn', 'age_2010', 'gender_2010', 'hh_size_2010'], index = index)\n",
    "\n",
    "for i in range(22034):\n",
    "    data_2010['id + pn'][i] = A_R[(66 * i) : (66 * i + 9)]\n",
    "    try:\n",
    "        data_2010['age_2010'][i] = int(A_R[(66 * i + 42) : (66 * i + 45)])\n",
    "    except:\n",
    "        data_2010['age_2010'][i] = None\n",
    "    data_2010['hh_size_2010'][i] = { '1': 2, '2': 1, '3': 1, '4': 1, '5': 1, '6': 1 }.get(B_R[310 * i + 305], None)\n",
    "    data_2010['gender_2010'][i] = { '1': 'Male', '2': 'Female' }.get(PR_R[500 * i + 20], None)\n",
    "\n",
    "alter_data_2010 = data_2010.dropna()\n",
    "print(alter_data_2010)"
   ]
  },
  {
   "cell_type": "code",
   "execution_count": 10,
   "metadata": {},
   "outputs": [
    {
     "name": "stdout",
     "output_type": "stream",
     "text": [
      "         id + pn age_2012 gender_2012 hh_size_2012\n",
      "0      000003010       76        Male            2\n",
      "1      000003020       73      Female            2\n",
      "2      010001010       72        Male            1\n",
      "3      010003030       56      Female            1\n",
      "4      010004040       66      Female            1\n",
      "...          ...      ...         ...          ...\n",
      "20549  923525010       56      Female            2\n",
      "20550  923525020       58        Male            2\n",
      "20551  952836010       52      Female            1\n",
      "20552  958361010       47        Male            2\n",
      "20553  959738010       61        Male            1\n",
      "\n",
      "[20501 rows x 4 columns]\n"
     ]
    }
   ],
   "source": [
    "# 2012\n",
    "A_R = open('D:\\Desktop\\imf\\專題\\data\\\\2012\\h12da\\H12A_R.DA', mode='r').read()\n",
    "B_R = open('D:\\Desktop\\imf\\專題\\data\\\\2012\\h12da\\H12B_R.DA', mode='r').read()\n",
    "PR_R = open('D:\\Desktop\\imf\\專題\\data\\\\2012\\h12da\\H12PR_R.DA', mode='r').read()\n",
    "\n",
    "index = list(range(20554))\n",
    "data_2012 = pd.DataFrame(columns=['id + pn', 'age_2012', 'gender_2012', 'hh_size_2012'], index = index)\n",
    "\n",
    "for i in range(20554):\n",
    "    data_2012['id + pn'][i] = A_R[(66 * i) : (66 * i + 9)]\n",
    "    try:\n",
    "        data_2012['age_2012'][i] = int(A_R[(66 * i + 42) : (66 * i + 45)])\n",
    "    except:\n",
    "        data_2012['age_2012'][i] = None\n",
    "    data_2012['hh_size_2012'][i] = { '1': 2, '2': 1, '3': 1, '4': 1, '5': 1, '6': 1 }.get(B_R[299 * i + 294], None)\n",
    "    data_2012['gender_2012'][i] = { '1': 'Male', '2': 'Female' }.get(PR_R[471 * i + 20], None)\n",
    "\n",
    "alter_data_2012 = data_2012.dropna()\n",
    "print(alter_data_2012)"
   ]
  },
  {
   "cell_type": "code",
   "execution_count": 11,
   "metadata": {},
   "outputs": [
    {
     "name": "stdout",
     "output_type": "stream",
     "text": [
      "         id + pn age_2014 gender_2014 hh_size_2014\n",
      "0      000003020       75      Female            1\n",
      "1      010001010       74        Male            1\n",
      "2      010003030       58      Female            1\n",
      "3      010004040       68      Female            1\n",
      "4      010013040       66      Female            1\n",
      "...          ...      ...         ...          ...\n",
      "18742  923525010       57      Female            2\n",
      "18743  923525020       59        Male            2\n",
      "18744  952836010       54      Female            1\n",
      "18745  958361010       50        Male            1\n",
      "18746  959738010       63        Male            1\n",
      "\n",
      "[18681 rows x 4 columns]\n"
     ]
    }
   ],
   "source": [
    "# 2014\n",
    "A_R = open('D:\\Desktop\\imf\\專題\\data\\\\2014\\h14da\\H14A_R.DA', mode='r').read()\n",
    "B_R = open('D:\\Desktop\\imf\\專題\\data\\\\2014\\h14da\\H14B_R.DA', mode='r').read()\n",
    "PR_R = open('D:\\Desktop\\imf\\專題\\data\\\\2014\\h14da\\H14PR_R.DA', mode='r').read()\n",
    "\n",
    "index = list(range(18747))\n",
    "data_2014 = pd.DataFrame(columns=['id + pn', 'age_2014', 'gender_2014', 'hh_size_2014'], index = index)\n",
    "\n",
    "for i in range(18747):\n",
    "    data_2014['id + pn'][i] = A_R[(67 * i) : (67 * i + 9)]\n",
    "    try:\n",
    "        data_2014['age_2014'][i] = int(A_R[(67 * i + 43) : (67 * i + 46)])\n",
    "    except:\n",
    "        data_2014['age_2014'][i] = None\n",
    "    data_2014['hh_size_2014'][i] = { '1': 2, '2': 1, '3': 1, '4': 1, '5': 1, '6': 1 }.get(B_R[279 * i + 274], None)\n",
    "    data_2014['gender_2014'][i] = { '1': 'Male', '2': 'Female' }.get(PR_R[474 * i + 20], None)\n",
    "\n",
    "alter_data_2014 = data_2014.dropna()\n",
    "print(alter_data_2014)"
   ]
  },
  {
   "cell_type": "code",
   "execution_count": 12,
   "metadata": {},
   "outputs": [
    {
     "name": "stdout",
     "output_type": "stream",
     "text": [
      "         id + pn age_2016 gender_2016 hh_size_2016\n",
      "0      010001010       76        Male            1\n",
      "1      010003030       60      Female            1\n",
      "2      010004040       70      Female            1\n",
      "3      010013040       68      Female            1\n",
      "4      010038010       79        Male            2\n",
      "...          ...      ...         ...          ...\n",
      "20907  923525010       59      Female            2\n",
      "20908  923525020       61        Male            2\n",
      "20909  952836010       56      Female            1\n",
      "20910  958361010       51        Male            1\n",
      "20911  959738010       65        Male            1\n",
      "\n",
      "[20830 rows x 4 columns]\n"
     ]
    }
   ],
   "source": [
    "# 2016\n",
    "A_R = open('D:\\Desktop\\imf\\專題\\data\\\\2016\\h16da\\H16A_R.DA', mode='r').read()\n",
    "B_R = open('D:\\Desktop\\imf\\專題\\data\\\\2016\\h16da\\H16B_R.DA', mode='r').read()\n",
    "PR_R = open('D:\\Desktop\\imf\\專題\\data\\\\2016\\h16da\\H16PR_R.DA', mode='r').read()\n",
    "\n",
    "index = list(range(20912))\n",
    "data_2016 = pd.DataFrame(columns=['id + pn', 'age_2016', 'gender_2016', 'hh_size_2016'], index = index)\n",
    "\n",
    "for i in range(20912):\n",
    "    data_2016['id + pn'][i] = A_R[(70 * i) : (70 * i + 9)]\n",
    "    try:\n",
    "        data_2016['age_2016'][i] = int(A_R[(70 * i + 43) : (70 * i + 46)])\n",
    "    except:\n",
    "        data_2016['age_2016'][i] = None\n",
    "    data_2016['hh_size_2016'][i] = { '1': 2, '2': 1, '3': 1, '4': 1, '5': 1, '6': 1 }.get(B_R[281 * i + 275], None)\n",
    "    data_2016['gender_2016'][i] = { '1': 'Male', '2': 'Female' }.get(PR_R[478 * i + 20], None)\n",
    "\n",
    "alter_data_2016 = data_2016.dropna()\n",
    "print(alter_data_2016)"
   ]
  },
  {
   "cell_type": "code",
   "execution_count": 13,
   "metadata": {},
   "outputs": [
    {
     "name": "stdout",
     "output_type": "stream",
     "text": [
      "         id + pn age_2018 gender_2018 hh_size_2018\n",
      "0      010003030       62      Female            1\n",
      "1      010004040       72      Female            2\n",
      "2      010013040       70      Female            1\n",
      "3      010038010       81        Male            2\n",
      "4      010038040       75      Female            2\n",
      "...          ...      ...         ...          ...\n",
      "17141  923498010       62      Female            1\n",
      "17142  923525010       61      Female            2\n",
      "17143  923525020       63        Male            2\n",
      "17144  952836010       58      Female            1\n",
      "17145  959738010       67        Male            1\n",
      "\n",
      "[17066 rows x 4 columns]\n"
     ]
    }
   ],
   "source": [
    "# 2018\n",
    "A_R = open('D:\\Desktop\\imf\\專題\\data\\\\2018\\h18da\\H18A_R.DA', mode='r').read()\n",
    "B_R = open('D:\\Desktop\\imf\\專題\\data\\\\2018\\h18da\\H18B_R.DA', mode='r').read()\n",
    "PR_R = open('D:\\Desktop\\imf\\專題\\data\\\\2018\\h18da\\H18PR_R.DA', mode='r').read()\n",
    "\n",
    "index = list(range(17146))\n",
    "data_2018 = pd.DataFrame(columns=['id + pn', 'age_2018', 'gender_2018', 'hh_size_2018'], index = index)\n",
    "\n",
    "for i in range(17146):\n",
    "    data_2018['id + pn'][i] = A_R[(75 * i) : (75 * i + 9)]\n",
    "    try:\n",
    "        data_2018['age_2018'][i] = int(A_R[(75 * i + 44) : (75 * i + 47)])\n",
    "    except:\n",
    "        data_2018['age_2018'][i] = None\n",
    "    data_2018['hh_size_2018'][i] = { '1': 2, '2': 1, '3': 1, '4': 1, '5': 1, '6': 1 }.get(B_R[294 * i + 287], None)\n",
    "    data_2018['gender_2018'][i] = { '1': 'Male', '2': 'Female' }.get(PR_R[489 * i + 20], None)\n",
    "\n",
    "alter_data_2018 = data_2018.dropna()\n",
    "print(alter_data_2018)"
   ]
  },
  {
   "cell_type": "code",
   "execution_count": 14,
   "metadata": {},
   "outputs": [
    {
     "name": "stdout",
     "output_type": "stream",
     "text": [
      "         id + pn age_2020 gender_2020 hh_size_2020\n",
      "0      010003030       64      Female            1\n",
      "1      010004040       73      Female            1\n",
      "2      010013040       72      Female            1\n",
      "3      010038010       83        Male            2\n",
      "4      010038040       77      Female            2\n",
      "...          ...      ...         ...          ...\n",
      "15718  923525010       63      Female            2\n",
      "15719  923525020       65        Male            2\n",
      "15720  952836010       61      Female            1\n",
      "15721  958361010       56        Male            1\n",
      "15722  959738010       69        Male            1\n",
      "\n",
      "[15643 rows x 4 columns]\n"
     ]
    }
   ],
   "source": [
    "# 2020\n",
    "A_R = open('D:\\Desktop\\imf\\專題\\data\\\\2020\\h20da\\H20A_R.DA', mode='r').read()\n",
    "B_R = open('D:\\Desktop\\imf\\專題\\data\\\\2020\\h20da\\H20B_R.DA', mode='r').read()\n",
    "PR_R = open('D:\\Desktop\\imf\\專題\\data\\\\2020\\h20da\\H20PR_R.DA', mode='r').read()\n",
    "\n",
    "index = list(range(15723))\n",
    "data_2020 = pd.DataFrame(columns=['id + pn', 'age_2020', 'gender_2020', 'hh_size_2020'], index = index)\n",
    "\n",
    "for i in range(15723):\n",
    "    data_2020['id + pn'][i] = A_R[(75 * i) : (75 * i + 9)]\n",
    "    try:\n",
    "        data_2020['age_2020'][i] = int(A_R[(75 * i + 44) : (75 * i + 47)])\n",
    "    except:\n",
    "        data_2020['age_2020'][i] = None\n",
    "    data_2020['hh_size_2020'][i] = { '1': 2, '2': 1, '3': 1, '4': 1, '5': 1, '6': 1 }.get(B_R[309 * i + 301], None)\n",
    "    data_2020['gender_2020'][i] = { '1': 'Male', '2': 'Female' }.get(PR_R[492 * i + 20], None)\n",
    "\n",
    "alter_data_2020 = data_2020.dropna()\n",
    "print(alter_data_2020)"
   ]
  },
  {
   "cell_type": "code",
   "execution_count": 15,
   "metadata": {},
   "outputs": [
    {
     "name": "stdout",
     "output_type": "stream",
     "text": [
      "         id + pn age_1996 gender_1996 hh_size_1996 age_1998 gender_1998  \\\n",
      "0      000002010       62      Female            1       64      Female   \n",
      "1      000003010       60        Male            2       62        Male   \n",
      "2      000003020       58      Female            2       60      Female   \n",
      "3      010001010       57        Male            1       59        Male   \n",
      "4      010003020       62        Male            2       64        Male   \n",
      "...          ...      ...         ...          ...      ...         ...   \n",
      "38805  916671020      NaN         NaN          NaN      NaN         NaN   \n",
      "38806  917702011      NaN         NaN          NaN      NaN         NaN   \n",
      "38807  918277011      NaN         NaN          NaN      NaN         NaN   \n",
      "38808  918943011      NaN         NaN          NaN      NaN         NaN   \n",
      "38809  919959011      NaN         NaN          NaN      NaN         NaN   \n",
      "\n",
      "      hh_size_1998 age_2000 gender_2000 hh_size_2000  ... hh_size_2014  \\\n",
      "0                1       65      Female            1  ...          NaN   \n",
      "1                2       64        Male            2  ...          NaN   \n",
      "2                2       61      Female            2  ...            1   \n",
      "3                1       60        Male            1  ...            1   \n",
      "4                2      NaN         NaN          NaN  ...          NaN   \n",
      "...            ...      ...         ...          ...  ...          ...   \n",
      "38805          NaN      NaN         NaN          NaN  ...          NaN   \n",
      "38806          NaN      NaN         NaN          NaN  ...          NaN   \n",
      "38807          NaN      NaN         NaN          NaN  ...          NaN   \n",
      "38808          NaN      NaN         NaN          NaN  ...          NaN   \n",
      "38809          NaN      NaN         NaN          NaN  ...          NaN   \n",
      "\n",
      "      age_2016 gender_2016 hh_size_2016 age_2018 gender_2018 hh_size_2018  \\\n",
      "0          NaN         NaN          NaN      NaN         NaN          NaN   \n",
      "1          NaN         NaN          NaN      NaN         NaN          NaN   \n",
      "2          NaN         NaN          NaN      NaN         NaN          NaN   \n",
      "3           76        Male            1      NaN         NaN          NaN   \n",
      "4          NaN         NaN          NaN      NaN         NaN          NaN   \n",
      "...        ...         ...          ...      ...         ...          ...   \n",
      "38805      NaN         NaN          NaN      NaN         NaN          NaN   \n",
      "38806      NaN         NaN          NaN      NaN         NaN          NaN   \n",
      "38807      NaN         NaN          NaN      NaN         NaN          NaN   \n",
      "38808      NaN         NaN          NaN      NaN         NaN          NaN   \n",
      "38809      NaN         NaN          NaN      NaN         NaN          NaN   \n",
      "\n",
      "      age_2020 gender_2020 hh_size_2020  \n",
      "0          NaN         NaN          NaN  \n",
      "1          NaN         NaN          NaN  \n",
      "2          NaN         NaN          NaN  \n",
      "3          NaN         NaN          NaN  \n",
      "4          NaN         NaN          NaN  \n",
      "...        ...         ...          ...  \n",
      "38805       67        Male            2  \n",
      "38806       60        Male            2  \n",
      "38807       58        Male            1  \n",
      "38808       74        Male            1  \n",
      "38809       59        Male            2  \n",
      "\n",
      "[38810 rows x 40 columns]\n"
     ]
    }
   ],
   "source": [
    "data = pd.DataFrame(columns=['id + pn'])\n",
    "dfs = [alter_data_1996, alter_data_1998, alter_data_2000, alter_data_2002, alter_data_2004, alter_data_2006, alter_data_2008, alter_data_2010, alter_data_2012, alter_data_2014, alter_data_2016, alter_data_2018, alter_data_2020]\n",
    "for df in dfs:\n",
    "    data = data.merge(df, how = 'outer', on = 'id + pn')\n",
    "\n",
    "print(data)"
   ]
  },
  {
   "cell_type": "code",
   "execution_count": 16,
   "metadata": {},
   "outputs": [
    {
     "name": "stdout",
     "output_type": "stream",
     "text": [
      "         id + pn age_1996 gender_1996 hh_size_1996 age_1998 gender_1998  \\\n",
      "0      000002010       62      Female            1       64      Female   \n",
      "1      000003010       60        Male            2       62        Male   \n",
      "2      000003020       58      Female            2       60      Female   \n",
      "3      010001010       57        Male            1       59        Male   \n",
      "4      010003020       62        Male            2       64        Male   \n",
      "...          ...      ...         ...          ...      ...         ...   \n",
      "38805  916671020      NaN         NaN          NaN      NaN         NaN   \n",
      "38806  917702011      NaN         NaN          NaN      NaN         NaN   \n",
      "38807  918277011      NaN         NaN          NaN      NaN         NaN   \n",
      "38808  918943011      NaN         NaN          NaN      NaN         NaN   \n",
      "38809  919959011      NaN         NaN          NaN      NaN         NaN   \n",
      "\n",
      "      hh_size_1998 age_2000 gender_2000 hh_size_2000  ... age_2002_group  \\\n",
      "0                1       65      Female            1  ...            NaN   \n",
      "1                2       64        Male            2  ...   (60.0, 70.0]   \n",
      "2                2       61      Female            2  ...   (60.0, 70.0]   \n",
      "3                1       60        Male            1  ...   (60.0, 70.0]   \n",
      "4                2      NaN         NaN          NaN  ...            NaN   \n",
      "...            ...      ...         ...          ...  ...            ...   \n",
      "38805          NaN      NaN         NaN          NaN  ...            NaN   \n",
      "38806          NaN      NaN         NaN          NaN  ...            NaN   \n",
      "38807          NaN      NaN         NaN          NaN  ...            NaN   \n",
      "38808          NaN      NaN         NaN          NaN  ...            NaN   \n",
      "38809          NaN      NaN         NaN          NaN  ...            NaN   \n",
      "\n",
      "      age_2004_group age_2006_group age_2008_group age_2010_group  \\\n",
      "0                NaN            NaN            NaN            NaN   \n",
      "1       (60.0, 70.0]   (60.0, 70.0]   (70.0, 80.0]   (70.0, 80.0]   \n",
      "2       (60.0, 70.0]   (60.0, 70.0]   (60.0, 70.0]   (70.0, 80.0]   \n",
      "3       (60.0, 70.0]   (60.0, 70.0]   (60.0, 70.0]   (70.0, 80.0]   \n",
      "4                NaN            NaN            NaN            NaN   \n",
      "...              ...            ...            ...            ...   \n",
      "38805            NaN            NaN            NaN            NaN   \n",
      "38806            NaN            NaN            NaN            NaN   \n",
      "38807            NaN            NaN            NaN            NaN   \n",
      "38808            NaN            NaN            NaN            NaN   \n",
      "38809            NaN            NaN            NaN            NaN   \n",
      "\n",
      "      age_2012_group age_2014_group age_2016_group age_2018_group  \\\n",
      "0                NaN            NaN            NaN            NaN   \n",
      "1       (70.0, 80.0]            NaN            NaN            NaN   \n",
      "2       (70.0, 80.0]   (70.0, 80.0]            NaN            NaN   \n",
      "3       (70.0, 80.0]   (70.0, 80.0]   (70.0, 80.0]            NaN   \n",
      "4                NaN            NaN            NaN            NaN   \n",
      "...              ...            ...            ...            ...   \n",
      "38805            NaN            NaN            NaN            NaN   \n",
      "38806            NaN            NaN            NaN            NaN   \n",
      "38807            NaN            NaN            NaN            NaN   \n",
      "38808            NaN            NaN            NaN            NaN   \n",
      "38809            NaN            NaN            NaN            NaN   \n",
      "\n",
      "      age_2020_group  \n",
      "0                NaN  \n",
      "1                NaN  \n",
      "2                NaN  \n",
      "3                NaN  \n",
      "4                NaN  \n",
      "...              ...  \n",
      "38805   (60.0, 70.0]  \n",
      "38806   (50.0, 60.0]  \n",
      "38807   (50.0, 60.0]  \n",
      "38808   (70.0, 80.0]  \n",
      "38809   (50.0, 60.0]  \n",
      "\n",
      "[38810 rows x 53 columns]\n"
     ]
    }
   ],
   "source": [
    "bins = pd.IntervalIndex.from_tuples([(10, 20), (20, 30), (30, 40), (40, 50), (50, 60), (60, 70), (70, 80), (80, 90), (90, 100), (100, 110)])\n",
    "for i in range(1996, 2022, 2):\n",
    "    data['age_' + str(i) + '_group'] = pd.cut(x = data['age_' + str(i)], bins = bins)\n",
    "\n",
    "print(data)"
   ]
  },
  {
   "cell_type": "code",
   "execution_count": 17,
   "metadata": {},
   "outputs": [
    {
     "name": "stdout",
     "output_type": "stream",
     "text": [
      "[[[0.03832335329341317, 0.8688622754491018, 0.09281437125748504, 0.9036259541984732, 0.0019083969465648854, 0.09446564885496178], [0.03864734299516908, 0.8357487922705314, 0.12560386473429952, 0.8888888888888888, 0.0, 0.11111111111111116], [0.0, 1.0, 0.0, -1, -1, -1], [-1, -1, -1, -1, -1, -1]], [[0.038395695769136706, 0.8767424798239178, 0.08486182440694545, 0.7544539116963594, 0.13787761425251743, 0.10766847405112312], [0.08656145384983262, 0.7914873266379723, 0.12195121951219512, 0.7408637873754153, 0.13990402362495385, 0.11923218899963084], [0.12309644670050761, 0.6408629441624365, 0.23604060913705582, 0.7666442501681238, 0.006724949562878279, 0.22663080026899796], [0.1724137931034483, 0.3793103448275862, 0.4482758620689655, 0.5415282392026578, 0.0033222591362126247, 0.45514950166112955]], [[0.06531073446327684, 0.8429378531073446, 0.09175141242937856, 0.744535519125683, 0.1302367941712204, 0.12522768670309659], [0.2664266426642664, 0.5945094509450946, 0.13906390639063904, 0.5161847216227881, 0.3422529132498921, 0.1415623651273198], [0.25997248968363135, 0.4814305364511692, 0.2585969738651994, 0.5800561797752809, 0.16573033707865167, 0.2542134831460674], [0.21621621621621623, 0.35135135135135137, 0.43243243243243246, 0.45936395759717313, 0.13074204946996468, 0.4098939929328622]], [[0.13782674443724346, 0.7902354720241953, 0.07193778353856128, 0.6765632028789923, 0.22177237966711652, 0.1016644174538911], [0.05712050078247261, 0.3438967136150235, 0.5989827856025038, 0.2298474945533769, 0.10076252723311546, 0.6693899782135077], [0.19290465631929046, 0.29046563192904656, 0.516629711751663, 0.4364051789794364, 0.05712109672505712, 0.5064737242955064], [0.1368421052631579, 0.12631578947368421, 0.736842105263158, 0.30597014925373134, 0.007462686567164179, 0.6865671641791045]], [[0.12541993281075028, 0.799104143337066, 0.0754759238521836, 0.6723084156088387, 0.22755054066760697, 0.10014104372355426], [0.1307596513075965, 0.7764632627646326, 0.0927770859277709, 0.7390745501285347, 0.14267352185089974, 0.1182519280205655], [0.07874015748031496, 0.718503937007874, 0.202755905511811, 0.7639344262295082, 0.00546448087431694, 0.2306010928961748], [0.22580645161290322, 0.3870967741935484, 0.3870967741935484, 0.5935828877005348, 0.0, 0.4064171122994652]], [[0.03721722208708343, 0.8944295791778156, 0.06835319873510093, 0.8948202959830867, 0.013742071881606765, 0.09143763213530653], [0.05736823234134098, 0.8433130154177124, 0.09931875224094655, 0.8760422456920511, 0.005002779321845469, 0.11895497498610341], [0.11342592592592593, 0.7037037037037037, 0.18287037037037035, 0.7641379310344828, 0.005517241379310344, 0.2303448275862069], [0.08620689655172414, 0.46551724137931033, 0.4482758620689655, 0.5684523809523809, 0.0, 0.43154761904761907]], [[0.044897959183673466, 0.8699319727891156, 0.08517006802721083, 0.881489841986456, 0.01636568848758465, 0.10214446952595935], [0.06423306423306423, 0.8276588276588277, 0.10810810810810811, 0.8314833501513622, 0.013622603430877902, 0.15489404641775983], [0.09904153354632587, 0.6666666666666666, 0.23429179978700743, 0.7342047930283224, 0.0036310820624546117, 0.2621641249092229], [0.14754098360655737, 0.29508196721311475, 0.5573770491803278, 0.49291784702549574, 0.0, 0.5070821529745042]], [[0.035703918722786644, 0.8923076923076924, 0.07198838896952109, 0.885, 0.019444444444444445, 0.0955555555555555], [0.05193075898801598, 0.857190412782956, 0.09087882822902793, 0.8724928366762178, 0.010983763132760267, 0.11652340019102192], [0.09805924412665985, 0.7048008171603677, 0.19713993871297242, 0.7957957957957958, 0.0022522522522522522, 0.20195195195195192], [0.09090909090909091, 0.48484848484848486, 0.4242424242424242, 0.61731843575419, 0.0, 0.38268156424581]], [[0.037431527693244065, 0.8773584905660378, 0.08520998174071814, 0.8701716738197425, 0.028969957081545063, 0.10085836909871249], [0.06260406260406261, 0.8098568098568099, 0.12753912753912755, 0.8491744756804998, 0.009817045961624275, 0.141008478357876], [0.10433070866141732, 0.6820866141732284, 0.21358267716535428, 0.7629744384198296, 0.004647560030983733, 0.23237800154918664], [0.08823529411764706, 0.5147058823529411, 0.3970588235294118, 0.5938303341902313, 0.002570694087403599, 0.40359897172236503]], [[0.0390015600624025, 0.8555382215288612, 0.10546021840873632, 0.8479239619809905, 0.0335167583791896, 0.11855927963981994], [0.06164383561643835, 0.8071377072819034, 0.13121845710165825, 0.8069756330625896, 0.011466794075489728, 0.18155757286192065], [0.11498973305954825, 0.6149897330595483, 0.2700205338809035, 0.7166293810589113, 0.002982848620432513, 0.2803877703206562], [0.1323529411764706, 0.29411764705882354, 0.5735294117647058, 0.49502487562189057, 0.0, 0.5049751243781094]], [[0.034493192133131616, 0.8048411497730711, 0.1606656580937973, 0.7689887640449439, 0.020224719101123594, 0.21078651685393257], [0.05901639344262295, 0.7725409836065574, 0.1684426229508197, 0.7748489840746843, 0.012630422844590884, 0.2125205930807249], [0.08441558441558442, 0.6504329004329005, 0.26515151515151514, 0.6772291820191599, 0.0007369196757553427, 0.3220338983050848], [0.109375, 0.359375, 0.53125, 0.49719101123595505, 0.0, 0.502808988764045]], [[0.04019933554817276, 0.8637873754152824, 0.09601328903654482, 0.8183529411764706, 0.02211764705882353, 0.15952941176470592], [0.05312346286276439, 0.8135759960649287, 0.13330054107230693, 0.7974513749161637, 0.01006036217303823, 0.19248826291079812], [0.08710033076074973, 0.6549062844542448, 0.25799338478500555, 0.6902866242038217, 0.006369426751592357, 0.30334394904458595], [0.12307692307692308, 0.3384615384615385, 0.5384615384615384, 0.45484949832775917, 0.0, 0.5451505016722409]]]\n"
     ]
    }
   ],
   "source": [
    "probs_total = [] # [year: 0 -> 1996 - 1998, 11 -> 2018 - 2020][age: 0 -> 65, ..., 3 -> 95][what: 0 - > 2 to 1, ..., 5 -> 1 to 0]\n",
    "\n",
    "for i in range(1996, 2020, 2): # year loop\n",
    "    prob = []\n",
    "    data_select_total = data.loc[:, ['id + pn', 'age_' + str(i) + '_group', 'age_' + str(i + 2) + '_group', 'hh_size_' + str(i), 'hh_size_' + str(i + 2)]]\n",
    "    for j in range(60, 100, 10): # age loop\n",
    "        p = []\n",
    "        denom = data_select_total[((data_select_total['age_' + str(i) + '_group'] == pd.IntervalIndex.from_tuples([(j, j + 10)])[0]) & (data_select_total['hh_size_' + str(i)] == 2))].shape[0]\n",
    "        numer1 = data_select_total[((data_select_total['age_' + str(i) + '_group'] == pd.IntervalIndex.from_tuples([(j, j + 10)])[0]) & (data_select_total['hh_size_' + str(i)] == 2) & (data_select_total['hh_size_' + str(i + 2)] == 1))].shape[0]\n",
    "        numer2 = data_select_total[((data_select_total['age_' + str(i) + '_group'] == pd.IntervalIndex.from_tuples([(j, j + 10)])[0]) & (data_select_total['hh_size_' + str(i)] == 2) & (data_select_total['hh_size_' + str(i + 2)] == 2))].shape[0]\n",
    "        if denom == 0:\n",
    "            p.extend(list(np.array([-1, -1, -1])))\n",
    "        else:\n",
    "            p.append(numer1 / denom)\n",
    "            p.append(numer2 / denom)\n",
    "            p.append(1 - ((numer1 + numer2) / denom))\n",
    "        denom = data_select_total[((data_select_total['age_' + str(i) + '_group'] == pd.IntervalIndex.from_tuples([(j, j + 10)])[0]) & (data_select_total['hh_size_' + str(i)] == 1))].shape[0]\n",
    "        numer1 = data_select_total[((data_select_total['age_' + str(i) + '_group'] == pd.IntervalIndex.from_tuples([(j, j + 10)])[0]) & (data_select_total['hh_size_' + str(i)] == 1) & (data_select_total['hh_size_' + str(i + 2)] == 1))].shape[0]\n",
    "        numer2 = data_select_total[((data_select_total['age_' + str(i) + '_group'] == pd.IntervalIndex.from_tuples([(j, j + 10)])[0]) & (data_select_total['hh_size_' + str(i)] == 1) & (data_select_total['hh_size_' + str(i + 2)] == 2))].shape[0]\n",
    "        if denom == 0:\n",
    "            p.extend(list(np.array([-1, -1, -1])))\n",
    "        else:\n",
    "            p.append(numer1 / denom)\n",
    "            p.append(numer2 / denom)\n",
    "            p.append(1 - ((numer1 + numer2) / denom))\n",
    "        prob.append(p)\n",
    "    probs_total.append(prob)\n",
    "\n",
    "print(probs_total)"
   ]
  },
  {
   "cell_type": "code",
   "execution_count": 18,
   "metadata": {},
   "outputs": [
    {
     "name": "stdout",
     "output_type": "stream",
     "text": [
      "[[0.05618509801702626, 0.8530063921082919, 0.09080850987468196, 0.8098528735416696, 0.07281058434494532, 0.11733654211338491], [0.08245295014063724, 0.7561149415752458, 0.16143210828411694, 0.7436106952352143, 0.06659806307492398, 0.18979124168986164], [0.1130064008899963, 0.6507374807667655, 0.2362561183432382, 0.6989361982466067, 0.02374347227397138, 0.277320329479422], [0.1389977905121944, 0.36328927465094396, 0.4977129348368616, 0.5109117833510909, 0.013099789932795007, 0.4759884267161141]]\n"
     ]
    }
   ],
   "source": [
    "ave_probs = []\n",
    "\n",
    "for j in range(4): # age loop\n",
    "    ave_prob = []\n",
    "    for k in range(6): # state loop\n",
    "        cal = 0\n",
    "        num = 0\n",
    "        for i in range(12): # year loop\n",
    "            if probs_total[i][j][k] != -1:\n",
    "                cal = cal + probs_total[i][j][k]\n",
    "                num = num + 1\n",
    "        if num == 0:\n",
    "            ave_prob.append(0)\n",
    "        else:\n",
    "            ave_prob.append(cal / num)\n",
    "    ave_probs.append(ave_prob)\n",
    "    \n",
    "print(ave_probs)"
   ]
  },
  {
   "cell_type": "code",
   "execution_count": 19,
   "metadata": {},
   "outputs": [],
   "source": [
    "with xw.App(visible=True, add_book=False) as app:\n",
    "    app.display_alerts = False\n",
    "    app.screen_updating = False\n",
    "    wb = app.books.open('Data Output.xlsx')\n",
    "    sheet = wb.sheets('Household Size Transition')\n",
    "    sheet.range('B4:G7').value = ave_probs\n",
    "    wb.save()"
   ]
  },
  {
   "cell_type": "code",
   "execution_count": 20,
   "metadata": {},
   "outputs": [
    {
     "name": "stdout",
     "output_type": "stream",
     "text": [
      "[[[0.027450980392156862, 0.8700980392156863, 0.10245098039215683, 0.8865979381443299, 0.003436426116838488, 0.10996563573883167], [0.026881720430107527, 0.8440860215053764, 0.12903225806451613, 0.8888888888888888, 0.0, 0.11111111111111116], [0.0, 1.0, 0.0, -1, -1, -1], [-1, -1, -1, -1, -1, -1]], [[0.024520731163620153, 0.8823004904146232, 0.09317877842175659, 0.7291414752116082, 0.13663845223700122, 0.13422007255139057], [0.04119193689745837, 0.810692375109553, 0.14811568799298858, 0.6636085626911316, 0.1875637104994903, 0.14882772680937817], [0.08914728682170543, 0.6666666666666666, 0.2441860465116279, 0.6827586206896552, 0.02413793103448276, 0.2931034482758621], [0.16279069767441862, 0.3488372093023256, 0.4883720930232558, 0.48214285714285715, 0.017857142857142856, 0.5]], [[0.037969283276450515, 0.8583617747440273, 0.10366894197952214, 0.6305916305916306, 0.20634920634920634, 0.16305916305916301], [0.13266162888329136, 0.7061293031066331, 0.16120906801007562, 0.41875, 0.4025, 0.17874999999999996], [0.16322314049586778, 0.5475206611570248, 0.2892561983471075, 0.5408163265306123, 0.20408163265306123, 0.2551020408163265], [0.2222222222222222, 0.2962962962962963, 0.4814814814814815, 0.46, 0.08, 0.45999999999999996]], [[0.14239871640593663, 0.7749699157641395, 0.08263136782992375, 0.6540362438220758, 0.214168039538715, 0.1317957166392092], [0.06679764243614932, 0.4217419777341192, 0.5114603798297315, 0.2673684210526316, 0.10105263157894737, 0.631578947368421], [0.2709251101321586, 0.21365638766519823, 0.5154185022026432, 0.4357976653696498, 0.0622568093385214, 0.5019455252918288], [0.2, 0.01818181818181818, 0.7818181818181819, 0.1836734693877551, 0.0, 0.8163265306122449]], [[0.0744336569579288, 0.8391123439667129, 0.08645399907535833, 0.48382923673997413, 0.39715394566623546, 0.11901681759379046], [0.06435137895812053, 0.8345250255362615, 0.101123595505618, 0.6007905138339921, 0.22924901185770752, 0.1699604743083004], [0.030120481927710843, 0.7289156626506024, 0.24096385542168675, 0.7157360406091371, 0.02030456852791878, 0.2639593908629442], [0.16, 0.4, 0.43999999999999995, 0.5517241379310345, 0.0, 0.4482758620689655]], [[0.025206010664081433, 0.8991759573436743, 0.07561803199224426, 0.8461538461538461, 0.03076923076923077, 0.12307692307692308], [0.0339409176618479, 0.8453802639849152, 0.1206788183532369, 0.8348623853211009, 0.013761467889908258, 0.1513761467889908], [0.06839186691312385, 0.7282809611829945, 0.20332717190388172, 0.7264437689969605, 0.00911854103343465, 0.2644376899696048], [0.06521739130434782, 0.5, 0.4347826086956522, 0.3968253968253968, 0.0, 0.6031746031746033]], [[0.031932773109243695, 0.880672268907563, 0.0873949579831933, 0.8559670781893004, 0.01646090534979424, 0.12757201646090532], [0.04, 0.83875, 0.12124999999999997, 0.7893660531697342, 0.028629856850715747, 0.1820040899795501], [0.07191780821917808, 0.6866438356164384, 0.24143835616438358, 0.6752411575562701, 0.00964630225080386, 0.315112540192926], [0.08163265306122448, 0.32653061224489793, 0.5918367346938775, 0.4375, 0.0, 0.5625]], [[0.02510460251046025, 0.8965929468021518, 0.07830245068738795, 0.8576923076923076, 0.03076923076923077, 0.11153846153846159], [0.025489033787788974, 0.8707765263781861, 0.10373443983402486, 0.8333333333333334, 0.02717391304347826, 0.13949275362318836], [0.06829268292682927, 0.7219512195121951, 0.20975609756097557, 0.7706422018348624, 0.009174311926605505, 0.22018348623853212], [0.02, 0.56, 0.42000000000000004, 0.5, 0.0, 0.5]], [[0.022915340547422024, 0.8847867600254615, 0.09229789942711653, 0.8234234234234235, 0.05405405405405406, 0.12252252252252249], [0.03350970017636684, 0.8242210464432687, 0.14226925338036445, 0.7877280265339967, 0.02321724709784411, 0.18905472636815923], [0.0608, 0.6944, 0.24480000000000002, 0.7042682926829268, 0.003048780487804878, 0.29268292682926833], [0.05263157894736842, 0.5263157894736842, 0.42105263157894735, 0.5138888888888888, 0.0, 0.48611111111111116]], [[0.024574669187145556, 0.8563327032136105, 0.11909262759924388, 0.7714748784440842, 0.06320907617504051, 0.1653160453808752], [0.03522504892367906, 0.8290932811480757, 0.13568166992824526, 0.7472527472527473, 0.016483516483516484, 0.2362637362637363], [0.0695364238410596, 0.6374172185430463, 0.29304635761589404, 0.6739130434782609, 0.009316770186335404, 0.31677018633540377], [0.057692307692307696, 0.3269230769230769, 0.6153846153846154, 0.4878048780487805, 0.0, 0.5121951219512195]], [[0.028313253012048192, 0.7933734939759036, 0.17831325301204815, 0.7366136034732272, 0.03473227206946455, 0.22865412445730826], [0.03763440860215054, 0.7887864823348695, 0.17357910906298002, 0.7247311827956989, 0.02795698924731183, 0.24731182795698925], [0.03523489932885906, 0.6694630872483222, 0.2953020134228188, 0.61875, 0.0, 0.38125], [0.08, 0.38, 0.54, 0.44047619047619047, 0.0, 0.5595238095238095]], [[0.028859060402684565, 0.863758389261745, 0.10738255033557043, 0.788712011577424, 0.027496382054992764, 0.18379160636758318], [0.035283194057567316, 0.8272980501392758, 0.13741875580315688, 0.7531806615776081, 0.020356234096692113, 0.22646310432569972], [0.05631399317406143, 0.6638225255972696, 0.2798634812286689, 0.5916955017301038, 0.020761245674740483, 0.38754325259515576], [0.09302325581395349, 0.37209302325581395, 0.5348837209302326, 0.47619047619047616, 0.0, 0.5238095238095238]]]\n"
     ]
    }
   ],
   "source": [
    "probs_total = [] # [year: 0 -> 1996 - 1998, 11 -> 2018 - 2020][age: 0 -> 65, ..., 3 -> 95][what: 0 - > 2 to 1, ..., 5 -> 1 to 0]\n",
    "\n",
    "for i in range(1996, 2020, 2): # year loop\n",
    "    prob = []\n",
    "    data_select_total = data.loc[:, ['id + pn', 'age_' + str(i) + '_group', 'age_' + str(i + 2) + '_group', 'hh_size_' + str(i), 'hh_size_' + str(i + 2), 'gender_' + str(i), 'gender_' + str(i + 2)]]\n",
    "    for j in range(60, 100, 10): # age loop\n",
    "        p = []\n",
    "        denom = data_select_total[((data_select_total['age_' + str(i) + '_group'] == pd.IntervalIndex.from_tuples([(j, j + 10)])[0]) & (data_select_total['hh_size_' + str(i)] == 2) & (data_select_total['gender_' + str(i)] == 'Male'))].shape[0]\n",
    "        numer1 = data_select_total[((data_select_total['age_' + str(i) + '_group'] == pd.IntervalIndex.from_tuples([(j, j + 10)])[0]) & (data_select_total['hh_size_' + str(i)] == 2) & (data_select_total['hh_size_' + str(i + 2)] == 1) & (data_select_total['gender_' + str(i)] == 'Male'))].shape[0]\n",
    "        numer2 = data_select_total[((data_select_total['age_' + str(i) + '_group'] == pd.IntervalIndex.from_tuples([(j, j + 10)])[0]) & (data_select_total['hh_size_' + str(i)] == 2) & (data_select_total['hh_size_' + str(i + 2)] == 2) & (data_select_total['gender_' + str(i)] == 'Male'))].shape[0]\n",
    "        if denom == 0:\n",
    "            p.extend(list(np.array([-1, -1, -1])))\n",
    "        else:\n",
    "            p.append(numer1 / denom)\n",
    "            p.append(numer2 / denom)\n",
    "            p.append(1 - ((numer1 + numer2) / denom))\n",
    "        denom = data_select_total[((data_select_total['age_' + str(i) + '_group'] == pd.IntervalIndex.from_tuples([(j, j + 10)])[0]) & (data_select_total['hh_size_' + str(i)] == 1) & (data_select_total['gender_' + str(i)] == 'Male'))].shape[0]\n",
    "        numer1 = data_select_total[((data_select_total['age_' + str(i) + '_group'] == pd.IntervalIndex.from_tuples([(j, j + 10)])[0]) & (data_select_total['hh_size_' + str(i)] == 1) & (data_select_total['hh_size_' + str(i + 2)] == 1) & (data_select_total['gender_' + str(i)] == 'Male'))].shape[0]\n",
    "        numer2 = data_select_total[((data_select_total['age_' + str(i) + '_group'] == pd.IntervalIndex.from_tuples([(j, j + 10)])[0]) & (data_select_total['hh_size_' + str(i)] == 1) & (data_select_total['hh_size_' + str(i + 2)] == 2) & (data_select_total['gender_' + str(i)] == 'Male'))].shape[0]\n",
    "        if denom == 0:\n",
    "            p.extend(list(np.array([-1, -1, -1])))\n",
    "        else:\n",
    "            p.append(numer1 / denom)\n",
    "            p.append(numer2 / denom)\n",
    "            p.append(1 - ((numer1 + numer2) / denom))\n",
    "        prob.append(p)\n",
    "    probs_total.append(prob)\n",
    "\n",
    "print(probs_total)"
   ]
  },
  {
   "cell_type": "code",
   "execution_count": 21,
   "metadata": {},
   "outputs": [
    {
     "name": "stdout",
     "output_type": "stream",
     "text": [
      "[[0.04113992313576489, 0.8582945903029414, 0.1005654865612935, 0.755352806121936, 0.10126976842915035, 0.14337742544891366], [0.04774721756787731, 0.7867900294517112, 0.1654627529804115, 0.6924883980375719, 0.08982871488713434, 0.21768288707529368], [0.08199197448171282, 0.6632281854866464, 0.2547798400316406, 0.6487329654071309, 0.03380426301033718, 0.31746277158253206], [0.10865546424689479, 0.368652529607083, 0.5226920061460223, 0.4482023904446709, 0.008896103896103897, 0.5429015056592251]]\n"
     ]
    }
   ],
   "source": [
    "ave_probs = []\n",
    "\n",
    "for j in range(4): # age loop\n",
    "    ave_prob = []\n",
    "    for k in range(6): # state loop\n",
    "        cal = 0\n",
    "        num = 0\n",
    "        for i in range(12): # year loop\n",
    "            if probs_total[i][j][k] != -1:\n",
    "                cal = cal + probs_total[i][j][k]\n",
    "                num = num + 1\n",
    "        if num == 0:\n",
    "            ave_prob.append(0)\n",
    "        else:\n",
    "            ave_prob.append(cal / num)\n",
    "    ave_probs.append(ave_prob)\n",
    "    \n",
    "print(ave_probs)"
   ]
  },
  {
   "cell_type": "code",
   "execution_count": 22,
   "metadata": {},
   "outputs": [],
   "source": [
    "with xw.App(visible=True, add_book=False) as app:\n",
    "    app.display_alerts = False\n",
    "    app.screen_updating = False\n",
    "    wb = app.books.open('Data Output.xlsx')\n",
    "    sheet = wb.sheets('Household Size Transition')\n",
    "    sheet.range('B12:G15').value = ave_probs\n",
    "    wb.save()"
   ]
  },
  {
   "cell_type": "code",
   "execution_count": 23,
   "metadata": {},
   "outputs": [
    {
     "name": "stdout",
     "output_type": "stream",
     "text": [
      "[[[0.055384615384615386, 0.8669230769230769, 0.07769230769230773, 0.9101717305151915, 0.001321003963011889, 0.08850726552179655], [0.14285714285714285, 0.7619047619047619, 0.09523809523809523, -1, -1, -1], [-1, -1, -1, -1, -1, -1], [-1, -1, -1, -1, -1, -1]], [[0.0552546045503792, 0.8699891657638137, 0.0747562296858072, 0.7663817663817664, 0.13846153846153847, 0.09515669515669511], [0.14105263157894737, 0.7684210526315789, 0.09052631578947368, 0.7847222222222222, 0.11284722222222222, 0.10243055555555558], [0.1875, 0.5919117647058824, 0.22058823529411764, 0.7869674185463659, 0.002506265664160401, 0.21052631578947367], [0.2, 0.4666666666666667, 0.33333333333333337, 0.5551020408163265, 0.0, 0.4448979591836735]], [[0.09610764055742431, 0.8255646323882748, 0.0783277270543008, 0.7970725216234198, 0.09514304723885562, 0.10778443113772451], [0.4209505334626576, 0.4655674102812803, 0.11348205625606211, 0.5675675675675675, 0.31048121292023734, 0.12195121951219512], [0.45267489711934156, 0.3497942386831276, 0.19753086419753085, 0.5902654867256637, 0.15575221238938053, 0.25398230088495577], [0.2, 0.5, 0.30000000000000004, 0.4592274678111588, 0.14163090128755365, 0.3991416309012875]], [[0.13249063670411984, 0.8080524344569289, 0.05945692883895126, 0.6850247524752475, 0.22462871287128713, 0.09034653465346532], [0.042759961127308066, 0.22837706511175898, 0.7288629737609329, 0.21675238795003673, 0.10066127847171198, 0.6825863335782513], [0.11383928571428571, 0.36830357142857145, 0.5178571428571428, 0.4365530303030303, 0.05587121212121212, 0.5075757575757576], [0.05, 0.275, 0.675, 0.3333333333333333, 0.0091324200913242, 0.6575342465753424]], [[0.1733275412684622, 0.761511728931364, 0.06516072980017373, 0.7799113737075333, 0.1307237813884786, 0.08936484490398822], [0.23444976076555024, 0.6858054226475279, 0.0797448165869219, 0.8057142857142857, 0.10095238095238095, 0.09333333333333338], [0.17045454545454544, 0.6988636363636364, 0.13068181818181823, 0.7771587743732591, 0.001392757660167131, 0.2214484679665738], [0.5, 0.3333333333333333, 0.16666666666666663, 0.6012658227848101, 0.0, 0.3987341772151899]], [[0.04931640625, 0.8896484375, 0.06103515625, 0.9132653061224489, 0.007288629737609329, 0.07944606413994171], [0.08848080133555926, 0.840567612687813, 0.07095158597662776, 0.8892149669845928, 0.0022010271460014674, 0.10858400586940575], [0.18885448916408668, 0.6625386996904025, 0.1486068111455109, 0.775200713648528, 0.0044603033006244425, 0.22033898305084743], [0.16666666666666666, 0.3333333333333333, 0.5, 0.608058608058608, 0.0, 0.391941391941392]], [[0.05714285714285714, 0.8597883597883598, 0.08306878306878307, 0.8911353032659409, 0.016329704510108865, 0.09253499222395023], [0.09527622097678143, 0.8134507606084868, 0.09127301841473179, 0.8452779638312123, 0.008707300736771601, 0.14601473543201604], [0.14366197183098592, 0.6338028169014085, 0.22253521126760567, 0.7514071294559099, 0.001876172607879925, 0.2467166979362101], [0.4166666666666667, 0.16666666666666666, 0.41666666666666663, 0.5051903114186851, 0.0, 0.4948096885813149]], [[0.045711060948081264, 0.8882618510158014, 0.06602708803611734, 0.89609375, 0.01484375, 0.08906250000000004], [0.08580106302201974, 0.8397873955960516, 0.07441154138192863, 0.8865110246433203, 0.005188067444876783, 0.1083009079118028], [0.14835164835164835, 0.6758241758241759, 0.17582417582417587, 0.8039800995024876, 0.0, 0.1960199004975124], [0.3125, 0.25, 0.4375, 0.6438356164383562, 0.0, 0.3561643835616438]], [[0.05072886297376093, 0.8705539358600584, 0.07871720116618075, 0.8899923605805958, 0.01833460656990069, 0.09167303284950346], [0.10061443932411675, 0.7910906298003072, 0.10829493087557607, 0.8717948717948718, 0.004884004884004884, 0.12332112332112333], [0.17391304347826086, 0.6624040920716112, 0.16368286445012792, 0.7829698857736241, 0.005192107995846314, 0.21183800623052962], [0.2727272727272727, 0.45454545454545453, 0.2727272727272727, 0.61198738170347, 0.0031545741324921135, 0.3848580441640379]], [[0.05315203955500618, 0.8547589616810878, 0.09208899876390608, 0.88205499276411, 0.020260492040520984, 0.09768451519536903], [0.09427880741337631, 0.7800161160354553, 0.12570507655116836, 0.8280542986425339, 0.009696186166774402, 0.16224951519069164], [0.1891891891891892, 0.5783783783783784, 0.2324324324324324, 0.7301275760549558, 0.0009813542688910696, 0.26889106967615306], [0.375, 0.1875, 0.4375, 0.496875, 0.0, 0.503125]], [[0.04072948328267477, 0.8164133738601824, 0.1428571428571429, 0.7835723598435462, 0.013689700130378096, 0.2027379400260756], [0.08347978910369068, 0.7539543057996485, 0.1625659050966608, 0.7920353982300885, 0.007374631268436578, 0.20058997050147498], [0.17378048780487804, 0.6158536585365854, 0.21036585365853655, 0.695274831243973, 0.0009643201542912247, 0.3037608486017358], [0.21428571428571427, 0.2857142857142857, 0.5, 0.5147058823529411, 0.0, 0.4852941176470589]], [[0.05131578947368421, 0.8638157894736842, 0.08486842105263159, 0.8326359832635983, 0.019525801952580194, 0.14783821478382153], [0.07322175732217573, 0.7981171548117155, 0.12866108786610875, 0.8132969034608379, 0.006375227686703097, 0.180327868852459], [0.14330218068535824, 0.6386292834890965, 0.2180685358255452, 0.7197518097207859, 0.002068252326783868, 0.27817993795243023], [0.18181818181818182, 0.2727272727272727, 0.5454545454545454, 0.4491525423728814, 0.0, 0.5508474576271186]]]\n"
     ]
    }
   ],
   "source": [
    "probs_total = [] # [year: 0 -> 1996 - 1998, 11 -> 2018 - 2020][age: 0 -> 65, ..., 3 -> 95][what: 0 - > 2 to 1, ..., 5 -> 1 to 0]\n",
    "\n",
    "for i in range(1996, 2020, 2): # year loop\n",
    "    prob = []\n",
    "    data_select_total = data.loc[:, ['id + pn', 'age_' + str(i) + '_group', 'age_' + str(i + 2) + '_group', 'hh_size_' + str(i), 'hh_size_' + str(i + 2), 'gender_' + str(i), 'gender_' + str(i + 2)]]\n",
    "    for j in range(60, 100, 10): # age loop\n",
    "        p = []\n",
    "        denom = data_select_total[((data_select_total['age_' + str(i) + '_group'] == pd.IntervalIndex.from_tuples([(j, j + 10)])[0]) & (data_select_total['hh_size_' + str(i)] == 2) & (data_select_total['gender_' + str(i)] == 'Female'))].shape[0]\n",
    "        numer1 = data_select_total[((data_select_total['age_' + str(i) + '_group'] == pd.IntervalIndex.from_tuples([(j, j + 10)])[0]) & (data_select_total['hh_size_' + str(i)] == 2) & (data_select_total['hh_size_' + str(i + 2)] == 1) & (data_select_total['gender_' + str(i)] == 'Female'))].shape[0]\n",
    "        numer2 = data_select_total[((data_select_total['age_' + str(i) + '_group'] == pd.IntervalIndex.from_tuples([(j, j + 10)])[0]) & (data_select_total['hh_size_' + str(i)] == 2) & (data_select_total['hh_size_' + str(i + 2)] == 2) & (data_select_total['gender_' + str(i)] == 'Female'))].shape[0]\n",
    "        if denom == 0:\n",
    "            p.extend(list(np.array([-1, -1, -1])))\n",
    "        else:\n",
    "            p.append(numer1 / denom)\n",
    "            p.append(numer2 / denom)\n",
    "            p.append(1 - ((numer1 + numer2) / denom))\n",
    "        denom = data_select_total[((data_select_total['age_' + str(i) + '_group'] == pd.IntervalIndex.from_tuples([(j, j + 10)])[0]) & (data_select_total['hh_size_' + str(i)] == 1) & (data_select_total['gender_' + str(i)] == 'Female'))].shape[0]\n",
    "        numer1 = data_select_total[((data_select_total['age_' + str(i) + '_group'] == pd.IntervalIndex.from_tuples([(j, j + 10)])[0]) & (data_select_total['hh_size_' + str(i)] == 1) & (data_select_total['hh_size_' + str(i + 2)] == 1) & (data_select_total['gender_' + str(i)] == 'Female'))].shape[0]\n",
    "        numer2 = data_select_total[((data_select_total['age_' + str(i) + '_group'] == pd.IntervalIndex.from_tuples([(j, j + 10)])[0]) & (data_select_total['hh_size_' + str(i)] == 1) & (data_select_total['hh_size_' + str(i + 2)] == 2) & (data_select_total['gender_' + str(i)] == 'Female'))].shape[0]\n",
    "        if denom == 0:\n",
    "            p.extend(list(np.array([-1, -1, -1])))\n",
    "        else:\n",
    "            p.append(numer1 / denom)\n",
    "            p.append(numer2 / denom)\n",
    "            p.append(1 - ((numer1 + numer2) / denom))\n",
    "        prob.append(p)\n",
    "    probs_total.append(prob)\n",
    "\n",
    "print(probs_total)"
   ]
  },
  {
   "cell_type": "code",
   "execution_count": 24,
   "metadata": {},
   "outputs": [
    {
     "name": "stdout",
     "output_type": "stream",
     "text": [
      "[[0.07172179484092212, 0.847940145636886, 0.08033805952219188, 0.8356093500452833, 0.05837923073868916, 0.1060114192160276], [0.1336019090241105, 0.7105883073263656, 0.155809783649524, 0.7546310810037791, 0.06085168544546557, 0.18451723355075533], [0.18959288534478, 0.588754937824807, 0.22165217683041308, 0.7136051595771439, 0.02100590531720337, 0.2653889351056527], [0.26269677292404564, 0.32049881936245567, 0.4168044077134985, 0.5253394551900519, 0.013992535955579088, 0.4606680088543689]]\n"
     ]
    }
   ],
   "source": [
    "ave_probs = []\n",
    "\n",
    "for j in range(4): # age loop\n",
    "    ave_prob = []\n",
    "    for k in range(6): # state loop\n",
    "        cal = 0\n",
    "        num = 0\n",
    "        for i in range(12): # year loop\n",
    "            if probs_total[i][j][k] != -1:\n",
    "                cal = cal + probs_total[i][j][k]\n",
    "                num = num + 1\n",
    "        if num == 0:\n",
    "            ave_prob.append(0)\n",
    "        else:\n",
    "            ave_prob.append(cal / num)\n",
    "    ave_probs.append(ave_prob)\n",
    "    \n",
    "print(ave_probs)"
   ]
  },
  {
   "cell_type": "code",
   "execution_count": 25,
   "metadata": {},
   "outputs": [],
   "source": [
    "with xw.App(visible=True, add_book=False) as app:\n",
    "    app.display_alerts = False\n",
    "    app.screen_updating = False\n",
    "    wb = app.books.open('Data Output.xlsx')\n",
    "    sheet = wb.sheets('Household Size Transition')\n",
    "    sheet.range('B20:G23').value = ave_probs\n",
    "    wb.save()"
   ]
  },
  {
   "cell_type": "code",
   "execution_count": 26,
   "metadata": {},
   "outputs": [
    {
     "name": "stdout",
     "output_type": "stream",
     "text": [
      "[[[0.04938271604938271, 0.8539094650205762, 0.0967078189300411, 0.8995215311004785, 0.0, 0.1004784688995215], [0.02242152466367713, 0.8699551569506726, 0.1076233183856502, 0.95, 0.0, 0.050000000000000044], [0.062146892655367235, 0.807909604519774, 0.12994350282485878, 0.7777777777777778, 0.0, 0.2222222222222222], [0.04, 0.86, 0.09999999999999998, 1.0, 0.0, 0.0], [0.008849557522123894, 0.911504424778761, 0.07964601769911506, 0.7142857142857143, 0.0, 0.2857142857142857], [0.0, 0.8625, 0.13749999999999996, -1, -1, -1], [0.04838709677419355, 0.8709677419354839, 0.08064516129032262, 1.0, 0.0, 0.0], [0.0, 0.8837209302325582, 0.11627906976744184, 0.5, 0.0, 0.5], [0.0, 0.9666666666666667, 0.033333333333333326, 1.0, 0.0, 0.0], [0.06666666666666667, 0.8, 0.1333333333333333, -1, -1, -1], [0.09090909090909091, 0.7272727272727273, 0.18181818181818177, 1.0, 0.0, 0.0], [0.11764705882352941, 0.5294117647058824, 0.3529411764705882, -1, -1, -1], [0.125, 0.75, 0.125, -1, -1, -1], [0.0, 0.9090909090909091, 0.09090909090909094, -1, -1, -1], [0.0, 0.8333333333333334, 0.16666666666666663, -1, -1, -1], [0.0, 0.5, 0.5, -1, -1, -1], [-1, -1, -1, -1, -1, -1], [0.0, 1.0, 0.0, -1, -1, -1], [0.0, 1.0, 0.0, -1, -1, -1], [0.0, 1.0, 0.0, -1, -1, -1], [0.0, 1.0, 0.0, -1, -1, -1], [0.0, 1.0, 0.0, -1, -1, -1], [-1, -1, -1, -1, -1, -1], [-1, -1, -1, -1, -1, -1], [-1, -1, -1, -1, -1, -1], [-1, -1, -1, -1, -1, -1], [-1, -1, -1, -1, -1, -1], [-1, -1, -1, -1, -1, -1], [-1, -1, -1, -1, -1, -1], [-1, -1, -1, -1, -1, -1], [-1, -1, -1, -1, -1, -1]], [[0.06373626373626373, 0.8571428571428571, 0.07912087912087917, 0.8492462311557789, 0.035175879396984924, 0.11557788944723613], [0.0379746835443038, 0.8945147679324894, 0.0675105485232067, 0.8483412322274881, 0.04265402843601896, 0.1090047393364929], [0.027522935779816515, 0.8555045871559633, 0.1169724770642202, 0.915929203539823, 0.008849557522123894, 0.0752212389380531], [0.03375527426160337, 0.8607594936708861, 0.10548523206751059, 0.625, 0.2936046511627907, 0.08139534883720934], [0.0273224043715847, 0.8633879781420765, 0.10928961748633881, 0.5789473684210527, 0.3128654970760234, 0.10818713450292394], [0.03684210526315789, 0.8578947368421053, 0.10526315789473684, 0.6109660574412533, 0.26109660574412535, 0.12793733681462138], [0.06707317073170732, 0.8109756097560976, 0.12195121951219512, 0.5813953488372093, 0.32041343669250644, 0.09819121447028423], [0.08771929824561403, 0.8245614035087719, 0.08771929824561409, 0.6552706552706553, 0.245014245014245, 0.09971509971509973], [0.06451612903225806, 0.8193548387096774, 0.11612903225806448, 0.6853932584269663, 0.19662921348314608, 0.1179775280898876], [0.09722222222222222, 0.7708333333333334, 0.13194444444444442, 0.7046783625730995, 0.20175438596491227, 0.0935672514619883], [0.09712230215827339, 0.8093525179856115, 0.09352517985611508, 0.8360655737704918, 0.0546448087431694, 0.10928961748633881], [0.08303249097472924, 0.8050541516245487, 0.11191335740072206, 0.8609865470852018, 0.017937219730941704, 0.12107623318385652], [0.07116104868913857, 0.7902621722846442, 0.13857677902621723, 0.8414096916299559, 0.022026431718061675, 0.13656387665198233], [0.09401709401709402, 0.7649572649572649, 0.14102564102564108, 0.8133333333333334, 0.02666666666666667, 0.16000000000000003], [0.09178743961352658, 0.7391304347826086, 0.1690821256038647, 0.868020304568528, 0.015228426395939087, 0.11675126903553301], [0.10824742268041238, 0.7835051546391752, 0.10824742268041232, 0.8119266055045872, 0.009174311926605505, 0.17889908256880738], [0.1328125, 0.734375, 0.1328125, 0.803921568627451, 0.0196078431372549, 0.17647058823529416], [0.10619469026548672, 0.672566371681416, 0.22123893805309736, 0.84472049689441, 0.006211180124223602, 0.1490683229813664], [0.17, 0.63, 0.19999999999999996, 0.791907514450867, 0.005780346820809248, 0.20231213872832365], [0.09090909090909091, 0.75, 0.15909090909090906, 0.7988505747126436, 0.0, 0.20114942528735635], [0.1414141414141414, 0.5858585858585859, 0.2727272727272727, 0.7650273224043715, 0.00546448087431694, 0.2295081967213115], [0.09090909090909091, 0.6022727272727273, 0.30681818181818177, 0.7549668874172185, 0.0, 0.2450331125827815], [0.08771929824561403, 0.6842105263157895, 0.22807017543859653, 0.7058823529411765, 0.022058823529411766, 0.2720588235294118], [0.07692307692307693, 0.5384615384615384, 0.3846153846153846, 0.6666666666666666, 0.0, 0.33333333333333337], [0.17142857142857143, 0.6, 0.22857142857142854, 0.6814159292035398, 0.0, 0.31858407079646023], [0.21428571428571427, 0.25, 0.5357142857142857, 0.7666666666666667, 0.0, 0.23333333333333328], [0.25, 0.16666666666666666, 0.5833333333333333, 0.5512820512820513, 0.01282051282051282, 0.4358974358974359], [0.18181818181818182, 0.36363636363636365, 0.4545454545454546, 0.6071428571428571, 0.0, 0.3928571428571429], [0.21428571428571427, 0.42857142857142855, 0.3571428571428571, 0.7317073170731707, 0.0, 0.2682926829268293], [0.14285714285714285, 0.5714285714285714, 0.2857142857142857, 0.5, 0.0, 0.5], [0.0, 0.5, 0.5, 0.3888888888888889, 0.0, 0.6111111111111112]], [[0.05907172995780591, 0.8586497890295358, 0.08227848101265822, 0.8009259259259259, 0.06018518518518518, 0.13888888888888884], [0.04439252336448598, 0.8481308411214953, 0.10747663551401865, 0.8387096774193549, 0.07373271889400922, 0.0875576036866359], [0.05922551252847381, 0.8542141230068337, 0.08656036446469251, 0.8483412322274881, 0.06635071090047394, 0.08530805687203791], [0.06091370558375635, 0.8274111675126904, 0.1116751269035533, 0.8391304347826087, 0.034782608695652174, 0.12608695652173918], [0.12044817927170869, 0.7759103641456583, 0.10364145658263302, 0.5170940170940171, 0.36324786324786323, 0.11965811965811968], [0.18466898954703834, 0.7142857142857143, 0.10104529616724733, 0.4830917874396135, 0.3526570048309179, 0.16425120772946855], [0.2490272373540856, 0.669260700389105, 0.08171206225680938, 0.416289592760181, 0.497737556561086, 0.08597285067873306], [0.21978021978021978, 0.663003663003663, 0.11721611721611724, 0.45525291828793774, 0.4280155642023346, 0.11673151750972766], [0.2875, 0.5791666666666667, 0.1333333333333333, 0.3939393939393939, 0.48484848484848486, 0.12121212121212122], [0.3711340206185567, 0.5103092783505154, 0.11855670103092786, 0.46099290780141844, 0.40425531914893614, 0.13475177304964536], [0.3553299492385787, 0.5076142131979695, 0.13705583756345174, 0.4671814671814672, 0.3783783783783784, 0.15444015444015446], [0.24423963133640553, 0.5898617511520737, 0.16589861751152069, 0.5339805825242718, 0.3155339805825243, 0.15048543689320393], [0.20346320346320346, 0.645021645021645, 0.1515151515151515, 0.665158371040724, 0.24434389140271492, 0.0904977375565611], [0.2288135593220339, 0.6101694915254238, 0.1610169491525424, 0.6650485436893204, 0.1796116504854369, 0.15533980582524276], [0.2660098522167488, 0.5862068965517241, 0.14778325123152714, 0.5794392523364486, 0.22429906542056074, 0.19626168224299068], [0.28160919540229884, 0.5172413793103449, 0.20114942528735635, 0.5772727272727273, 0.20454545454545456, 0.21818181818181814], [0.24691358024691357, 0.6049382716049383, 0.14814814814814814, 0.6086956521739131, 0.18478260869565216, 0.2065217391304348], [0.23577235772357724, 0.5447154471544715, 0.2195121951219512, 0.6313131313131313, 0.1717171717171717, 0.19696969696969702], [0.3026315789473684, 0.47368421052631576, 0.22368421052631582, 0.5900621118012422, 0.18012422360248448, 0.22981366459627328], [0.3013698630136986, 0.3972602739726027, 0.3013698630136986, 0.6296296296296297, 0.16666666666666666, 0.20370370370370372], [0.29411764705882354, 0.3382352941176471, 0.36764705882352944, 0.45751633986928103, 0.24183006535947713, 0.30065359477124187], [0.24561403508771928, 0.47368421052631576, 0.2807017543859649, 0.5686274509803921, 0.1830065359477124, 0.24836601307189543], [0.23333333333333334, 0.43333333333333335, 0.33333333333333337, 0.5734265734265734, 0.11188811188811189, 0.3146853146853147], [0.2727272727272727, 0.45454545454545453, 0.2727272727272727, 0.5619047619047619, 0.14285714285714285, 0.2952380952380952], [0.2777777777777778, 0.3611111111111111, 0.36111111111111116, 0.6, 0.10588235294117647, 0.2941176470588235], [0.17857142857142858, 0.39285714285714285, 0.4285714285714286, 0.5375, 0.0875, 0.375], [0.18181818181818182, 0.36363636363636365, 0.4545454545454546, 0.5492957746478874, 0.1267605633802817, 0.323943661971831], [0.25, 0.25, 0.5, 0.4225352112676056, 0.16901408450704225, 0.4084507042253521], [0.3333333333333333, 0.3333333333333333, 0.33333333333333337, 0.42857142857142855, 0.11904761904761904, 0.45238095238095233], [0.3333333333333333, 0.3333333333333333, 0.33333333333333337, 0.41379310344827586, 0.20689655172413793, 0.3793103448275862], [0.2, 0.4, 0.4, 0.5714285714285714, 0.07142857142857142, 0.3571428571428571]], [[0.1191919191919192, 0.8161616161616162, 0.06464646464646462, 0.6575342465753424, 0.2100456621004566, 0.13242009132420096], [0.1228813559322034, 0.7923728813559322, 0.0847457627118644, 0.6788990825688074, 0.23394495412844038, 0.08715596330275233], [0.16397228637413394, 0.7575057736720554, 0.07852193995381063, 0.6545454545454545, 0.22272727272727272, 0.12272727272727268], [0.1407035175879397, 0.7814070351758794, 0.07788944723618085, 0.6359447004608295, 0.2304147465437788, 0.13364055299539168], [0.17493472584856398, 0.7467362924281984, 0.07832898172323755, 0.6728110599078341, 0.2119815668202765, 0.11520737327188935], [0.13903743315508021, 0.7834224598930482, 0.07754010695187163, 0.6860986547085202, 0.19730941704035873, 0.11659192825112108], [0.08587257617728532, 0.5872576177285319, 0.3268698060941828, 0.42328042328042326, 0.17989417989417988, 0.39682539682539686], [0.019169329073482427, 0.3961661341853035, 0.584664536741214, 0.0784313725490196, 0.10457516339869281, 0.8169934640522876], [0.011363636363636364, 0.3787878787878788, 0.6098484848484849, 0.1568627450980392, 0.0457516339869281, 0.7973856209150327], [0.030120481927710843, 0.2891566265060241, 0.6807228915662651, 0.1414141414141414, 0.08080808080808081, 0.7777777777777778], [0.0149812734082397, 0.26591760299625467, 0.7191011235955056, 0.10588235294117647, 0.08823529411764706, 0.8058823529411765], [0.038834951456310676, 0.22330097087378642, 0.7378640776699029, 0.11822660098522167, 0.1477832512315271, 0.7339901477832512], [0.022123893805309734, 0.19911504424778761, 0.7787610619469026, 0.10582010582010581, 0.06878306878306878, 0.8253968253968254], [0.09137055837563451, 0.22842639593908629, 0.6802030456852792, 0.25257731958762886, 0.1134020618556701, 0.634020618556701], [0.15422885572139303, 0.3880597014925373, 0.4577114427860697, 0.48255813953488375, 0.0755813953488372, 0.4418604651162791], [0.15873015873015872, 0.328042328042328, 0.5132275132275133, 0.39069767441860465, 0.08837209302325581, 0.5209302325581395], [0.1746987951807229, 0.3493975903614458, 0.47590361445783136, 0.43243243243243246, 0.0972972972972973, 0.47027027027027024], [0.19254658385093168, 0.34782608695652173, 0.45962732919254656, 0.4303030303030303, 0.06060606060606061, 0.509090909090909], [0.14960629921259844, 0.33858267716535434, 0.5118110236220472, 0.4817073170731707, 0.07926829268292683, 0.4390243902439024], [0.2376237623762376, 0.3465346534653465, 0.4158415841584159, 0.44508670520231214, 0.057803468208092484, 0.49710982658959535], [0.225, 0.2125, 0.5625, 0.453781512605042, 0.03361344537815126, 0.5126050420168067], [0.16393442622950818, 0.18032786885245902, 0.6557377049180328, 0.5, 0.029411764705882353, 0.47058823529411764], [0.208955223880597, 0.19402985074626866, 0.5970149253731343, 0.3516483516483517, 0.08791208791208792, 0.5604395604395604], [0.23214285714285715, 0.2857142857142857, 0.4821428571428571, 0.4, 0.04, 0.56], [0.19148936170212766, 0.1702127659574468, 0.6382978723404256, 0.4387755102040816, 0.01020408163265306, 0.5510204081632653], [0.19444444444444445, 0.1388888888888889, 0.6666666666666667, 0.35365853658536583, 0.036585365853658534, 0.6097560975609756], [0.08333333333333333, 0.125, 0.7916666666666666, 0.23943661971830985, 0.028169014084507043, 0.7323943661971831], [0.0, 0.2777777777777778, 0.7222222222222222, 0.3333333333333333, 0.0, 0.6666666666666667], [0.25, 0.08333333333333333, 0.6666666666666667, 0.4418604651162791, 0.0, 0.5581395348837209], [0.125, 0.0, 0.875, 0.28125, 0.0, 0.71875], [0.5, 0.16666666666666666, 0.33333333333333337, 0.3125, 0.0, 0.6875]], [[0.10590631364562118, 0.8167006109979633, 0.07739307535641549, 0.6275303643724697, 0.26720647773279355, 0.10526315789473684], [0.12153518123667377, 0.7889125799573561, 0.08955223880597019, 0.7013574660633484, 0.2081447963800905, 0.0904977375565611], [0.13107822410147993, 0.8245243128964059, 0.04439746300211411, 0.7004830917874396, 0.22705314009661837, 0.07246376811594202], [0.15714285714285714, 0.7714285714285715, 0.0714285714285714, 0.6930232558139535, 0.22790697674418606, 0.07906976744186045], [0.15815085158150852, 0.7688564476885644, 0.07299270072992703, 0.6757990867579908, 0.2374429223744292, 0.08675799086757996], [0.16056338028169015, 0.7352112676056338, 0.10422535211267603, 0.6587677725118484, 0.23696682464454977, 0.10426540284360186], [0.16717325227963525, 0.7325227963525835, 0.10030395136778114, 0.6590909090909091, 0.22272727272727272, 0.11818181818181817], [0.17079889807162535, 0.7520661157024794, 0.07713498622589532, 0.7164179104477612, 0.1890547263681592, 0.09452736318407962], [0.10887096774193548, 0.8145161290322581, 0.0766129032258065, 0.7211538461538461, 0.16346153846153846, 0.11538461538461542], [0.0896551724137931, 0.8137931034482758, 0.096551724137931, 0.8421052631578947, 0.05263157894736842, 0.10526315789473684], [0.10091743119266056, 0.7614678899082569, 0.13761467889908252, 0.8536585365853658, 0.04878048780487805, 0.09756097560975607], [0.10714285714285714, 0.8035714285714286, 0.0892857142857143, 0.9393939393939394, 0.0, 0.06060606060606055], [0.08602150537634409, 0.8172043010752689, 0.09677419354838712, 0.8260869565217391, 0.0, 0.17391304347826086], [0.07142857142857142, 0.7857142857142857, 0.1428571428571429, 0.8285714285714286, 0.05714285714285714, 0.11428571428571432], [0.13793103448275862, 0.8448275862068966, 0.017241379310344862, 0.8, 0.0, 0.19999999999999996], [0.12307692307692308, 0.7538461538461538, 0.12307692307692308, 0.7922077922077922, 0.025974025974025976, 0.18181818181818177], [0.0625, 0.7916666666666666, 0.14583333333333337, 0.8429752066115702, 0.008264462809917356, 0.14876033057851235], [0.054945054945054944, 0.7252747252747253, 0.21978021978021978, 0.8, 0.0, 0.19999999999999996], [0.06493506493506493, 0.7402597402597403, 0.19480519480519476, 0.7796610169491526, 0.00847457627118644, 0.211864406779661], [0.08450704225352113, 0.8028169014084507, 0.11267605633802813, 0.808695652173913, 0.017391304347826087, 0.17391304347826086], [0.12280701754385964, 0.6140350877192983, 0.26315789473684215, 0.7319587628865979, 0.010309278350515464, 0.25773195876288657], [0.13157894736842105, 0.7368421052631579, 0.13157894736842102, 0.7291666666666666, 0.0, 0.27083333333333337], [0.0, 0.6086956521739131, 0.3913043478260869, 0.7619047619047619, 0.0, 0.23809523809523814], [0.125, 0.625, 0.25, 0.7575757575757576, 0.0, 0.24242424242424243], [0.045454545454545456, 0.6818181818181818, 0.2727272727272727, 0.6491228070175439, 0.0, 0.3508771929824561], [0.17647058823529413, 0.4117647058823529, 0.4117647058823529, 0.6274509803921569, 0.0, 0.37254901960784315], [0.25, 0.4166666666666667, 0.33333333333333337, 0.6545454545454545, 0.0, 0.34545454545454546], [0.3333333333333333, 0.5, 0.16666666666666663, 0.725, 0.0, 0.275], [0.2857142857142857, 0.2857142857142857, 0.4285714285714286, 0.47058823529411764, 0.0, 0.5294117647058824], [0.0, 0.3333333333333333, 0.6666666666666667, 0.3888888888888889, 0.0, 0.6111111111111112], [0.0, 0.0, 1.0, 0.45454545454545453, 0.0, 0.5454545454545454]], [[0.03917525773195876, 0.8762886597938144, 0.08453608247422684, 0.9177489177489178, 0.017316017316017316, 0.06493506493506496], [0.03711790393013101, 0.8842794759825328, 0.0786026200873362, 0.8638297872340426, 0.00851063829787234, 0.12765957446808507], [0.03879310344827586, 0.9094827586206896, 0.051724137931034475, 0.8538812785388128, 0.0182648401826484, 0.1278538812785388], [0.04576659038901602, 0.8764302059496567, 0.0778032036613272, 0.9030837004405287, 0.00881057268722467, 0.08810572687224671], [0.030162412993039442, 0.8909512761020881, 0.07888631090487241, 0.9036697247706422, 0.01834862385321101, 0.07798165137614677], [0.0345679012345679, 0.8938271604938272, 0.07160493827160497, 0.9124423963133641, 0.013824884792626729, 0.07373271889400923], [0.04143646408839779, 0.861878453038674, 0.09668508287292821, 0.890295358649789, 0.012658227848101266, 0.09704641350210974], [0.05405405405405406, 0.8498498498498499, 0.09609609609609615, 0.9019607843137255, 0.004901960784313725, 0.09313725490196079], [0.04560260586319218, 0.8762214983713354, 0.07817589576547235, 0.8778280542986425, 0.004524886877828055, 0.11764705882352944], [0.05864197530864197, 0.8827160493827161, 0.058641975308642014, 0.9014084507042254, 0.0, 0.09859154929577463], [0.05802047781569966, 0.8464163822525598, 0.09556313993174059, 0.8700564971751412, 0.005649717514124294, 0.12429378531073443], [0.06201550387596899, 0.8410852713178295, 0.0968992248062015, 0.8766233766233766, 0.0, 0.12337662337662336], [0.05150214592274678, 0.8540772532188842, 0.09442060085836912, 0.8581560283687943, 0.0, 0.14184397163120566], [0.08, 0.764, 0.15600000000000003, 0.884393063583815, 0.0, 0.11560693641618502], [0.07327586206896551, 0.8103448275862069, 0.11637931034482762, 0.8099173553719008, 0.008264462809917356, 0.18181818181818177], [0.06091370558375635, 0.8071065989847716, 0.13197969543147203, 0.8481012658227848, 0.012658227848101266, 0.1392405063291139], [0.06521739130434782, 0.7771739130434783, 0.15760869565217395, 0.8471337579617835, 0.006369426751592357, 0.14649681528662417], [0.13821138211382114, 0.6910569105691057, 0.1707317073170732, 0.8109756097560976, 0.012195121951219513, 0.17682926829268297], [0.09836065573770492, 0.7459016393442623, 0.15573770491803274, 0.7955801104972375, 0.0, 0.20441988950276246], [0.10434782608695652, 0.7478260869565218, 0.14782608695652177, 0.8176100628930818, 0.006289308176100629, 0.17610062893081757], [0.1956521739130435, 0.5869565217391305, 0.21739130434782605, 0.7588235294117647, 0.01764705882352941, 0.22352941176470587], [0.12345679012345678, 0.6666666666666666, 0.2098765432098766, 0.7682119205298014, 0.0, 0.23178807947019864], [0.14285714285714285, 0.7321428571428571, 0.125, 0.7230769230769231, 0.007692307692307693, 0.2692307692307693], [0.06976744186046512, 0.5813953488372093, 0.34883720930232553, 0.6766917293233082, 0.0, 0.32330827067669177], [0.18518518518518517, 0.5185185185185185, 0.2962962962962963, 0.6788990825688074, 0.0, 0.3211009174311926], [0.047619047619047616, 0.7142857142857143, 0.23809523809523814, 0.6770833333333334, 0.0, 0.32291666666666663], [0.21052631578947367, 0.47368421052631576, 0.3157894736842105, 0.5735294117647058, 0.0, 0.42647058823529416], [0.0, 0.6666666666666666, 0.33333333333333337, 0.6551724137931034, 0.0, 0.3448275862068966], [0.0, 0.8571428571428571, 0.1428571428571429, 0.5454545454545454, 0.0, 0.4545454545454546], [0.0, 0.5, 0.5, 0.6122448979591837, 0.0, 0.3877551020408163], [0.0, 0.2, 0.8, 0.6129032258064516, 0.0, 0.3870967741935484]], [[0.047619047619047616, 0.8739495798319328, 0.07843137254901966, 0.9076923076923077, 0.007692307692307693, 0.08461538461538465], [0.037783375314861464, 0.889168765743073, 0.07304785894206545, 0.9104477611940298, 0.014925373134328358, 0.07462686567164178], [0.049886621315192746, 0.8390022675736961, 0.11111111111111116, 0.8734177215189873, 0.02531645569620253, 0.10126582278481011], [0.04827586206896552, 0.8528735632183908, 0.09885057471264369, 0.859504132231405, 0.01652892561983471, 0.12396694214876036], [0.05032822757111598, 0.8446389496717724, 0.10503282275711157, 0.8432203389830508, 0.01694915254237288, 0.13983050847457623], [0.06060606060606061, 0.8611111111111112, 0.07828282828282829, 0.8539823008849557, 0.008849557522123894, 0.13716814159292035], [0.05822784810126582, 0.8759493670886076, 0.0658227848101266, 0.8709677419354839, 0.018433179723502304, 0.11059907834101379], [0.0410958904109589, 0.8493150684931506, 0.1095890410958904, 0.8663793103448276, 0.01293103448275862, 0.12068965517241381], [0.06784660766961652, 0.8289085545722714, 0.1032448377581121, 0.8630705394190872, 0.008298755186721992, 0.12863070539419086], [0.05357142857142857, 0.8714285714285714, 0.07499999999999996, 0.8073394495412844, 0.013761467889908258, 0.17889908256880738], [0.05802047781569966, 0.8498293515358362, 0.0921501706484642, 0.8169014084507042, 0.023474178403755867, 0.15962441314553988], [0.0625, 0.8161764705882353, 0.12132352941176472, 0.8465116279069768, 0.0, 0.15348837209302324], [0.06620209059233449, 0.8118466898954704, 0.12195121951219512, 0.8064516129032258, 0.010752688172043012, 0.18279569892473113], [0.0779816513761468, 0.7568807339449541, 0.1651376146788991, 0.7687074829931972, 0.02040816326530612, 0.2108843537414966], [0.09615384615384616, 0.7596153846153846, 0.14423076923076927, 0.8723404255319149, 0.0070921985815602835, 0.12056737588652477], [0.08854166666666667, 0.78125, 0.13020833333333337, 0.7674418604651163, 0.023255813953488372, 0.2093023255813954], [0.08629441624365482, 0.7411167512690355, 0.1725888324873096, 0.8114754098360656, 0.0, 0.1885245901639344], [0.07333333333333333, 0.76, 0.16666666666666663, 0.7388535031847133, 0.006369426751592357, 0.2547770700636943], [0.07246376811594203, 0.7028985507246377, 0.2246376811594203, 0.8285714285714286, 0.007142857142857143, 0.16428571428571426], [0.06930693069306931, 0.7326732673267327, 0.19801980198019797, 0.7887323943661971, 0.0, 0.21126760563380287], [0.15294117647058825, 0.611764705882353, 0.23529411764705888, 0.7558139534883721, 0.011627906976744186, 0.2325581395348837], [0.16666666666666666, 0.5444444444444444, 0.28888888888888886, 0.7207792207792207, 0.0, 0.27922077922077926], [0.11538461538461539, 0.5384615384615384, 0.34615384615384615, 0.7350993377483444, 0.0, 0.26490066225165565], [0.1864406779661017, 0.559322033898305, 0.2542372881355932, 0.6888888888888889, 0.0, 0.3111111111111111], [0.022222222222222223, 0.4444444444444444, 0.5333333333333333, 0.5673076923076923, 0.009615384615384616, 0.42307692307692313], [0.09090909090909091, 0.5909090909090909, 0.31818181818181823, 0.64, 0.0, 0.36], [0.17647058823529413, 0.29411764705882354, 0.5294117647058824, 0.45121951219512196, 0.0, 0.5487804878048781], [0.05555555555555555, 0.4444444444444444, 0.5, 0.6086956521739131, 0.0, 0.3913043478260869], [0.14285714285714285, 0.42857142857142855, 0.4285714285714286, 0.4897959183673469, 0.0, 0.5102040816326531], [0.125, 0.0, 0.875, 0.5789473684210527, 0.0, 0.42105263157894735], [0.3333333333333333, 0.16666666666666666, 0.5, 0.55, 0.0, 0.44999999999999996]], [[0.033003300330033, 0.8976897689768977, 0.06930693069306926, 0.8135593220338984, 0.01694915254237288, 0.1694915254237288], [0.011627906976744186, 0.9302325581395349, 0.05813953488372092, 0.912751677852349, 0.006711409395973154, 0.08053691275167785], [0.0243161094224924, 0.9270516717325228, 0.04863221884498481, 0.9015151515151515, 0.03787878787878788, 0.06060606060606055], [0.0473186119873817, 0.8801261829652997, 0.0725552050473186, 0.9006622516556292, 0.0, 0.09933774834437081], [0.04896907216494845, 0.8582474226804123, 0.09278350515463918, 0.8941176470588236, 0.01568627450980392, 0.09019607843137256], [0.03981264637002342, 0.8758782201405152, 0.08430913348946134, 0.8589211618257261, 0.024896265560165973, 0.11618257261410792], [0.03598971722365039, 0.87146529562982, 0.09254498714652959, 0.8839285714285714, 0.013392857142857142, 0.1026785714285714], [0.044854881266490766, 0.8812664907651715, 0.07387862796833777, 0.8648648648648649, 0.02702702702702703, 0.10810810810810811], [0.05660377358490566, 0.8571428571428571, 0.08625336927223715, 0.9243027888446215, 0.00796812749003984, 0.0677290836653387], [0.043010752688172046, 0.8736559139784946, 0.08333333333333337, 0.8714285714285714, 0.009523809523809525, 0.11904761904761907], [0.051194539249146756, 0.8703071672354948, 0.07849829351535831, 0.8311111111111111, 0.008888888888888889, 0.16000000000000003], [0.05747126436781609, 0.8314176245210728, 0.11111111111111116, 0.8789237668161435, 0.013452914798206279, 0.1076233183856502], [0.07509881422924901, 0.8260869565217391, 0.09881422924901184, 0.8398058252427184, 0.009708737864077669, 0.15048543689320393], [0.0622568093385214, 0.8249027237354085, 0.11284046692607008, 0.8952879581151832, 0.0, 0.10471204188481675], [0.05172413793103448, 0.8706896551724138, 0.07758620689655171, 0.859375, 0.005208333333333333, 0.13541666666666663], [0.05583756345177665, 0.8324873096446701, 0.1116751269035533, 0.8666666666666667, 0.013333333333333334, 0.12], [0.12101910828025478, 0.7515923566878981, 0.1273885350318471, 0.8623188405797102, 0.014492753623188406, 0.12318840579710144], [0.08, 0.76, 0.16000000000000003, 0.8253012048192772, 0.0, 0.17469879518072284], [0.05421686746987952, 0.7228915662650602, 0.22289156626506024, 0.8148148148148148, 0.0, 0.18518518518518523], [0.10294117647058823, 0.6838235294117647, 0.21323529411764708, 0.824, 0.0, 0.17600000000000005], [0.07407407407407407, 0.7685185185185185, 0.15740740740740744, 0.7936507936507936, 0.007936507936507936, 0.19841269841269837], [0.09523809523809523, 0.6666666666666666, 0.23809523809523814, 0.8201438848920863, 0.0, 0.17985611510791366], [0.12698412698412698, 0.6825396825396826, 0.19047619047619047, 0.753731343283582, 0.0, 0.24626865671641796], [0.16, 0.54, 0.30000000000000004, 0.7482993197278912, 0.0, 0.2517006802721088], [0.15789473684210525, 0.5789473684210527, 0.26315789473684215, 0.7264150943396226, 0.0, 0.2735849056603774], [0.14814814814814814, 0.5185185185185185, 0.33333333333333337, 0.7672413793103449, 0.0, 0.23275862068965514], [0.1111111111111111, 0.5555555555555556, 0.33333333333333337, 0.6296296296296297, 0.0, 0.37037037037037035], [0.125, 0.5, 0.375, 0.6285714285714286, 0.0, 0.37142857142857144], [0.14285714285714285, 0.5714285714285714, 0.2857142857142857, 0.6818181818181818, 0.0, 0.31818181818181823], [0.0, 0.2857142857142857, 0.7142857142857143, 0.6521739130434783, 0.0, 0.34782608695652173], [0.0, 0.0, 1.0, 0.6153846153846154, 0.0, 0.3846153846153846]], [[0.031073446327683617, 0.8870056497175142, 0.08192090395480223, 0.9012345679012346, 0.030864197530864196, 0.0679012345679012], [0.031746031746031744, 0.873015873015873, 0.09523809523809523, 0.923728813559322, 0.03389830508474576, 0.0423728813559322], [0.04513888888888889, 0.8576388888888888, 0.09722222222222221, 0.8728813559322034, 0.025423728813559324, 0.10169491525423724], [0.04924242424242424, 0.8674242424242424, 0.08333333333333337, 0.84, 0.04666666666666667, 0.11333333333333329], [0.03785488958990536, 0.8927444794952681, 0.06940063091482651, 0.8796992481203008, 0.022556390977443608, 0.09774436090225569], [0.050746268656716415, 0.8328358208955224, 0.11641791044776117, 0.900990099009901, 0.019801980198019802, 0.07920792079207917], [0.045, 0.855, 0.09999999999999998, 0.8521400778210116, 0.011673151750972763, 0.13618677042801552], [0.04285714285714286, 0.8285714285714286, 0.12857142857142856, 0.871244635193133, 0.017167381974248927, 0.11158798283261806], [0.05413105413105413, 0.8461538461538461, 0.09971509971509973, 0.8812785388127854, 0.0045662100456621, 0.11415525114155256], [0.06804733727810651, 0.8224852071005917, 0.10946745562130178, 0.8497854077253219, 0.02575107296137339, 0.12446351931330468], [0.05, 0.8294117647058824, 0.12058823529411766, 0.8448979591836735, 0.00816326530612245, 0.14693877551020407], [0.07006369426751592, 0.7834394904458599, 0.14649681528662417, 0.8703703703703703, 0.009259259259259259, 0.12037037037037035], [0.05791505791505792, 0.8108108108108109, 0.13127413127413123, 0.8272727272727273, 0.00909090909090909, 0.1636363636363637], [0.09482758620689655, 0.7974137931034483, 0.10775862068965514, 0.8434343434343434, 0.0, 0.15656565656565657], [0.09615384615384616, 0.75, 0.15384615384615385, 0.8090909090909091, 0.0, 0.19090909090909092], [0.08056872037914692, 0.6919431279620853, 0.2274881516587678, 0.84, 0.01, 0.15000000000000002], [0.08629441624365482, 0.751269035532995, 0.1624365482233503, 0.8496732026143791, 0.013071895424836602, 0.13725490196078427], [0.08235294117647059, 0.7058823529411765, 0.21176470588235297, 0.8169014084507042, 0.02112676056338028, 0.1619718309859155], [0.11666666666666667, 0.7166666666666667, 0.16666666666666663, 0.7682119205298014, 0.0, 0.23178807947019864], [0.11627906976744186, 0.6666666666666666, 0.21705426356589153, 0.7553956834532374, 0.0, 0.24460431654676262], [0.05454545454545454, 0.7545454545454545, 0.19090909090909092, 0.8387096774193549, 0.008064516129032258, 0.15322580645161288], [0.10752688172043011, 0.6774193548387096, 0.21505376344086025, 0.7606837606837606, 0.0, 0.23931623931623935], [0.17073170731707318, 0.6097560975609756, 0.2195121951219512, 0.6, 0.0, 0.4], [0.19607843137254902, 0.45098039215686275, 0.3529411764705882, 0.7542372881355932, 0.0, 0.2457627118644068], [0.10526315789473684, 0.5526315789473685, 0.3421052631578947, 0.7394957983193278, 0.0, 0.26050420168067223], [0.07692307692307693, 0.5, 0.42307692307692313, 0.7037037037037037, 0.0, 0.2962962962962963], [0.13043478260869565, 0.4782608695652174, 0.3913043478260869, 0.5684210526315789, 0.0, 0.43157894736842106], [0.0, 0.625, 0.375, 0.6962025316455697, 0.0, 0.30379746835443033], [0.13333333333333333, 0.3333333333333333, 0.5333333333333333, 0.6595744680851063, 0.0, 0.34042553191489366], [0.14285714285714285, 0.7142857142857143, 0.1428571428571429, 0.6153846153846154, 0.019230769230769232, 0.3653846153846154], [0.0, 1.0, 0.0, 0.5862068965517241, 0.0, 0.4137931034482759]], [[0.03361344537815126, 0.8711484593837535, 0.09523809523809523, 0.8488888888888889, 0.008888888888888889, 0.14222222222222225], [0.03048780487804878, 0.8475609756097561, 0.12195121951219512, 0.8301886792452831, 0.031446540880503145, 0.1383647798742138], [0.0425531914893617, 0.851063829787234, 0.1063829787234043, 0.8614457831325302, 0.03614457831325301, 0.10240963855421692], [0.04608294930875576, 0.8202764976958525, 0.13364055299539168, 0.8260869565217391, 0.06956521739130435, 0.10434782608695647], [0.06439393939393939, 0.8143939393939394, 0.12121212121212122, 0.8818897637795275, 0.015748031496062992, 0.10236220472440949], [0.038135593220338986, 0.864406779661017, 0.09745762711864403, 0.8163265306122449, 0.027210884353741496, 0.15646258503401356], [0.061224489795918366, 0.8163265306122449, 0.12244897959183676, 0.8321167883211679, 0.014598540145985401, 0.15328467153284675], [0.021806853582554516, 0.8535825545171339, 0.12461059190031154, 0.812206572769953, 0.018779342723004695, 0.16901408450704225], [0.04229607250755287, 0.8459214501510574, 0.11178247734138969, 0.8512396694214877, 0.03305785123966942, 0.11570247933884292], [0.046511627906976744, 0.8338870431893688, 0.11960132890365449, 0.8516949152542372, 0.00423728813559322, 0.14406779661016944], [0.07523510971786834, 0.7899686520376176, 0.13479623824451414, 0.8164251207729468, 0.00966183574879227, 0.17391304347826086], [0.09285714285714286, 0.7571428571428571, 0.15000000000000002, 0.768595041322314, 0.004132231404958678, 0.2272727272727273], [0.06545454545454546, 0.8218181818181818, 0.11272727272727268, 0.7751196172248804, 0.009569377990430622, 0.215311004784689], [0.042801556420233464, 0.8132295719844358, 0.14396887159533078, 0.7772511848341233, 0.009478672985781991, 0.21327014218009477], [0.07834101382488479, 0.7741935483870968, 0.14746543778801846, 0.8364485981308412, 0.004672897196261682, 0.15887850467289721], [0.12290502793296089, 0.7094972067039106, 0.16759776536312854, 0.7417582417582418, 0.005494505494505495, 0.25274725274725274], [0.050314465408805034, 0.7421383647798742, 0.2075471698113207, 0.7751196172248804, 0.0, 0.22488038277511957], [0.12, 0.6933333333333334, 0.18666666666666665, 0.772972972972973, 0.0, 0.22702702702702704], [0.09933774834437085, 0.6291390728476821, 0.2715231788079471, 0.7852760736196319, 0.006134969325153374, 0.20858895705521474], [0.14754098360655737, 0.6065573770491803, 0.24590163934426235, 0.68, 0.0, 0.31999999999999995], [0.12048192771084337, 0.6265060240963856, 0.2530120481927711, 0.7185185185185186, 0.0, 0.28148148148148144], [0.15294117647058825, 0.5058823529411764, 0.3411764705882353, 0.7154471544715447, 0.0, 0.2845528455284553], [0.11235955056179775, 0.5842696629213483, 0.3033707865168539, 0.6486486486486487, 0.009009009009009009, 0.3423423423423423], [0.13114754098360656, 0.47540983606557374, 0.39344262295081966, 0.6481481481481481, 0.009259259259259259, 0.34259259259259256], [0.16326530612244897, 0.42857142857142855, 0.40816326530612246, 0.6, 0.011764705882352941, 0.388235294117647], [0.16, 0.44, 0.4, 0.6701030927835051, 0.0, 0.3298969072164949], [0.1111111111111111, 0.3888888888888889, 0.5, 0.5604395604395604, 0.0, 0.43956043956043955], [0.125, 0.4375, 0.4375, 0.5189873417721519, 0.0, 0.4810126582278481], [0.2222222222222222, 0.2222222222222222, 0.5555555555555556, 0.6461538461538462, 0.0, 0.3538461538461538], [0.18181818181818182, 0.09090909090909091, 0.7272727272727273, 0.38461538461538464, 0.0, 0.6153846153846154], [0.16666666666666666, 0.16666666666666666, 0.6666666666666667, 0.5757575757575758, 0.0, 0.4242424242424242]], [[0.018404907975460124, 0.8558282208588958, 0.12576687116564422, 0.7916666666666666, 0.022727272727272728, 0.18560606060606055], [0.038338658146964855, 0.8402555910543131, 0.12140575079872207, 0.7795275590551181, 0.011811023622047244, 0.2086614173228346], [0.03468208092485549, 0.8092485549132948, 0.1560693641618497, 0.7685185185185185, 0.018518518518518517, 0.2129629629629629], [0.04642857142857143, 0.8107142857142857, 0.1428571428571429, 0.7865853658536586, 0.03048780487804878, 0.18292682926829273], [0.017361111111111112, 0.7951388888888888, 0.1875, 0.7289156626506024, 0.0, 0.27108433734939763], [0.037037037037037035, 0.8518518518518519, 0.11111111111111116, 0.7, 0.007692307692307693, 0.29230769230769227], [0.04932735426008968, 0.820627802690583, 0.1300448430493274, 0.768595041322314, 0.0, 0.23140495867768596], [0.014285714285714285, 0.8238095238095238, 0.16190476190476188, 0.8043478260869565, 0.014492753623188406, 0.1811594202898551], [0.06746031746031746, 0.8253968253968254, 0.1071428571428571, 0.8320610687022901, 0.007633587786259542, 0.16030534351145043], [0.056179775280898875, 0.7715355805243446, 0.17228464419475653, 0.7857142857142857, 0.025510204081632654, 0.18877551020408168], [0.07191780821917808, 0.7842465753424658, 0.14383561643835618, 0.6839622641509434, 0.03773584905660377, 0.2783018867924528], [0.04119850187265917, 0.7453183520599251, 0.2134831460674157, 0.8199052132701422, 0.009478672985781991, 0.17061611374407581], [0.056, 0.728, 0.21599999999999997, 0.7761194029850746, 0.009950248756218905, 0.2139303482587065], [0.0625, 0.7723214285714286, 0.1651785714285714, 0.7934272300469484, 0.0, 0.20657276995305163], [0.07171314741035857, 0.7370517928286853, 0.19123505976095623, 0.75, 0.005, 0.245], [0.09803921568627451, 0.7205882352941176, 0.18137254901960786, 0.7626262626262627, 0.010101010101010102, 0.2272727272727273], [0.05154639175257732, 0.7371134020618557, 0.21134020618556704, 0.7704918032786885, 0.0, 0.2295081967213115], [0.07407407407407407, 0.6962962962962963, 0.22962962962962963, 0.6740331491712708, 0.0, 0.3259668508287292], [0.06837606837606838, 0.717948717948718, 0.2136752136752137, 0.7080745341614907, 0.0, 0.2919254658385093], [0.07339449541284404, 0.5963302752293578, 0.3302752293577982, 0.7257142857142858, 0.0, 0.27428571428571424], [0.1346153846153846, 0.5961538461538461, 0.2692307692307693, 0.6381578947368421, 0.0, 0.36184210526315785], [0.14666666666666667, 0.5866666666666667, 0.2666666666666667, 0.6551724137931034, 0.0, 0.3448275862068966], [0.125, 0.5892857142857143, 0.2857142857142857, 0.6346153846153846, 0.0, 0.3653846153846154], [0.10204081632653061, 0.5918367346938775, 0.30612244897959184, 0.5666666666666667, 0.008333333333333333, 0.42500000000000004], [0.057692307692307696, 0.5961538461538461, 0.34615384615384615, 0.6987951807228916, 0.0, 0.3012048192771084], [0.06060606060606061, 0.48484848484848486, 0.4545454545454546, 0.6097560975609756, 0.0, 0.3902439024390244], [0.034482758620689655, 0.3793103448275862, 0.5862068965517242, 0.5573770491803278, 0.0, 0.4426229508196722], [0.2222222222222222, 0.3333333333333333, 0.4444444444444444, 0.6, 0.0, 0.4], [0.15384615384615385, 0.38461538461538464, 0.46153846153846156, 0.55, 0.0, 0.44999999999999996], [0.0, 0.0, 1.0, 0.5714285714285714, 0.0, 0.4285714285714286], [0.2, 0.6, 0.19999999999999996, 0.4, 0.0, 0.6]], [[0.035483870967741936, 0.867741935483871, 0.09677419354838712, 0.8526785714285714, 0.026785714285714284, 0.1205357142857143], [0.032362459546925564, 0.8576051779935275, 0.11003236245954695, 0.821917808219178, 0.0319634703196347, 0.1461187214611872], [0.0425531914893617, 0.875886524822695, 0.08156028368794321, 0.8073394495412844, 0.027522935779816515, 0.1651376146788991], [0.017921146953405017, 0.8745519713261649, 0.10752688172043012, 0.8221153846153846, 0.009615384615384616, 0.16826923076923073], [0.042704626334519574, 0.8825622775800712, 0.07473309608540923, 0.8148148148148148, 0.015873015873015872, 0.1693121693121693], [0.0641025641025641, 0.8376068376068376, 0.09829059829059827, 0.8175675675675675, 0.02027027027027027, 0.16216216216216217], [0.029166666666666667, 0.8416666666666667, 0.12916666666666665, 0.8333333333333334, 0.016666666666666666, 0.15000000000000002], [0.03278688524590164, 0.8360655737704918, 0.1311475409836066, 0.86, 0.02, 0.12], [0.03723404255319149, 0.8457446808510638, 0.11702127659574468, 0.7117117117117117, 0.02702702702702703, 0.26126126126126126], [0.0546448087431694, 0.8688524590163934, 0.07650273224043713, 0.8416666666666667, 0.0, 0.15833333333333333], [0.08333333333333333, 0.7892156862745098, 0.12745098039215685, 0.848, 0.016, 0.136], [0.043859649122807015, 0.7982456140350878, 0.1578947368421053, 0.8653846153846154, 0.0, 0.13461538461538458], [0.06140350877192982, 0.8289473684210527, 0.10964912280701755, 0.7927461139896373, 0.010362694300518135, 0.1968911917098446], [0.05429864253393665, 0.8054298642533937, 0.14027149321266963, 0.7553191489361702, 0.005319148936170213, 0.23936170212765961], [0.05759162303664921, 0.7643979057591623, 0.17801047120418845, 0.7912087912087912, 0.016483516483516484, 0.1923076923076923], [0.08383233532934131, 0.7485029940119761, 0.16766467065868262, 0.7295918367346939, 0.0, 0.27040816326530615], [0.06989247311827956, 0.7150537634408602, 0.21505376344086025, 0.7901234567901234, 0.012345679012345678, 0.19753086419753085], [0.05389221556886228, 0.6946107784431138, 0.25149700598802394, 0.7588235294117647, 0.0, 0.24117647058823533], [0.05223880597014925, 0.753731343283582, 0.19402985074626866, 0.7305389221556886, 0.017964071856287425, 0.25149700598802394], [0.07368421052631578, 0.6105263157894737, 0.3157894736842105, 0.6928571428571428, 0.0, 0.30714285714285716], [0.12643678160919541, 0.6551724137931034, 0.2183908045977011, 0.6716417910447762, 0.007462686567164179, 0.32089552238805974], [0.13043478260869565, 0.5362318840579711, 0.33333333333333337, 0.65625, 0.0078125, 0.3359375], [0.14285714285714285, 0.5535714285714286, 0.3035714285714286, 0.6694915254237288, 0.0, 0.3305084745762712], [0.16, 0.6, 0.24, 0.6627906976744186, 0.011627906976744186, 0.32558139534883723], [0.13333333333333333, 0.5, 0.3666666666666667, 0.5616438356164384, 0.0, 0.4383561643835616], [0.09090909090909091, 0.48484848484848486, 0.4242424242424242, 0.5128205128205128, 0.0, 0.4871794871794872], [0.14814814814814814, 0.4074074074074074, 0.4444444444444444, 0.4090909090909091, 0.0, 0.5909090909090908], [0.1875, 0.25, 0.5625, 0.5961538461538461, 0.0, 0.40384615384615385], [0.08333333333333333, 0.4166666666666667, 0.5, 0.4117647058823529, 0.0, 0.5882352941176471], [0.0, 0.0, 1.0, 0.5, 0.0, 0.5], [0.0, 0.5, 0.5, 0.4594594594594595, 0.0, 0.5405405405405406]]]\n"
     ]
    }
   ],
   "source": [
    "probs_total = [] # [year: 0 -> 1996 - 1998, 11 -> 2018 - 2020][age: 0 -> 65, ..., 3 -> 95][what: 0 - > 2 to 1, ..., 5 -> 1 to 0]\n",
    "\n",
    "for i in range(1996, 2020, 2): # year loop\n",
    "    prob = []\n",
    "    data_select_total = data.loc[:, ['id + pn', 'age_' + str(i), 'age_' + str(i + 2), 'hh_size_' + str(i), 'hh_size_' + str(i + 2)]]\n",
    "    for j in range(65, 96): # age loop\n",
    "        p = []\n",
    "        denom = data_select_total[((data_select_total['age_' + str(i)] == j) & (data_select_total['hh_size_' + str(i)] == 2))].shape[0]\n",
    "        numer1 = data_select_total[((data_select_total['age_' + str(i)] == j) & (data_select_total['hh_size_' + str(i)] == 2) & (data_select_total['hh_size_' + str(i + 2)] == 1))].shape[0]\n",
    "        numer2 = data_select_total[((data_select_total['age_' + str(i)] == j) & (data_select_total['hh_size_' + str(i)] == 2) & (data_select_total['hh_size_' + str(i + 2)] == 2))].shape[0]\n",
    "        if denom == 0:\n",
    "            p.extend(list(np.array([-1, -1, -1])))\n",
    "        else:\n",
    "            p.append(numer1 / denom)\n",
    "            p.append(numer2 / denom)\n",
    "            p.append(1 - ((numer1 + numer2) / denom))\n",
    "        denom = data_select_total[((data_select_total['age_' + str(i)] == j) & (data_select_total['hh_size_' + str(i)] == 1))].shape[0]\n",
    "        numer1 = data_select_total[((data_select_total['age_' + str(i)] == j) & (data_select_total['hh_size_' + str(i)] == 1) & (data_select_total['hh_size_' + str(i + 2)] == 1))].shape[0]\n",
    "        numer2 = data_select_total[((data_select_total['age_' + str(i)] == j) & (data_select_total['hh_size_' + str(i)] == 1) & (data_select_total['hh_size_' + str(i + 2)] == 2))].shape[0]\n",
    "        if denom == 0:\n",
    "            p.extend(list(np.array([-1, -1, -1])))\n",
    "        else:\n",
    "            p.append(numer1 / denom)\n",
    "            p.append(numer2 / denom)\n",
    "            p.append(1 - ((numer1 + numer2) / denom))\n",
    "        prob.append(p)\n",
    "    probs_total.append(prob)\n",
    "\n",
    "print(probs_total)"
   ]
  },
  {
   "cell_type": "code",
   "execution_count": 27,
   "metadata": {},
   "outputs": [
    {
     "name": "stdout",
     "output_type": "stream",
     "text": [
      "[[0.05297185157592243, 0.8610180510332691, 0.0860100973908086, 0.8223522951242065, 0.058653062949904834, 0.11899464192588842], [0.04738911744008764, 0.8596670537380464, 0.09294382882186601, 0.8383082953865268, 0.05814527154780532, 0.10354643306566791], [0.06015575320147501, 0.8474194081325045, 0.09242483866602051, 0.819673001547956, 0.05950421053577293, 0.1208227879162711], [0.061129292579556356, 0.8402836014234932, 0.09858710599695031, 0.8109280151979781, 0.08069862958373929, 0.10837335521828266], [0.06512333314617244, 0.837089395082975, 0.09778727177085263, 0.7587720372203642, 0.1025582782308752, 0.13866968454876052], [0.07050999828952292, 0.8309026633655986, 0.09858733834487843, 0.7544685753013631, 0.10641600024083703, 0.13911542445779979], [0.07815882278774132, 0.8011582151573666, 0.1206829620548922, 0.7509527655650329, 0.10901625576276087, 0.1400309786722063], [0.062434097239479874, 0.7868315613674605, 0.15073434139305963, 0.6988647375107361, 0.09016326663316443, 0.21097199585609935], [0.07028543390897167, 0.7903318243752003, 0.13938274171582796, 0.7415701345690726, 0.08198060970277544, 0.17644925572815195], [0.08628385580219532, 0.7590544305215525, 0.15466171367625225, 0.7325662201801042, 0.07438483704196497, 0.19304894277793078], [0.09224848275481408, 0.7359183775620989, 0.17183313968308703, 0.7478451909435853, 0.05663439199686337, 0.1955204170595515], [0.08507189550814516, 0.7103354789198822, 0.20459262557197255, 0.7617183346984157, 0.04705250272665448, 0.19122916257492972], [0.07844548451832162, 0.7402658686096237, 0.18128864687205468, 0.7376496775454165, 0.03587164073436752, 0.22647868172021582], [0.08002466908492238, 0.7360447052350033, 0.18393062568007437, 0.7524864579204992, 0.03745720193980811, 0.21005634013969265], [0.09790922155116764, 0.738154255559671, 0.16393652288916152, 0.7689453432522018, 0.03289366323362965, 0.1981609935141688], [0.10519182790997637, 0.6811675407032945, 0.21364063138672926, 0.7389355394070435, 0.036628070563616395, 0.22443639002934015], [0.1043185034344737, 0.6996213741317315, 0.1960601224337947, 0.7631237225573634, 0.03238472425018952, 0.2044915531924471], [0.10094355275430102, 0.6909635252208467, 0.20809292202485233, 0.7367452760252156, 0.025293247428513466, 0.23796147654627087], [0.10406946031465113, 0.6809753487526683, 0.21495519093268056, 0.7340368876931387, 0.02771721251833681, 0.23824589978852445], [0.11682537092636013, 0.6617512789396748, 0.22142335013396508, 0.7242338300911312, 0.022559158854425988, 0.2532070110544428], [0.1368404815796173, 0.6125205377020269, 0.2506389807183558, 0.6894181905487013, 0.03126872239958534, 0.2793130870517133], [0.12958062992411154, 0.5980920790164135, 0.272327291059475, 0.6954044872921631, 0.020020981877599524, 0.2845745308302373], [0.13328928558376757, 0.5645723949138953, 0.302138319502337, 0.6506841093379522, 0.021687303639175294, 0.3276285870228724], [0.15566073775476907, 0.5184241476702826, 0.32591511457494843, 0.6483518113374638, 0.01927978567513451, 0.33236840298740183], [0.13736422778685106, 0.49385538581303623, 0.36878038640011274, 0.6310791754818131, 0.012496956824687917, 0.3564238676934988], [0.13080788096830875, 0.44790191191260703, 0.4212902071190841, 0.6241803911960514, 0.011280487804878048, 0.3645391209990706], [0.1534033027978217, 0.36810860189086286, 0.47848809531131553, 0.5222060931932306, 0.015250008207754686, 0.4625438985990147], [0.13458448117539026, 0.4225780532598714, 0.4428374655647383, 0.5810722378048916, 0.015364916773367477, 0.4035628454217408], [0.1783438783438783, 0.39499389499389503, 0.4266622266622267, 0.5506626465287614, 0.010822510822510822, 0.4385148426487277], [0.09553325462416372, 0.25718221172766625, 0.6472845336481701, 0.4998842493808592, 0.020557029177718834, 0.4795587214414221], [0.12727272727272726, 0.33636363636363636, 0.5363636363636364, 0.5024613352566129, 0.006493506493506493, 0.49104515824988065]]\n"
     ]
    }
   ],
   "source": [
    "ave_probs = []\n",
    "\n",
    "for j in range(31): # age loop\n",
    "    ave_prob = []\n",
    "    for k in range(6): # state loop\n",
    "        cal = 0\n",
    "        num = 0\n",
    "        for i in range(12): # year loop\n",
    "            if probs_total[i][j][k] != -1:\n",
    "                cal = cal + probs_total[i][j][k]\n",
    "                num = num + 1\n",
    "        if num == 0:\n",
    "            ave_prob.append(0)\n",
    "        else:\n",
    "            ave_prob.append(cal / num)\n",
    "    ave_probs.append(ave_prob)\n",
    "    \n",
    "print(ave_probs)"
   ]
  },
  {
   "cell_type": "code",
   "execution_count": 28,
   "metadata": {},
   "outputs": [],
   "source": [
    "with xw.App(visible=True, add_book=False) as app:\n",
    "    app.display_alerts = False\n",
    "    app.screen_updating = False\n",
    "    wb = app.books.open('Data Output.xlsx')\n",
    "    sheet = wb.sheets('Household Size Transition')\n",
    "    sheet.range('J4:O34').value = ave_probs\n",
    "    wb.save()"
   ]
  },
  {
   "cell_type": "code",
   "execution_count": 29,
   "metadata": {},
   "outputs": [
    {
     "name": "stdout",
     "output_type": "stream",
     "text": [
      "[[[0.02631578947368421, 0.8796992481203008, 0.09398496240601506, 0.875, 0.0, 0.125], [0.01675977653631285, 0.88268156424581, 0.1005586592178771, 1.0, 0.0, 0.0], [0.052980132450331126, 0.8145695364238411, 0.13245033112582782, 0.8333333333333334, 0.0, 0.16666666666666663], [0.044444444444444446, 0.8518518518518519, 0.10370370370370374, 1.0, 0.0, 0.0], [0.0, 0.9148936170212766, 0.08510638297872342, 0.8, 0.0, 0.19999999999999996], [0.0, 0.8648648648648649, 0.1351351351351351, -1, -1, -1], [0.05454545454545454, 0.8727272727272727, 0.07272727272727275, 1.0, 0.0, 0.0], [0.0, 0.8974358974358975, 0.10256410256410253, 0.5, 0.0, 0.5], [0.0, 0.9629629629629629, 0.03703703703703709, 1.0, 0.0, 0.0], [0.06666666666666667, 0.8, 0.1333333333333333, -1, -1, -1], [0.1111111111111111, 0.6666666666666666, 0.2222222222222222, 1.0, 0.0, 0.0], [0.0, 0.5384615384615384, 0.46153846153846156, -1, -1, -1], [0.0, 0.8571428571428571, 0.1428571428571429, -1, -1, -1], [0.0, 0.9090909090909091, 0.09090909090909094, -1, -1, -1], [0.0, 0.8333333333333334, 0.16666666666666663, -1, -1, -1], [0.0, 0.5, 0.5, -1, -1, -1], [-1, -1, -1, -1, -1, -1], [0.0, 1.0, 0.0, -1, -1, -1], [0.0, 1.0, 0.0, -1, -1, -1], [0.0, 1.0, 0.0, -1, -1, -1], [0.0, 1.0, 0.0, -1, -1, -1], [0.0, 1.0, 0.0, -1, -1, -1], [-1, -1, -1, -1, -1, -1], [-1, -1, -1, -1, -1, -1], [-1, -1, -1, -1, -1, -1], [-1, -1, -1, -1, -1, -1], [-1, -1, -1, -1, -1, -1], [-1, -1, -1, -1, -1, -1], [-1, -1, -1, -1, -1, -1], [-1, -1, -1, -1, -1, -1], [-1, -1, -1, -1, -1, -1]], [[0.034782608695652174, 0.8826086956521739, 0.08260869565217388, 0.8, 0.06666666666666667, 0.1333333333333333], [0.015625, 0.90234375, 0.08203125, 0.8333333333333334, 0.06666666666666667, 0.09999999999999998], [0.01639344262295082, 0.860655737704918, 0.12295081967213117, 0.8703703703703703, 0.018518518518518517, 0.11111111111111116], [0.023668639053254437, 0.8520710059171598, 0.12426035502958577, 0.6990291262135923, 0.17475728155339806, 0.12621359223300976], [0.022556390977443608, 0.8571428571428571, 0.12030075187969924, 0.6153846153846154, 0.25, 0.13461538461538458], [0.03333333333333333, 0.85, 0.1166666666666667, 0.5818181818181818, 0.26666666666666666, 0.1515151515151515], [0.028846153846153848, 0.8076923076923077, 0.16346153846153844, 0.6037735849056604, 0.2641509433962264, 0.13207547169811318], [0.0625, 0.8375, 0.09999999999999998, 0.625, 0.2631578947368421, 0.11184210526315785], [0.0, 0.8333333333333334, 0.16666666666666663, 0.6304347826086957, 0.24456521739130435, 0.125], [0.05084745762711865, 0.7627118644067796, 0.18644067796610164, 0.6375, 0.25, 0.11250000000000004], [0.05521472392638037, 0.8220858895705522, 0.12269938650306744, 0.7962962962962963, 0.1111111111111111, 0.09259259259259256], [0.060810810810810814, 0.831081081081081, 0.10810810810810811, 0.734375, 0.0625, 0.203125], [0.029585798816568046, 0.8047337278106509, 0.16568047337278102, 0.76, 0.04, 0.19999999999999996], [0.04065040650406504, 0.7886178861788617, 0.1707317073170732, 0.7407407407407407, 0.018518518518518517, 0.2407407407407407], [0.03508771929824561, 0.7719298245614035, 0.19298245614035092, 0.75, 0.0625, 0.1875], [0.034782608695652174, 0.8347826086956521, 0.13043478260869568, 0.6785714285714286, 0.017857142857142856, 0.3035714285714286], [0.125, 0.7045454545454546, 0.17045454545454541, 0.7692307692307693, 0.02564102564102564, 0.20512820512820518], [0.07142857142857142, 0.6, 0.3285714285714286, 0.7567567567567568, 0.02702702702702703, 0.21621621621621623], [0.15, 0.65, 0.19999999999999996, 0.71875, 0.03125, 0.25], [0.0625, 0.8125, 0.125, 0.6451612903225806, 0.0, 0.3548387096774194], [0.08333333333333333, 0.6833333333333333, 0.23333333333333328, 0.78125, 0.03125, 0.1875], [0.05172413793103448, 0.6379310344827587, 0.31034482758620685, 0.6129032258064516, 0.0, 0.3870967741935484], [0.12195121951219512, 0.6341463414634146, 0.24390243902439024, 0.5416666666666666, 0.125, 0.33333333333333337], [0.02857142857142857, 0.6285714285714286, 0.34285714285714286, 0.7142857142857143, 0.0, 0.2857142857142857], [0.08, 0.72, 0.19999999999999996, 0.6086956521739131, 0.0, 0.3913043478260869], [0.06666666666666667, 0.3333333333333333, 0.6, 0.55, 0.0, 0.44999999999999996], [0.25, 0.125, 0.625, 0.42857142857142855, 0.07142857142857142, 0.5], [0.2222222222222222, 0.2222222222222222, 0.5555555555555556, 0.47058823529411764, 0.0, 0.5294117647058824], [0.3, 0.5, 0.19999999999999996, 0.7142857142857143, 0.0, 0.2857142857142857], [0.0, 0.6, 0.4, 0.4444444444444444, 0.0, 0.5555555555555556], [0.0, 0.3333333333333333, 0.6666666666666667, 0.0, 0.0, 1.0]], [[0.015151515151515152, 0.8825757575757576, 0.10227272727272729, 0.66, 0.12, 0.21999999999999997], [0.02242152466367713, 0.852017937219731, 0.12556053811659196, 0.704225352112676, 0.14084507042253522, 0.15492957746478875], [0.02531645569620253, 0.8860759493670886, 0.08860759493670889, 0.6833333333333333, 0.13333333333333333, 0.18333333333333335], [0.04424778761061947, 0.8539823008849557, 0.10176991150442483, 0.7857142857142857, 0.125, 0.0892857142857143], [0.07065217391304347, 0.8315217391304348, 0.09782608695652173, 0.4430379746835443, 0.4430379746835443, 0.11392405063291144], [0.075, 0.79375, 0.13124999999999998, 0.4225352112676056, 0.39436619718309857, 0.18309859154929575], [0.10218978102189781, 0.7956204379562044, 0.1021897810218978, 0.4625, 0.4375, 0.09999999999999998], [0.09701492537313433, 0.7686567164179104, 0.13432835820895528, 0.43103448275862066, 0.46551724137931033, 0.10344827586206895], [0.12396694214876033, 0.7272727272727273, 0.14876033057851235, 0.32710280373831774, 0.5233644859813084, 0.14953271028037385], [0.18888888888888888, 0.6555555555555556, 0.15555555555555556, 0.32456140350877194, 0.5, 0.17543859649122806], [0.25252525252525254, 0.5858585858585859, 0.16161616161616166, 0.33636363636363636, 0.45454545454545453, 0.2090909090909091], [0.11864406779661017, 0.652542372881356, 0.22881355932203384, 0.43902439024390244, 0.3902439024390244, 0.1707317073170732], [0.09090909090909091, 0.7575757575757576, 0.1515151515151515, 0.5833333333333334, 0.25, 0.16666666666666663], [0.10273972602739725, 0.726027397260274, 0.17123287671232879, 0.5833333333333334, 0.20833333333333334, 0.20833333333333337], [0.16379310344827586, 0.6896551724137931, 0.14655172413793105, 0.4782608695652174, 0.13043478260869565, 0.3913043478260869], [0.14285714285714285, 0.6224489795918368, 0.23469387755102045, 0.5102040816326531, 0.20408163265306123, 0.2857142857142857], [0.13861386138613863, 0.7128712871287128, 0.14851485148514854, 0.6410256410256411, 0.1794871794871795, 0.17948717948717952], [0.1111111111111111, 0.6296296296296297, 0.2592592592592593, 0.525, 0.175, 0.30000000000000004], [0.175, 0.55, 0.275, 0.5641025641025641, 0.3333333333333333, 0.10256410256410253], [0.1702127659574468, 0.48936170212765956, 0.34042553191489366, 0.5142857142857142, 0.2571428571428571, 0.22857142857142854], [0.23076923076923078, 0.34615384615384615, 0.42307692307692313, 0.391304347826087, 0.2608695652173913, 0.34782608695652173], [0.09090909090909091, 0.5681818181818182, 0.34090909090909094, 0.5588235294117647, 0.14705882352941177, 0.2941176470588235], [0.14634146341463414, 0.4878048780487805, 0.36585365853658536, 0.4074074074074074, 0.2962962962962963, 0.2962962962962963], [0.27586206896551724, 0.5172413793103449, 0.2068965517241379, 0.35294117647058826, 0.29411764705882354, 0.3529411764705882], [0.23076923076923078, 0.4230769230769231, 0.34615384615384615, 0.55, 0.0, 0.44999999999999996], [0.21739130434782608, 0.34782608695652173, 0.4347826086956522, 0.85, 0.0, 0.15000000000000002], [0.2222222222222222, 0.3333333333333333, 0.4444444444444444, 0.4, 0.1, 0.5], [0.0, 0.0, 1.0, 0.3333333333333333, 0.16666666666666666, 0.5], [0.5, 0.5, 0.0, 0.5833333333333334, 0.0, 0.41666666666666663], [0.2, 0.4, 0.4, 0.6, 0.2, 0.19999999999999996], [0.3333333333333333, 0.0, 0.6666666666666667, 0.6, 0.0, 0.4]], [[0.12096774193548387, 0.7903225806451613, 0.08870967741935487, 0.6, 0.26666666666666666, 0.1333333333333333], [0.13618677042801555, 0.77431906614786, 0.08949416342412453, 0.6956521739130435, 0.18840579710144928, 0.1159420289855072], [0.14102564102564102, 0.7649572649572649, 0.09401709401709402, 0.5964912280701754, 0.17543859649122806, 0.22807017543859653], [0.14479638009049775, 0.7692307692307693, 0.08597285067873306, 0.5818181818181818, 0.23636363636363636, 0.18181818181818177], [0.15023474178403756, 0.7746478873239436, 0.07511737089201875, 0.6545454545454545, 0.2, 0.1454545454545455], [0.1036036036036036, 0.7972972972972973, 0.09909909909909909, 0.7142857142857143, 0.16071428571428573, 0.125], [0.07017543859649122, 0.6008771929824561, 0.32894736842105265, 0.4727272727272727, 0.12727272727272726, 0.4], [0.017937219730941704, 0.484304932735426, 0.4977578475336323, 0.14893617021276595, 0.1702127659574468, 0.6808510638297872], [0.01639344262295082, 0.4644808743169399, 0.5191256830601093, 0.25, 0.09615384615384616, 0.6538461538461539], [0.04128440366972477, 0.3944954128440367, 0.5642201834862386, 0.2, 0.08, 0.72], [0.01775147928994083, 0.378698224852071, 0.6035502958579881, 0.13636363636363635, 0.022727272727272728, 0.8409090909090909], [0.05504587155963303, 0.3761467889908257, 0.5688073394495412, 0.1509433962264151, 0.11320754716981132, 0.7358490566037736], [0.016666666666666666, 0.31666666666666665, 0.6666666666666667, 0.16666666666666666, 0.05555555555555555, 0.7777777777777778], [0.12962962962962962, 0.28703703703703703, 0.5833333333333333, 0.23529411764705882, 0.11764705882352941, 0.6470588235294117], [0.24742268041237114, 0.3402061855670103, 0.41237113402061853, 0.4358974358974359, 0.1282051282051282, 0.4358974358974359], [0.2916666666666667, 0.2916666666666667, 0.41666666666666663, 0.4583333333333333, 0.08333333333333333, 0.45833333333333337], [0.2631578947368421, 0.23684210526315788, 0.5, 0.32432432432432434, 0.13513513513513514, 0.5405405405405406], [0.27710843373493976, 0.2891566265060241, 0.4337349397590361, 0.42857142857142855, 0.08571428571428572, 0.48571428571428577], [0.15254237288135594, 0.2542372881355932, 0.5932203389830508, 0.5185185185185185, 0.0, 0.4814814814814815], [0.32, 0.32, 0.36, 0.4, 0.08571428571428572, 0.5142857142857142], [0.2553191489361702, 0.2127659574468085, 0.5319148936170213, 0.5714285714285714, 0.0, 0.4285714285714286], [0.2647058823529412, 0.08823529411764706, 0.6470588235294117, 0.4444444444444444, 0.0, 0.5555555555555556], [0.3, 0.1, 0.6, 0.2631578947368421, 0.15789473684210525, 0.5789473684210527], [0.34615384615384615, 0.11538461538461539, 0.5384615384615384, 0.42105263157894735, 0.05263157894736842, 0.5263157894736843], [0.28, 0.08, 0.64, 0.5625, 0.0, 0.4375], [0.42857142857142855, 0.14285714285714285, 0.4285714285714286, 0.5833333333333334, 0.08333333333333333, 0.33333333333333337], [0.08333333333333333, 0.0, 0.9166666666666666, 0.11764705882352941, 0.0, 0.8823529411764706], [0.0, 0.0, 1.0, 0.0, 0.0, 1.0], [0.375, 0.125, 0.5, 0.25, 0.0, 0.75], [0.2, 0.0, 0.8, 0.25, 0.0, 0.75], [0.5, 0.0, 0.5, 0.0, 0.0, 1.0]], [[0.06995884773662552, 0.8641975308641975, 0.06584362139917699, 0.4166666666666667, 0.4351851851851852, 0.14814814814814814], [0.08264462809917356, 0.8223140495867769, 0.0950413223140496, 0.5942028985507246, 0.2753623188405797, 0.13043478260869568], [0.08968609865470852, 0.8430493273542601, 0.06726457399103136, 0.5194805194805194, 0.35064935064935066, 0.1298701298701299], [0.10648148148148148, 0.8101851851851852, 0.08333333333333337, 0.5185185185185185, 0.37037037037037035, 0.11111111111111116], [0.07009345794392523, 0.8364485981308412, 0.09345794392523366, 0.42028985507246375, 0.4927536231884058, 0.08695652173913049], [0.10270270270270271, 0.7621621621621621, 0.1351351351351351, 0.4722222222222222, 0.4444444444444444, 0.08333333333333337], [0.0736196319018405, 0.8159509202453987, 0.11042944785276076, 0.47761194029850745, 0.34328358208955223, 0.17910447761194026], [0.095, 0.81, 0.09499999999999997, 0.546875, 0.328125, 0.125], [0.019736842105263157, 0.8947368421052632, 0.08552631578947367, 0.5945945945945946, 0.24324324324324326, 0.16216216216216217], [0.06086956521739131, 0.8434782608695652, 0.09565217391304348, 0.7, 0.1, 0.19999999999999996], [0.07777777777777778, 0.7777777777777778, 0.1444444444444445, 0.7727272727272727, 0.09090909090909091, 0.13636363636363635], [0.04819277108433735, 0.8674698795180723, 0.08433734939759041, 0.9, 0.0, 0.09999999999999998], [0.04411764705882353, 0.8529411764705882, 0.1029411764705882, 0.625, 0.0, 0.375], [0.06666666666666667, 0.7777777777777778, 0.15555555555555556, 0.6666666666666666, 0.1111111111111111, 0.2222222222222222], [0.06060606060606061, 0.9090909090909091, 0.030303030303030276, 0.8333333333333334, 0.0, 0.16666666666666663], [0.1, 0.8, 0.09999999999999998, 0.7, 0.05, 0.25], [0.034482758620689655, 0.7931034482758621, 0.1724137931034483, 0.7037037037037037, 0.037037037037037035, 0.2592592592592593], [0.0, 0.711864406779661, 0.288135593220339, 0.7586206896551724, 0.0, 0.24137931034482762], [0.02127659574468085, 0.723404255319149, 0.25531914893617025, 0.8076923076923077, 0.0, 0.1923076923076923], [0.041666666666666664, 0.8333333333333334, 0.125, 0.7307692307692307, 0.07692307692307693, 0.1923076923076923], [0.05263157894736842, 0.631578947368421, 0.3157894736842105, 0.6842105263157895, 0.05263157894736842, 0.26315789473684215], [0.0, 0.84, 0.16000000000000003, 0.8947368421052632, 0.0, 0.10526315789473684], [0.0, 0.6, 0.4, 0.5789473684210527, 0.0, 0.42105263157894735], [0.0, 0.7272727272727273, 0.2727272727272727, 0.6363636363636364, 0.0, 0.36363636363636365], [0.0, 0.7647058823529411, 0.23529411764705888, 0.5, 0.0, 0.5], [0.21428571428571427, 0.35714285714285715, 0.4285714285714286, 0.6666666666666666, 0.0, 0.33333333333333337], [0.2, 0.4, 0.4, 0.5, 0.0, 0.5], [0.25, 0.5, 0.25, 0.5714285714285714, 0.0, 0.4285714285714286], [0.16666666666666666, 0.3333333333333333, 0.5, 0.0, 0.0, 1.0], [0.0, 0.3333333333333333, 0.6666666666666667, 0.6, 0.0, 0.4], [-1, -1, -1, 0.6666666666666666, 0.0, 0.33333333333333337]], [[0.022388059701492536, 0.8880597014925373, 0.08955223880597019, 0.8596491228070176, 0.05263157894736842, 0.08771929824561409], [0.024, 0.896, 0.07999999999999996, 0.7846153846153846, 0.03076923076923077, 0.18461538461538463], [0.0299625468164794, 0.898876404494382, 0.07116104868913853, 0.8548387096774194, 0.016129032258064516, 0.12903225806451613], [0.032407407407407406, 0.8796296296296297, 0.08796296296296291, 0.9076923076923077, 0.0, 0.09230769230769231], [0.023255813953488372, 0.8930232558139535, 0.08372093023255811, 0.8153846153846154, 0.06153846153846154, 0.12307692307692308], [0.021551724137931036, 0.9094827586206896, 0.06896551724137934, 0.8709677419354839, 0.04838709677419355, 0.08064516129032262], [0.00980392156862745, 0.8578431372549019, 0.13235294117647056, 0.7678571428571429, 0.03571428571428571, 0.1964285714285714], [0.03684210526315789, 0.8473684210526315, 0.11578947368421055, 0.8703703703703703, 0.018518518518518517, 0.11111111111111116], [0.022857142857142857, 0.8628571428571429, 0.11428571428571432, 0.8148148148148148, 0.0, 0.18518518518518523], [0.03763440860215054, 0.8978494623655914, 0.06451612903225812, 0.8888888888888888, 0.0, 0.11111111111111116], [0.04516129032258064, 0.832258064516129, 0.1225806451612903, 0.8717948717948718, 0.02564102564102564, 0.10256410256410253], [0.03355704697986577, 0.8590604026845637, 0.10738255033557043, 0.85, 0.0, 0.15000000000000002], [0.03731343283582089, 0.8656716417910447, 0.09701492537313428, 0.8205128205128205, 0.0, 0.17948717948717952], [0.046357615894039736, 0.7814569536423841, 0.17218543046357615, 0.85, 0.0, 0.15000000000000002], [0.045454545454545456, 0.8106060606060606, 0.14393939393939392, 0.7692307692307693, 0.0, 0.23076923076923073], [0.034782608695652174, 0.808695652173913, 0.15652173913043477, 0.8235294117647058, 0.058823529411764705, 0.11764705882352944], [0.043859649122807015, 0.7982456140350878, 0.1578947368421053, 0.8809523809523809, 0.0, 0.11904761904761907], [0.043478260869565216, 0.7536231884057971, 0.2028985507246377, 0.7441860465116279, 0.023255813953488372, 0.2325581395348837], [0.09210526315789473, 0.7368421052631579, 0.17105263157894735, 0.7368421052631579, 0.0, 0.26315789473684215], [0.04, 0.8133333333333334, 0.1466666666666666, 0.7894736842105263, 0.02631578947368421, 0.1842105263157895], [0.17307692307692307, 0.5576923076923077, 0.2692307692307693, 0.6111111111111112, 0.0, 0.38888888888888884], [0.0847457627118644, 0.6610169491525424, 0.2542372881355932, 0.8620689655172413, 0.0, 0.13793103448275867], [0.11428571428571428, 0.8, 0.08571428571428574, 0.6296296296296297, 0.037037037037037035, 0.33333333333333337], [0.0, 0.5172413793103449, 0.48275862068965514, 0.6129032258064516, 0.0, 0.3870967741935484], [0.06666666666666667, 0.6666666666666666, 0.2666666666666667, 0.6, 0.0, 0.4], [0.0, 0.7647058823529411, 0.23529411764705888, 0.7333333333333333, 0.0, 0.2666666666666667], [0.1875, 0.4375, 0.375, 0.3333333333333333, 0.0, 0.6666666666666667], [0.0, 0.7142857142857143, 0.2857142857142857, 0.5555555555555556, 0.0, 0.4444444444444444], [0.0, 0.8333333333333334, 0.16666666666666663, 0.4375, 0.0, 0.5625], [0.0, 0.625, 0.375, 0.45454545454545453, 0.0, 0.5454545454545454], [0.0, 0.3333333333333333, 0.6666666666666667, 0.6666666666666666, 0.0, 0.33333333333333337]], [[0.03571428571428571, 0.8785714285714286, 0.08571428571428574, 0.8125, 0.03125, 0.15625], [0.03076923076923077, 0.9076923076923077, 0.06153846153846154, 0.9454545454545454, 0.0, 0.054545454545454564], [0.040160642570281124, 0.8514056224899599, 0.10843373493975905, 0.8571428571428571, 0.0, 0.1428571428571429], [0.03333333333333333, 0.875, 0.09166666666666667, 0.8636363636363636, 0.030303030303030304, 0.10606060606060608], [0.01646090534979424, 0.8477366255144033, 0.13580246913580252, 0.8055555555555556, 0.027777777777777776, 0.16666666666666663], [0.05263157894736842, 0.8708133971291866, 0.07655502392344493, 0.7777777777777778, 0.0, 0.2222222222222222], [0.03125, 0.8958333333333334, 0.07291666666666663, 0.9230769230769231, 0.019230769230769232, 0.05769230769230771], [0.037209302325581395, 0.8418604651162791, 0.1209302325581395, 0.7887323943661971, 0.04225352112676056, 0.16901408450704225], [0.030612244897959183, 0.8775510204081632, 0.09183673469387754, 0.7872340425531915, 0.0, 0.21276595744680848], [0.0457516339869281, 0.8758169934640523, 0.07843137254901966, 0.6984126984126984, 0.031746031746031744, 0.2698412698412699], [0.030303030303030304, 0.8606060606060606, 0.10909090909090913, 0.76, 0.02, 0.21999999999999997], [0.031446540880503145, 0.8301886792452831, 0.1383647798742138, 0.7647058823529411, 0.0, 0.23529411764705888], [0.039735099337748346, 0.8013245033112583, 0.1589403973509934, 0.8888888888888888, 0.044444444444444446, 0.06666666666666665], [0.06504065040650407, 0.7479674796747967, 0.1869918699186992, 0.7777777777777778, 0.08333333333333333, 0.13888888888888884], [0.06976744186046512, 0.7906976744186046, 0.13953488372093026, 0.8421052631578947, 0.02631578947368421, 0.13157894736842102], [0.03418803418803419, 0.8034188034188035, 0.16239316239316237, 0.6666666666666666, 0.027777777777777776, 0.3055555555555556], [0.0625, 0.7321428571428571, 0.2053571428571429, 0.6875, 0.0, 0.3125], [0.03225806451612903, 0.7849462365591398, 0.18279569892473113, 0.6363636363636364, 0.0, 0.36363636363636365], [0.06818181818181818, 0.7159090909090909, 0.21590909090909094, 0.8235294117647058, 0.029411764705882353, 0.1470588235294118], [0.015625, 0.75, 0.234375, 0.7647058823529411, 0.0, 0.23529411764705888], [0.08333333333333333, 0.6875, 0.22916666666666663, 0.7105263157894737, 0.02631578947368421, 0.26315789473684215], [0.19047619047619047, 0.5555555555555556, 0.25396825396825395, 0.7714285714285715, 0.0, 0.22857142857142854], [0.0, 0.6551724137931034, 0.3448275862068966, 0.65625, 0.0, 0.34375], [0.15, 0.6, 0.25, 0.59375, 0.0, 0.40625], [0.03225806451612903, 0.45161290322580644, 0.5161290322580645, 0.52, 0.04, 0.43999999999999995], [0.125, 0.625, 0.25, 0.375, 0.0, 0.625], [0.0, 0.36363636363636365, 0.6363636363636364, 0.43478260869565216, 0.0, 0.5652173913043479], [0.0, 0.4375, 0.5625, 0.45454545454545453, 0.0, 0.5454545454545454], [0.16666666666666666, 0.5, 0.33333333333333337, 0.5, 0.0, 0.5], [0.16666666666666666, 0.0, 0.8333333333333334, 0.5, 0.0, 0.5], [0.2, 0.2, 0.6, 0.5, 0.0, 0.5]], [[0.02666666666666667, 0.9, 0.07333333333333336, 0.8108108108108109, 0.0, 0.18918918918918914], [0.008695652173913044, 0.9043478260869565, 0.08695652173913049, 0.8461538461538461, 0.0, 0.15384615384615385], [0.013422818791946308, 0.9194630872483222, 0.06711409395973156, 0.8108108108108109, 0.10810810810810811, 0.08108108108108103], [0.05185185185185185, 0.9111111111111111, 0.03703703703703709, 0.8918918918918919, 0.0, 0.10810810810810811], [0.03225806451612903, 0.8525345622119815, 0.11520737327188935, 0.8701298701298701, 0.03896103896103896, 0.09090909090909094], [0.034934497816593885, 0.8864628820960698, 0.0786026200873362, 0.8405797101449275, 0.028985507246376812, 0.13043478260869568], [0.004545454545454545, 0.8772727272727273, 0.11818181818181817, 0.8805970149253731, 0.014925373134328358, 0.10447761194029848], [0.025906735751295335, 0.8808290155440415, 0.09326424870466321, 0.8529411764705882, 0.04411764705882353, 0.1029411764705882], [0.029556650246305417, 0.8669950738916257, 0.10344827586206895, 0.8939393939393939, 0.0, 0.10606060606060608], [0.014778325123152709, 0.896551724137931, 0.08866995073891626, 0.7962962962962963, 0.037037037037037035, 0.16666666666666663], [0.027932960893854747, 0.888268156424581, 0.08379888268156421, 0.7619047619047619, 0.031746031746031744, 0.2063492063492064], [0.043209876543209874, 0.845679012345679, 0.11111111111111116, 0.7647058823529411, 0.0392156862745098, 0.196078431372549], [0.04316546762589928, 0.8489208633093526, 0.1079136690647482, 0.803921568627451, 0.0392156862745098, 0.1568627450980392], [0.014285714285714285, 0.8428571428571429, 0.1428571428571429, 0.8837209302325582, 0.0, 0.11627906976744184], [0.04285714285714286, 0.8785714285714286, 0.07857142857142863, 0.8260869565217391, 0.021739130434782608, 0.15217391304347827], [0.018518518518518517, 0.8611111111111112, 0.12037037037037035, 0.8604651162790697, 0.046511627906976744, 0.09302325581395354], [0.05434782608695652, 0.7934782608695652, 0.15217391304347827, 0.7948717948717948, 0.05128205128205128, 0.15384615384615385], [0.041666666666666664, 0.7604166666666666, 0.19791666666666663, 0.7872340425531915, 0.0, 0.21276595744680848], [0.04081632653061224, 0.7244897959183674, 0.23469387755102045, 0.8148148148148148, 0.0, 0.18518518518518523], [0.1, 0.725, 0.17500000000000004, 0.78125, 0.0, 0.21875], [0.05405405405405406, 0.7972972972972973, 0.14864864864864868, 0.7352941176470589, 0.029411764705882353, 0.23529411764705888], [0.07407407407407407, 0.6481481481481481, 0.2777777777777778, 0.8055555555555556, 0.0, 0.19444444444444442], [0.08108108108108109, 0.7027027027027027, 0.21621621621621623, 0.7391304347826086, 0.0, 0.26086956521739135], [0.13157894736842105, 0.5526315789473685, 0.3157894736842105, 0.7727272727272727, 0.0, 0.2272727272727273], [0.125, 0.625, 0.25, 0.7894736842105263, 0.0, 0.21052631578947367], [0.09090909090909091, 0.5909090909090909, 0.31818181818181823, 0.6538461538461539, 0.0, 0.34615384615384615], [0.0, 0.6842105263157895, 0.3157894736842105, 0.5789473684210527, 0.0, 0.42105263157894735], [0.0, 0.7, 0.30000000000000004, 0.45454545454545453, 0.0, 0.5454545454545454], [0.16666666666666666, 0.5, 0.33333333333333337, 0.3333333333333333, 0.0, 0.6666666666666667], [0.0, 0.2857142857142857, 0.7142857142857143, 0.45454545454545453, 0.0, 0.5454545454545454], [0.0, 0.0, 1.0, 0.8, 0.0, 0.19999999999999996]], [[0.005952380952380952, 0.9107142857142857, 0.08333333333333337, 0.8055555555555556, 0.08333333333333333, 0.11111111111111116], [0.03125, 0.8671875, 0.1015625, 0.8285714285714286, 0.11428571428571428, 0.05714285714285716], [0.023622047244094488, 0.8818897637795275, 0.09448818897637801, 0.875, 0.025, 0.09999999999999998], [0.05042016806722689, 0.8403361344537815, 0.10924369747899154, 0.7619047619047619, 0.07142857142857142, 0.16666666666666663], [0.03597122302158273, 0.8633093525179856, 0.1007194244604317, 0.8333333333333334, 0.03333333333333333, 0.1333333333333333], [0.029411764705882353, 0.8647058823529412, 0.10588235294117643, 0.8727272727272727, 0.05454545454545454, 0.07272727272727275], [0.03619909502262444, 0.8687782805429864, 0.09502262443438914, 0.8354430379746836, 0.0379746835443038, 0.12658227848101267], [0.03015075376884422, 0.8040201005025126, 0.16582914572864327, 0.8, 0.02857142857142857, 0.17142857142857137], [0.015706806282722512, 0.8900523560209425, 0.09424083769633507, 0.7692307692307693, 0.015384615384615385, 0.2153846153846154], [0.029239766081871343, 0.8128654970760234, 0.1578947368421053, 0.8636363636363636, 0.045454545454545456, 0.09090909090909094], [0.031914893617021274, 0.8351063829787234, 0.13297872340425532, 0.7833333333333333, 0.016666666666666666, 0.19999999999999996], [0.021739130434782608, 0.8097826086956522, 0.1684782608695652, 0.8360655737704918, 0.03278688524590164, 0.1311475409836066], [0.024096385542168676, 0.8433734939759037, 0.1325301204819277, 0.7551020408163265, 0.02040816326530612, 0.22448979591836737], [0.05384615384615385, 0.8153846153846154, 0.13076923076923075, 0.75, 0.0, 0.25], [0.0703125, 0.78125, 0.1484375, 0.68, 0.0, 0.31999999999999995], [0.04065040650406504, 0.7235772357723578, 0.2357723577235772, 0.7454545454545455, 0.01818181818181818, 0.23636363636363633], [0.02631578947368421, 0.7456140350877193, 0.22807017543859653, 0.8055555555555556, 0.0, 0.19444444444444442], [0.049019607843137254, 0.7352941176470589, 0.21568627450980393, 0.7631578947368421, 0.02631578947368421, 0.21052631578947367], [0.0684931506849315, 0.7397260273972602, 0.1917808219178082, 0.7368421052631579, 0.0, 0.26315789473684215], [0.0625, 0.675, 0.26249999999999996, 0.7428571428571429, 0.0, 0.2571428571428571], [0.03125, 0.765625, 0.203125, 0.6428571428571429, 0.0, 0.3571428571428571], [0.06557377049180328, 0.6885245901639344, 0.24590163934426235, 0.7105263157894737, 0.0, 0.2894736842105263], [0.12280701754385964, 0.6666666666666666, 0.21052631578947367, 0.5, 0.0, 0.5], [0.21428571428571427, 0.39285714285714285, 0.3928571428571429, 0.6774193548387096, 0.0, 0.32258064516129037], [0.038461538461538464, 0.5769230769230769, 0.3846153846153846, 0.6521739130434783, 0.0, 0.34782608695652173], [0.0, 0.55, 0.44999999999999996, 0.7272727272727273, 0.0, 0.2727272727272727], [0.11764705882352941, 0.4117647058823529, 0.47058823529411764, 0.4090909090909091, 0.0, 0.5909090909090908], [0.0, 0.6, 0.4, 0.5, 0.0, 0.5], [0.0, 0.4166666666666667, 0.5833333333333333, 0.4, 0.0, 0.6], [0.16666666666666666, 0.8333333333333334, 0.0, 0.6666666666666666, 0.0, 0.33333333333333337], [0.0, 1.0, 0.0, 0.5, 0.0, 0.5]], [[0.02976190476190476, 0.875, 0.09523809523809523, 0.8088235294117647, 0.0, 0.19117647058823528], [0.024242424242424242, 0.8424242424242424, 0.1333333333333333, 0.7045454545454546, 0.06818181818181818, 0.2272727272727273], [0.018072289156626505, 0.9096385542168675, 0.07228915662650603, 0.7317073170731707, 0.0975609756097561, 0.1707317073170732], [0.05357142857142857, 0.8035714285714286, 0.1428571428571429, 0.8181818181818182, 0.09090909090909091, 0.09090909090909094], [0.017241379310344827, 0.8103448275862069, 0.1724137931034483, 0.868421052631579, 0.02631578947368421, 0.10526315789473684], [0.0, 0.8857142857142857, 0.11428571428571432, 0.75, 0.075, 0.17500000000000004], [0.01652892561983471, 0.8429752066115702, 0.14049586776859502, 0.8484848484848485, 0.030303030303030304, 0.12121212121212122], [0.011111111111111112, 0.9, 0.0888888888888889, 0.75, 0.017857142857142856, 0.2321428571428571], [0.02127659574468085, 0.8351063829787234, 0.1436170212765957, 0.7307692307692307, 0.0641025641025641, 0.20512820512820518], [0.01875, 0.86875, 0.11250000000000004, 0.7230769230769231, 0.0, 0.27692307692307694], [0.06629834254143646, 0.8121546961325967, 0.12154696132596687, 0.7959183673469388, 0.02040816326530612, 0.18367346938775508], [0.05333333333333334, 0.78, 0.16666666666666663, 0.6666666666666666, 0.0, 0.33333333333333337], [0.041379310344827586, 0.8344827586206897, 0.12413793103448278, 0.78, 0.0, 0.21999999999999997], [0.024844720496894408, 0.8198757763975155, 0.15527950310559002, 0.7586206896551724, 0.0, 0.24137931034482762], [0.056338028169014086, 0.795774647887324, 0.147887323943662, 0.7391304347826086, 0.0, 0.26086956521739135], [0.047619047619047616, 0.7714285714285715, 0.18095238095238098, 0.7555555555555555, 0.022222222222222223, 0.2222222222222222], [0.0, 0.7623762376237624, 0.2376237623762376, 0.7333333333333333, 0.0, 0.2666666666666667], [0.1, 0.7222222222222222, 0.1777777777777778, 0.7674418604651163, 0.0, 0.2325581395348837], [0.06741573033707865, 0.6741573033707865, 0.2584269662921348, 0.7631578947368421, 0.02631578947368421, 0.21052631578947367], [0.08571428571428572, 0.6285714285714286, 0.2857142857142857, 0.5757575757575758, 0.0, 0.4242424242424242], [0.07142857142857142, 0.625, 0.3035714285714286, 0.725, 0.0, 0.275], [0.11538461538461539, 0.5192307692307693, 0.3653846153846154, 0.6538461538461539, 0.0, 0.34615384615384615], [0.07272727272727272, 0.5272727272727272, 0.4, 0.43478260869565216, 0.043478260869565216, 0.5217391304347826], [0.024390243902439025, 0.6097560975609756, 0.36585365853658536, 0.6153846153846154, 0.038461538461538464, 0.34615384615384615], [0.14285714285714285, 0.4857142857142857, 0.37142857142857144, 0.64, 0.0, 0.36], [0.06666666666666667, 0.4, 0.5333333333333333, 0.6521739130434783, 0.0, 0.34782608695652173], [0.0, 0.45454545454545453, 0.5454545454545454, 0.5789473684210527, 0.0, 0.42105263157894735], [0.0, 0.5, 0.5, 0.625, 0.0, 0.375], [0.16666666666666666, 0.16666666666666666, 0.6666666666666667, 0.75, 0.0, 0.25], [0.1111111111111111, 0.1111111111111111, 0.7777777777777778, 0.16666666666666666, 0.0, 0.8333333333333334], [0.2, 0.2, 0.6, 0.5, 0.0, 0.5]], [[0.024242424242424242, 0.8484848484848485, 0.12727272727272732, 0.7948717948717948, 0.01282051282051282, 0.1923076923076923], [0.033112582781456956, 0.8543046357615894, 0.11258278145695366, 0.7123287671232876, 0.0136986301369863, 0.273972602739726], [0.017543859649122806, 0.7777777777777778, 0.20467836257309946, 0.7627118644067796, 0.03389830508474576, 0.2033898305084746], [0.04580152671755725, 0.8015267175572519, 0.15267175572519087, 0.7, 0.08, 0.21999999999999997], [0.031446540880503145, 0.7672955974842768, 0.20125786163522008, 0.8571428571428571, 0.0, 0.1428571428571429], [0.02857142857142857, 0.8761904761904762, 0.09523809523809523, 0.6976744186046512, 0.0, 0.3023255813953488], [0.06060606060606061, 0.7878787878787878, 0.1515151515151515, 0.7631578947368421, 0.0, 0.23684210526315785], [0.0, 0.8529411764705882, 0.1470588235294118, 0.6451612903225806, 0.06451612903225806, 0.29032258064516125], [0.05172413793103448, 0.8275862068965517, 0.12068965517241381, 0.8076923076923077, 0.0, 0.1923076923076923], [0.028368794326241134, 0.8085106382978723, 0.16312056737588654, 0.6666666666666666, 0.044444444444444446, 0.28888888888888886], [0.052941176470588235, 0.8058823529411765, 0.14117647058823535, 0.5797101449275363, 0.07246376811594203, 0.34782608695652173], [0.041379310344827586, 0.7793103448275862, 0.17931034482758623, 0.7169811320754716, 0.03773584905660377, 0.24528301886792447], [0.06578947368421052, 0.6776315789473685, 0.256578947368421, 0.76, 0.0, 0.24], [0.025210084033613446, 0.8403361344537815, 0.134453781512605, 0.8571428571428571, 0.0, 0.1428571428571429], [0.007246376811594203, 0.7971014492753623, 0.19565217391304346, 0.6818181818181818, 0.0, 0.31818181818181823], [0.03333333333333333, 0.7416666666666667, 0.22499999999999998, 0.8113207547169812, 0.03773584905660377, 0.15094339622641506], [0.022556390977443608, 0.7218045112781954, 0.2556390977443609, 0.7142857142857143, 0.0, 0.2857142857142857], [0.022727272727272728, 0.7272727272727273, 0.25, 0.6818181818181818, 0.0, 0.31818181818181823], [0.0136986301369863, 0.7671232876712328, 0.2191780821917808, 0.5588235294117647, 0.0, 0.4411764705882353], [0.029850746268656716, 0.6119402985074627, 0.35820895522388063, 0.6170212765957447, 0.0, 0.3829787234042553], [0.05714285714285714, 0.6714285714285714, 0.27142857142857146, 0.5789473684210527, 0.0, 0.42105263157894735], [0.06818181818181818, 0.5909090909090909, 0.34090909090909094, 0.5, 0.0, 0.5], [0.0625, 0.65625, 0.28125, 0.5806451612903226, 0.0, 0.4193548387096774], [0.08571428571428572, 0.6285714285714286, 0.2857142857142857, 0.5769230769230769, 0.0, 0.42307692307692313], [0.034482758620689655, 0.4482758620689655, 0.5172413793103448, 0.7333333333333333, 0.0, 0.2666666666666667], [0.0, 0.52, 0.48, 0.6666666666666666, 0.0, 0.33333333333333337], [0.0, 0.4, 0.6, 0.5, 0.0, 0.5], [0.25, 0.5, 0.25, 0.7058823529411765, 0.0, 0.2941176470588235], [0.1111111111111111, 0.4444444444444444, 0.4444444444444444, 0.3333333333333333, 0.0, 0.6666666666666667], [0.0, 0.0, 1.0, 0.5, 0.0, 0.5], [0.25, 0.5, 0.25, 0.2222222222222222, 0.0, 0.7777777777777778]], [[0.01875, 0.9, 0.08125000000000004, 0.7368421052631579, 0.07894736842105263, 0.1842105263157895], [0.025157232704402517, 0.8742138364779874, 0.10062893081761004, 0.7647058823529411, 0.058823529411764705, 0.17647058823529416], [0.029197080291970802, 0.8686131386861314, 0.1021897810218978, 0.855072463768116, 0.014492753623188406, 0.13043478260869568], [0.0070921985815602835, 0.851063829787234, 0.14184397163120566, 0.8275862068965517, 0.017241379310344827, 0.15517241379310343], [0.04580152671755725, 0.8625954198473282, 0.09160305343511455, 0.8214285714285714, 0.0, 0.1785714285714286], [0.04201680672268908, 0.8487394957983193, 0.10924369747899154, 0.8108108108108109, 0.02702702702702703, 0.16216216216216217], [0.008130081300813009, 0.8536585365853658, 0.1382113821138211, 0.7027027027027027, 0.02702702702702703, 0.2702702702702703], [0.031914893617021274, 0.8723404255319149, 0.0957446808510638, 0.7419354838709677, 0.06451612903225806, 0.19354838709677424], [0.0, 0.8571428571428571, 0.1428571428571429, 0.7333333333333333, 0.06666666666666667, 0.19999999999999996], [0.043010752688172046, 0.8924731182795699, 0.06451612903225812, 0.8214285714285714, 0.0, 0.1785714285714286], [0.05952380952380952, 0.8452380952380952, 0.09523809523809523, 0.8518518518518519, 0.037037037037037035, 0.11111111111111116], [0.030303030303030304, 0.8257575757575758, 0.14393939393939392, 0.7878787878787878, 0.0, 0.21212121212121215], [0.05223880597014925, 0.8208955223880597, 0.12686567164179108, 0.7843137254901961, 0.0196078431372549, 0.196078431372549], [0.03787878787878788, 0.803030303030303, 0.15909090909090906, 0.7647058823529411, 0.0, 0.23529411764705888], [0.04807692307692308, 0.7692307692307693, 0.1826923076923077, 0.7916666666666666, 0.020833333333333332, 0.1875], [0.041237113402061855, 0.7525773195876289, 0.20618556701030932, 0.631578947368421, 0.0, 0.368421052631579], [0.04504504504504504, 0.7387387387387387, 0.21621621621621623, 0.6666666666666666, 0.027777777777777776, 0.3055555555555556], [0.027777777777777776, 0.6759259259259259, 0.2962962962962963, 0.7045454545454546, 0.0, 0.2954545454545454], [0.03571428571428571, 0.7857142857142857, 0.1785714285714286, 0.575, 0.075, 0.35], [0.057971014492753624, 0.6231884057971014, 0.3188405797101449, 0.6129032258064516, 0.0, 0.3870967741935484], [0.07017543859649122, 0.7017543859649122, 0.22807017543859653, 0.46153846153846156, 0.038461538461538464, 0.5], [0.11627906976744186, 0.5348837209302325, 0.34883720930232553, 0.75, 0.0, 0.25], [0.10526315789473684, 0.5526315789473685, 0.3421052631578947, 0.6071428571428571, 0.0, 0.3928571428571429], [0.09090909090909091, 0.6060606060606061, 0.303030303030303, 0.6111111111111112, 0.05555555555555555, 0.33333333333333337], [0.043478260869565216, 0.4782608695652174, 0.4782608695652174, 0.42857142857142855, 0.0, 0.5714285714285714], [0.05, 0.5, 0.44999999999999996, 0.3333333333333333, 0.0, 0.6666666666666667], [0.0, 0.45454545454545453, 0.5454545454545454, 0.36363636363636365, 0.0, 0.6363636363636364], [0.21428571428571427, 0.2857142857142857, 0.5, 0.38461538461538464, 0.0, 0.6153846153846154], [0.09090909090909091, 0.45454545454545453, 0.4545454545454546, 0.6666666666666666, 0.0, 0.33333333333333337], [0.0, 0.0, 1.0, 0.5714285714285714, 0.0, 0.4285714285714286], [0.0, 0.6666666666666666, 0.33333333333333337, 0.5, 0.0, 0.5]]]\n"
     ]
    }
   ],
   "source": [
    "probs_total = [] # [year: 0 -> 1996 - 1998, 11 -> 2018 - 2020][age: 0 -> 65, ..., 3 -> 95][what: 0 - > 2 to 1, ..., 5 -> 1 to 0]\n",
    "\n",
    "for i in range(1996, 2020, 2): # year loop\n",
    "    prob = []\n",
    "    data_select_total = data.loc[:, ['id + pn', 'age_' + str(i), 'age_' + str(i + 2), 'hh_size_' + str(i), 'hh_size_' + str(i + 2), 'gender_' + str(i), 'gender_' + str(i + 2)]]\n",
    "    for j in range(65, 96): # age loop\n",
    "        p = []\n",
    "        denom = data_select_total[((data_select_total['age_' + str(i)] == j) & (data_select_total['hh_size_' + str(i)] == 2) & (data_select_total['gender_' + str(i)] == 'Male'))].shape[0]\n",
    "        numer1 = data_select_total[((data_select_total['age_' + str(i)] == j) & (data_select_total['hh_size_' + str(i)] == 2) & (data_select_total['hh_size_' + str(i + 2)] == 1) & (data_select_total['gender_' + str(i)] == 'Male'))].shape[0]\n",
    "        numer2 = data_select_total[((data_select_total['age_' + str(i)] == j) & (data_select_total['hh_size_' + str(i)] == 2) & (data_select_total['hh_size_' + str(i + 2)] == 2) & (data_select_total['gender_' + str(i)] == 'Male'))].shape[0]\n",
    "        if denom == 0:\n",
    "            p.extend(list(np.array([-1, -1, -1])))\n",
    "        else:\n",
    "            p.append(numer1 / denom)\n",
    "            p.append(numer2 / denom)\n",
    "            p.append(1 - ((numer1 + numer2) / denom))\n",
    "        denom = data_select_total[((data_select_total['age_' + str(i)] == j) & (data_select_total['hh_size_' + str(i)] == 1) & (data_select_total['gender_' + str(i)] == 'Male'))].shape[0]\n",
    "        numer1 = data_select_total[((data_select_total['age_' + str(i)] == j) & (data_select_total['hh_size_' + str(i)] == 1) & (data_select_total['hh_size_' + str(i + 2)] == 1) & (data_select_total['gender_' + str(i)] == 'Male'))].shape[0]\n",
    "        numer2 = data_select_total[((data_select_total['age_' + str(i)] == j) & (data_select_total['hh_size_' + str(i)] == 1) & (data_select_total['hh_size_' + str(i + 2)] == 2) & (data_select_total['gender_' + str(i)] == 'Male'))].shape[0]\n",
    "        if denom == 0:\n",
    "            p.extend(list(np.array([-1, -1, -1])))\n",
    "        else:\n",
    "            p.append(numer1 / denom)\n",
    "            p.append(numer2 / denom)\n",
    "            p.append(1 - ((numer1 + numer2) / denom))\n",
    "        prob.append(p)\n",
    "    probs_total.append(prob)\n",
    "\n",
    "print(probs_total)"
   ]
  },
  {
   "cell_type": "code",
   "execution_count": 30,
   "metadata": {},
   "outputs": [
    {
     "name": "stdout",
     "output_type": "stream",
     "text": [
      "[[0.03588768541934298, 0.8750195064267241, 0.08909280815393278, 0.7483932987822306, 0.09562510933673213, 0.1559815918810372], [0.03757206853321722, 0.864987226303605, 0.09744070516317767, 0.7844824222272221, 0.07975323131806211, 0.13576434645471577], [0.04144858791419629, 0.8564143470416951, 0.10213706504410865, 0.7708577339555737, 0.08109408113969112, 0.14804818490473512], [0.05317638726755527, 0.8416299970150299, 0.10519361571741487, 0.7796644552056894, 0.09969778001987017, 0.12063776477444037], [0.04299768486398745, 0.8426245283104574, 0.1143777868255551, 0.7337211462743715, 0.13114316657968714, 0.13513568714594118], [0.04364645337846108, 0.8508486251855244, 0.10550492143601449, 0.7101271874176953, 0.13637606178195882, 0.1534967508003459], [0.041369999881271054, 0.8230923450902758, 0.1355376550284529, 0.7281610302241631, 0.11144853514268753, 0.16039043463314942], [0.03713225391175727, 0.8164380959006002, 0.14642965018764256, 0.6417488640310075, 0.12561361818923242, 0.23263751777975994], [0.027652567069734967, 0.8250064816822694, 0.14734095124799562, 0.694928839439554, 0.10445671991029569, 0.20061444065015022], [0.05217422190652552, 0.7924215439414147, 0.15540423415205973, 0.6654970738104709, 0.09897109624382351, 0.23553182994570554], [0.06903798735856533, 0.7592167461302513, 0.17174526651118335, 0.7038553477425112, 0.07527130181374488, 0.2208733504437438], [0.04480514917257866, 0.7496233570407678, 0.20557149378665354, 0.6919406101425108, 0.06142635183507736, 0.2466330380224119], [0.040416431565997814, 0.7734467123341832, 0.1861368560998191, 0.7025217313032438, 0.042657426607006436, 0.2548208420897497], [0.05059584630578886, 0.7616216177321166, 0.1877825359620946, 0.7152729995953733, 0.0489948504654387, 0.23573214993918798], [0.07058021016621983, 0.7639539545796664, 0.1654658352541136, 0.7115936282703497, 0.03545710582323854, 0.2529492659064117], [0.0683029567066812, 0.7092811345927673, 0.22241590870055147, 0.694698167394851, 0.05150226667279099, 0.2537995659323581], [0.07417083776814608, 0.7036147772717375, 0.22221438496011636, 0.7019499894499894, 0.04148729148729149, 0.2565627190627191], [0.06471464722293091, 0.6991959789679045, 0.2360893738091647, 0.68669963563431, 0.030664810560771395, 0.28263555380491884], [0.07377034778080369, 0.6934669533082438, 0.23276269891095266, 0.692552113778894, 0.04502826250117272, 0.2624196237199334], [0.08217003992498413, 0.6901857084725266, 0.22764425160248933, 0.652198638450719, 0.04055418265944582, 0.30724717888983527], [0.09687620580152774, 0.6400108038904581, 0.2631129903080141, 0.6266789057213408, 0.03990365789144224, 0.33341743638721694], [0.09350453435673951, 0.6110514142393747, 0.2954440514038857, 0.6876666912640835, 0.013368983957219251, 0.2989643247786971], [0.1024506296781358, 0.5802406644449785, 0.31730870587688575, 0.5398872753430036, 0.05997330282227307, 0.40013942183472345], [0.12249687507915842, 0.5359625803497258, 0.3415405445711158, 0.598623801408193, 0.04006966545666236, 0.3613065331351446], [0.0976339693419057, 0.5200214972358075, 0.38234453342228675, 0.5986134555756982, 0.0036363636363636364, 0.39775018078793817], [0.11449917013158119, 0.46652494486835344, 0.41897588500006555, 0.617420557045063, 0.007575757575757575, 0.37500368537917944], [0.09642751039809863, 0.3695032580235225, 0.5340692315783787, 0.42226876718121104, 0.015584415584415584, 0.5621468172343733], [0.08513708513708514, 0.4054292929292929, 0.509433621933622, 0.4595903947508226, 0.01515151515151515, 0.5252580900976622], [0.18578971533516994, 0.4339990817263544, 0.3802112029384757, 0.4516774891774892, 0.0, 0.5483225108225108], [0.07676767676767676, 0.2898629148629149, 0.6333694083694084, 0.47348156893611437, 0.018181818181818184, 0.5083366128820674], [0.14833333333333332, 0.32333333333333336, 0.5283333333333332, 0.4505050505050505, 0.0, 0.5494949494949495]]\n"
     ]
    }
   ],
   "source": [
    "ave_probs = []\n",
    "\n",
    "for j in range(31): # age loop\n",
    "    ave_prob = []\n",
    "    for k in range(6): # state loop\n",
    "        cal = 0\n",
    "        num = 0\n",
    "        for i in range(12): # year loop\n",
    "            if probs_total[i][j][k] != -1:\n",
    "                cal = cal + probs_total[i][j][k]\n",
    "                num = num + 1\n",
    "        if num == 0:\n",
    "            ave_prob.append(0)\n",
    "        else:\n",
    "            ave_prob.append(cal / num)\n",
    "    ave_probs.append(ave_prob)\n",
    "    \n",
    "print(ave_probs)"
   ]
  },
  {
   "cell_type": "code",
   "execution_count": 31,
   "metadata": {},
   "outputs": [],
   "source": [
    "with xw.App(visible=True, add_book=False) as app:\n",
    "    app.display_alerts = False\n",
    "    app.screen_updating = False\n",
    "    wb = app.books.open('Data Output.xlsx')\n",
    "    sheet = wb.sheets('Household Size Transition')\n",
    "    sheet.range('R4:V34').value = ave_probs\n",
    "    wb.save()"
   ]
  },
  {
   "cell_type": "code",
   "execution_count": 32,
   "metadata": {},
   "outputs": [
    {
     "name": "stdout",
     "output_type": "stream",
     "text": [
      "[[[0.07727272727272727, 0.8227272727272728, 0.09999999999999998, 0.906832298136646, 0.0, 0.09316770186335399], [0.045454545454545456, 0.8181818181818182, 0.13636363636363635, 0.9090909090909091, 0.0, 0.09090909090909094], [0.11538461538461539, 0.7692307692307693, 0.11538461538461542, 0.6666666666666666, 0.0, 0.33333333333333337], [0.0, 0.9333333333333333, 0.06666666666666665, 1.0, 0.0, 0.0], [0.05263157894736842, 0.8947368421052632, 0.052631578947368474, 0.5, 0.0, 0.5], [0.0, 0.8333333333333334, 0.16666666666666663, -1, -1, -1], [0.0, 0.8571428571428571, 0.1428571428571429, -1, -1, -1], [0.0, 0.75, 0.25, -1, -1, -1], [0.0, 1.0, 0.0, -1, -1, -1], [-1, -1, -1, -1, -1, -1], [0.0, 1.0, 0.0, -1, -1, -1], [0.5, 0.5, 0.0, -1, -1, -1], [1.0, 0.0, 0.0, -1, -1, -1], [-1, -1, -1, -1, -1, -1], [-1, -1, -1, -1, -1, -1], [-1, -1, -1, -1, -1, -1], [-1, -1, -1, -1, -1, -1], [-1, -1, -1, -1, -1, -1], [-1, -1, -1, -1, -1, -1], [-1, -1, -1, -1, -1, -1], [-1, -1, -1, -1, -1, -1], [-1, -1, -1, -1, -1, -1], [-1, -1, -1, -1, -1, -1], [-1, -1, -1, -1, -1, -1], [-1, -1, -1, -1, -1, -1], [-1, -1, -1, -1, -1, -1], [-1, -1, -1, -1, -1, -1], [-1, -1, -1, -1, -1, -1], [-1, -1, -1, -1, -1, -1], [-1, -1, -1, -1, -1, -1], [-1, -1, -1, -1, -1, -1]], [[0.09333333333333334, 0.8311111111111111, 0.0755555555555556, 0.8705035971223022, 0.02158273381294964, 0.1079136690647482], [0.06422018348623854, 0.8853211009174312, 0.050458715596330306, 0.8543046357615894, 0.033112582781456956, 0.11258278145695366], [0.041666666666666664, 0.8489583333333334, 0.109375, 0.9302325581395349, 0.005813953488372093, 0.06395348837209303], [0.058823529411764705, 0.8823529411764706, 0.05882352941176472, 0.5933609958506224, 0.34439834024896265, 0.06224066390041494], [0.04, 0.88, 0.07999999999999996, 0.5630252100840336, 0.3403361344537815, 0.09663865546218486], [0.04285714285714286, 0.8714285714285714, 0.08571428571428574, 0.6330275229357798, 0.25688073394495414, 0.11009174311926606], [0.13333333333333333, 0.8166666666666667, 0.050000000000000044, 0.5657894736842105, 0.35964912280701755, 0.07456140350877194], [0.10989010989010989, 0.8131868131868132, 0.07692307692307687, 0.678391959798995, 0.23115577889447236, 0.09045226130653261], [0.11235955056179775, 0.8089887640449438, 0.0786516853932584, 0.7441860465116279, 0.14534883720930233, 0.11046511627906974], [0.12941176470588237, 0.7764705882352941, 0.09411764705882353, 0.7637362637362637, 0.15934065934065933, 0.07692307692307687], [0.1565217391304348, 0.7913043478260869, 0.05217391304347829, 0.8527131782945736, 0.031007751937984496, 0.11627906976744184], [0.10852713178294573, 0.7751937984496124, 0.11627906976744184, 0.9119496855345912, 0.0, 0.08805031446540879], [0.14285714285714285, 0.7653061224489796, 0.09183673469387754, 0.864406779661017, 0.01694915254237288, 0.11864406779661019], [0.15315315315315314, 0.7387387387387387, 0.10810810810810811, 0.8362573099415205, 0.029239766081871343, 0.13450292397660824], [0.16129032258064516, 0.6989247311827957, 0.13978494623655913, 0.9060402684563759, 0.0, 0.09395973154362414], [0.21518987341772153, 0.7088607594936709, 0.07594936708860756, 0.8580246913580247, 0.006172839506172839, 0.13580246913580252], [0.15, 0.8, 0.050000000000000044, 0.8121212121212121, 0.01818181818181818, 0.16969696969696968], [0.16279069767441862, 0.7906976744186046, 0.046511627906976716, 0.8709677419354839, 0.0, 0.12903225806451613], [0.2, 0.6, 0.19999999999999996, 0.8085106382978723, 0.0, 0.19148936170212771], [0.16666666666666666, 0.5833333333333334, 0.25, 0.8321678321678322, 0.0, 0.1678321678321678], [0.23076923076923078, 0.4358974358974359, 0.33333333333333337, 0.7615894039735099, 0.0, 0.23841059602649006], [0.16666666666666666, 0.5333333333333333, 0.30000000000000004, 0.7916666666666666, 0.0, 0.20833333333333337], [0.0, 0.8125, 0.1875, 0.7410714285714286, 0.0, 0.2589285714285714], [0.17647058823529413, 0.35294117647058826, 0.47058823529411764, 0.654320987654321, 0.0, 0.345679012345679], [0.4, 0.3, 0.30000000000000004, 0.7, 0.0, 0.30000000000000004], [0.38461538461538464, 0.15384615384615385, 0.46153846153846156, 0.8285714285714286, 0.0, 0.17142857142857137], [0.25, 0.25, 0.5, 0.578125, 0.0, 0.421875], [0.0, 1.0, 0.0, 0.6666666666666666, 0.0, 0.33333333333333337], [0.0, 0.25, 0.75, 0.7352941176470589, 0.0, 0.2647058823529411], [0.5, 0.5, 0.0, 0.5217391304347826, 0.0, 0.4782608695652174], [0.0, 1.0, 0.0, 0.4117647058823529, 0.0, 0.5882352941176471]], [[0.11428571428571428, 0.8285714285714286, 0.05714285714285716, 0.8433734939759037, 0.04216867469879518, 0.11445783132530118], [0.06829268292682927, 0.8439024390243902, 0.08780487804878045, 0.9041095890410958, 0.0410958904109589, 0.0547945205479452], [0.09900990099009901, 0.8168316831683168, 0.08415841584158412, 0.9139072847682119, 0.039735099337748346, 0.04635761589403975], [0.08333333333333333, 0.7916666666666666, 0.125, 0.8563218390804598, 0.005747126436781609, 0.13793103448275867], [0.17341040462427745, 0.7167630057803468, 0.10982658959537572, 0.5548387096774193, 0.3225806451612903, 0.1225806451612903], [0.3228346456692913, 0.6141732283464567, 0.06299212598425197, 0.5147058823529411, 0.33088235294117646, 0.15441176470588236], [0.4166666666666667, 0.525, 0.05833333333333335, 0.3900709219858156, 0.5319148936170213, 0.07801418439716312], [0.3381294964028777, 0.5611510791366906, 0.1007194244604317, 0.475177304964539, 0.3971631205673759, 0.12765957446808507], [0.453781512605042, 0.42857142857142855, 0.11764705882352944, 0.45161290322580644, 0.45161290322580644, 0.09677419354838712], [0.5288461538461539, 0.38461538461538464, 0.08653846153846156, 0.5535714285714286, 0.3392857142857143, 0.1071428571428571], [0.45918367346938777, 0.42857142857142855, 0.11224489795918369, 0.5637583892617449, 0.3221476510067114, 0.11409395973154357], [0.3939393939393939, 0.5151515151515151, 0.09090909090909094, 0.5967741935483871, 0.2661290322580645, 0.13709677419354838], [0.35353535353535354, 0.494949494949495, 0.1515151515151515, 0.6878612716763006, 0.24277456647398843, 0.06936416184971095], [0.43333333333333335, 0.4222222222222222, 0.1444444444444445, 0.689873417721519, 0.17088607594936708, 0.1392405063291139], [0.40229885057471265, 0.4482758620689655, 0.14942528735632188, 0.6071428571428571, 0.25, 0.1428571428571429], [0.4605263157894737, 0.3815789473684211, 0.1578947368421053, 0.5964912280701754, 0.2046783625730994, 0.19883040935672514], [0.4262295081967213, 0.4262295081967213, 0.14754098360655743, 0.6, 0.18620689655172415, 0.21379310344827585], [0.47619047619047616, 0.38095238095238093, 0.1428571428571429, 0.6582278481012658, 0.17088607594936708, 0.1708860759493671], [0.4444444444444444, 0.3888888888888889, 0.16666666666666663, 0.5983606557377049, 0.13114754098360656, 0.2704918032786885], [0.5384615384615384, 0.23076923076923078, 0.23076923076923073, 0.6614173228346457, 0.14173228346456693, 0.19685039370078738], [0.5, 0.3125, 0.1875, 0.46923076923076923, 0.23846153846153847, 0.29230769230769227], [0.7692307692307693, 0.15384615384615385, 0.07692307692307687, 0.5714285714285714, 0.19327731092436976, 0.23529411764705888], [0.42105263157894735, 0.3157894736842105, 0.26315789473684215, 0.6120689655172413, 0.06896551724137931, 0.31896551724137934], [0.26666666666666666, 0.3333333333333333, 0.4, 0.6022727272727273, 0.11363636363636363, 0.28409090909090906], [0.4, 0.2, 0.4, 0.6153846153846154, 0.13846153846153847, 0.24615384615384617], [0.0, 0.6, 0.4, 0.43333333333333335, 0.11666666666666667, 0.44999999999999996], [0.0, 0.5, 0.5, 0.5737704918032787, 0.13114754098360656, 0.29508196721311475], [0.5, 0.5, 0.0, 0.4406779661016949, 0.1694915254237288, 0.38983050847457623], [0.0, 0.0, 1.0, 0.36666666666666664, 0.16666666666666666, 0.4666666666666667], [1.0, 0.0, 0.0, 0.375, 0.20833333333333334, 0.41666666666666663], [0.0, 1.0, 0.0, 0.5652173913043478, 0.08695652173913043, 0.34782608695652173]], [[0.11740890688259109, 0.8421052631578947, 0.04048582995951422, 0.6792452830188679, 0.18867924528301888, 0.13207547169811318], [0.10697674418604651, 0.813953488372093, 0.07906976744186045, 0.6711409395973155, 0.2550335570469799, 0.0738255033557047], [0.19095477386934673, 0.7487437185929648, 0.06030150753768848, 0.6748466257668712, 0.2392638036809816, 0.08588957055214719], [0.13559322033898305, 0.7966101694915254, 0.06779661016949157, 0.654320987654321, 0.22839506172839505, 0.11728395061728392], [0.20588235294117646, 0.711764705882353, 0.08235294117647063, 0.6790123456790124, 0.21604938271604937, 0.1049382716049383], [0.19078947368421054, 0.7631578947368421, 0.046052631578947345, 0.6766467065868264, 0.20958083832335328, 0.11377245508982037], [0.11278195488721804, 0.5639097744360902, 0.32330827067669177, 0.40298507462686567, 0.20149253731343283, 0.3955223880597015], [0.022222222222222223, 0.17777777777777778, 0.8, 0.04716981132075472, 0.07547169811320754, 0.8773584905660378], [0.0, 0.18518518518518517, 0.8148148148148149, 0.10891089108910891, 0.019801980198019802, 0.8712871287128713], [0.008771929824561403, 0.08771929824561403, 0.9035087719298246, 0.12162162162162163, 0.08108108108108109, 0.7972972972972973], [0.01020408163265306, 0.07142857142857142, 0.9183673469387755, 0.09523809523809523, 0.1111111111111111, 0.7936507936507937], [0.020618556701030927, 0.05154639175257732, 0.9278350515463918, 0.10666666666666667, 0.16, 0.7333333333333334], [0.02830188679245283, 0.0660377358490566, 0.9056603773584906, 0.0915032679738562, 0.0718954248366013, 0.8366013071895425], [0.0449438202247191, 0.15730337078651685, 0.797752808988764, 0.25874125874125875, 0.11188811188811189, 0.6293706293706294], [0.0673076923076923, 0.4326923076923077, 0.5, 0.49624060150375937, 0.06015037593984962, 0.443609022556391], [0.07692307692307693, 0.3504273504273504, 0.5726495726495726, 0.3712574850299401, 0.08982035928143713, 0.5389221556886228], [0.1, 0.4444444444444444, 0.4555555555555556, 0.4594594594594595, 0.08783783783783784, 0.45270270270270274], [0.10256410256410256, 0.41025641025641024, 0.4871794871794872, 0.4307692307692308, 0.05384615384615385, 0.5153846153846153], [0.14705882352941177, 0.4117647058823529, 0.4411764705882353, 0.4744525547445255, 0.0948905109489051, 0.43065693430656937], [0.1568627450980392, 0.37254901960784315, 0.47058823529411764, 0.45652173913043476, 0.050724637681159424, 0.49275362318840576], [0.18181818181818182, 0.21212121212121213, 0.6060606060606061, 0.42857142857142855, 0.04081632653061224, 0.5306122448979591], [0.037037037037037035, 0.2962962962962963, 0.6666666666666667, 0.52, 0.04, 0.43999999999999995], [0.07407407407407407, 0.3333333333333333, 0.5925925925925926, 0.375, 0.06944444444444445, 0.5555555555555556], [0.13333333333333333, 0.43333333333333335, 0.43333333333333335, 0.3950617283950617, 0.037037037037037035, 0.5679012345679013], [0.09090909090909091, 0.2727272727272727, 0.6363636363636364, 0.4146341463414634, 0.012195121951219513, 0.5731707317073171], [0.045454545454545456, 0.13636363636363635, 0.8181818181818181, 0.3142857142857143, 0.02857142857142857, 0.6571428571428571], [0.08333333333333333, 0.25, 0.6666666666666667, 0.2777777777777778, 0.037037037037037035, 0.6851851851851851], [0.0, 0.45454545454545453, 0.5454545454545454, 0.40425531914893614, 0.0, 0.5957446808510638], [0.0, 0.0, 1.0, 0.46153846153846156, 0.0, 0.5384615384615384], [0.0, 0.0, 1.0, 0.2857142857142857, 0.0, 0.7142857142857143], [0.5, 0.5, 0.0, 0.3333333333333333, 0.0, 0.6666666666666667]], [[0.14112903225806453, 0.7701612903225806, 0.08870967741935487, 0.7913669064748201, 0.1366906474820144, 0.07194244604316546], [0.16299559471365638, 0.7533039647577092, 0.08370044052863435, 0.75, 0.17763157894736842, 0.07236842105263153], [0.168, 0.808, 0.02400000000000002, 0.8076923076923077, 0.15384615384615385, 0.038461538461538436], [0.2107843137254902, 0.7303921568627451, 0.05882352941176472, 0.7985074626865671, 0.1417910447761194, 0.05970149253731338], [0.25380710659898476, 0.6954314720812182, 0.050761421319796995, 0.7933333333333333, 0.12, 0.08666666666666667], [0.2235294117647059, 0.7058823529411765, 0.07058823529411762, 0.7553956834532374, 0.12949640287769784, 0.1151079136690647], [0.25903614457831325, 0.6506024096385542, 0.09036144578313254, 0.738562091503268, 0.16993464052287582, 0.09150326797385622], [0.26380368098159507, 0.6809815950920245, 0.05521472392638038, 0.7956204379562044, 0.12408759124087591, 0.08029197080291972], [0.25, 0.6875, 0.0625, 0.7910447761194029, 0.11940298507462686, 0.08955223880597019], [0.2, 0.7, 0.09999999999999998, 1.0, 0.0, 0.0], [0.21052631578947367, 0.6842105263157895, 0.10526315789473684, 0.9473684210526315, 0.0, 0.052631578947368474], [0.27586206896551724, 0.6206896551724138, 0.10344827586206895, 0.9565217391304348, 0.0, 0.04347826086956519], [0.2, 0.72, 0.07999999999999996, 0.9333333333333333, 0.0, 0.06666666666666665], [0.07692307692307693, 0.7948717948717948, 0.1282051282051282, 0.8846153846153846, 0.038461538461538464, 0.07692307692307687], [0.24, 0.76, 0.0, 0.7894736842105263, 0.0, 0.21052631578947367], [0.14285714285714285, 0.7142857142857143, 0.1428571428571429, 0.8245614035087719, 0.017543859649122806, 0.1578947368421053], [0.10526315789473684, 0.7894736842105263, 0.10526315789473684, 0.8829787234042553, 0.0, 0.11702127659574468], [0.15625, 0.75, 0.09375, 0.8148148148148148, 0.0, 0.18518518518518523], [0.13333333333333333, 0.7666666666666667, 0.09999999999999998, 0.7717391304347826, 0.010869565217391304, 0.21739130434782605], [0.17391304347826086, 0.7391304347826086, 0.08695652173913049, 0.8314606741573034, 0.0, 0.1685393258426966], [0.2631578947368421, 0.5789473684210527, 0.1578947368421053, 0.7435897435897436, 0.0, 0.2564102564102564], [0.38461538461538464, 0.5384615384615384, 0.07692307692307687, 0.6883116883116883, 0.0, 0.3116883116883117], [0.0, 0.625, 0.375, 0.8153846153846154, 0.0, 0.18461538461538463], [0.4, 0.4, 0.19999999999999996, 0.7818181818181819, 0.0, 0.21818181818181814], [0.2, 0.4, 0.4, 0.6888888888888889, 0.0, 0.3111111111111111], [0.0, 0.6666666666666666, 0.33333333333333337, 0.6190476190476191, 0.0, 0.38095238095238093], [0.5, 0.5, 0.0, 0.6808510638297872, 0.0, 0.3191489361702128], [0.5, 0.5, 0.0, 0.7575757575757576, 0.0, 0.24242424242424243], [1.0, 0.0, 0.0, 0.5333333333333333, 0.0, 0.4666666666666667], [-1, -1, -1, 0.3076923076923077, 0.0, 0.6923076923076923], [0.0, 0.0, 1.0, 0.42105263157894735, 0.0, 0.5789473684210527]], [[0.059907834101382486, 0.8617511520737328, 0.07834101382488479, 0.9367816091954023, 0.005747126436781609, 0.05747126436781613], [0.052884615384615384, 0.8701923076923077, 0.07692307692307687, 0.8941176470588236, 0.0, 0.10588235294117643], [0.050761421319796954, 0.9238578680203046, 0.025380710659898442, 0.8535031847133758, 0.01910828025477707, 0.1273885350318471], [0.058823529411764705, 0.8733031674208145, 0.0678733031674208, 0.9012345679012346, 0.012345679012345678, 0.0864197530864198], [0.037037037037037035, 0.8888888888888888, 0.07407407407407407, 0.9411764705882353, 0.0, 0.05882352941176472], [0.05202312138728324, 0.8728323699421965, 0.07514450867052025, 0.9290322580645162, 0.0, 0.07096774193548383], [0.08227848101265822, 0.8670886075949367, 0.05063291139240511, 0.9281767955801105, 0.0055248618784530384, 0.06629834254143652], [0.07692307692307693, 0.8531468531468531, 0.0699300699300699, 0.9133333333333333, 0.0, 0.08666666666666667], [0.07575757575757576, 0.8939393939393939, 0.030303030303030276, 0.8982035928143712, 0.005988023952095809, 0.09580838323353291], [0.08695652173913043, 0.8623188405797102, 0.050724637681159424, 0.9056603773584906, 0.0, 0.09433962264150941], [0.07246376811594203, 0.8623188405797102, 0.06521739130434778, 0.8695652173913043, 0.0, 0.13043478260869568], [0.10091743119266056, 0.8165137614678899, 0.08256880733944949, 0.8859649122807017, 0.0, 0.11403508771929827], [0.0707070707070707, 0.8383838383838383, 0.09090909090909094, 0.8725490196078431, 0.0, 0.12745098039215685], [0.13131313131313133, 0.7373737373737373, 0.13131313131313127, 0.8947368421052632, 0.0, 0.10526315789473684], [0.11, 0.81, 0.07999999999999996, 0.8210526315789474, 0.010526315789473684, 0.16842105263157892], [0.0975609756097561, 0.8048780487804879, 0.09756097560975607, 0.8548387096774194, 0.0, 0.14516129032258063], [0.1, 0.7428571428571429, 0.15714285714285714, 0.8347826086956521, 0.008695652173913044, 0.15652173913043477], [0.25925925925925924, 0.6111111111111112, 0.12962962962962965, 0.8347107438016529, 0.008264462809917356, 0.15702479338842978], [0.10869565217391304, 0.7608695652173914, 0.13043478260869568, 0.8111888111888111, 0.0, 0.18881118881118886], [0.225, 0.625, 0.15000000000000002, 0.8264462809917356, 0.0, 0.17355371900826444], [0.225, 0.625, 0.15000000000000002, 0.7985074626865671, 0.022388059701492536, 0.17910447761194026], [0.22727272727272727, 0.6818181818181818, 0.09090909090909094, 0.7459016393442623, 0.0, 0.25409836065573765], [0.19047619047619047, 0.6190476190476191, 0.19047619047619047, 0.7475728155339806, 0.0, 0.2524271844660194], [0.21428571428571427, 0.7142857142857143, 0.0714285714285714, 0.696078431372549, 0.0, 0.303921568627451], [0.3333333333333333, 0.3333333333333333, 0.33333333333333337, 0.7088607594936709, 0.0, 0.2911392405063291], [0.25, 0.5, 0.25, 0.6666666666666666, 0.0, 0.33333333333333337], [0.3333333333333333, 0.6666666666666666, 0.0, 0.6101694915254238, 0.0, 0.38983050847457623], [0.0, 0.5, 0.5, 0.673469387755102, 0.0, 0.326530612244898], [0.0, 1.0, 0.0, 0.58, 0.0, 0.42000000000000004], [0.0, 0.0, 1.0, 0.6578947368421053, 0.0, 0.3421052631578947], [0.0, 0.0, 1.0, 0.6071428571428571, 0.0, 0.3928571428571429]], [[0.055299539170506916, 0.8709677419354839, 0.07373271889400923, 0.9387755102040817, 0.0, 0.061224489795918324], [0.04455445544554455, 0.8712871287128713, 0.08415841584158412, 0.8972602739726028, 0.02054794520547945, 0.0821917808219178], [0.0625, 0.8229166666666666, 0.11458333333333337, 0.8784530386740331, 0.03314917127071823, 0.08839779005524862], [0.06666666666666667, 0.8256410256410256, 0.10769230769230764, 0.8579545454545454, 0.011363636363636364, 0.13068181818181823], [0.08878504672897196, 0.8411214953271028, 0.07009345794392519, 0.8597560975609756, 0.012195121951219513, 0.12804878048780488], [0.06951871657754011, 0.8502673796791443, 0.0802139037433155, 0.8834355828220859, 0.012269938650306749, 0.10429447852760731], [0.08374384236453201, 0.8571428571428571, 0.059113300492610876, 0.8545454545454545, 0.01818181818181818, 0.12727272727272732], [0.04666666666666667, 0.86, 0.09333333333333338, 0.9006211180124224, 0.0, 0.0993788819875776], [0.11888111888111888, 0.7622377622377622, 0.11888111888111885, 0.8814432989690721, 0.010309278350515464, 0.10824742268041232], [0.06299212598425197, 0.8661417322834646, 0.07086614173228345, 0.8516129032258064, 0.0064516129032258064, 0.14193548387096777], [0.09375, 0.8359375, 0.0703125, 0.8343558282208589, 0.024539877300613498, 0.14110429447852757], [0.10619469026548672, 0.7964601769911505, 0.09734513274336287, 0.8719512195121951, 0.0, 0.12804878048780488], [0.09558823529411764, 0.8235294117647058, 0.08088235294117652, 0.7801418439716312, 0.0, 0.21985815602836878], [0.09473684210526316, 0.7684210526315789, 0.13684210526315788, 0.7657657657657657, 0.0, 0.23423423423423428], [0.13924050632911392, 0.7088607594936709, 0.15189873417721522, 0.883495145631068, 0.0, 0.11650485436893199], [0.17333333333333334, 0.7466666666666667, 0.07999999999999996, 0.7941176470588235, 0.022058823529411766, 0.18382352941176472], [0.11764705882352941, 0.7529411764705882, 0.12941176470588234, 0.8555555555555555, 0.0, 0.1444444444444445], [0.14035087719298245, 0.7192982456140351, 0.14035087719298245, 0.7661290322580645, 0.008064516129032258, 0.22580645161290325], [0.08, 0.68, 0.24, 0.8301886792452831, 0.0, 0.16981132075471694], [0.16216216216216217, 0.7027027027027027, 0.1351351351351351, 0.7962962962962963, 0.0, 0.20370370370370372], [0.24324324324324326, 0.5135135135135135, 0.2432432432432432, 0.7686567164179104, 0.007462686567164179, 0.22388059701492535], [0.1111111111111111, 0.5185185185185185, 0.37037037037037035, 0.7058823529411765, 0.0, 0.2941176470588235], [0.2608695652173913, 0.391304347826087, 0.34782608695652173, 0.7563025210084033, 0.0, 0.24369747899159666], [0.2631578947368421, 0.47368421052631576, 0.26315789473684215, 0.7184466019417476, 0.0, 0.2815533980582524], [0.0, 0.42857142857142855, 0.5714285714285714, 0.5822784810126582, 0.0, 0.4177215189873418], [0.0, 0.5, 0.5, 0.6904761904761905, 0.0, 0.30952380952380953], [0.5, 0.16666666666666666, 0.33333333333333337, 0.4576271186440678, 0.0, 0.5423728813559322], [0.5, 0.5, 0.0, 0.6379310344827587, 0.0, 0.3620689655172413], [0.0, 0.0, 1.0, 0.4883720930232558, 0.0, 0.5116279069767442], [0.0, 0.0, 1.0, 0.6, 0.0, 0.4], [1.0, 0.0, 0.0, 0.5588235294117647, 0.0, 0.4411764705882353]], [[0.0392156862745098, 0.8954248366013072, 0.065359477124183, 0.8148148148148148, 0.024691358024691357, 0.16049382716049387], [0.013986013986013986, 0.951048951048951, 0.034965034965035, 0.9363636363636364, 0.00909090909090909, 0.054545454545454564], [0.03333333333333333, 0.9333333333333333, 0.033333333333333326, 0.9368421052631579, 0.010526315789473684, 0.052631578947368474], [0.04395604395604396, 0.8571428571428571, 0.09890109890109888, 0.9035087719298246, 0.0, 0.0964912280701754], [0.07017543859649122, 0.8654970760233918, 0.06432748538011701, 0.9044943820224719, 0.0056179775280898875, 0.0898876404494382], [0.045454545454545456, 0.8636363636363636, 0.09090909090909094, 0.8662790697674418, 0.023255813953488372, 0.11046511627906974], [0.07692307692307693, 0.863905325443787, 0.059171597633136064, 0.8853503184713376, 0.012738853503184714, 0.10191082802547768], [0.06451612903225806, 0.8817204301075269, 0.053763440860215006, 0.8701298701298701, 0.01948051948051948, 0.11038961038961037], [0.08928571428571429, 0.8452380952380952, 0.06547619047619047, 0.9351351351351351, 0.010810810810810811, 0.05405405405405406], [0.07692307692307693, 0.8461538461538461, 0.07692307692307687, 0.8974358974358975, 0.0, 0.10256410256410253], [0.08771929824561403, 0.8421052631578947, 0.07017543859649122, 0.8580246913580247, 0.0, 0.14197530864197527], [0.08080808080808081, 0.8080808080808081, 0.11111111111111116, 0.9127906976744186, 0.005813953488372093, 0.08139534883720934], [0.11403508771929824, 0.7982456140350878, 0.08771929824561409, 0.8516129032258064, 0.0, 0.1483870967741936], [0.11965811965811966, 0.8034188034188035, 0.07692307692307687, 0.8986486486486487, 0.0, 0.10135135135135132], [0.06521739130434782, 0.8586956521739131, 0.07608695652173914, 0.8698630136986302, 0.0, 0.13013698630136983], [0.10112359550561797, 0.797752808988764, 0.101123595505618, 0.8691588785046729, 0.0, 0.13084112149532712], [0.2153846153846154, 0.6923076923076923, 0.09230769230769231, 0.8888888888888888, 0.0, 0.11111111111111116], [0.14814814814814814, 0.7592592592592593, 0.09259259259259256, 0.8403361344537815, 0.0, 0.15966386554621848], [0.07352941176470588, 0.7205882352941176, 0.20588235294117652, 0.8148148148148148, 0.0, 0.18518518518518523], [0.10714285714285714, 0.625, 0.2678571428571429, 0.8387096774193549, 0.0, 0.16129032258064513], [0.11764705882352941, 0.7058823529411765, 0.17647058823529416, 0.8152173913043478, 0.0, 0.18478260869565222], [0.13333333333333333, 0.7, 0.16666666666666663, 0.8252427184466019, 0.0, 0.1747572815533981], [0.19230769230769232, 0.6538461538461539, 0.15384615384615385, 0.7567567567567568, 0.0, 0.2432432432432432], [0.25, 0.5, 0.25, 0.7378640776699029, 0.0, 0.2621359223300971], [0.21428571428571427, 0.5, 0.2857142857142857, 0.7126436781609196, 0.0, 0.28735632183908044], [0.4, 0.2, 0.4, 0.8, 0.0, 0.19999999999999996], [0.375, 0.25, 0.375, 0.6451612903225806, 0.0, 0.3548387096774194], [0.3333333333333333, 0.16666666666666666, 0.5, 0.6610169491525424, 0.0, 0.3389830508474576], [0.0, 1.0, 0.0, 0.7368421052631579, 0.0, 0.26315789473684215], [-1, -1, -1, 0.7142857142857143, 0.0, 0.2857142857142857], [0.0, 0.0, 1.0, 0.5882352941176471, 0.0, 0.4117647058823529]], [[0.053763440860215055, 0.8655913978494624, 0.08064516129032262, 0.9285714285714286, 0.015873015873015872, 0.05555555555555558], [0.03225806451612903, 0.8790322580645161, 0.08870967741935487, 0.963855421686747, 0.0, 0.03614457831325302], [0.062111801242236024, 0.8385093167701864, 0.0993788819875776, 0.8717948717948718, 0.02564102564102564, 0.10256410256410253], [0.04827586206896552, 0.8896551724137931, 0.06206896551724139, 0.8703703703703703, 0.037037037037037035, 0.09259259259259256], [0.03932584269662921, 0.9157303370786517, 0.0449438202247191, 0.8932038834951457, 0.019417475728155338, 0.08737864077669899], [0.07272727272727272, 0.8, 0.12727272727272732, 0.9115646258503401, 0.006802721088435374, 0.08163265306122447], [0.055865921787709494, 0.8379888268156425, 0.1061452513966481, 0.8595505617977528, 0.0, 0.1404494382022472], [0.059602649006622516, 0.8609271523178808, 0.07947019867549665, 0.901840490797546, 0.012269938650306749, 0.08588957055214719], [0.1, 0.79375, 0.10624999999999996, 0.9285714285714286, 0.0, 0.0714285714285714], [0.10778443113772455, 0.8323353293413174, 0.05988023952095811, 0.844311377245509, 0.017964071856287425, 0.13772455089820357], [0.07236842105263158, 0.8223684210526315, 0.10526315789473684, 0.8648648648648649, 0.005405405405405406, 0.12972972972972974], [0.13846153846153847, 0.7461538461538462, 0.11538461538461542, 0.8838709677419355, 0.0, 0.11612903225806448], [0.11827956989247312, 0.7526881720430108, 0.12903225806451613, 0.847953216374269, 0.005847953216374269, 0.14619883040935677], [0.14705882352941177, 0.7745098039215687, 0.07843137254901966, 0.8733333333333333, 0.0, 0.1266666666666667], [0.1375, 0.7, 0.16249999999999998, 0.8470588235294118, 0.0, 0.15294117647058825], [0.13636363636363635, 0.6477272727272727, 0.21590909090909094, 0.8758620689655172, 0.006896551724137931, 0.11724137931034484], [0.1686746987951807, 0.7590361445783133, 0.07228915662650603, 0.8632478632478633, 0.017094017094017096, 0.11965811965811968], [0.1323529411764706, 0.6617647058823529, 0.20588235294117652, 0.8365384615384616, 0.019230769230769232, 0.14423076923076927], [0.19148936170212766, 0.6808510638297872, 0.12765957446808507, 0.7787610619469026, 0.0, 0.22123893805309736], [0.20408163265306123, 0.6530612244897959, 0.1428571428571429, 0.7596153846153846, 0.0, 0.24038461538461542], [0.08695652173913043, 0.7391304347826086, 0.17391304347826086, 0.8958333333333334, 0.010416666666666666, 0.09375], [0.1875, 0.65625, 0.15625, 0.7848101265822784, 0.0, 0.21518987341772156], [0.28, 0.48, 0.24, 0.6304347826086957, 0.0, 0.3695652173913043], [0.17391304347826086, 0.5217391304347826, 0.30434782608695654, 0.7816091954022989, 0.0, 0.2183908045977011], [0.25, 0.5, 0.25, 0.7604166666666666, 0.0, 0.23958333333333337], [0.3333333333333333, 0.3333333333333333, 0.33333333333333337, 0.6933333333333334, 0.0, 0.30666666666666664], [0.16666666666666666, 0.6666666666666666, 0.16666666666666663, 0.6164383561643836, 0.0, 0.3835616438356164], [0.0, 1.0, 0.0, 0.7540983606557377, 0.0, 0.24590163934426235], [0.6666666666666666, 0.0, 0.33333333333333337, 0.7297297297297297, 0.0, 0.2702702702702703], [0.0, 0.0, 1.0, 0.6086956521739131, 0.021739130434782608, 0.3695652173913043], [-1, -1, -1, 0.5925925925925926, 0.0, 0.40740740740740744]], [[0.037037037037037035, 0.8677248677248677, 0.09523809523809523, 0.8662420382165605, 0.012738853503184714, 0.12101910828025475], [0.03680981595092025, 0.852760736196319, 0.11042944785276076, 0.8782608695652174, 0.017391304347826087, 0.10434782608695647], [0.06748466257668712, 0.7914110429447853, 0.14110429447852757, 0.904, 0.016, 0.07999999999999996], [0.0380952380952381, 0.8380952380952381, 0.12380952380952381, 0.8292682926829268, 0.06097560975609756, 0.1097560975609756], [0.10135135135135136, 0.8175675675675675, 0.08108108108108103, 0.8876404494382022, 0.011235955056179775, 0.101123595505618], [0.06870229007633588, 0.8473282442748091, 0.08396946564885499, 0.8411214953271028, 0.009345794392523364, 0.14953271028037385], [0.09248554913294797, 0.7976878612716763, 0.10982658959537572, 0.8269230769230769, 0.009615384615384616, 0.16346153846153844], [0.03546099290780142, 0.7943262411347518, 0.17021276595744683, 0.8343949044585988, 0.01910828025477707, 0.14649681528662417], [0.06993006993006994, 0.8601398601398601, 0.0699300699300699, 0.9085365853658537, 0.018292682926829267, 0.07317073170731703], [0.07801418439716312, 0.7943262411347518, 0.12765957446808507, 0.9005847953216374, 0.005847953216374269, 0.0935672514619883], [0.08695652173913043, 0.7608695652173914, 0.15217391304347827, 0.8227848101265823, 0.006329113924050633, 0.1708860759493671], [0.13846153846153847, 0.7307692307692307, 0.13076923076923075, 0.8068181818181818, 0.005681818181818182, 0.1875], [0.09230769230769231, 0.8076923076923077, 0.09999999999999998, 0.7735849056603774, 0.012578616352201259, 0.21383647798742134], [0.07291666666666667, 0.8020833333333334, 0.125, 0.7843137254901961, 0.013071895424836602, 0.20261437908496727], [0.12, 0.7333333333333333, 0.1466666666666666, 0.8630952380952381, 0.005952380952380952, 0.13095238095238093], [0.22972972972972974, 0.6216216216216216, 0.14864864864864868, 0.7372262773722628, 0.0, 0.26277372262773724], [0.13793103448275862, 0.7068965517241379, 0.15517241379310343, 0.7865853658536586, 0.0, 0.21341463414634143], [0.15, 0.65, 0.19999999999999996, 0.7746478873239436, 0.0, 0.22535211267605637], [0.14516129032258066, 0.5645161290322581, 0.29032258064516125, 0.792, 0.0, 0.20799999999999996], [0.23076923076923078, 0.5769230769230769, 0.1923076923076923, 0.717391304347826, 0.0, 0.28260869565217395], [0.2222222222222222, 0.6296296296296297, 0.14814814814814814, 0.7157894736842105, 0.0, 0.28421052631578947], [0.21212121212121213, 0.48484848484848486, 0.303030303030303, 0.7319587628865979, 0.0, 0.2680412371134021], [0.17647058823529413, 0.6764705882352942, 0.1470588235294118, 0.7045454545454546, 0.0, 0.2954545454545454], [0.35, 0.2, 0.44999999999999996, 0.6585365853658537, 0.0, 0.3414634146341463], [0.21428571428571427, 0.2857142857142857, 0.5, 0.5833333333333334, 0.016666666666666666, 0.4], [0.3, 0.5, 0.19999999999999996, 0.6756756756756757, 0.0, 0.32432432432432434], [0.2857142857142857, 0.2857142857142857, 0.4285714285714286, 0.5555555555555556, 0.0, 0.4444444444444444], [1.0, 0.0, 0.0, 0.4727272727272727, 0.0, 0.5272727272727273], [0.3333333333333333, 0.3333333333333333, 0.33333333333333337, 0.631578947368421, 0.0, 0.368421052631579], [0.5, 0.0, 0.5, 0.45, 0.0, 0.55], [0.0, 0.0, 1.0, 0.5862068965517241, 0.0, 0.4137931034482759]], [[0.012422360248447204, 0.8633540372670807, 0.12422360248447206, 0.7903225806451613, 0.026881720430107527, 0.18279569892473113], [0.043209876543209874, 0.8271604938271605, 0.12962962962962965, 0.8066298342541437, 0.011049723756906077, 0.18232044198895025], [0.05142857142857143, 0.84, 0.10857142857142854, 0.7707006369426752, 0.012738853503184714, 0.21656050955414008], [0.04697986577181208, 0.8187919463087249, 0.13422818791946312, 0.8245614035087719, 0.008771929824561403, 0.16666666666666663], [0.0, 0.8294573643410853, 0.1705426356589147, 0.7028985507246377, 0.0, 0.2971014492753623], [0.04504504504504504, 0.8288288288288288, 0.12612612612612617, 0.7011494252873564, 0.011494252873563218, 0.28735632183908044], [0.04032258064516129, 0.8467741935483871, 0.11290322580645162, 0.7710843373493976, 0.0, 0.22891566265060237], [0.027777777777777776, 0.7962962962962963, 0.17592592592592593, 0.8504672897196262, 0.0, 0.14953271028037385], [0.08088235294117647, 0.8235294117647058, 0.09558823529411764, 0.8380952380952381, 0.009523809523809525, 0.1523809523809524], [0.0873015873015873, 0.7301587301587301, 0.18253968253968256, 0.8211920529801324, 0.019867549668874173, 0.1589403973509934], [0.09836065573770492, 0.7540983606557377, 0.14754098360655743, 0.7342657342657343, 0.02097902097902098, 0.2447552447552448], [0.040983606557377046, 0.7049180327868853, 0.25409836065573765, 0.8544303797468354, 0.0, 0.14556962025316456], [0.04081632653061224, 0.8061224489795918, 0.15306122448979587, 0.7814569536423841, 0.013245033112582781, 0.20529801324503316], [0.10476190476190476, 0.6952380952380952, 0.19999999999999996, 0.7707006369426752, 0.0, 0.2292993630573248], [0.1504424778761062, 0.6637168141592921, 0.18584070796460173, 0.7692307692307693, 0.00641025641025641, 0.22435897435897434], [0.19047619047619047, 0.6904761904761905, 0.11904761904761907, 0.7448275862068966, 0.0, 0.2551724137931034], [0.11475409836065574, 0.7704918032786885, 0.11475409836065575, 0.7872340425531915, 0.0, 0.21276595744680848], [0.1702127659574468, 0.6382978723404256, 0.19148936170212771, 0.6715328467153284, 0.0, 0.3284671532846716], [0.1590909090909091, 0.6363636363636364, 0.20454545454545459, 0.7480314960629921, 0.0, 0.25196850393700787], [0.14285714285714285, 0.5714285714285714, 0.2857142857142857, 0.765625, 0.0, 0.234375], [0.29411764705882354, 0.4411764705882353, 0.2647058823529411, 0.6578947368421053, 0.0, 0.3421052631578947], [0.25806451612903225, 0.5806451612903226, 0.16129032258064513, 0.7045454545454546, 0.0, 0.2954545454545454], [0.20833333333333334, 0.5, 0.29166666666666663, 0.6575342465753424, 0.0, 0.34246575342465757], [0.14285714285714285, 0.5, 0.3571428571428571, 0.5638297872340425, 0.010638297872340425, 0.42553191489361697], [0.08695652173913043, 0.782608695652174, 0.13043478260869568, 0.6911764705882353, 0.0, 0.3088235294117647], [0.25, 0.375, 0.375, 0.5970149253731343, 0.0, 0.4029850746268657], [0.25, 0.25, 0.5, 0.5897435897435898, 0.0, 0.41025641025641024], [0.2, 0.2, 0.6, 0.5660377358490566, 0.0, 0.4339622641509434], [0.25, 0.25, 0.5, 0.6041666666666666, 0.0, 0.39583333333333337], [-1, -1, -1, 0.6, 0.0, 0.4], [0.0, 1.0, 0.0, 0.45161290322580644, 0.0, 0.5483870967741935]], [[0.05333333333333334, 0.8333333333333334, 0.11333333333333329, 0.9121621621621622, 0.0, 0.08783783783783783], [0.04, 0.84, 0.12, 0.847682119205298, 0.019867549668874173, 0.13245033112582782], [0.05517241379310345, 0.8827586206896552, 0.06206896551724139, 0.785234899328859, 0.03355704697986577, 0.18120805369127513], [0.028985507246376812, 0.8985507246376812, 0.07246376811594202, 0.82, 0.006666666666666667, 0.17333333333333334], [0.04, 0.9, 0.06000000000000005, 0.8120300751879699, 0.022556390977443608, 0.16541353383458646], [0.08695652173913043, 0.8260869565217391, 0.08695652173913049, 0.8198198198198198, 0.018018018018018018, 0.16216216216216217], [0.05128205128205128, 0.8290598290598291, 0.11965811965811968, 0.891566265060241, 0.012048192771084338, 0.09638554216867468], [0.033707865168539325, 0.797752808988764, 0.1685393258426966, 0.9130434782608695, 0.0, 0.08695652173913049], [0.0673076923076923, 0.8365384615384616, 0.09615384615384615, 0.7037037037037037, 0.012345679012345678, 0.28395061728395066], [0.06666666666666667, 0.8444444444444444, 0.0888888888888889, 0.8478260869565217, 0.0, 0.15217391304347827], [0.1, 0.75, 0.15000000000000002, 0.8469387755102041, 0.01020408163265306, 0.1428571428571429], [0.0625, 0.7604166666666666, 0.17708333333333337, 0.8861788617886179, 0.0, 0.11382113821138207], [0.07446808510638298, 0.8404255319148937, 0.08510638297872342, 0.795774647887324, 0.007042253521126761, 0.19718309859154926], [0.07865168539325842, 0.8089887640449438, 0.1123595505617978, 0.7518248175182481, 0.0072992700729927005, 0.24087591240875916], [0.06896551724137931, 0.7586206896551724, 0.1724137931034483, 0.7910447761194029, 0.014925373134328358, 0.19402985074626866], [0.14285714285714285, 0.7428571428571429, 0.11428571428571432, 0.7697841726618705, 0.0, 0.2302158273381295], [0.10666666666666667, 0.68, 0.21333333333333337, 0.8253968253968254, 0.007936507936507936, 0.16666666666666663], [0.1016949152542373, 0.7288135593220338, 0.1694915254237288, 0.7777777777777778, 0.0, 0.2222222222222222], [0.08, 0.7, 0.21999999999999997, 0.7795275590551181, 0.0, 0.22047244094488194], [0.11538461538461539, 0.5769230769230769, 0.3076923076923077, 0.7155963302752294, 0.0, 0.2844036697247706], [0.23333333333333334, 0.5666666666666667, 0.19999999999999996, 0.7222222222222222, 0.0, 0.2777777777777778], [0.15384615384615385, 0.5384615384615384, 0.3076923076923077, 0.6346153846153846, 0.009615384615384616, 0.3557692307692307], [0.2222222222222222, 0.5555555555555556, 0.2222222222222222, 0.6888888888888889, 0.0, 0.3111111111111111], [0.29411764705882354, 0.5882352941176471, 0.11764705882352944, 0.6764705882352942, 0.0, 0.32352941176470584], [0.42857142857142855, 0.5714285714285714, 0.0, 0.6153846153846154, 0.0, 0.3846153846153846], [0.15384615384615385, 0.46153846153846156, 0.3846153846153846, 0.5789473684210527, 0.0, 0.42105263157894735], [0.25, 0.375, 0.375, 0.41818181818181815, 0.0, 0.5818181818181818], [0.0, 0.0, 1.0, 0.6666666666666666, 0.0, 0.33333333333333337], [0.0, 0.0, 1.0, 0.32, 0.0, 0.6799999999999999], [0.0, 0.0, 1.0, 0.46875, 0.0, 0.53125], [0.0, 0.0, 1.0, 0.45161290322580644, 0.0, 0.5483870967741935]]]\n"
     ]
    }
   ],
   "source": [
    "probs_total = [] # [year: 0 -> 1996 - 1998, 11 -> 2018 - 2020][age: 0 -> 65, ..., 3 -> 95][what: 0 - > 2 to 1, ..., 5 -> 1 to 0]\n",
    "\n",
    "for i in range(1996, 2020, 2): # year loop\n",
    "    prob = []\n",
    "    data_select_total = data.loc[:, ['id + pn', 'age_' + str(i), 'age_' + str(i + 2), 'hh_size_' + str(i), 'hh_size_' + str(i + 2), 'gender_' + str(i), 'gender_' + str(i + 2)]]\n",
    "    for j in range(65, 96): # age loop\n",
    "        p = []\n",
    "        denom = data_select_total[((data_select_total['age_' + str(i)] == j) & (data_select_total['hh_size_' + str(i)] == 2) & (data_select_total['gender_' + str(i)] == 'Female'))].shape[0]\n",
    "        numer1 = data_select_total[((data_select_total['age_' + str(i)] == j) & (data_select_total['hh_size_' + str(i)] == 2) & (data_select_total['hh_size_' + str(i + 2)] == 1) & (data_select_total['gender_' + str(i)] == 'Female'))].shape[0]\n",
    "        numer2 = data_select_total[((data_select_total['age_' + str(i)] == j) & (data_select_total['hh_size_' + str(i)] == 2) & (data_select_total['hh_size_' + str(i + 2)] == 2) & (data_select_total['gender_' + str(i)] == 'Female'))].shape[0]\n",
    "        if denom == 0:\n",
    "            p.extend(list(np.array([-1, -1, -1])))\n",
    "        else:\n",
    "            p.append(numer1 / denom)\n",
    "            p.append(numer2 / denom)\n",
    "            p.append(1 - ((numer1 + numer2) / denom))\n",
    "        denom = data_select_total[((data_select_total['age_' + str(i)] == j) & (data_select_total['hh_size_' + str(i)] == 1) & (data_select_total['gender_' + str(i)] == 'Female'))].shape[0]\n",
    "        numer1 = data_select_total[((data_select_total['age_' + str(i)] == j) & (data_select_total['hh_size_' + str(i)] == 1) & (data_select_total['hh_size_' + str(i + 2)] == 1) & (data_select_total['gender_' + str(i)] == 'Female'))].shape[0]\n",
    "        numer2 = data_select_total[((data_select_total['age_' + str(i)] == j) & (data_select_total['hh_size_' + str(i)] == 1) & (data_select_total['hh_size_' + str(i + 2)] == 2) & (data_select_total['gender_' + str(i)] == 'Female'))].shape[0]\n",
    "        if denom == 0:\n",
    "            p.extend(list(np.array([-1, -1, -1])))\n",
    "        else:\n",
    "            p.append(numer1 / denom)\n",
    "            p.append(numer2 / denom)\n",
    "            p.append(1 - ((numer1 + numer2) / denom))\n",
    "        prob.append(p)\n",
    "    probs_total.append(prob)\n",
    "\n",
    "print(probs_total)"
   ]
  },
  {
   "cell_type": "code",
   "execution_count": 33,
   "metadata": {},
   "outputs": [
    {
     "name": "stdout",
     "output_type": "stream",
     "text": [
      "[[0.0712007454214885, 0.8460686443896298, 0.08273061018888184, 0.8565826435448459, 0.03958778129537993, 0.10382957515977413], [0.05930354938281244, 0.8505120572329639, 0.09018439338422361, 0.8594013229664483, 0.048735086771396575, 0.0918635902621552], [0.08315068005037134, 0.8353792793958595, 0.08147004055376902, 0.8328228483125472, 0.04911497531602508, 0.1180621763714278], [0.06835975916886992, 0.844627949932573, 0.08701229089855711, 0.8257841030933036, 0.07145767765421697, 0.10275821925247937], [0.09186717996019066, 0.8297465629229891, 0.07838625711682025, 0.7576174589826197, 0.08916575696435076, 0.1532167840530295], [0.10170318224854195, 0.8064129603057885, 0.09188385744566958, 0.7756525520243134, 0.09163880609668335, 0.13270864187900322], [0.11705996688447239, 0.7760807673967737, 0.10685926571875397, 0.7376913065025028, 0.1201000277463884, 0.14220866575110883], [0.08989172224829561, 0.7356055872654483, 0.1745026904862561, 0.7436536362502508, 0.07988517520013955, 0.17646118854960963], [0.11818213227251562, 0.7438015302216531, 0.13801633750583134, 0.7444948726909771, 0.07303972638946928, 0.18246540091955354], [0.13033349477510894, 0.7022440395629598, 0.1674224656619313, 0.7734138913139372, 0.05725805839565605, 0.16932805029040676], [0.1206712062427477, 0.7169344020671035, 0.16239439169014883, 0.7536252732349652, 0.04833854666341369, 0.198036180101621], [0.16393950309463082, 0.6521578236202163, 0.18390267328515286, 0.7885379550402696, 0.0397840730843868, 0.1716779718753436], [0.1942413708952164, 0.6427817231717472, 0.1629769059330364, 0.7527434675467404, 0.03366663636865888, 0.2135898960846009], [0.132495505187458, 0.6821063378710304, 0.18539815694151168, 0.7644373764385285, 0.03371333253442892, 0.20184929102704263], [0.15111479620127247, 0.6884654681599501, 0.16041973563877746, 0.7857943462906352, 0.03163315474784445, 0.18257249896152042], [0.17881281935116558, 0.6551938657903004, 0.1659933148585341, 0.7541954680376705, 0.031560981478489264, 0.21424355048384028], [0.15841371260044224, 0.6876980134607504, 0.15388827393880733, 0.7814773222887784, 0.029632066343256203, 0.1888906113679654], [0.18180128940159468, 0.645495565377874, 0.17270314522053135, 0.7524047744990732, 0.023662907087749072, 0.2239323184131777], [0.16025483876012964, 0.6282280810159181, 0.21151708022395221, 0.7461432183208008, 0.02153705610453663, 0.2323197255746627], [0.20211833042487048, 0.5688018791782036, 0.22907979039692591, 0.7455679856578221, 0.017496083740520578, 0.23693593060165732], [0.23620593943132154, 0.5236786440510482, 0.24011541651763021, 0.7070093347141952, 0.02904957072067947, 0.26394109456512527], [0.24007262830576612, 0.5165890188067608, 0.24333835288747305, 0.7003966696153349, 0.02208115413997767, 0.2775221762446875], [0.18416420885864956, 0.5420770065025684, 0.27375878463878195, 0.6805054977628007, 0.012582723789620342, 0.30691177844757894], [0.24225473005927978, 0.45614110840924676, 0.3016041615314734, 0.660573535669271, 0.014664699867794645, 0.32476176446293437], [0.23803107301131013, 0.4158530534024605, 0.34611587358622936, 0.6430001504777334, 0.015211211552674969, 0.34178863796959164], [0.19247721974994703, 0.40243165924984103, 0.40509112100021194, 0.6270320231985589, 0.013203463203463205, 0.3597645135979779], [0.27218614718614714, 0.37824675324675316, 0.3495670995670995, 0.5457637775952966, 0.015289507092785782, 0.4389467153119176], [0.27575757575757576, 0.4382920110192838, 0.2859504132231405, 0.609193010616563, 0.015408320493066256, 0.3753986688903708], [0.20454545454545456, 0.25757575757575757, 0.5378787878787878, 0.562502011021523, 0.01515151515151515, 0.422346473826962], [0.25, 0.0625, 0.6875, 0.5081610751948281, 0.02091567852437418, 0.47092324628079774], [0.15, 0.35, 0.5, 0.5061450034879253, 0.007905138339920948, 0.4859498581721537]]\n"
     ]
    }
   ],
   "source": [
    "ave_probs = []\n",
    "\n",
    "for j in range(31): # age loop\n",
    "    ave_prob = []\n",
    "    for k in range(6): # state loop\n",
    "        cal = 0\n",
    "        num = 0\n",
    "        for i in range(12): # year loop\n",
    "            if probs_total[i][j][k] != -1:\n",
    "                cal = cal + probs_total[i][j][k]\n",
    "                num = num + 1\n",
    "        if num == 0:\n",
    "            ave_prob.append(0)\n",
    "        else:\n",
    "            ave_prob.append(cal / num)\n",
    "    ave_probs.append(ave_prob)\n",
    "    \n",
    "print(ave_probs)"
   ]
  },
  {
   "cell_type": "code",
   "execution_count": 34,
   "metadata": {},
   "outputs": [],
   "source": [
    "with xw.App(visible=True, add_book=False) as app:\n",
    "    app.display_alerts = False\n",
    "    app.screen_updating = False\n",
    "    wb = app.books.open('Data Output.xlsx')\n",
    "    sheet = wb.sheets('Household Size Transition')\n",
    "    sheet.range('Z4:AE34').value = ave_probs\n",
    "    wb.save()"
   ]
  }
 ],
 "metadata": {
  "kernelspec": {
   "display_name": "Python 3 (ipykernel)",
   "language": "python",
   "name": "python3"
  },
  "language_info": {
   "codemirror_mode": {
    "name": "ipython",
    "version": 3
   },
   "file_extension": ".py",
   "mimetype": "text/x-python",
   "name": "python",
   "nbconvert_exporter": "python",
   "pygments_lexer": "ipython3",
   "version": "3.9.0"
  },
  "vscode": {
   "interpreter": {
    "hash": "81794d4967e6c3204c66dcd87b604927b115b27c00565d3d43f05ba2f3a2cb0d"
   }
  }
 },
 "nbformat": 4,
 "nbformat_minor": 4
}
