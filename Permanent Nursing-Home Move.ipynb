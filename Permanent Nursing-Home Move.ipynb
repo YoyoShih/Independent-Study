{
 "cells": [
  {
   "cell_type": "markdown",
   "metadata": {},
   "source": [
    "Compulsory Nursing Home Moves：  \n",
    "two-year prob. that a homeowner moves into a nursing home, conditional on age and health status  \n",
    "55 (CS_R)"
   ]
  },
  {
   "cell_type": "code",
   "execution_count": 1,
   "metadata": {},
   "outputs": [],
   "source": [
    "import numpy as np\n",
    "import pandas as pd\n",
    "import xlwings as xw"
   ]
  },
  {
   "cell_type": "code",
   "execution_count": 2,
   "metadata": {},
   "outputs": [
    {
     "name": "stdout",
     "output_type": "stream",
     "text": [
      "         id + pn age_1996 gender_1996 hl_sta_1996 cnhMove_1996\n",
      "0      000002010       62      Female           2            n\n",
      "1      000003010       60        Male           2            n\n",
      "2      000003020       58      Female           2            n\n",
      "3      010001010       57        Male           1            n\n",
      "4      010003020       62        Male           1            n\n",
      "...          ...      ...         ...         ...          ...\n",
      "10959  098802010       64        Male           2            n\n",
      "10960  098802040       69      Female           2            n\n",
      "10961  098859020       58        Male           2            n\n",
      "10962  099231010       56        Male           1            n\n",
      "10963  099564010       62      Female           1            n\n",
      "\n",
      "[10878 rows x 5 columns]\n"
     ]
    }
   ],
   "source": [
    "# 1996\n",
    "index = list(range(10964))\n",
    "data_1996 = pd.DataFrame(columns=['id + pn', 'age_1996', 'gender_1996', 'hl_sta_1996', 'cnhMove_1996'], index = index)\n",
    "\n",
    "A_R = open('D:\\Desktop\\imf\\專題\\data\\\\1996\\h96da\\H96A_R.DA', mode='r').read()\n",
    "B_R = open('D:\\Desktop\\imf\\專題\\data\\\\1996\\h96da\\H96B_R.DA', mode='r').read()\n",
    "CS_R = open('D:\\Desktop\\imf\\專題\\data\\\\1996\\h96da\\H96CS_R.DA', mode='r').read()\n",
    "\n",
    "for i in range(10964):\n",
    "    data_1996['id + pn'][i] = A_R[(147 * i) : (147 * i + 9)]\n",
    "    try:\n",
    "        data_1996['age_1996'][i] = int(A_R[(147 * i + 91) : (147 * i + 94)])\n",
    "        if data_1996['age_1996'][i] > 200:\n",
    "            data_1996['age_1996'][i] = None\n",
    "    except:\n",
    "        data_1996['age_1996'][i] = None\n",
    "    data_1996['hl_sta_1996'][i] = { '1': 1, '2': 1, '3': 2, '4': 2, '5': 3 }.get(B_R[243 * i + 25], None)\n",
    "    data_1996['cnhMove_1996'][i] = { '1': 'y', '5': 'n', '8': 'dk', '9': 'rf' }.get(CS_R[392 * i + 54], None)\n",
    "    data_1996['gender_1996'][i] = { '1': 'Male', '2': 'Female' }.get(CS_R[392 * i + 45], None)\n",
    "\n",
    "alter_data_1996 = data_1996.dropna()\n",
    "print(alter_data_1996)"
   ]
  },
  {
   "cell_type": "code",
   "execution_count": 3,
   "metadata": {},
   "outputs": [
    {
     "name": "stdout",
     "output_type": "stream",
     "text": [
      "         id + pn age_1998 gender_1998 hl_sta_1998 cnhMove_1998\n",
      "0      000002010       64      Female           3            n\n",
      "1      000003010       62        Male           2            n\n",
      "2      000003020       60      Female           2            n\n",
      "3      010001010       59        Male           2            n\n",
      "4      010003020       64        Male           2            n\n",
      "...          ...      ...         ...         ...          ...\n",
      "21379  213471010       68      Female           1            n\n",
      "21380  213471020       72        Male           3            n\n",
      "21381  213475010       73      Female           2            n\n",
      "21382  213479010       71        Male           3            n\n",
      "21383  213479020       72      Female           2            n\n",
      "\n",
      "[21378 rows x 5 columns]\n"
     ]
    }
   ],
   "source": [
    "# 1998\n",
    "index = list(range(21384))\n",
    "data_1998 = pd.DataFrame(columns=['id + pn', 'age_1998', 'gender_1998', 'hl_sta_1998', 'cnhMove_1998'], index = index)\n",
    "\n",
    "A_R = open('D:\\Desktop\\imf\\專題\\data\\\\1998\\h98da\\H98A_R.DA', mode='r').read()\n",
    "B_R = open('D:\\Desktop\\imf\\專題\\data\\\\1998\\h98da\\H98B_R.DA', mode='r').read()\n",
    "CS_R = open('D:\\Desktop\\imf\\專題\\data\\\\1998\\h98da\\H98CS_R.DA', mode='r').read()\n",
    "\n",
    "for i in range(21384):\n",
    "    data_1998['id + pn'][i] = A_R[(193 * i) : (193 * i + 9)]\n",
    "    try:\n",
    "        data_1998['age_1998'][i] = int(A_R[(193 * i + 98) : (193 * i + 101)])\n",
    "    except:\n",
    "        data_1998['age_1998'][i] = None\n",
    "    data_1998['hl_sta_1998'][i] = { '1': 1, '2': 1, '3': 2, '4': 2, '5': 3 }.get(B_R[255 * i + 24], None)\n",
    "    data_1998['cnhMove_1998'][i] = { '1': 'y', '5': 'n', '8': 'dk', '9': 'rf' }.get(CS_R[153 * i + 47], None)\n",
    "    data_1998['gender_1998'][i] = { '1': 'Male', '2': 'Female' }.get(CS_R[153 * i + 37], None)\n",
    "\n",
    "alter_data_1998 = data_1998.dropna()\n",
    "print(alter_data_1998)"
   ]
  },
  {
   "cell_type": "code",
   "execution_count": 4,
   "metadata": {},
   "outputs": [
    {
     "name": "stdout",
     "output_type": "stream",
     "text": [
      "         id + pn age_2000 gender_2000 hl_sta_2000 cnhMove_2000\n",
      "0      000002010       65      Female           2            n\n",
      "1      000003010       64        Male           2            n\n",
      "2      000003020       61      Female           2            n\n",
      "3      010001010       60        Male           2            n\n",
      "4      010003030       44      Female           2            n\n",
      "...          ...      ...         ...         ...          ...\n",
      "19575  213468010       75      Female           3            n\n",
      "19576  213471010       69      Female           1            n\n",
      "19577  213475010       75      Female           1            n\n",
      "19578  213479010       73        Male           2            n\n",
      "19579  213479020       73      Female           1            n\n",
      "\n",
      "[19572 rows x 5 columns]\n"
     ]
    }
   ],
   "source": [
    "# 2000\n",
    "index = list(range(19580))\n",
    "data_2000 = pd.DataFrame(columns=['id + pn', 'age_2000', 'gender_2000', 'hl_sta_2000', 'cnhMove_2000'], index = index)\n",
    "\n",
    "A_R = open('D:\\Desktop\\imf\\專題\\data\\\\2000\\h00da\\H00A_R.DA', mode='r').read()\n",
    "B_R = open('D:\\Desktop\\imf\\專題\\data\\\\2000\\h00da\\H00B_R.DA', mode='r').read()\n",
    "CS_R = open('D:\\Desktop\\imf\\專題\\data\\\\2000\\h00da\\H00CS_R.DA', mode='r').read()\n",
    "\n",
    "for i in range(19580):\n",
    "    data_2000['id + pn'][i] = A_R[(195 * i) : (195 * i + 9)]\n",
    "    try:\n",
    "        data_2000['age_2000'][i] = int(A_R[(195 * i + 99) : (195 * i + 102)])\n",
    "    except:\n",
    "        data_2000['age_2000'][i] = None\n",
    "    data_2000['hl_sta_2000'][i] = { '1': 1, '2': 1, '3': 2, '4': 2, '5': 3 }.get(B_R[251 * i + 24], None)\n",
    "    data_2000['cnhMove_2000'][i] = { '1': 'y', '5': 'n' }.get(CS_R[168 * i + 57], None)\n",
    "    data_2000['gender_2000'][i] = { '1': 'Male', '2': 'Female' }.get(CS_R[168 * i + 42], None)\n",
    "\n",
    "alter_data_2000 = data_2000.dropna()\n",
    "print(alter_data_2000)"
   ]
  },
  {
   "cell_type": "code",
   "execution_count": 5,
   "metadata": {},
   "outputs": [
    {
     "name": "stdout",
     "output_type": "stream",
     "text": [
      "         id + pn age_2002 gender_2002 hl_sta_2002 cnhMove_2002\n",
      "0      000003010       66        Male           2            n\n",
      "1      000003020       63      Female           2            n\n",
      "2      010001010       62        Male           1            n\n",
      "3      010003030       46      Female           1            n\n",
      "4      010004010       62        Male           1            n\n",
      "...          ...      ...         ...         ...          ...\n",
      "18162  213468010       77      Female           1            n\n",
      "18163  213471010       71      Female           1            n\n",
      "18164  213475010       77        Male           3            n\n",
      "18165  213479010       75      Female           2            n\n",
      "18166  213479020       75      Female           3            n\n",
      "\n",
      "[18087 rows x 5 columns]\n"
     ]
    }
   ],
   "source": [
    "# 2002\n",
    "index = list(range(18167))\n",
    "data_2002 = pd.DataFrame(columns=['id + pn', 'age_2002', 'gender_2002', 'hl_sta_2002', 'cnhMove_2002'], index = index)\n",
    "\n",
    "A_R = open('D:\\Desktop\\imf\\專題\\data\\\\2002\\h02da\\H02A_R.DA', mode='r').read()\n",
    "C_R = open('D:\\Desktop\\imf\\專題\\data\\\\2002\\h02da\\H02C_R.DA', mode='r').read()\n",
    "PR_R = open('D:\\Desktop\\imf\\專題\\data\\\\2002\\h02da\\H02PR_R.DA', mode='r').read()\n",
    "\n",
    "for i in range(18167):\n",
    "    data_2002['id + pn'][i] = A_R[(67 * i) : (67 * i + 9)]\n",
    "    try:\n",
    "        data_2002['age_2002'][i] = int(A_R[(67 * i + 30) : (67 * i + 33)])\n",
    "    except:\n",
    "        data_2002['age_2002'][i] = None\n",
    "    data_2002['hl_sta_2002'][i] = { '1': 1, '2': 1, '3': 2, '4': 2, '5': 3 }.get(C_R[256 * i + 17], None)\n",
    "    data_2002['cnhMove_2002'][i] = { '1': 'y', '5': 'n', '8': 'dk', '9': 'rf' }.get(A_R[67 * i + 33], None)\n",
    "    data_2002['gender_2002'][i] = { '1': 'Male', '2': 'Female' }.get(PR_R[414 * i + 19], None)\n",
    "\n",
    "alter_data_2002 = data_2002.dropna()\n",
    "print(alter_data_2002)"
   ]
  },
  {
   "cell_type": "code",
   "execution_count": 6,
   "metadata": {},
   "outputs": [
    {
     "name": "stdout",
     "output_type": "stream",
     "text": [
      "         id + pn age_2004 gender_2004 hl_sta_2004 cnhMove_2004\n",
      "0      000003010       68        Male           2            n\n",
      "1      000003020       65      Female           2            n\n",
      "2      010001010       64        Male           2            n\n",
      "3      010003030       48      Female           2            n\n",
      "5      010004040       58      Female           1            n\n",
      "...          ...      ...         ...         ...          ...\n",
      "13640  205061020       65      Female           1            n\n",
      "13641  205063010       81        Male           2            n\n",
      "13642  205063020       76      Female           2            n\n",
      "13643  205064010       84      Female           2            n\n",
      "13644  205066010       82        Male           2            n\n",
      "\n",
      "[13636 rows x 5 columns]\n"
     ]
    }
   ],
   "source": [
    "# 2004\n",
    "index = list(range(13645))\n",
    "data_2004 = pd.DataFrame(columns=['id + pn', 'age_2004', 'gender_2004', 'hl_sta_2004', 'cnhMove_2004'], index = index)\n",
    "\n",
    "A_R = open('D:\\Desktop\\imf\\專題\\data\\\\2004\\h04da\\H04A_R.DA', mode='r').read()\n",
    "C_R = open('D:\\Desktop\\imf\\專題\\data\\\\2004\\h04da\\H04C_R.DA', mode='r').read()\n",
    "PR_R = open('D:\\Desktop\\imf\\專題\\data\\\\2004\\h04da\\H04PR_R.DA', mode='r').read()\n",
    "\n",
    "for i in range(13645):\n",
    "    data_2004['id + pn'][i] = A_R[(57 * i) : (57 * i + 9)]\n",
    "    try:\n",
    "        data_2004['age_2004'][i] = int(A_R[(57 * i + 42) : (57 * i + 45)])\n",
    "    except:\n",
    "        data_2004['age_2004'][i] = None\n",
    "    data_2004['hl_sta_2004'][i] = { '1': 1, '2': 1, '3': 2, '4': 2, '5': 3 }.get(C_R[276 * i + 17], None)\n",
    "    data_2004['cnhMove_2004'][i] = { '1': 'y', '5': 'n', '8': 'dk', '9': 'rf' }.get(A_R[57 * i + 45], None)\n",
    "    data_2004['gender_2004'][i] = { '1': 'Male', '2': 'Female' }.get(PR_R[546 * i + 20], None)\n",
    "\n",
    "alter_data_2004 = data_2004.dropna()\n",
    "print(alter_data_2004)"
   ]
  },
  {
   "cell_type": "code",
   "execution_count": 7,
   "metadata": {},
   "outputs": [
    {
     "name": "stdout",
     "output_type": "stream",
     "text": [
      "         id + pn age_2006 gender_2006 hl_sta_2006 cnhMove_2006\n",
      "0      000003010       70        Male           2            n\n",
      "1      000003020       67      Female           2            n\n",
      "2      010001010       66        Male           2            n\n",
      "3      010003030       50      Female           3            n\n",
      "4      010004010       66        Male           2            n\n",
      "...          ...      ...         ...         ...          ...\n",
      "18464  502755020       57        Male           2            n\n",
      "18465  502758010       54        Male           2            n\n",
      "18466  502759010       56        Male           2            n\n",
      "18467  502759020       57      Female           1            n\n",
      "18468  502761010       53      Female           2            n\n",
      "\n",
      "[18444 rows x 5 columns]\n"
     ]
    }
   ],
   "source": [
    "# 2006\n",
    "index = list(range(18469))\n",
    "data_2006 = pd.DataFrame(columns=['id + pn', 'age_2006', 'gender_2006', 'hl_sta_2006', 'cnhMove_2006'], index = index)\n",
    "\n",
    "A_R = open('D:\\Desktop\\imf\\專題\\data\\\\2006\\h06da\\H06A_R.DA', mode='r').read()\n",
    "C_R = open('D:\\Desktop\\imf\\專題\\data\\\\2006\\h06da\\H06C_R.DA', mode='r').read()\n",
    "PR_R = open('D:\\Desktop\\imf\\專題\\data\\\\2006\\h06da\\H06PR_R.DA', mode='r').read()\n",
    "\n",
    "for i in range(18469):\n",
    "    data_2006['id + pn'][i] = A_R[(139 * i) : (139 * i + 9)]\n",
    "    try:\n",
    "        data_2006['age_2006'][i] = int(A_R[(139 * i + 54) : (139 * i + 57)])\n",
    "    except:\n",
    "        data_2006['age_2006'][i] = None\n",
    "    data_2006['hl_sta_2006'][i] = { '1': 1, '2': 1, '3': 2, '4': 2, '5': 3 }.get(C_R[325 * i + 17], None)\n",
    "    data_2006['cnhMove_2006'][i] = { '1': 'y', '5': 'n', '8': 'dk', '9': 'rf' }.get(A_R[139 * i + 57], None)\n",
    "    data_2006['gender_2006'][i] = { '1': 'Male', '2': 'Female' }.get(PR_R[659 * i + 20], None)\n",
    "\n",
    "alter_data_2006 = data_2006.dropna()\n",
    "print(alter_data_2006)"
   ]
  },
  {
   "cell_type": "code",
   "execution_count": 8,
   "metadata": {},
   "outputs": [
    {
     "name": "stdout",
     "output_type": "stream",
     "text": [
      "         id + pn age_2008 gender_2008 hl_sta_2008 cnhMove_2008\n",
      "0      000003010       72        Male           2            n\n",
      "1      000003020       69      Female           2            n\n",
      "2      010001010       69        Male           2            n\n",
      "3      010003030       51      Female           2            n\n",
      "4      010004010       68        Male           2            n\n",
      "...          ...      ...         ...         ...          ...\n",
      "17212  502757010       58      Female           1            n\n",
      "17213  502758010       56        Male           2            n\n",
      "17214  502759010       59        Male           1            n\n",
      "17215  502759020       59      Female           2            n\n",
      "17216  502761010       54      Female           2            n\n",
      "\n",
      "[17203 rows x 5 columns]\n"
     ]
    }
   ],
   "source": [
    "# 2008\n",
    "index = list(range(17217))\n",
    "data_2008 = pd.DataFrame(columns=['id + pn', 'age_2008', 'gender_2008', 'hl_sta_2008', 'cnhMove_2008'], index = index)\n",
    "\n",
    "A_R = open('D:\\Desktop\\imf\\專題\\data\\\\2008\\h08da\\H08A_R.DA', mode='r').read()\n",
    "C_R = open('D:\\Desktop\\imf\\專題\\data\\\\2008\\h08da\\H08C_R.DA', mode='r').read()\n",
    "PR_R = open('D:\\Desktop\\imf\\專題\\data\\\\2008\\h08da\\H08PR_R.DA', mode='r').read()\n",
    "\n",
    "for i in range(17217):\n",
    "    data_2008['id + pn'][i] = A_R[(131 * i) : (131 * i + 9)]\n",
    "    try:\n",
    "        data_2008['age_2008'][i] = int(A_R[(131 * i + 54) : (131 * i + 57)])\n",
    "    except:\n",
    "        data_2008['age_2008'][i] = None\n",
    "    data_2008['hl_sta_2008'][i] = { '1': 1, '2': 1, '3': 2, '4': 2, '5': 3 }.get(C_R[408 * i + 68], None)\n",
    "    data_2008['cnhMove_2008'][i] = { '1': 'y', '5': 'n', '8': 'dk', '9': 'rf' }.get(A_R[131 * i + 57], None)\n",
    "    data_2008['gender_2008'][i] = { '1': 'Male', '2': 'Female' }.get(PR_R[674 * i + 20], None)\n",
    "\n",
    "alter_data_2008 = data_2008.dropna()\n",
    "print(alter_data_2008)"
   ]
  },
  {
   "cell_type": "code",
   "execution_count": 9,
   "metadata": {},
   "outputs": [
    {
     "name": "stdout",
     "output_type": "stream",
     "text": [
      "         id + pn age_2010 gender_2010 hl_sta_2010 cnhMove_2010\n",
      "0      000003010       74        Male           2            n\n",
      "1      000003020       72      Female           2            n\n",
      "2      010001010       71        Male           2            n\n",
      "3      010003030       54      Female           2            n\n",
      "4      010004010       70        Male           2            n\n",
      "...          ...      ...         ...         ...          ...\n",
      "22029  923525020       55        Male           2            n\n",
      "22030  952836010       51      Female           2            n\n",
      "22031  958361010       46        Male           1            n\n",
      "22032  959733010       49        Male           2            n\n",
      "22033  959738010       59        Male           2            n\n",
      "\n",
      "[22023 rows x 5 columns]\n"
     ]
    }
   ],
   "source": [
    "# 2010\n",
    "index = list(range(22034))\n",
    "data_2010 = pd.DataFrame(columns=['id + pn', 'age_2010', 'gender_2010', 'hl_sta_2010', 'cnhMove_2010'], index = index)\n",
    "\n",
    "A_R = open('D:\\Desktop\\imf\\專題\\data\\\\2010\\h10da\\H10A_R.DA', mode='r').read()\n",
    "C_R = open('D:\\Desktop\\imf\\專題\\data\\\\2010\\h10da\\H10C_R.DA', mode='r').read()\n",
    "PR_R = open('D:\\Desktop\\imf\\專題\\data\\\\2010\\h10da\\H10PR_R.DA', mode='r').read()\n",
    "\n",
    "for i in range(22034):\n",
    "    data_2010['id + pn'][i] = A_R[(66 * i) : (66 * i + 9)]\n",
    "    try:\n",
    "        data_2010['age_2010'][i] = int(A_R[(66 * i + 42) : (66 * i + 45)])\n",
    "    except:\n",
    "        data_2010['age_2010'][i] = None\n",
    "    data_2010['hl_sta_2010'][i] = { '1': 1, '2': 1, '3': 2, '4': 2, '5': 3 }.get(C_R[365 * i + 23], None)\n",
    "    data_2010['cnhMove_2010'][i] = { '1': 'y', '5': 'n', '8': 'dk', '9': 'rf' }.get(A_R[66 * i + 45], None)\n",
    "    data_2010['gender_2010'][i] = { '1': 'Male', '2': 'Female' }.get(PR_R[500 * i + 20], None)\n",
    "\n",
    "alter_data_2010 = data_2010.dropna()\n",
    "print(alter_data_2010)"
   ]
  },
  {
   "cell_type": "code",
   "execution_count": 10,
   "metadata": {},
   "outputs": [
    {
     "name": "stdout",
     "output_type": "stream",
     "text": [
      "         id + pn age_2012 gender_2012 hl_sta_2012 cnhMove_2012\n",
      "0      000003010       76        Male           2            n\n",
      "1      000003020       73      Female           2            n\n",
      "2      010001010       72        Male           2            n\n",
      "3      010003030       56      Female           1            n\n",
      "4      010004040       66      Female           1            n\n",
      "...          ...      ...         ...         ...          ...\n",
      "20549  923525010       56      Female           2            n\n",
      "20550  923525020       58        Male           2            n\n",
      "20551  952836010       52      Female           1            n\n",
      "20552  958361010       47        Male           1            n\n",
      "20553  959738010       61        Male           2            n\n",
      "\n",
      "[20532 rows x 5 columns]\n"
     ]
    }
   ],
   "source": [
    "# 2012\n",
    "index = list(range(20554))\n",
    "data_2012 = pd.DataFrame(columns=['id + pn', 'age_2012', 'gender_2012', 'hl_sta_2012', 'cnhMove_2012'], index = index)\n",
    "\n",
    "A_R = open('D:\\Desktop\\imf\\專題\\data\\\\2012\\h12da\\H12A_R.DA', mode='r').read()\n",
    "C_R = open('D:\\Desktop\\imf\\專題\\data\\\\2012\\h12da\\H12C_R.DA', mode='r').read()\n",
    "PR_R = open('D:\\Desktop\\imf\\專題\\data\\\\2012\\h12da\\H12PR_R.DA', mode='r').read()\n",
    "\n",
    "for i in range(20554):\n",
    "    data_2012['id + pn'][i] = A_R[(66 * i) : (66 * i + 9)]\n",
    "    try:\n",
    "        data_2012['age_2012'][i] = int(A_R[(66 * i + 42) : (66 * i + 45)])\n",
    "    except:\n",
    "        data_2012['age_2012'][i] = None\n",
    "    data_2012['hl_sta_2012'][i] = { '1': 1, '2': 1, '3': 2, '4': 2, '5': 3 }.get(C_R[360 * i + 23], None)\n",
    "    data_2012['cnhMove_2012'][i] = { '1': 'y', '5': 'n', '8': 'dk', '9': 'rf' }.get(A_R[66 * i + 45], None)\n",
    "    data_2012['gender_2012'][i] = { '1': 'Male', '2': 'Female' }.get(PR_R[471 * i + 20], None)\n",
    "\n",
    "alter_data_2012 = data_2012.dropna()\n",
    "print(alter_data_2012)"
   ]
  },
  {
   "cell_type": "code",
   "execution_count": 11,
   "metadata": {},
   "outputs": [
    {
     "name": "stdout",
     "output_type": "stream",
     "text": [
      "         id + pn age_2014 gender_2014 hl_sta_2014 cnhMove_2014\n",
      "0      000003020       75      Female           2            n\n",
      "1      010001010       74        Male           2            n\n",
      "2      010003030       58      Female           1            n\n",
      "3      010004040       68      Female           1            n\n",
      "4      010013040       66      Female           2            n\n",
      "...          ...      ...         ...         ...          ...\n",
      "18742  923525010       57      Female           1            n\n",
      "18743  923525020       59        Male           2            n\n",
      "18744  952836010       54      Female           1            n\n",
      "18745  958361010       50        Male           1            n\n",
      "18746  959738010       63        Male           2            n\n",
      "\n",
      "[18608 rows x 5 columns]\n"
     ]
    }
   ],
   "source": [
    "# 2014\n",
    "index = list(range(18747))\n",
    "data_2014 = pd.DataFrame(columns=['id + pn', 'age_2014', 'gender_2014', 'hl_sta_2014', 'cnhMove_2014'], index = index)\n",
    "\n",
    "A_R = open('D:\\Desktop\\imf\\專題\\data\\\\2014\\h14da\\H14A_R.DA', mode='r').read()\n",
    "C_R = open('D:\\Desktop\\imf\\專題\\data\\\\2014\\h14da\\H14C_R.DA', mode='r').read()\n",
    "PR_R = open('D:\\Desktop\\imf\\專題\\data\\\\2014\\h14da\\H14PR_R.DA', mode='r').read()\n",
    "\n",
    "for i in range(18747):\n",
    "    data_2014['id + pn'][i] = A_R[(67 * i) : (67 * i + 9)]\n",
    "    try:\n",
    "        data_2014['age_2014'][i] = int(A_R[(67 * i + 43) : (67 * i + 46)])\n",
    "    except:\n",
    "        data_2014['age_2014'][i] = None\n",
    "    data_2014['hl_sta_2014'][i] = { '1': 1, '2': 1, '3': 2, '4': 2, '5': 3 }.get(C_R[317 * i + 23], None)\n",
    "    data_2014['cnhMove_2014'][i] = { '1': 'y', '5': 'n', '8': 'dk', '9': 'rf' }.get(A_R[67 * i + 46], None)\n",
    "    data_2014['gender_2014'][i] = { '1': 'Male', '2': 'Female' }.get(PR_R[474 * i + 20], None)\n",
    "\n",
    "alter_data_2014 = data_2014.dropna()\n",
    "print(alter_data_2014)"
   ]
  },
  {
   "cell_type": "code",
   "execution_count": 12,
   "metadata": {},
   "outputs": [
    {
     "name": "stdout",
     "output_type": "stream",
     "text": [
      "         id + pn age_2016 gender_2016 hl_sta_2016 cnhMove_2016\n",
      "0      010001010       76        Male           1            n\n",
      "1      010003030       60      Female           2            n\n",
      "2      010004040       70      Female           1            n\n",
      "3      010013040       68      Female           1            n\n",
      "4      010038010       79        Male           1            n\n",
      "...          ...      ...         ...         ...          ...\n",
      "20907  923525010       59      Female           3            n\n",
      "20908  923525020       61        Male           2            n\n",
      "20909  952836010       56      Female           1            n\n",
      "20910  958361010       51        Male           1            n\n",
      "20911  959738010       65        Male           2            n\n",
      "\n",
      "[20888 rows x 5 columns]\n"
     ]
    }
   ],
   "source": [
    "# 2016\n",
    "index = list(range(20912))\n",
    "data_2016 = pd.DataFrame(columns=['id + pn', 'age_2016', 'gender_2016', 'hl_sta_2016', 'cnhMove_2016'], index = index)\n",
    "\n",
    "A_R = open('D:\\Desktop\\imf\\專題\\data\\\\2016\\h16da\\H16A_R.DA', mode='r').read()\n",
    "C_R = open('D:\\Desktop\\imf\\專題\\data\\\\2016\\h16da\\H16C_R.DA', mode='r').read()\n",
    "PR_R = open('D:\\Desktop\\imf\\專題\\data\\\\2016\\h16da\\H16PR_R.DA', mode='r').read()\n",
    "\n",
    "for i in range(20912):\n",
    "    data_2016['id + pn'][i] = A_R[(70 * i) : (70 * i + 9)]\n",
    "    try:\n",
    "        data_2016['age_2016'][i] = int(A_R[(70 * i + 43) : (70 * i + 46)])\n",
    "    except:\n",
    "        data_2016['age_2016'][i] = None\n",
    "    data_2016['hl_sta_2016'][i] = { '1': 1, '2': 1, '3': 2, '4': 2, '5': 3 }.get(C_R[341 * i + 22], None)\n",
    "    data_2016['cnhMove_2016'][i] = { '1': 'y', '5': 'n', '8': 'dk', '9': 'rf' }.get(A_R[70 * i + 47], None)\n",
    "    data_2016['gender_2016'][i] = { '1': 'Male', '2': 'Female' }.get(PR_R[478 * i + 20], None)\n",
    "\n",
    "alter_data_2016 = data_2016.dropna()\n",
    "print(alter_data_2016)"
   ]
  },
  {
   "cell_type": "code",
   "execution_count": 13,
   "metadata": {},
   "outputs": [
    {
     "name": "stdout",
     "output_type": "stream",
     "text": [
      "         id + pn age_2018 gender_2018 hl_sta_2018 cnhMove_2018\n",
      "0      010003030       62      Female           1            n\n",
      "1      010004040       72      Female           1            n\n",
      "2      010013040       70      Female           1            n\n",
      "3      010038010       81        Male           1            n\n",
      "4      010038040       75      Female           1            n\n",
      "...          ...      ...         ...         ...          ...\n",
      "17141  923498010       62      Female           1            n\n",
      "17142  923525010       61      Female           2            n\n",
      "17143  923525020       63        Male           1            n\n",
      "17144  952836010       58      Female           1            n\n",
      "17145  959738010       67        Male           2            n\n",
      "\n",
      "[17135 rows x 5 columns]\n"
     ]
    }
   ],
   "source": [
    "# 2018\n",
    "index = list(range(17146))\n",
    "data_2018 = pd.DataFrame(columns=['id + pn', 'age_2018', 'gender_2018', 'hl_sta_2018', 'cnhMove_2018'], index = index)\n",
    "\n",
    "A_R = open('D:\\Desktop\\imf\\專題\\data\\\\2018\\h18da\\H18A_R.DA', mode='r').read()\n",
    "C_R = open('D:\\Desktop\\imf\\專題\\data\\\\2018\\h18da\\H18C_R.DA', mode='r').read()\n",
    "PR_R = open('D:\\Desktop\\imf\\專題\\data\\\\2018\\h18da\\H18PR_R.DA', mode='r').read()\n",
    "\n",
    "for i in range(17146):\n",
    "    data_2018['id + pn'][i] = A_R[(75 * i) : (75 * i + 9)]\n",
    "    try:\n",
    "        data_2018['age_2018'][i] = int(A_R[(75 * i + 44) : (75 * i + 47)])\n",
    "    except:\n",
    "        data_2018['age_2018'][i] = None\n",
    "    data_2018['hl_sta_2018'][i] = { '1': 1, '2': 1, '3': 2, '4': 2, '5': 3 }.get(str(int(C_R[(514 * i + 23) : (514 * i + 25)])), None)\n",
    "    data_2018['cnhMove_2018'][i] = { '1': 'y', '5': 'n', '8': 'dk', '9': 'rf' }.get(A_R[75 * i + 47], None)\n",
    "    data_2018['gender_2018'][i] = { '1': 'Male', '2': 'Female' }.get(PR_R[489 * i + 20], None)\n",
    "\n",
    "alter_data_2018 = data_2018.dropna()\n",
    "print(alter_data_2018)"
   ]
  },
  {
   "cell_type": "code",
   "execution_count": 14,
   "metadata": {},
   "outputs": [
    {
     "name": "stdout",
     "output_type": "stream",
     "text": [
      "         id + pn age_2020 gender_2020 hl_sta_2020 cnhMove_2020\n",
      "0      010003030       64      Female           1            n\n",
      "1      010004040       73      Female           2            n\n",
      "2      010013040       72      Female           2            n\n",
      "3      010038010       83        Male           1            n\n",
      "4      010038040       77      Female           1            n\n",
      "...          ...      ...         ...         ...          ...\n",
      "15718  923525010       63      Female           2            n\n",
      "15719  923525020       65        Male           2            n\n",
      "15720  952836010       61      Female           2            n\n",
      "15721  958361010       56        Male           1            n\n",
      "15722  959738010       69        Male           2            n\n",
      "\n",
      "[15700 rows x 5 columns]\n"
     ]
    }
   ],
   "source": [
    "# 2020\n",
    "index = list(range(15723))\n",
    "data_2020 = pd.DataFrame(columns=['id + pn', 'age_2020', 'gender_2020', 'hl_sta_2020', 'cnhMove_2020'], index = index)\n",
    "\n",
    "A_R = open('D:\\Desktop\\imf\\專題\\data\\\\2020\\h20da\\H20A_R.DA', mode='r').read()\n",
    "C_R = open('D:\\Desktop\\imf\\專題\\data\\\\2020\\h20da\\H20C_R.DA', mode='r').read()\n",
    "PR_R = open('D:\\Desktop\\imf\\專題\\data\\\\2020\\h20da\\H20PR_R.DA', mode='r').read()\n",
    "\n",
    "for i in range(15723):\n",
    "    data_2020['id + pn'][i] = A_R[(75 * i) : (75 * i + 9)]\n",
    "    try:\n",
    "        data_2020['age_2020'][i] = int(A_R[(75 * i + 44) : (75 * i + 47)])\n",
    "    except:\n",
    "        data_2020['age_2020'][i] = None\n",
    "    data_2020['hl_sta_2020'][i] = { '1': 1, '2': 1, '3': 2, '4': 2, '5': 3 }.get(C_R[479 * i + 23], None)\n",
    "    data_2020['cnhMove_2020'][i] = { '1': 'y', '5': 'n', '8': 'dk', '9': 'rf' }.get(A_R[75 * i + 47], None)\n",
    "    data_2020['gender_2020'][i] = { '1': 'Male', '2': 'Female' }.get(PR_R[492 * i + 20], None)\n",
    "\n",
    "alter_data_2020 = data_2020.dropna()\n",
    "print(alter_data_2020)"
   ]
  },
  {
   "cell_type": "code",
   "execution_count": 15,
   "metadata": {},
   "outputs": [
    {
     "name": "stdout",
     "output_type": "stream",
     "text": [
      "         id + pn age_1996 gender_1996 hl_sta_1996 cnhMove_1996 age_1998  \\\n",
      "0      000002010       62      Female           2            n       64   \n",
      "1      000003010       60        Male           2            n       62   \n",
      "2      000003020       58      Female           2            n       60   \n",
      "3      010001010       57        Male           1            n       59   \n",
      "4      010003020       62        Male           1            n       64   \n",
      "...          ...      ...         ...         ...          ...      ...   \n",
      "38806  916671020      NaN         NaN         NaN          NaN      NaN   \n",
      "38807  917702011      NaN         NaN         NaN          NaN      NaN   \n",
      "38808  918277011      NaN         NaN         NaN          NaN      NaN   \n",
      "38809  918943011      NaN         NaN         NaN          NaN      NaN   \n",
      "38810  919959011      NaN         NaN         NaN          NaN      NaN   \n",
      "\n",
      "      gender_1998 hl_sta_1998 cnhMove_1998 age_2000  ... hl_sta_2016  \\\n",
      "0          Female           3            n       65  ...         NaN   \n",
      "1            Male           2            n       64  ...         NaN   \n",
      "2          Female           2            n       61  ...         NaN   \n",
      "3            Male           2            n       60  ...           1   \n",
      "4            Male           2            n      NaN  ...         NaN   \n",
      "...           ...         ...          ...      ...  ...         ...   \n",
      "38806         NaN         NaN          NaN      NaN  ...         NaN   \n",
      "38807         NaN         NaN          NaN      NaN  ...         NaN   \n",
      "38808         NaN         NaN          NaN      NaN  ...         NaN   \n",
      "38809         NaN         NaN          NaN      NaN  ...         NaN   \n",
      "38810         NaN         NaN          NaN      NaN  ...         NaN   \n",
      "\n",
      "      cnhMove_2016 age_2018 gender_2018 hl_sta_2018 cnhMove_2018 age_2020  \\\n",
      "0              NaN      NaN         NaN         NaN          NaN      NaN   \n",
      "1              NaN      NaN         NaN         NaN          NaN      NaN   \n",
      "2              NaN      NaN         NaN         NaN          NaN      NaN   \n",
      "3                n      NaN         NaN         NaN          NaN      NaN   \n",
      "4              NaN      NaN         NaN         NaN          NaN      NaN   \n",
      "...            ...      ...         ...         ...          ...      ...   \n",
      "38806          NaN      NaN         NaN         NaN          NaN       67   \n",
      "38807          NaN      NaN         NaN         NaN          NaN       60   \n",
      "38808          NaN      NaN         NaN         NaN          NaN       58   \n",
      "38809          NaN      NaN         NaN         NaN          NaN       74   \n",
      "38810          NaN      NaN         NaN         NaN          NaN       59   \n",
      "\n",
      "      gender_2020 hl_sta_2020 cnhMove_2020  \n",
      "0             NaN         NaN          NaN  \n",
      "1             NaN         NaN          NaN  \n",
      "2             NaN         NaN          NaN  \n",
      "3             NaN         NaN          NaN  \n",
      "4             NaN         NaN          NaN  \n",
      "...           ...         ...          ...  \n",
      "38806        Male           2            n  \n",
      "38807        Male           1            n  \n",
      "38808        Male           2            n  \n",
      "38809        Male           3            n  \n",
      "38810        Male           2            n  \n",
      "\n",
      "[38811 rows x 53 columns]\n"
     ]
    }
   ],
   "source": [
    "data = pd.DataFrame(columns=['id + pn'])\n",
    "dfs = [alter_data_1996, alter_data_1998, alter_data_2000, alter_data_2002, alter_data_2004, alter_data_2006, alter_data_2008, alter_data_2010, alter_data_2012, alter_data_2014, alter_data_2016, alter_data_2018, alter_data_2020]\n",
    "for df in dfs:\n",
    "    data = data.merge(df, how = 'outer', on = 'id + pn')\n",
    "\n",
    "print(data)"
   ]
  },
  {
   "cell_type": "code",
   "execution_count": 16,
   "metadata": {},
   "outputs": [
    {
     "name": "stdout",
     "output_type": "stream",
     "text": [
      "         id + pn age_1996 gender_1996 hl_sta_1996 cnhMove_1996 age_1998  \\\n",
      "0      000002010       62      Female           2            n       64   \n",
      "1      000003010       60        Male           2            n       62   \n",
      "2      000003020       58      Female           2            n       60   \n",
      "3      010001010       57        Male           1            n       59   \n",
      "4      010003020       62        Male           1            n       64   \n",
      "...          ...      ...         ...         ...          ...      ...   \n",
      "38806  916671020      NaN         NaN         NaN          NaN      NaN   \n",
      "38807  917702011      NaN         NaN         NaN          NaN      NaN   \n",
      "38808  918277011      NaN         NaN         NaN          NaN      NaN   \n",
      "38809  918943011      NaN         NaN         NaN          NaN      NaN   \n",
      "38810  919959011      NaN         NaN         NaN          NaN      NaN   \n",
      "\n",
      "      gender_1998 hl_sta_1998 cnhMove_1998 age_2000  ... age_2002_group  \\\n",
      "0          Female           3            n       65  ...            NaN   \n",
      "1            Male           2            n       64  ...   (60.0, 70.0]   \n",
      "2          Female           2            n       61  ...   (60.0, 70.0]   \n",
      "3            Male           2            n       60  ...   (60.0, 70.0]   \n",
      "4            Male           2            n      NaN  ...            NaN   \n",
      "...           ...         ...          ...      ...  ...            ...   \n",
      "38806         NaN         NaN          NaN      NaN  ...            NaN   \n",
      "38807         NaN         NaN          NaN      NaN  ...            NaN   \n",
      "38808         NaN         NaN          NaN      NaN  ...            NaN   \n",
      "38809         NaN         NaN          NaN      NaN  ...            NaN   \n",
      "38810         NaN         NaN          NaN      NaN  ...            NaN   \n",
      "\n",
      "      age_2004_group age_2006_group age_2008_group age_2010_group  \\\n",
      "0                NaN            NaN            NaN            NaN   \n",
      "1       (60.0, 70.0]   (60.0, 70.0]   (70.0, 80.0]   (70.0, 80.0]   \n",
      "2       (60.0, 70.0]   (60.0, 70.0]   (60.0, 70.0]   (70.0, 80.0]   \n",
      "3       (60.0, 70.0]   (60.0, 70.0]   (60.0, 70.0]   (70.0, 80.0]   \n",
      "4                NaN            NaN            NaN            NaN   \n",
      "...              ...            ...            ...            ...   \n",
      "38806            NaN            NaN            NaN            NaN   \n",
      "38807            NaN            NaN            NaN            NaN   \n",
      "38808            NaN            NaN            NaN            NaN   \n",
      "38809            NaN            NaN            NaN            NaN   \n",
      "38810            NaN            NaN            NaN            NaN   \n",
      "\n",
      "      age_2012_group age_2014_group age_2016_group age_2018_group  \\\n",
      "0                NaN            NaN            NaN            NaN   \n",
      "1       (70.0, 80.0]            NaN            NaN            NaN   \n",
      "2       (70.0, 80.0]   (70.0, 80.0]            NaN            NaN   \n",
      "3       (70.0, 80.0]   (70.0, 80.0]   (70.0, 80.0]            NaN   \n",
      "4                NaN            NaN            NaN            NaN   \n",
      "...              ...            ...            ...            ...   \n",
      "38806            NaN            NaN            NaN            NaN   \n",
      "38807            NaN            NaN            NaN            NaN   \n",
      "38808            NaN            NaN            NaN            NaN   \n",
      "38809            NaN            NaN            NaN            NaN   \n",
      "38810            NaN            NaN            NaN            NaN   \n",
      "\n",
      "      age_2020_group  \n",
      "0                NaN  \n",
      "1                NaN  \n",
      "2                NaN  \n",
      "3                NaN  \n",
      "4                NaN  \n",
      "...              ...  \n",
      "38806   (60.0, 70.0]  \n",
      "38807   (50.0, 60.0]  \n",
      "38808   (50.0, 60.0]  \n",
      "38809   (70.0, 80.0]  \n",
      "38810   (50.0, 60.0]  \n",
      "\n",
      "[38811 rows x 66 columns]\n"
     ]
    }
   ],
   "source": [
    "bins = pd.IntervalIndex.from_tuples([(10, 20), (20, 30), (30, 40), (40, 50), (50, 60), (60, 70), (70, 80), (80, 90), (90, 100), (100, 110)])\n",
    "for i in range(1996, 2022, 2):\n",
    "    data['age_' + str(i) + '_group'] = pd.cut(x = data['age_' + str(i)], bins = bins)\n",
    "\n",
    "print(data)"
   ]
  },
  {
   "cell_type": "code",
   "execution_count": 17,
   "metadata": {},
   "outputs": [
    {
     "name": "stdout",
     "output_type": "stream",
     "text": [
      "[[[0.0004889975550122249, 0.003031834259727135, 0.017142857142857144], [0.013157894736842105, 0.00909090909090909, 0.037037037037037035], [0.0, 0.0, 0.0], [-1, -1, -1]], [[0.002278769464489176, 0.0050580184468908065, 0.01854714064914992], [0.005980066445182724, 0.012504736642667677, 0.02626970227670753], [0.054901960784313725, 0.059414225941422594, 0.116991643454039], [0.20833333333333334, 0.16233766233766234, 0.09302325581395349]], [[0.006389776357827476, 0.007751937984496124, 0.018796992481203006], [0.011721159777914868, 0.01938474504846186, 0.06153846153846154], [0.043233082706766915, 0.07543859649122807, 0.076], [0.15873015873015872, 0.15, 0.20588235294117646]], [[0.003549875754348598, 0.008653014133256417, 0.017857142857142856], [0.0026595744680851063, 0.008112724167378309, 0.01312910284463895], [0.03515625, 0.03495311167945439, 0.037800687285223365], [0.05172413793103448, 0.06802721088435375, 0.023255813953488372]], [[0.0015168752370117557, 0.005040023717758672, 0.013011152416356878], [0.0, 0.013066871637202153, 0.013574660633484163], [0.013333333333333334, 0.06380208333333333, 0.060810810810810814], [0.07692307692307693, 0.07692307692307693, 0.09523809523809523]], [[0.000814663951120163, 0.004573668735707285, 0.01948051948051948], [0.00927643784786642, 0.01537838931606637, 0.04207920792079208], [0.04576271186440678, 0.05070202808112324, 0.08695652173913043], [0.12941176470588237, 0.10614525139664804, 0.10810810810810811]], [[0.0018552875695732839, 0.007022471910112359, 0.016548463356973995], [0.00850546780072904, 0.01881720430107527, 0.0367965367965368], [0.05063291139240506, 0.06449044585987261, 0.038135593220338986], [0.07407407407407407, 0.07179487179487179, 0.05555555555555555]], [[0.0013704888076747374, 0.005229734777736272, 0.0028735632183908046], [0.004280363830925628, 0.010351201478743069, 0.04096385542168675], [0.03129657228017884, 0.054207119741100325, 0.0845771144278607], [0.09375, 0.12169312169312169, 0.05263157894736842]], [[0.0009272137227630969, 0.003098373353989156, 0.0025974025974025974], [0.0075675675675675675, 0.009106830122591943, 0.037037037037037035], [0.05278592375366569, 0.04180602006688963, 0.05333333333333334], [0.14018691588785046, 0.10152284263959391, 0.023809523809523808]], [[0.0005032712632108706, 0.004614838480653177, 0.017045454545454544], [0.0072158749248346366, 0.013076643661460226, 0.04657534246575343], [0.03343465045592705, 0.0529595015576324, 0.06372549019607843], [0.09821428571428571, 0.09803921568627451, 0.058823529411764705]], [[0.00048426150121065375, 0.003248862897985705, 0.0], [0.003481894150417827, 0.008097165991902834, 0.0036231884057971015], [0.0336, 0.03955696202531646, 0.049773755656108594], [0.09375, 0.0670391061452514, 0.06451612903225806]], [[0.002066115702479339, 0.002779708130646282, 0.012618296529968454], [0.008223684210526315, 0.01172447484123107, 0.008928571428571428], [0.03162650602409638, 0.02893617021276596, 0.031578947368421054], [0.061855670103092786, 0.02531645569620253, 0.0]]]\n"
     ]
    }
   ],
   "source": [
    "probs = [] # [year: 0 -> 1996 - 1998, 11 -> 2018 - 2020][age: 0 -> 65, ..., 3 -> 95][from: 0 - > Excellent, ..., 2 -> Poor][to: 0 -> Dead, 3 -> Poor]\n",
    "\n",
    "for i in range(1996, 2020, 2): # year loop\n",
    "    prob = []\n",
    "    data_select = data.loc[:, ['id + pn', 'age_' + str(i) + '_group', 'age_' + str(i + 2) + '_group', 'hl_sta_' + str(i), 'hl_sta_' + str(i + 2), 'cnhMove_' + str(i), 'cnhMove_' + str(i + 2)]].dropna()\n",
    "    for j in range(60, 100, 10): # age loop\n",
    "        p = []\n",
    "        for k in range(1, 4, 1): # state(from) loop\n",
    "            denom = data[((data['age_' + str(i) + '_group'] == pd.IntervalIndex.from_tuples([(j, j + 10)])[0]) & (data['hl_sta_' + str(i)] == k) & (data['cnhMove_' + str(i)] == 'n'))].shape[0]\n",
    "            if denom == 0:\n",
    "                p.append(-1)\n",
    "            else:\n",
    "                numer = data[((data['age_' + str(i) + '_group'] == pd.IntervalIndex.from_tuples([(j, j + 10)])[0]) & (data['hl_sta_' + str(i)] == k) & (data['cnhMove_' + str(i)] == 'n') & (data['cnhMove_' + str(i + 2)] == 'y'))].shape[0]\n",
    "                p.append(numer / denom)\n",
    "        prob.append(p)\n",
    "    probs.append(prob)\n",
    "\n",
    "print(probs)"
   ]
  },
  {
   "cell_type": "code",
   "execution_count": 20,
   "metadata": {},
   "outputs": [
    {
     "name": "stdout",
     "output_type": "stream",
     "text": [
      "[[0.0018537997405601145, 0.0050085405690799495, 0.013043248772951639], [0.006839165480074353, 0.012392658024974156, 0.030629391983875324], [0.03548032521625782, 0.047188855415844916, 0.05830699145761206], [0.10790485612752626, 0.09534898319973242, 0.07098581298284476]]\n"
     ]
    }
   ],
   "source": [
    "ave_probs = []\n",
    "\n",
    "for j in range(4): # age loop\n",
    "    ave_prob = []\n",
    "    for k in range(3): # state(from) loop\n",
    "        cal = 0\n",
    "        num = 0\n",
    "        for i in range(12): # year loop\n",
    "            if probs[i][j][k] != -1:\n",
    "                cal = cal + probs[i][j][k]\n",
    "                num = num + 1\n",
    "        ave_prob.append(cal / num)\n",
    "    ave_probs.append(ave_prob)\n",
    "    \n",
    "print(ave_probs)"
   ]
  },
  {
   "cell_type": "code",
   "execution_count": 21,
   "metadata": {},
   "outputs": [],
   "source": [
    "with xw.App(visible=True, add_book=False) as app:\n",
    "    app.display_alerts = False\n",
    "    app.screen_updating = False\n",
    "    wb = app.books.open('Data Output.xlsx')\n",
    "    sheet = wb.sheets('Permanent Nursing-Home Move')\n",
    "    sheet.range('B4:D7').value = ave_probs\n",
    "    wb.save()"
   ]
  },
  {
   "cell_type": "code",
   "execution_count": 22,
   "metadata": {},
   "outputs": [
    {
     "name": "stdout",
     "output_type": "stream",
     "text": [
      "[[[0.0, 0.0028846153846153848, 0.011428571428571429], [0.014492753623188406, 0.01020408163265306, 0.04], [0.0, 0.0, 0.0], [-1, -1, -1]], [[0.0024896265560165973, 0.002585649644473174, 0.019867549668874173], [0.006211180124223602, 0.009212730318257957, 0.011904761904761904], [0.03488372093023256, 0.04, 0.05970149253731343], [0.21052631578947367, 0.1, 0.0]], [[0.009375, 0.010638297872340425, 0.01762114537444934], [0.010086455331412104, 0.01581395348837209, 0.041884816753926704], [0.043689320388349516, 0.06293706293706294, 0.053763440860215055], [0.125, 0.09090909090909091, 0.25]], [[0.003930817610062893, 0.007570977917981073, 0.024271844660194174], [0.0014326647564469914, 0.01028999064546305, 0.015151515151515152], [0.04081632653061224, 0.02743142144638404, 0.053763440860215055], [0.0, 0.022727272727272728, 0.0]], [[0.0017152658662092624, 0.005905511811023622, 0.0043859649122807015], [0.0, 0.0074850299401197605, 0.01680672268907563], [0.0, 0.05517241379310345, 0.06349206349206349], [0.08333333333333333, 0.0, 0.0]], [[0.0009242144177449168, 0.006042296072507553, 0.023121387283236993], [0.009668508287292817, 0.01725703905540418, 0.012422360248447204], [0.030303030303030304, 0.04435483870967742, 0.06666666666666667], [0.1111111111111111, 0.05660377358490566, 0.1875]], [[0.003232758620689655, 0.004269854824935952, 0.0], [0.006906077348066298, 0.017194570135746608, 0.033816425120772944], [0.019083969465648856, 0.034623217922606926, 0.030927835051546393], [0.037037037037037035, 0.05454545454545454, 0.08333333333333333]], [[0.0011185682326621924, 0.004374453193350831, 0.00684931506849315], [0.00243605359317905, 0.009933774834437087, 0.03488372093023256], [0.030201342281879196, 0.029069767441860465, 0.05952380952380952], [0.03225806451612903, 0.05555555555555555, 0.0]], [[0.0, 0.001863932898415657, 0.0], [0.002472187886279357, 0.008012820512820512, 0.035], [0.04516129032258064, 0.03292181069958848, 0.05714285714285714], [0.1794871794871795, 0.05454545454545454, 0.05555555555555555]], [[0.0011961722488038277, 0.004128819157720892, 0.014285714285714285], [0.008264462809917356, 0.007731958762886598, 0.05128205128205128], [0.01838235294117647, 0.04669260700389105, 0.03488372093023256], [0.16216216216216217, 0.078125, 0.06666666666666667]], [[0.0, 0.0045871559633027525, 0.0], [0.0032733224222585926, 0.004940711462450593, 0.008771929824561403], [0.030534351145038167, 0.03578528827037773, 0.04807692307692308], [0.06451612903225806, 0.014925373134328358, 0.2222222222222222]], [[0.0025284450063211127, 0.003993610223642172, 0.022556390977443608], [0.0, 0.00813953488372093, 0.023529411764705882], [0.025454545454545455, 0.018947368421052633, 0.024096385542168676], [0.0967741935483871, 0.02, 0.0]]]\n"
     ]
    }
   ],
   "source": [
    "probs = [] # [year: 0 -> 1996 - 1998, 11 -> 2018 - 2020][age: 0 -> 65, ..., 3 -> 95][from: 0 - > Excellent, ..., 2 -> Poor][to: 0 -> Dead, 3 -> Poor]\n",
    "\n",
    "for i in range(1996, 2020, 2): # year loop\n",
    "    prob = []\n",
    "    data_select = data.loc[:, ['id + pn', 'age_' + str(i) + '_group', 'age_' + str(i + 2) + '_group', 'hl_sta_' + str(i), 'hl_sta_' + str(i + 2), 'cnhMove_' + str(i), 'cnhMove_' + str(i + 2), 'gender_' + str(i)]].dropna()\n",
    "    for j in range(60, 100, 10): # age loop\n",
    "        p = []\n",
    "        for k in range(1, 4, 1): # state(from) loop\n",
    "            denom = data[((data['age_' + str(i) + '_group'] == pd.IntervalIndex.from_tuples([(j, j + 10)])[0]) & (data['hl_sta_' + str(i)] == k) & (data['cnhMove_' + str(i)] == 'n') & (data['gender_' + str(i)] == 'Male'))].shape[0]\n",
    "            if denom == 0:\n",
    "                p.append(-1)\n",
    "            else:\n",
    "                numer = data[((data['age_' + str(i) + '_group'] == pd.IntervalIndex.from_tuples([(j, j + 10)])[0]) & (data['hl_sta_' + str(i)] == k) & (data['cnhMove_' + str(i)] == 'n') & (data['cnhMove_' + str(i + 2)] == 'y') & (data['gender_' + str(i)] == 'Male'))].shape[0]\n",
    "                p.append(numer / denom)\n",
    "        prob.append(p)\n",
    "    probs.append(prob)\n",
    "\n",
    "print(probs)"
   ]
  },
  {
   "cell_type": "code",
   "execution_count": 23,
   "metadata": {},
   "outputs": [
    {
     "name": "stdout",
     "output_type": "stream",
     "text": [
      "[[0.0022092390465425376, 0.004903764580359123, 0.012032323638271489], [0.0054369721818553806, 0.010518016306027701, 0.02712114297250423], [0.02654252081359112, 0.03566131638713377, 0.04600321964033426], [0.10020050236518827, 0.04981245227291476, 0.07866161616161617]]\n"
     ]
    }
   ],
   "source": [
    "ave_probs = []\n",
    "\n",
    "for j in range(4): # age loop\n",
    "    ave_prob = []\n",
    "    for k in range(3): # state(from) loop\n",
    "        cal = 0\n",
    "        num = 0\n",
    "        for i in range(12): # year loop\n",
    "            if probs[i][j][k] != -1:\n",
    "                cal = cal + probs[i][j][k]\n",
    "                num = num + 1\n",
    "        ave_prob.append(cal / num)\n",
    "    ave_probs.append(ave_prob)\n",
    "    \n",
    "print(ave_probs)"
   ]
  },
  {
   "cell_type": "code",
   "execution_count": 24,
   "metadata": {},
   "outputs": [],
   "source": [
    "with xw.App(visible=True, add_book=False) as app:\n",
    "    app.display_alerts = False\n",
    "    app.screen_updating = False\n",
    "    wb = app.books.open('Data Output.xlsx')\n",
    "    sheet = wb.sheets('Permanent Nursing-Home Move')\n",
    "    sheet.range('B12:D15').value = ave_probs\n",
    "    wb.save()"
   ]
  },
  {
   "cell_type": "code",
   "execution_count": 25,
   "metadata": {},
   "outputs": [
    {
     "name": "stdout",
     "output_type": "stream",
     "text": [
      "[[[0.0010660980810234541, 0.003194888178913738, 0.022857142857142857], [0.0, 0.0, 0.0], [-1, -1, -1], [-1, -1, -1]], [[0.0021008403361344537, 0.007166482910694598, 0.017391304347826087], [0.005807200929152149, 0.01522491349480969, 0.03761755485893417], [0.0650887573964497, 0.07114093959731543, 0.1511111111111111], [0.20754716981132076, 0.19230769230769232, 0.11428571428571428]], [[0.003903708523096942, 0.005229517722254503, 0.019672131147540985], [0.012944983818770227, 0.02234206471494607, 0.07575757575757576], [0.04294478527607362, 0.0829817158931083, 0.08917197452229299], [0.1702127659574468, 0.1724137931034483, 0.19230769230769232]], [[0.003236245954692557, 0.009564293304994687, 0.013422818791946308], [0.0037220843672456576, 0.006284367635506678, 0.011583011583011582], [0.03287671232876712, 0.038860103626943004, 0.030303030303030304], [0.06666666666666667, 0.08737864077669903, 0.02857142857142857]], [[0.0013596193065941536, 0.004326663061114116, 0.01935483870967742], [0.0, 0.018957345971563982, 0.00980392156862745], [0.021739130434782608, 0.06903765690376569, 0.058823529411764705], [0.07407407407407407, 0.10606060606060606, 0.14285714285714285]], [[0.0007283321194464676, 0.0034542314335060447, 0.01730103806228374], [0.008958566629339306, 0.013868613138686132, 0.06172839506172839], [0.055710306406685235, 0.054707379134860054, 0.1], [0.13793103448275862, 0.12698412698412698, 0.047619047619047616]], [[0.0008143322475570033, 0.008944543828264758, 0.027131782945736434], [0.009761388286334056, 0.0200133422281521, 0.0392156862745098], [0.07297297297297298, 0.08366013071895424, 0.04316546762589928], [0.09259259259259259, 0.07857142857142857, 0.041666666666666664]], [[0.0015444015444015444, 0.005867014341590613, 0.0], [0.0057251908396946565, 0.01068804275217101, 0.04526748971193416], [0.032171581769437, 0.07222222222222222, 0.10256410256410256], [0.12307692307692308, 0.14814814814814814, 0.07692307692307693]], [[0.001579778830963665, 0.003976143141153081, 0.004310344827586207], [0.011527377521613832, 0.009956440572495333, 0.03879310344827586], [0.05913978494623656, 0.04788732394366197, 0.05], [0.11764705882352941, 0.11971830985915492, 0.0]], [[0.0, 0.0049813200498132005, 0.018867924528301886], [0.0064034151547491995, 0.016991818753933293, 0.0430622009569378], [0.04404145077720207, 0.05714285714285714, 0.0847457627118644], [0.06666666666666667, 0.10714285714285714, 0.05263157894736842]], [[0.0008417508417508417, 0.0022598870056497176, 0.0], [0.0036363636363636364, 0.0102880658436214, 0.0], [0.03581267217630854, 0.04204993429697766, 0.05128205128205128], [0.1076923076923077, 0.09821428571428571, 0.0]], [[0.0017467248908296944, 0.0018450184501845018, 0.005434782608695652], [0.014144271570014143, 0.014321819713563605, 0.0], [0.03598971722365039, 0.03571428571428571, 0.037383177570093455], [0.045454545454545456, 0.027777777777777776, 0.0]]]\n"
     ]
    }
   ],
   "source": [
    "probs = [] # [year: 0 -> 1996 - 1998, 11 -> 2018 - 2020][age: 0 -> 65, ..., 3 -> 95][from: 0 - > Excellent, ..., 2 -> Poor][to: 0 -> Dead, 3 -> Poor]\n",
    "\n",
    "for i in range(1996, 2020, 2): # year loop\n",
    "    prob = []\n",
    "    data_select = data.loc[:, ['id + pn', 'age_' + str(i) + '_group', 'age_' + str(i + 2) + '_group', 'hl_sta_' + str(i), 'hl_sta_' + str(i + 2), 'cnhMove_' + str(i), 'cnhMove_' + str(i + 2), 'gender_' + str(i)]].dropna()\n",
    "    for j in range(60, 100, 10): # age loop\n",
    "        p = []\n",
    "        for k in range(1, 4, 1): # state(from) loop\n",
    "            denom = data[((data['age_' + str(i) + '_group'] == pd.IntervalIndex.from_tuples([(j, j + 10)])[0]) & (data['hl_sta_' + str(i)] == k) & (data['cnhMove_' + str(i)] == 'n') & (data['gender_' + str(i)] == 'Female'))].shape[0]\n",
    "            if denom == 0:\n",
    "                p.append(-1)\n",
    "            else:\n",
    "                numer = data[((data['age_' + str(i) + '_group'] == pd.IntervalIndex.from_tuples([(j, j + 10)])[0]) & (data['hl_sta_' + str(i)] == k) & (data['cnhMove_' + str(i)] == 'n') & (data['cnhMove_' + str(i + 2)] == 'y') & (data['gender_' + str(i)] == 'Female'))].shape[0]\n",
    "                p.append(numer / denom)\n",
    "        prob.append(p)\n",
    "    probs.append(prob)\n",
    "\n",
    "print(probs)"
   ]
  },
  {
   "cell_type": "code",
   "execution_count": 26,
   "metadata": {},
   "outputs": [
    {
     "name": "stdout",
     "output_type": "stream",
     "text": [
      "[[0.0015768193897075647, 0.005067500285677797, 0.013812009068894798], [0.006885903562773073, 0.01324473623495411, 0.030235744935127915], [0.045317079246233266, 0.05958223174499559, 0.07259547337292821], [0.10996016411807562, 0.11497433331329318, 0.06335112256164886]]\n"
     ]
    }
   ],
   "source": [
    "ave_probs = []\n",
    "\n",
    "for j in range(4): # age loop\n",
    "    ave_prob = []\n",
    "    for k in range(3): # state(from) loop\n",
    "        cal = 0\n",
    "        num = 0\n",
    "        for i in range(12): # year loop\n",
    "            if probs[i][j][k] != -1:\n",
    "                cal = cal + probs[i][j][k]\n",
    "                num = num + 1\n",
    "        ave_prob.append(cal / num)\n",
    "    ave_probs.append(ave_prob)\n",
    "    \n",
    "print(ave_probs)"
   ]
  },
  {
   "cell_type": "code",
   "execution_count": 27,
   "metadata": {},
   "outputs": [],
   "source": [
    "with xw.App(visible=True, add_book=False) as app:\n",
    "    app.display_alerts = False\n",
    "    app.screen_updating = False\n",
    "    wb = app.books.open('Data Output.xlsx')\n",
    "    sheet = wb.sheets('Permanent Nursing-Home Move')\n",
    "    sheet.range('B20:D23').value = ave_probs\n",
    "    wb.save()"
   ]
  },
  {
   "cell_type": "code",
   "execution_count": 28,
   "metadata": {},
   "outputs": [
    {
     "name": "stdout",
     "output_type": "stream",
     "text": [
      "[[[0.0, 0.003246753246753247, 0.017543859649122806], [0.0, 0.0, 0.0], [0.0, 0.011764705882352941, 0.0], [0.0, 0.0, 0.0], [0.0, 0.0, 0.0], [0.0, 0.0, 0.14285714285714285], [0.045454545454545456, 0.0, 0.0], [0.0, 0.0, 0.0], [0.0, 0.0, 0.0], [0.0, 0.0, 0.25], [0.0, 0.1111111111111111, -1], [0.0, 0.0, 0.0], [0.0, 0.0, 0.0], [0.0, 0.0, -1], [0.0, 0.0, -1], [-1, 0.0, -1], [-1, -1, -1], [-1, 0.0, -1], [0.0, 0.0, -1], [-1, -1, 0.0], [0.0, -1, -1], [-1, 0.0, 0.0], [-1, -1, -1], [-1, -1, -1], [-1, -1, -1], [-1, -1, -1], [-1, -1, -1], [-1, -1, -1], [-1, -1, -1], [-1, -1, -1], [-1, -1, -1]], [[0.00423728813559322, 0.005780346820809248, 0.014492753623188406], [0.0, 0.00847457627118644, 0.05084745762711865], [0.008064516129032258, 0.00872093023255814, 0.045454545454545456], [0.0, 0.0036496350364963502, 0.016129032258064516], [0.00510204081632653, 0.0037313432835820895, 0.0], [0.004545454545454545, 0.013559322033898305, 0.03571428571428571], [0.0051813471502590676, 0.01, 0.0], [0.005208333333333333, 0.007246376811594203, 0.018867924528301886], [0.012269938650306749, 0.0035211267605633804, 0.01639344262295082], [0.006172839506172839, 0.011278195488721804, 0.017857142857142856], [0.0, 0.0, 0.0], [0.006535947712418301, 0.025, 0.020833333333333332], [0.0070921985815602835, 0.022222222222222223, 0.014084507042253521], [0.01694915254237288, 0.018315018315018316, 0.05454545454545454], [0.0, 0.018867924528301886, 0.06451612903225806], [0.0, 0.009216589861751152, 0.05172413793103448], [0.011764705882352941, 0.0223463687150838, 0.12], [0.03571428571428571, 0.006134969325153374, 0.06818181818181818], [0.0625, 0.08843537414965986, 0.07317073170731707], [0.04838709677419355, 0.1048951048951049, 0.1388888888888889], [0.031746031746031744, 0.07643312101910828, 0.15384615384615385], [0.0625, 0.07317073170731707, 0.14583333333333334], [0.1, 0.05434782608695652, 0.14705882352941177], [0.05405405405405406, 0.04411764705882353, 0.08], [0.14285714285714285, 0.06756756756756757, 0.08], [0.1111111111111111, 0.08163265306122448, 0.17647058823529413], [0.18181818181818182, 0.10810810810810811, 0.18181818181818182], [0.07692307692307693, 0.225, 0.0], [0.36363636363636365, 0.16, 0.0], [0.25, 0.1875, 0.25], [0.16666666666666666, 0.14285714285714285, 0.14285714285714285]], [[0.0035460992907801418, 0.01764705882352941, 0.03076923076923077], [0.0, 0.005917159763313609, 0.041666666666666664], [0.007220216606498195, 0.009375, 0.020833333333333332], [0.01509433962264151, 0.006756756756756757, 0.018518518518518517], [0.0, 0.003663003663003663, 0.019230769230769232], [0.014634146341463415, 0.008298755186721992, 0.045454545454545456], [0.0, 0.008658008658008658, 0.07692307692307693], [0.00966183574879227, 0.0035211267605633804, 0.03225806451612903], [0.0, 0.012711864406779662, 0.046511627906976744], [0.011428571428571429, 0.028, 0.023809523809523808], [0.011904761904761904, 0.022123893805309734, 0.07017543859649122], [0.006535947712418301, 0.017777777777777778, 0.05405405405405406], [0.00684931506849315, 0.01646090534979424, 0.07142857142857142], [0.044444444444444446, 0.016736401673640166, 0.0625], [0.02586206896551724, 0.034782608695652174, 0.0847457627118644], [0.015748031496062992, 0.03827751196172249, 0.06976744186046512], [0.02127659574468085, 0.034482758620689655, 0.07894736842105263], [0.00980392156862745, 0.08641975308641975, 0.029411764705882353], [0.03508771929824561, 0.05426356589147287, 0.17647058823529413], [0.03125, 0.047244094488188976, 0.0], [0.0392156862745098, 0.05309734513274336, 0.07142857142857142], [0.11538461538461539, 0.14705882352941177, 0.034482758620689655], [0.13157894736842105, 0.10784313725490197, 0.04], [0.02857142857142857, 0.0975609756097561, 0.21428571428571427], [0.11764705882352941, 0.1076923076923077, 0.06666666666666667], [0.0, 0.09090909090909091, 0.08333333333333333], [0.1111111111111111, 0.12121212121212122, 0.15384615384615385], [0.23529411764705882, 0.16, 0.125], [0.2, 0.15789473684210525, 0.3333333333333333], [0.0, 0.11764705882352941, -1], [0.16666666666666666, 0.2222222222222222, 0.3333333333333333]], [[0.0030959752321981426, 0.0, 0.0196078431372549], [0.007168458781362007, 0.005714285714285714, 0.017857142857142856], [0.0037174721189591076, 0.012422360248447204, 0.04], [0.01195219123505976, 0.006289308176100629, 0.0], [0.004310344827586207, 0.01892744479495268, 0.021739130434782608], [0.004464285714285714, 0.01592356687898089, 0.02127659574468085], [0.0, 0.013559322033898305, 0.022727272727272728], [0.0, 0.0, 0.017241379310344827], [0.006578947368421052, 0.0, 0.0], [0.0, 0.0034965034965034965, 0.017543859649122806], [0.0, 0.004366812227074236, 0.0], [0.0, 0.004464285714285714, 0.0], [0.0, 0.0, 0.025], [0.01680672268907563, 0.0136986301369863, 0.0], [0.0, 0.009900990099009901, 0.044444444444444446], [0.00847457627118644, 0.03167420814479638, 0.0], [0.0641025641025641, 0.030303030303030304, 0.0], [0.012658227848101266, 0.010869565217391304, 0.0], [0.0136986301369863, 0.019867549668874173, 0.043478260869565216], [0.029850746268656716, 0.0392156862745098, 0.07142857142857142], [0.09523809523809523, 0.04716981132075472, 0.0], [0.02040816326530612, 0.05825242718446602, 0.05], [0.03225806451612903, 0.011627906976744186, 0.047619047619047616], [0.02857142857142857, 0.0547945205479452, 0.05263157894736842], [0.034482758620689655, 0.10344827586206896, 0.1], [0.034482758620689655, 0.03278688524590164, 0.2222222222222222], [0.06666666666666667, 0.02702702702702703, 0.0625], [0.09090909090909091, 0.046511627906976744, 0.0], [0.0, 0.14285714285714285, 0.0], [0.1, 0.06666666666666667, 0.0], [0.0, 0.1111111111111111, 0.0]], [[0.0, 0.0024630541871921183, 0.018867924528301886], [0.0, 0.0, 0.0], [0.003676470588235294, 0.005555555555555556, 0.0], [0.00392156862745098, 0.00641025641025641, 0.05], [0.003968253968253968, 0.006309148264984227, 0.019230769230769232], [0.0, 0.020338983050847456, 0.01694915254237288], [0.0, 0.006711409395973154, 0.0], [0.0, 0.013289036544850499, 0.03278688524590164], [0.0, 0.010810810810810811, 0.0], [0.0, 0.0, 0.045454545454545456], [0.0, 0.012987012987012988, 0.0], [0.0, 0.0, 0.0], [0.0, 0.014705882352941176, 0.0], [0.0, 0.012987012987012988, 0.0], [0.0, 0.043478260869565216, 0.0], [0.0, 0.04938271604938271, 0.0], [0.03125, 0.046511627906976744, 0.11764705882352941], [0.01818181818181818, 0.038834951456310676, 0.0], [0.0, 0.07207207207207207, 0.06666666666666667], [0.018867924528301886, 0.05714285714285714, 0.05], [0.0, 0.12359550561797752, 0.07692307692307693], [0.0, 0.08064516129032258, 0.2], [0.037037037037037035, 0.04081632653061224, 0.0], [0.0, 0.05, 0.125], [0.0, 0.06666666666666667, 0.0], [0.0, 0.05714285714285714, 0.0], [0.0, 0.034482758620689655, 0.2222222222222222], [0.0, 0.0625, 0.0], [0.3333333333333333, 0.0, -1], [0.3333333333333333, 0.0, 0.0], [0.0, 0.1, 0.0]], [[0.0, 0.008746355685131196, 0.029411764705882353], [0.0, 0.0058309037900874635, 0.015873015873015872], [0.0, 0.005333333333333333, 0.038461538461538464], [0.0, 0.0056657223796034, 0.0], [0.0, 0.0, 0.02040816326530612], [0.00796812749003984, 0.012658227848101266, 0.020833333333333332], [0.0, 0.012307692307692308, 0.0], [0.0049261083743842365, 0.014652014652014652, 0.037037037037037035], [0.010582010582010581, 0.017361111111111112, 0.047619047619047616], [0.01092896174863388, 0.016556291390728478, 0.047619047619047616], [0.011627906976744186, 0.012605042016806723, 0.038461538461538464], [0.012578616352201259, 0.014084507042253521, 0.0625], [0.015267175572519083, 0.009900990099009901, 0.11764705882352941], [0.014084507042253521, 0.004424778761061947, 0.023809523809523808], [0.008547008547008548, 0.015151515151515152, 0.0], [0.009523809523809525, 0.038834951456310676, 0.06451612903225806], [0.018691588785046728, 0.021739130434782608, 0.0], [0.023809523809523808, 0.04878048780487805, 0.08695652173913043], [0.04938271604938271, 0.03508771929824561, 0.0], [0.012048192771084338, 0.03355704697986577, 0.17857142857142858], [0.03278688524590164, 0.03821656050955414, 0.08695652173913043], [0.0784313725490196, 0.04411764705882353, 0.125], [0.044444444444444446, 0.09375, 0.08333333333333333], [0.14705882352941177, 0.07865168539325842, 0.17647058823529413], [0.125, 0.13333333333333333, 0.13333333333333333], [0.1, 0.06557377049180328, 0.07142857142857142], [0.041666666666666664, 0.1388888888888889, 0.1111111111111111], [0.2, 0.1111111111111111, 0.2], [0.25, 0.027777777777777776, 0.125], [0.14285714285714285, 0.1111111111111111, 0.0], [0.2, 0.25, 0.0]], [[0.0048543689320388345, 0.008130081300813009, 0.02857142857142857], [0.0, 0.009771986970684038, 0.02127659574468085], [0.007380073800738007, 0.00847457627118644, 0.0], [0.0, 0.0, 0.014925373134328358], [0.0, 0.010666666666666666, 0.03125], [0.0, 0.006006006006006006, 0.0], [0.0045662100456621, 0.008902077151335312, 0.0], [0.004629629629629629, 0.00625, 0.04], [0.005025125628140704, 0.00641025641025641, 0.09090909090909091], [0.011049723756906077, 0.012244897959183673, 0.05263157894736842], [0.0, 0.014652014652014652, 0.021739130434782608], [0.006493506493506494, 0.029304029304029304, 0.043478260869565216], [0.011695906432748537, 0.036290322580645164, 0.0], [0.025210084033613446, 0.04455445544554455, 0.027777777777777776], [0.0, 0.010869565217391304, 0.044444444444444446], [0.02912621359223301, 0.03333333333333333, 0.025], [0.008849557522123894, 0.02976190476190476, 0.06896551724137931], [0.06818181818181818, 0.047337278106508875, 0.03125], [0.0379746835443038, 0.045454545454545456, 0.06666666666666667], [0.05, 0.047244094488188976, 0.0], [0.08620689655172414, 0.09803921568627451, 0.041666666666666664], [0.03225806451612903, 0.05223880597014925, 0.043478260869565216], [0.07317073170731707, 0.08771929824561403, 0.037037037037037035], [0.0425531914893617, 0.08571428571428572, 0.0], [0.09375, 0.05063291139240506, 0.045454545454545456], [0.09375, 0.18867924528301888, 0.0], [0.11764705882352941, 0.0425531914893617, 0.18181818181818182], [0.058823529411764705, 0.09615384615384616, 0.0], [0.0, 0.09090909090909091, 0.0], [0.0, 0.05, 0.0], [0.2857142857142857, 0.07692307692307693, 0.0]], [[0.005319148936170213, 0.014218009478672985, 0.0], [0.0, 0.005050505050505051, 0.0], [0.0048543689320388345, 0.004629629629629629, 0.0], [0.00510204081632653, 0.0, 0.0], [0.0, 0.005633802816901409, 0.0], [0.0, 0.008403361344537815, 0.0], [0.003937007874015748, 0.006211180124223602, 0.027777777777777776], [0.0, 0.0030211480362537764, 0.020833333333333332], [0.0, 0.01529051987767584, 0.08], [0.0, 0.003236245954692557, 0.07142857142857142], [0.005050505050505051, 0.007434944237918215, 0.02564102564102564], [0.005988023952095809, 0.007575757575757576, 0.0], [0.012269938650306749, 0.017316017316017316, 0.0], [0.00684931506849315, 0.012295081967213115, 0.046511627906976744], [0.007518796992481203, 0.026200873362445413, 0.09302325581395349], [0.007692307692307693, 0.0111731843575419, 0.041666666666666664], [0.010101010101010102, 0.026845637583892617, 0.05714285714285714], [0.01904761904761905, 0.04, 0.05263157894736842], [0.018867924528301886, 0.05128205128205128, 0.08333333333333333], [0.02702702702702703, 0.0472972972972973, 0.047619047619047616], [0.0, 0.029850746268656716, 0.25], [0.03389830508474576, 0.058823529411764705, 0.045454545454545456], [0.05454545454545454, 0.05, 0.07142857142857142], [0.06976744186046512, 0.11504424778761062, 0.06666666666666667], [0.15789473684210525, 0.07575757575757576, 0.11764705882352941], [0.0, 0.09210526315789473, 0.0], [0.038461538461538464, 0.04, 0.08333333333333333], [0.058823529411764705, 0.24324324324324326, 0.0], [0.21428571428571427, 0.21052631578947367, 0.0], [0.0, 0.0967741935483871, 0.0], [0.2, 0.2, 0.3333333333333333]], [[0.0, 0.0, 0.0], [0.0, 0.01020408163265306, 0.0], [0.0, 0.0, 0.0], [0.005494505494505495, 0.004807692307692308, 0.0], [0.0, 0.009389671361502348, 0.027777777777777776], [0.0, 0.003703703703703704, 0.0], [0.0, 0.008902077151335312, 0.0], [0.0, 0.003215434083601286, 0.0], [0.0, 0.006349206349206349, 0.0425531914893617], [0.014423076923076924, 0.006600660066006601, 0.09803921568627451], [0.0048543689320388345, 0.012084592145015106, 0.0], [0.010526315789473684, 0.014035087719298246, 0.06382978723404255], [0.006211180124223602, 0.0, 0.04878048780487805], [0.029197080291970802, 0.012711864406779662, 0.0], [0.022727272727272728, 0.01702127659574468, 0.044444444444444446], [0.0, 0.012711864406779662, 0.06451612903225806], [0.02727272727272727, 0.031746031746031744, 0.05555555555555555], [0.03571428571428571, 0.025157232704402517, 0.0], [0.03571428571428571, 0.02877697841726619, 0.06896551724137931], [0.04285714285714286, 0.027972027972027972, 0.07407407407407407], [0.02531645569620253, 0.0234375, 0.05], [0.06349206349206349, 0.04950495049504951, 0.043478260869565216], [0.09090909090909091, 0.07142857142857142, 0.08], [0.13953488372093023, 0.07291666666666667, 0.0], [0.07894736842105263, 0.07894736842105263, 0.15384615384615385], [0.10714285714285714, 0.05970149253731343, 0.0], [0.03333333333333333, 0.11764705882352941, 0.09090909090909091], [0.3333333333333333, 0.0784313725490196, 0.0], [0.047619047619047616, 0.1111111111111111, 0.0], [0.3333333333333333, 0.17647058823529413, 0.0], [0.0, 0.0, -1]], [[0.0, 0.006514657980456026, 0.025], [0.0, 0.011627906976744186, 0.03225806451612903], [0.0, 0.0, 0.0], [0.00819672131147541, 0.0051813471502590676, 0.0], [0.0, 0.013574660633484163, 0.037037037037037035], [0.0, 0.0, 0.0], [0.005917159763313609, 0.004310344827586207, 0.037037037037037035], [0.0049504950495049506, 0.006825938566552901, 0.06451612903225806], [0.0045662100456621, 0.0033003300330033004, 0.0], [0.00558659217877095, 0.003115264797507788, 0.034482758620689655], [0.0055248618784530384, 0.013513513513513514, 0.023809523809523808], [0.011428571428571429, 0.013468013468013467, 0.05263157894736842], [0.013422818791946308, 0.014084507042253521, 0.05], [0.0, 0.014598540145985401, 0.11428571428571428], [0.0, 0.0321285140562249, 0.021739130434782608], [0.026785714285714284, 0.03431372549019608, 0.1], [0.0, 0.03349282296650718, 0.07692307692307693], [0.030303030303030304, 0.02072538860103627, 0.034482758620689655], [0.024096385542168676, 0.05945945945945946, 0.037037037037037035], [0.02666666666666667, 0.036231884057971016, 0.16666666666666666], [0.047619047619047616, 0.04310344827586207, 0.15], [0.01818181818181818, 0.06722689075630252, 0.0], [0.03389830508474576, 0.04716981132075472, 0.05555555555555555], [0.019230769230769232, 0.12195121951219512, 0.0], [0.09090909090909091, 0.08450704225352113, 0.0], [0.16129032258064516, 0.1076923076923077, 0.0], [0.13793103448275862, 0.041666666666666664, 0.0], [0.06666666666666667, 0.12962962962962962, 0.0], [0.05, 0.06666666666666667, 0.0], [0.36363636363636365, 0.10714285714285714, 0.25], [0.0, 0.25, 0.5]], [[0.0, 0.006024096385542169, 0.0], [0.0, 0.003278688524590164, 0.0], [0.0049261083743842365, 0.003215434083601286, 0.0], [0.0, 0.012096774193548387, 0.0], [0.0, 0.0, 0.0], [0.0, 0.0, 0.0], [0.00847457627118644, 0.004975124378109453, 0.0], [0.007518796992481203, 0.005154639175257732, 0.0], [0.0, 0.01818181818181818, 0.0], [0.0, 0.0, 0.0], [0.006172839506172839, 0.009836065573770493, 0.029411764705882353], [0.0, 0.007692307692307693, 0.0], [0.0, 0.01098901098901099, 0.0], [0.0, 0.0, 0.0], [0.0, 0.0, 0.0], [0.015384615384615385, 0.025974025974025976, 0.0], [0.00980392156862745, 0.009009009009009009, 0.0], [0.010101010101010102, 0.024242424242424242, 0.0], [0.014492753623188406, 0.01282051282051282, 0.1282051282051282], [0.04, 0.03529411764705882, 0.037037037037037035], [0.046875, 0.04225352112676056, 0.07407407407407407], [0.038461538461538464, 0.08035714285714286, 0.0], [0.046511627906976744, 0.045454545454545456, 0.09090909090909091], [0.046511627906976744, 0.056818181818181816, 0.11764705882352941], [0.08163265306122448, 0.0847457627118644, 0.0], [0.06896551724137931, 0.11290322580645161, 0.0], [0.09090909090909091, 0.07142857142857142, 0.0], [0.045454545454545456, 0.02857142857142857, 0.125], [0.1, 0.0625, 0.0], [0.2222222222222222, 0.07142857142857142, 0.16666666666666666], [0.0, 0.037037037037037035, 0.0]], [[0.004739336492890996, 0.0, 0.0], [0.0, 0.0, 0.0], [0.0, 0.0072992700729927005, 0.0], [0.0, 0.0, 0.0], [0.0, 0.007874015748031496, 0.0], [0.00641025641025641, 0.0049504950495049506, 0.08695652173913043], [0.0, 0.0, 0.0], [0.009345794392523364, 0.012903225806451613, 0.0], [0.0, 0.005376344086021506, 0.0], [0.010752688172043012, 0.015706806282722512, 0.0], [0.0, 0.010582010582010581, 0.0], [0.007042253521126761, 0.0, 0.0], [0.014084507042253521, 0.025, 0.03333333333333333], [0.015037593984962405, 0.008264462809917356, 0.0], [0.025, 0.018518518518518517, 0.029411764705882353], [0.0, 0.018867924528301886, 0.0], [0.04838709677419355, 0.02072538860103627, 0.034482758620689655], [0.009523809523809525, 0.005208333333333333, 0.07142857142857142], [0.031578947368421054, 0.04294478527607362, 0.027777777777777776], [0.043478260869565216, 0.031007751937984496, 0.05], [0.015625, 0.05785123966942149, 0.05555555555555555], [0.03076923076923077, 0.028846153846153848, 0.0], [0.047619047619047616, 0.05434782608695652, 0.0], [0.0, 0.0, 0.0], [0.09375, 0.018867924528301886, 0.0], [0.0, 0.03225806451612903, 0.0], [0.041666666666666664, 0.022727272727272728, 0.0], [0.10526315789473684, 0.0, 0.0], [0.16666666666666666, 0.047619047619047616, 0.0], [0.0, 0.047619047619047616, 0.0], [0.0, 0.06666666666666667, 0.0]]]\n"
     ]
    }
   ],
   "source": [
    "probs = [] # [year: 0 -> 1996 - 1998, 11 -> 2018 - 2020][age: 0 -> 65, ..., 3 -> 95][from: 0 - > Excellent, ..., 2 -> Poor][to: 0 -> Dead, 3 -> Poor]\n",
    "\n",
    "for i in range(1996, 2020, 2): # year loop\n",
    "    prob = []\n",
    "    data_select = data.loc[:, ['id + pn', 'age_' + str(i), 'age_' + str(i + 2) + '_group', 'hl_sta_' + str(i), 'hl_sta_' + str(i + 2), 'cnhMove_' + str(i), 'cnhMove_' + str(i + 2)]].dropna()\n",
    "    for j in range(65, 96): # age loop\n",
    "        p = []\n",
    "        for k in range(1, 4, 1): # state(from) loop\n",
    "            denom = data[((data['age_' + str(i)] == j) & (data['hl_sta_' + str(i)] == k) & (data['cnhMove_' + str(i)] == 'n'))].shape[0]\n",
    "            if denom == 0:\n",
    "                p.append(-1)\n",
    "            else:\n",
    "                numer = data[((data['age_' + str(i)] == j) & (data['hl_sta_' + str(i)] == k) & (data['cnhMove_' + str(i)] == 'n') & (data['cnhMove_' + str(i + 2)] == 'y'))].shape[0]\n",
    "                p.append(numer / denom)\n",
    "        prob.append(p)\n",
    "    probs.append(prob)\n",
    "\n",
    "print(probs)"
   ]
  },
  {
   "cell_type": "code",
   "execution_count": 29,
   "metadata": {},
   "outputs": [
    {
     "name": "stdout",
     "output_type": "stream",
     "text": [
      "[[0.0021493514183059622, 0.006064201159074952, 0.015355400415367475], [0.0005973715651135006, 0.005489174557837477, 0.014981578607062826], [0.003319935545823828, 0.006399232942471436, 0.012062451437451438], [0.004146780592288307, 0.0042381243675594414, 0.008297743659242617], [0.0011150533010138922, 0.006647479769425728, 0.0147228039147035], [0.00316852254179166, 0.0078202017585252, 0.030836798115457625], [0.006127570546581869, 0.007044769669013525, 0.013705430372097038], [0.003853416126720749, 0.006339911703095003, 0.02196172941694215], [0.003251852689545099, 0.008276115668937212, 0.026998866712285654], [0.005861871142847926, 0.008352905453005577, 0.0549055203393572], [0.0037612703540563213, 0.019274751070963114, 0.019021674695385828], [0.005594098580151002, 0.011116813857810276, 0.024777251203196963], [0.007241086688670936, 0.013914154829324543, 0.030022829869380475], [0.014048241674765522, 0.01321552055409665, 0.029948190756858836], [0.007471262269356643, 0.018910003924530763, 0.038797216002915844], [0.01024866074962994, 0.02531333629701185, 0.03792640950206203], [0.022863615250302446, 0.02790579187717679, 0.05542401752074006], [0.02482175909035721, 0.029475865323154864, 0.034031183056678224], [0.026949503817107017, 0.042538717815852785, 0.07016106434001504], [0.033675732523876206, 0.04610017847100501, 0.06785714285714285], [0.035052424864292726, 0.05754981951155576, 0.09185914729392991], [0.04488956106404243, 0.06168685534224197, 0.05731059659564156], [0.06290661373987856, 0.06040956812596882, 0.05935831449200433], [0.05235033172134782, 0.07068813000988393, 0.07570014608714298], [0.09244280086680322, 0.07928788510787865, 0.06335888710220261], [0.06152205151788022, 0.08376225962218117, 0.050314065019947375], [0.07829194081268578, 0.06961287863565789, 0.09886893409620684], [0.11559009524109441, 0.10737747810593225, 0.04090909090909091], [0.15686737504919324, 0.09798744450658327, 0.04583333333333333], [0.15867112685294504, 0.09385091768867859, 0.06666666666666667], [0.09264069264069263, 0.13243793243793242, 0.13095238095238096]]\n"
     ]
    }
   ],
   "source": [
    "ave_probs = []\n",
    "\n",
    "for j in range(31): # age loop\n",
    "    ave_prob = []\n",
    "    for k in range(3): # state(from) loop\n",
    "        cal = 0\n",
    "        num = 0\n",
    "        for i in range(12): # year loop\n",
    "            if probs[i][j][k] != -1:\n",
    "                cal = cal + probs[i][j][k]\n",
    "                num = num + 1\n",
    "        ave_prob.append(cal / num)\n",
    "    ave_probs.append(ave_prob)\n",
    "    \n",
    "print(ave_probs)"
   ]
  },
  {
   "cell_type": "code",
   "execution_count": 30,
   "metadata": {},
   "outputs": [],
   "source": [
    "with xw.App(visible=True, add_book=False) as app:\n",
    "    app.display_alerts = False\n",
    "    app.screen_updating = False\n",
    "    wb = app.books.open('Data Output.xlsx')\n",
    "    sheet = wb.sheets('Permanent Nursing-Home Move')\n",
    "    sheet.range('G4:I34').value = ave_probs\n",
    "    wb.save()"
   ]
  },
  {
   "cell_type": "code",
   "execution_count": 31,
   "metadata": {},
   "outputs": [
    {
     "name": "stdout",
     "output_type": "stream",
     "text": [
      "[[[0.0, 0.0, 0.04], [0.0, 0.0, 0.0], [0.0, 0.013888888888888888, 0.0], [0.0, 0.0, 0.0], [0.0, 0.0, 0.0], [0.0, 0.0, 0.0], [0.05, 0.0, 0.0], [0.0, 0.0, 0.0], [0.0, 0.0, 0.0], [0.0, 0.0, 0.25], [0.0, 0.14285714285714285, -1], [0.0, 0.0, 0.0], [0.0, 0.0, 0.0], [0.0, 0.0, -1], [0.0, 0.0, -1], [-1, 0.0, -1], [-1, -1, -1], [-1, 0.0, -1], [0.0, 0.0, -1], [-1, -1, 0.0], [0.0, -1, -1], [-1, 0.0, 0.0], [-1, -1, -1], [-1, -1, -1], [-1, -1, -1], [-1, -1, -1], [-1, -1, -1], [-1, -1, -1], [-1, -1, -1], [-1, -1, -1], [-1, -1, -1]], [[0.0, 0.00625, 0.034482758620689655], [0.0, 0.005649717514124294, 0.034482758620689655], [0.008547008547008548, 0.0, 0.03333333333333333], [0.0, 0.0, 0.03225806451612903], [0.01098901098901099, 0.0, 0.0], [0.0, 0.006756756756756757, 0.03571428571428571], [0.0, 0.013986013986013986, 0.0], [0.0, 0.01639344262295082, 0.0], [0.012048192771084338, 0.0072992700729927005, 0.0], [0.0, 0.008130081300813009, 0.0], [0.0, 0.0, 0.0], [0.014705882352941176, 0.01694915254237288, 0.0], [0.014925373134328358, 0.0, 0.0], [0.022727272727272728, 0.009345794392523364, 0.0], [0.0, 0.01098901098901099, 0.11538461538461539], [0.0, 0.01020408163265306, 0.0], [0.0, 0.014084507042253521, 0.08333333333333333], [0.0, 0.014492753623188406, 0.0], [0.037037037037037035, 0.0425531914893617, 0.08333333333333333], [0.0, 0.05660377358490566, 0.15384615384615385], [0.05263157894736842, 0.05263157894736842, 0.1], [0.0, 0.03773584905660377, 0.0], [0.11764705882352941, 0.07142857142857142, 0.0], [0.1111111111111111, 0.07692307692307693, 0.09090909090909091], [0.0, 0.037037037037037035, 0.08333333333333333], [0.1111111111111111, 0.05263157894736842, 0.0], [0.0, 0.0, 0.0], [0.0, 0.125, 0.0], [0.4, 0.14285714285714285, 0.0], [1.0, 0.25, -1], [0.0, 0.0, 0.0]], [[0.007633587786259542, 0.0392156862745098, 0.03571428571428571], [0.0, 0.006622516556291391, 0.08], [0.008, 0.013157894736842105, 0.0], [0.03007518796992481, 0.007936507936507936, 0.05], [0.0, 0.0, 0.0], [0.02197802197802198, 0.008547008547008548, 0.0], [0.0, 0.0, 0.0], [0.0, 0.006896551724137931, 0.06666666666666667], [0.0, 0.008547008547008548, 0.0], [0.0, 0.018867924528301886, 0.0], [0.02666666666666667, 0.04, 0.03225806451612903], [0.014492753623188406, 0.009345794392523364, 0.09090909090909091], [0.0, 0.009615384615384616, 0.0], [0.03333333333333333, 0.009009009009009009, 0.06666666666666667], [0.044444444444444446, 0.04597701149425287, 0.07692307692307693], [0.0, 0.022222222222222223, 0.09090909090909091], [0.0, 0.045454545454545456, 0.16666666666666666], [0.0, 0.05, 0.0], [0.037037037037037035, 0.05405405405405406, 0.08333333333333333], [0.043478260869565216, 0.022222222222222223, 0.0], [0.05263157894736842, 0.024390243902439025, 0.0], [0.0625, 0.20930232558139536, 0.0], [0.23529411764705882, 0.02631578947368421, 0.0], [0.09090909090909091, 0.03571428571428571, 0.16666666666666666], [0.0, 0.1111111111111111, 0.0], [0.0, 0.09090909090909091, 0.25], [0.0, 0.0, 0.5], [0.0, 0.25, 0.0], [0.3333333333333333, 0.16666666666666666, 0.3333333333333333], [-1, 0.0, -1], [0.0, 0.0, -1]], [[0.0, 0.0, 0.05263157894736842], [0.0, 0.0, 0.0], [0.007751937984496124, 0.014492753623188406, 0.07142857142857142], [0.018518518518518517, 0.007042253521126761, 0.0], [0.0, 0.027972027972027972, 0.05555555555555555], [0.009900990099009901, 0.013605442176870748, 0.041666666666666664], [0.0, 0.02027027027027027, 0.0], [0.0, 0.0, 0.0], [0.0, 0.0, 0.0], [0.0, 0.006896551724137931, 0.037037037037037035], [0.0, 0.008771929824561403, 0.0], [0.0, 0.0, 0.0], [0.0, 0.0, 0.06666666666666667], [0.021739130434782608, 0.011235955056179775, 0.0], [0.0, 0.013888888888888888, 0.06666666666666667], [0.0, 0.05714285714285714, 0.0], [0.05555555555555555, 0.0136986301369863, 0.0], [0.0, 0.0, 0.0], [0.0, 0.02040816326530612, 0.07692307692307693], [0.0, 0.04, 0.0], [0.14285714285714285, 0.05405405405405406, 0.0], [0.0, 0.058823529411764705, 0.1111111111111111], [0.0, 0.029411764705882353, 0.09090909090909091], [0.1111111111111111, 0.0, 0.0], [0.14285714285714285, 0.1, 0.25], [0.125, 0.0, 0.5], [0.0, 0.0, 0.0], [0.0, 0.0, 0.0], [0.0, 0.0, 0.0], [0.0, 0.0, -1], [0.0, 0.0, -1]], [[0.0, 0.004830917874396135, 0.0], [0.0, 0.0, 0.0], [0.0, 0.006329113924050633, 0.0], [0.008, 0.013793103448275862, 0.0], [0.00847457627118644, 0.0, 0.0], [0.0, 0.022727272727272728, 0.037037037037037035], [0.0, 0.008403361344537815, 0.0], [0.0, 0.0, 0.08], [0.0, 0.0, 0.0], [0.0, 0.0, 0.0], [0.0, 0.017543859649122806, 0.0], [0.0, 0.0, 0.0], [0.0, 0.021739130434782608, 0.0], [0.0, 0.0, 0.0], [0.0, 0.0, 0.0], [0.0, 0.07407407407407407, 0.0], [0.0, 0.057692307692307696, 0.0], [0.0, 0.023255813953488372, 0.0], [0.0, 0.05128205128205128, 0.0], [0.0, 0.043478260869565216, 0.0], [0.0, 0.16129032258064516, 0.09090909090909091], [0.0, 0.0, 0.42857142857142855], [0.0, 0.058823529411764705, 0.0], [0.0, 0.0, -1], [0.0, 0.11764705882352941, 0.0], [0.0, 0.0, 0.0], [0.0, 0.0, 0.0], [0.0, 0.0, 0.0], [0.0, 0.0, -1], [0.3333333333333333, 0.0, -1], [0.0, 0.0, -1]], [[0.0, 0.012121212121212121, 0.03571428571428571], [0.0, 0.006060606060606061, 0.0], [0.0, 0.005376344086021506, 0.038461538461538464], [0.0, 0.014184397163120567, 0.0], [0.0, 0.0, 0.0], [0.008130081300813009, 0.013605442176870748, 0.0], [0.0, 0.006711409395973154, 0.0], [0.0, 0.02608695652173913, 0.0], [0.011111111111111112, 0.03389830508474576, 0.0625], [0.011111111111111112, 0.015037593984962405, 0.0], [0.0, 0.009708737864077669, 0.0], [0.013513513513513514, 0.03, 0.0], [0.015625, 0.020618556701030927, 0.1], [0.017543859649122806, 0.009433962264150943, 0.0], [0.022222222222222223, 0.02127659574468085, 0.0], [0.02, 0.0, 0.0], [0.02040816326530612, 0.0, 0.0], [0.030303030303030304, 0.045454545454545456, 0.0], [0.03225806451612903, 0.045454545454545456, 0.0], [0.0, 0.03333333333333333, 0.21428571428571427], [0.04, 0.020833333333333332, 0.0], [0.058823529411764705, 0.06896551724137931, 0.0], [0.0, 0.030303030303030304, 0.08333333333333333], [0.08333333333333333, 0.125, 0.25], [0.0, 0.10714285714285714, 0.125], [0.125, 0.06666666666666667, 0.0], [0.0, 0.1111111111111111, 0.0], [0.3333333333333333, 0.0, 1.0], [0.4, 0.1111111111111111, 0.2], [0.0, 0.07692307692307693, 0.0], [0.0, 0.0, 0.0]], [[0.0, 0.0, 0.0], [0.0, 0.008333333333333333, 0.0], [0.016129032258064516, 0.006134969325153374, 0.0], [0.0, 0.0, 0.0], [0.0, 0.005952380952380952, 0.0], [0.0, 0.007352941176470588, 0.0], [0.0, 0.007874015748031496, 0.0], [0.00980392156862745, 0.0, 0.038461538461538464], [0.012987012987012988, 0.014388489208633094, 0.14285714285714285], [0.0136986301369863, 0.009615384615384616, 0.034482758620689655], [0.0, 0.02654867256637168, 0.0], [0.0, 0.03389830508474576, 0.0], [0.014084507042253521, 0.019417475728155338, 0.0], [0.017241379310344827, 0.036585365853658534, 0.06666666666666667], [0.0, 0.011627906976744186, 0.0], [0.0, 0.024691358024691357, 0.045454545454545456], [0.0, 0.0, 0.07142857142857142], [0.025, 0.046875, 0.05555555555555555], [0.0, 0.015384615384615385, 0.0625], [0.0, 0.02, 0.0], [0.05263157894736842, 0.03571428571428571, 0.0], [0.0, 0.05172413793103448, 0.0], [0.1111111111111111, 0.034482758620689655, 0.0], [0.0, 0.06818181818181818, 0.0], [0.09090909090909091, 0.030303030303030304, 0.0], [0.0, 0.14285714285714285, 0.0], [0.0, 0.0, 0.25], [0.0, 0.058823529411764705, 0.0], [0.0, 0.2, 0.0], [0.0, 0.0, 0.0], [0.3333333333333333, 0.0, -1]], [[0.011904761904761904, 0.010309278350515464, 0.0], [0.0, 0.0, 0.0], [0.0, 0.012345679012345678, 0.0], [0.0, 0.0, 0.0], [0.0, 0.0, 0.0], [0.0, 0.012422360248447204, 0.0], [0.0, 0.006711409395973154, 0.0], [0.0, 0.007042253521126761, 0.0], [0.0, 0.02112676056338028, 0.1], [0.0, 0.0, 0.0], [0.0, 0.007692307692307693, 0.0], [0.0, 0.007874015748031496, 0.0], [0.028985507246376812, 0.03225806451612903, 0.0], [0.0, 0.0, 0.0625], [0.0, 0.010526315789473684, 0.1], [0.0, 0.013513513513513514, 0.09090909090909091], [0.0, 0.015384615384615385, 0.0], [0.02, 0.02666666666666667, 0.1], [0.043478260869565216, 0.016666666666666666, 0.07142857142857142], [0.05714285714285714, 0.04411764705882353, 0.0], [0.0, 0.0, 0.1], [0.06896551724137931, 0.08888888888888889, 0.0], [0.0, 0.0, 0.14285714285714285], [0.047619047619047616, 0.058823529411764705, 0.0], [0.1, 0.04, 0.2], [0.0, 0.0, 0.0], [0.0, 0.0, 0.0], [0.0, 0.0, 0.0], [0.16666666666666666, 0.25, 0.0], [0.0, 0.07692307692307693, 0.0], [0.0, 0.25, -1]], [[0.0, 0.0, 0.0], [0.0, 0.0, 0.0], [0.0, 0.0, 0.0], [0.0, 0.0, 0.0], [0.0, 0.0, 0.0], [0.0, 0.009615384615384616, 0.0], [0.0, 0.006024096385542169, 0.0], [0.0, 0.0, 0.0], [0.0, 0.007352941176470588, 0.09090909090909091], [0.011627906976744186, 0.008130081300813009, 0.08333333333333333], [0.0, 0.015503875968992248, 0.0], [0.0, 0.008, 0.08333333333333333], [0.0, 0.0, 0.0], [0.020833333333333332, 0.019230769230769232, 0.0], [0.0, 0.01020408163265306, 0.058823529411764705], [0.0, 0.00909090909090909, 0.0], [0.0, 0.036585365853658534, 0.0], [0.03571428571428571, 0.04477611940298507, 0.0], [0.023809523809523808, 0.019230769230769232, 0.16666666666666666], [0.03225806451612903, 0.03389830508474576, 0.125], [0.03571428571428571, 0.018518518518518517, 0.0], [0.08571428571428572, 0.043478260869565216, 0.0], [0.06666666666666667, 0.025, 0.08333333333333333], [0.2222222222222222, 0.0, 0.0], [0.0, 0.04, 0.16666666666666666], [0.0, 0.06666666666666667, 0.0], [0.0, 0.05555555555555555, 0.14285714285714285], [0.25, 0.05555555555555555, 0.0], [0.0, 0.0, 0.0], [0.5714285714285714, -1, 0.0], [0.0, 0.0, -1]], [[0.0, 0.0, 0.0], [0.0, 0.01904761904761905, 0.0], [0.0, 0.0, 0.0], [0.0196078431372549, 0.0, 0.0], [0.0, 0.01020408163265306, 0.0], [0.0, 0.0, 0.0], [0.0, 0.012195121951219513, 0.0], [0.010526315789473684, 0.007874015748031496, 0.1], [0.009259259259259259, 0.0, 0.0], [0.0, 0.0070921985815602835, 0.0], [0.012195121951219513, 0.015625, 0.0], [0.0, 0.008333333333333333, 0.11764705882352941], [0.028985507246376812, 0.0, 0.1111111111111111], [0.0, 0.015625, 0.07142857142857142], [0.0, 0.0, 0.0], [0.022222222222222223, 0.011904761904761904, 0.125], [0.0, 0.011111111111111112, 0.06666666666666667], [0.025, 0.037037037037037035, 0.0], [0.02564102564102564, 0.014285714285714285, 0.0], [0.0, 0.01818181818181818, 0.1111111111111111], [0.038461538461538464, 0.061224489795918366, 0.07692307692307693], [0.0, 0.075, 0.0], [0.058823529411764705, 0.02127659574468085, 0.0], [0.034482758620689655, 0.17857142857142858, 0.0], [0.0, 0.10810810810810811, 0.0], [0.0, 0.11764705882352941, 0.0], [0.2222222222222222, 0.0, 0.0], [0.16666666666666666, 0.16, 0.0], [0.2, 0.0, 0.0], [0.25, 0.09090909090909091, 0.0], [0.0, 0.0, 1.0]], [[0.0, 0.006993006993006993, 0.0], [0.0, 0.009009009009009009, 0.0], [0.0, 0.007633587786259542, 0.0], [0.0, 0.021739130434782608, 0.0], [0.0, 0.0, 0.0], [0.0, 0.0, 0.0], [0.022727272727272728, 0.0, 0.0], [0.0, 0.0, 0.0], [0.0, 0.02564102564102564, 0.0], [0.0, 0.0, 0.0], [0.0, 0.0, 0.05555555555555555], [0.0, 0.008771929824561403, 0.0], [0.0, 0.00819672131147541, 0.0], [0.0, 0.0, 0.0], [0.0, 0.0, 0.0], [0.016666666666666666, 0.010638297872340425, 0.0], [0.0, 0.010101010101010102, 0.0], [0.023809523809523808, 0.014705882352941176, 0.0], [0.0, 0.015384615384615385, 0.2], [0.03333333333333333, 0.014084507042253521, 0.0], [0.03225806451612903, 0.03571428571428571, 0.06666666666666667], [0.043478260869565216, 0.1, 0.0], [0.0625, 0.05555555555555555, 0.2], [0.0, 0.04, 0.1111111111111111], [0.08333333333333333, 0.08695652173913043, 0.0], [0.16666666666666666, 0.15, 0.0], [0.07692307692307693, 0.047619047619047616, 0.0], [0.1, 0.0, 1.0], [0.0, 0.0, -1], [0.0, 0.0, 0.5], [0.0, 0.0, -1]], [[0.0, 0.0, 0.0], [0.0, 0.0, 0.0], [0.0, 0.008403361344537815, 0.0], [0.0, 0.0, 0.0], [0.0, 0.019230769230769232, 0.0], [0.016666666666666666, 0.0, 0.15384615384615385], [0.0, 0.0, 0.0], [0.0, 0.0, 0.0], [0.0, 0.0, 0.0], [0.0, 0.0, 0.0], [0.0, 0.0, 0.0], [0.0, 0.0, 0.0], [0.0, 0.019417475728155338, 0.06666666666666667], [0.0, 0.01834862385321101, 0.0], [0.0, 0.021505376344086023, 0.06666666666666667], [0.0, 0.011764705882352941, 0.0], [0.017241379310344827, 0.013333333333333334, 0.0], [0.0, 0.012048192771084338, 0.07142857142857142], [0.02857142857142857, 0.02631578947368421, 0.0], [0.02857142857142857, 0.02040816326530612, 0.0], [0.0, 0.045454545454545456, 0.1111111111111111], [0.05555555555555555, 0.02564102564102564, 0.0], [0.07142857142857142, 0.02564102564102564, 0.0], [0.0, 0.0, 0.0], [0.14285714285714285, 0.0, 0.0], [0.0, 0.0, 0.0], [0.0, 0.0, 0.0], [0.16666666666666666, 0.0, 0.0], [0.2857142857142857, 0.0, 0.0], [0.0, 0.125, 0.0], [0.0, 0.0, -1]]]\n"
     ]
    }
   ],
   "source": [
    "probs = [] # [year: 0 -> 1996 - 1998, 11 -> 2018 - 2020][age: 0 -> 65, ..., 3 -> 95][from: 0 - > Excellent, ..., 2 -> Poor][to: 0 -> Dead, 3 -> Poor]\n",
    "\n",
    "for i in range(1996, 2020, 2): # year loop\n",
    "    prob = []\n",
    "    data_select = data.loc[:, ['id + pn', 'age_' + str(i), 'age_' + str(i + 2) + '_group', 'hl_sta_' + str(i), 'hl_sta_' + str(i + 2), 'cnhMove_' + str(i), 'cnhMove_' + str(i + 2), 'gender_' + str(i)]].dropna()\n",
    "    for j in range(65, 96): # age loop\n",
    "        p = []\n",
    "        for k in range(1, 4, 1): # state(from) loop\n",
    "            denom = data[((data['age_' + str(i)] == j) & (data['hl_sta_' + str(i)] == k) & (data['cnhMove_' + str(i)] == 'n') & (data['gender_' + str(i)] == 'Male'))].shape[0]\n",
    "            if denom == 0:\n",
    "                p.append(-1)\n",
    "            else:\n",
    "                numer = data[((data['age_' + str(i)] == j) & (data['hl_sta_' + str(i)] == k) & (data['cnhMove_' + str(i)] == 'n') & (data['cnhMove_' + str(i + 2)] == 'y') & (data['gender_' + str(i)] == 'Male'))].shape[0]\n",
    "                p.append(numer / denom)\n",
    "        prob.append(p)\n",
    "    probs.append(prob)\n",
    "\n",
    "print(probs)"
   ]
  },
  {
   "cell_type": "code",
   "execution_count": 32,
   "metadata": {},
   "outputs": [
    {
     "name": "stdout",
     "output_type": "stream",
     "text": [
      "[[0.0016281958075851203, 0.00664334180113671, 0.01654524241638579], [0.0, 0.004560233460081928, 0.00954022988505747], [0.0033689982324640994, 0.007313549393940661, 0.011935286935286935], [0.006350129135474852, 0.0053912827086511446, 0.0068548387096774195], [0.0016219656050164525, 0.005279938315652602, 0.004629629629629629], [0.004722980003709296, 0.00788605070209016, 0.02235534527201194], [0.006060606060606061, 0.0068479748731301296, 0.0], [0.0016941864465084278, 0.005357768344832178, 0.02376068376068376], [0.0037837980107056413, 0.009854483357854717, 0.033022186147186154], [0.0030364706854034665, 0.006147484669664427, 0.033737760749255004], [0.0032384823848238486, 0.02368762720188136, 0.007983056370153145], [0.0035593457908035912, 0.010264377577130687, 0.02432412358882947], [0.008550491222444626, 0.010938567419592773, 0.028703703703703703], [0.011118192399015804, 0.010734539971625157, 0.024296536796536795], [0.005555555555555556, 0.012166265654982545, 0.0440422322775264], [0.005353535353535354, 0.020437231780031307, 0.032024793388429756], [0.008473190739200592, 0.01976776600998377, 0.035281385281385275], [0.014529712711530892, 0.02627600093849471, 0.020634920634920634], [0.018986031456812196, 0.026751681330948646, 0.06765318015318016], [0.01770763131211939, 0.03148436642208851, 0.05035358160358161], [0.03726548069926677, 0.046347787092308516, 0.04960090414635869], [0.034094286253868226, 0.06329662788513811, 0.04497354497354497], [0.06577009591715474, 0.03438532917135315, 0.05458480913026367], [0.06370806135696418, 0.053019467163852196, 0.06186868686868687], [0.05090515545061, 0.07075506584225488, 0.075], [0.04797979797979798, 0.062488927715496814, 0.06818181818181818], [0.027195027195027196, 0.01948051948051948, 0.08116883116883117], [0.09242424242424242, 0.059034462269756394, 0.18181818181818182], [0.16233766233766234, 0.07914862914862915, 0.05925925925925926], [0.21547619047619046, 0.06197552447552448, 0.07142857142857142], [0.0303030303030303, 0.022727272727272728, 0.3333333333333333]]\n"
     ]
    }
   ],
   "source": [
    "ave_probs = []\n",
    "\n",
    "for j in range(31): # age loop\n",
    "    ave_prob = []\n",
    "    for k in range(3): # state(from) loop\n",
    "        cal = 0\n",
    "        num = 0\n",
    "        for i in range(12): # year loop\n",
    "            if probs[i][j][k] != -1:\n",
    "                cal = cal + probs[i][j][k]\n",
    "                num = num + 1\n",
    "        ave_prob.append(cal / num)\n",
    "    ave_probs.append(ave_prob)\n",
    "    \n",
    "print(ave_probs)"
   ]
  },
  {
   "cell_type": "code",
   "execution_count": 33,
   "metadata": {},
   "outputs": [],
   "source": [
    "with xw.App(visible=True, add_book=False) as app:\n",
    "    app.display_alerts = False\n",
    "    app.screen_updating = False\n",
    "    wb = app.books.open('Data Output.xlsx')\n",
    "    sheet = wb.sheets('Permanent Nursing-Home Move')\n",
    "    sheet.range('L4:N34').value = ave_probs\n",
    "    wb.save()"
   ]
  },
  {
   "cell_type": "code",
   "execution_count": 34,
   "metadata": {},
   "outputs": [
    {
     "name": "stdout",
     "output_type": "stream",
     "text": [
      "[[[0.0, 0.0056179775280898875, 0.0], [0.0, 0.0, 0.0], [0.0, 0.0, 0.0], [0.0, 0.0, 0.0], [0.0, 0.0, 0.0], [-1, 0.0, 0.5], [0.0, 0.0, -1], [0.0, 0.0, -1], [-1, 0.0, -1], [-1, -1, -1], [-1, 0.0, -1], [0.0, 0.0, 0.0], [0.0, -1, -1], [-1, -1, -1], [-1, -1, -1], [-1, -1, -1], [-1, -1, -1], [-1, -1, -1], [-1, -1, -1], [-1, -1, -1], [-1, -1, -1], [-1, -1, -1], [-1, -1, -1], [-1, -1, -1], [-1, -1, -1], [-1, -1, -1], [-1, -1, -1], [-1, -1, -1], [-1, -1, -1], [-1, -1, -1], [-1, -1, -1]], [[0.0072992700729927005, 0.005376344086021506, 0.0], [0.0, 0.011299435028248588, 0.06666666666666667], [0.007633587786259542, 0.015463917525773196, 0.05555555555555555], [0.0, 0.006578947368421052, 0.0], [0.0, 0.006666666666666667, 0.0], [0.008849557522123894, 0.02040816326530612, 0.03571428571428571], [0.009523809523809525, 0.006369426751592357, 0.0], [0.009615384615384616, 0.0, 0.03225806451612903], [0.0125, 0.0, 0.03125], [0.010638297872340425, 0.013986013986013986, 0.034482758620689655], [0.0, 0.0, 0.0], [0.0, 0.030864197530864196, 0.03333333333333333], [0.0, 0.039735099337748346, 0.024390243902439025], [0.013513513513513514, 0.024096385542168676, 0.08823529411764706], [0.0, 0.024793388429752067, 0.027777777777777776], [0.0, 0.008403361344537815, 0.08823529411764706], [0.017543859649122806, 0.027777777777777776, 0.15384615384615385], [0.05128205128205128, 0.0, 0.125], [0.08108108108108109, 0.11, 0.06896551724137931], [0.07894736842105263, 0.13333333333333333, 0.13043478260869565], [0.022727272727272728, 0.09, 0.1724137931034483], [0.08823529411764706, 0.1, 0.22580645161290322], [0.08695652173913043, 0.046875, 0.23809523809523808], [0.03571428571428571, 0.023809523809523808, 0.07142857142857142], [0.2, 0.0851063829787234, 0.07692307692307693], [0.1111111111111111, 0.1, 0.2], [0.23529411764705882, 0.16, 0.2], [0.1, 0.2916666666666667, 0.0], [0.3333333333333333, 0.16666666666666666, 0.0], [0.0, 0.125, 0.25], [0.25, 0.16666666666666666, 0.16666666666666666]], [[0.0, 0.0, 0.02702702702702703], [0.0, 0.0053475935828877, 0.0], [0.006578947368421052, 0.005952380952380952, 0.034482758620689655], [0.0, 0.0058823529411764705, 0.0], [0.0, 0.006802721088435374, 0.030303030303030304], [0.008771929824561403, 0.008064516129032258, 0.08695652173913043], [0.0, 0.016260162601626018, 0.11538461538461539], [0.016666666666666666, 0.0, 0.0], [0.0, 0.01680672268907563, 0.08695652173913043], [0.020202020202020204, 0.034722222222222224, 0.043478260869565216], [0.0, 0.007936507936507936, 0.11538461538461539], [0.0, 0.025423728813559324, 0.0], [0.010869565217391304, 0.02158273381294964, 0.10810810810810811], [0.05333333333333334, 0.0234375, 0.06060606060606061], [0.014084507042253521, 0.027972027972027972, 0.09090909090909091], [0.024096385542168676, 0.05042016806722689, 0.0625], [0.03508771929824561, 0.02608695652173913, 0.038461538461538464], [0.015873015873015872, 0.10784313725490197, 0.0625], [0.03333333333333333, 0.05434782608695652, 0.22727272727272727], [0.024390243902439025, 0.06097560975609756, 0.0], [0.03125, 0.06944444444444445, 0.11764705882352941], [0.1388888888888889, 0.1016949152542373, 0.05263157894736842], [0.047619047619047616, 0.15625, 0.05263157894736842], [0.0, 0.12962962962962962, 0.25], [0.15384615384615385, 0.10526315789473684, 0.1], [0.0, 0.09090909090909091, 0.0], [0.16666666666666666, 0.17391304347826086, 0.09090909090909091], [0.2857142857142857, 0.14285714285714285, 0.16666666666666666], [0.14285714285714285, 0.15384615384615385, 0.3333333333333333], [0.0, 0.2, -1], [0.2, 0.2857142857142857, 0.3333333333333333]], [[0.005263157894736842, 0.0, 0.0], [0.0136986301369863, 0.0106951871657754, 0.034482758620689655], [0.0, 0.010869565217391304, 0.027777777777777776], [0.006993006993006993, 0.005681818181818182, 0.0], [0.0078125, 0.011494252873563218, 0.0], [0.0, 0.017964071856287425, 0.0], [0.0, 0.006802721088435374, 0.043478260869565216], [0.0, 0.0, 0.03571428571428571], [0.01694915254237288, 0.0, 0.0], [0.0, 0.0, 0.0], [0.0, 0.0, 0.0], [0.0, 0.007518796992481203, 0.0], [0.0, 0.0, 0.0], [0.0136986301369863, 0.015384615384615385, 0.0], [0.0, 0.007692307692307693, 0.03333333333333333], [0.011627906976744186, 0.019867549668874173, 0.0], [0.06666666666666667, 0.04, 0.0], [0.018867924528301886, 0.017543859649122806, 0.0], [0.018867924528301886, 0.0196078431372549, 0.030303030303030304], [0.044444444444444446, 0.038834951456310676, 0.09523809523809523], [0.07142857142857142, 0.043478260869565216, 0.0], [0.029411764705882353, 0.057971014492753624, 0.0], [0.043478260869565216, 0.0, 0.0], [0.0, 0.0784313725490196, 0.07692307692307693], [0.0, 0.10526315789473684, 0.0625], [0.0, 0.04081632653061224, 0.14285714285714285], [0.09090909090909091, 0.041666666666666664, 0.07692307692307693], [0.1, 0.0625, 0.0], [0.0, 0.2, 0.0], [0.14285714285714285, 0.08333333333333333, 0.0], [0.0, 0.16666666666666666, 0.0]], [[0.0, 0.0, 0.03571428571428571], [0.0, 0.0, 0.0], [0.0064516129032258064, 0.0049504950495049506, 0.0], [0.0, 0.0, 0.08823529411764706], [0.0, 0.011111111111111112, 0.03225806451612903], [0.0, 0.018404907975460124, 0.0], [0.0, 0.00558659217877095, 0.0], [0.0, 0.024691358024691357, 0.0], [0.0, 0.023809523809523808, 0.0], [0.0, 0.0, 0.16666666666666666], [0.0, 0.0, 0.0], [0.0, 0.0, 0.0], [0.0, 0.0, 0.0], [0.0, 0.025, 0.0], [0.0, 0.08695652173913043, 0.0], [0.0, 0.037037037037037035, 0.0], [0.05263157894736842, 0.03896103896103896, 0.16666666666666666], [0.03225806451612903, 0.05, 0.0], [0.0, 0.08333333333333333, 0.125], [0.03125, 0.06779661016949153, 0.06666666666666667], [0.0, 0.10344827586206896, 0.0], [0.0, 0.125, 0.0], [0.05263157894736842, 0.03125, 0.0], [0.0, 0.06896551724137931, 0.125], [0.0, 0.03571428571428571, 0.0], [0.0, 0.08695652173913043, 0.0], [0.0, 0.047619047619047616, 0.4], [0.0, 0.07142857142857142, 0.0], [0.4, 0.0, -1], [-1, 0.0, 0.0], [0.0, 0.1111111111111111, 0.0]], [[0.0, 0.0056179775280898875, 0.025], [0.0, 0.0056179775280898875, 0.025], [0.0, 0.005291005291005291, 0.038461538461538464], [0.0, 0.0, 0.0], [0.0, 0.0, 0.03125], [0.0078125, 0.011834319526627219, 0.037037037037037035], [0.0, 0.017045454545454544, 0.0], [0.009523809523809525, 0.006329113924050633, 0.06896551724137931], [0.010101010101010102, 0.0058823529411764705, 0.038461538461538464], [0.010752688172043012, 0.01775147928994083, 0.07407407407407407], [0.019417475728155338, 0.014814814814814815, 0.0625], [0.011764705882352941, 0.0, 0.1], [0.014925373134328358, 0.0, 0.125], [0.011764705882352941, 0.0, 0.05], [0.0, 0.009615384615384616, 0.0], [0.0, 0.06666666666666667, 0.09523809523809523], [0.017241379310344827, 0.0425531914893617, 0.0], [0.0196078431372549, 0.05102040816326531, 0.11764705882352941], [0.06, 0.02857142857142857, 0.0], [0.021739130434782608, 0.033707865168539325, 0.14285714285714285], [0.027777777777777776, 0.045871559633027525, 0.125], [0.08823529411764706, 0.02564102564102564, 0.1875], [0.0625, 0.12698412698412698, 0.08333333333333333], [0.18181818181818182, 0.05263157894736842, 0.15384615384615385], [0.16666666666666666, 0.14893617021276595, 0.14285714285714285], [0.08333333333333333, 0.06521739130434782, 0.125], [0.07142857142857142, 0.14814814814814814, 0.2], [0.16666666666666666, 0.14814814814814814, 0.0], [0.14285714285714285, 0.0, 0.0], [0.2, 0.14285714285714285, 0.0], [0.25, 0.3076923076923077, 0.0]], [[0.007633587786259542, 0.012578616352201259, 0.04], [0.0, 0.0106951871657754, 0.03333333333333333], [0.0, 0.010471204188481676, 0.0], [0.0, 0.0, 0.029411764705882353], [0.0, 0.014492753623188406, 0.06666666666666667], [0.0, 0.005076142131979695, 0.0], [0.00819672131147541, 0.009523809523809525, 0.0], [0.0, 0.011904761904761904, 0.041666666666666664], [0.0, 0.0, 0.058823529411764705], [0.009259259259259259, 0.014184397163120567, 0.07142857142857142], [0.0, 0.00625, 0.037037037037037035], [0.011111111111111112, 0.025806451612903226, 0.08695652173913043], [0.01, 0.04827586206896552, 0.0], [0.03278688524590164, 0.05, 0.0], [0.0, 0.01020408163265306, 0.06896551724137931], [0.05172413793103448, 0.03875968992248062, 0.0], [0.015384615384615385, 0.05555555555555555, 0.06666666666666667], [0.10416666666666667, 0.047619047619047616, 0.0], [0.07317073170731707, 0.06741573033707865, 0.07142857142857142], [0.09090909090909091, 0.06493506493506493, 0.0], [0.10256410256410256, 0.13402061855670103, 0.058823529411764705], [0.06060606060606061, 0.05263157894736842, 0.05555555555555555], [0.043478260869565216, 0.10588235294117647, 0.06666666666666667], [0.0625, 0.09836065573770492, 0.0], [0.09523809523809523, 0.06521739130434782, 0.06666666666666667], [0.125, 0.20512820512820512, 0.0], [0.2, 0.06666666666666667, 0.14285714285714285], [0.09090909090909091, 0.11428571428571428, 0.0], [0.0, 0.058823529411764705, 0.0], [0.0, 0.058823529411764705, 0.0], [0.25, 0.1, 0.0]], [[0.0, 0.017543859649122806, 0.0], [0.0, 0.008771929824561403, 0.0], [0.008620689655172414, 0.0, 0.0], [0.007874015748031496, 0.0, 0.0], [0.0, 0.010471204188481676, 0.0], [0.0, 0.00510204081632653, 0.0], [0.007352941176470588, 0.005780346820809248, 0.0625], [0.0, 0.0, 0.034482758620689655], [0.0, 0.010810810810810811, 0.06666666666666667], [0.0, 0.00625, 0.11538461538461539], [0.009615384615384616, 0.007194244604316547, 0.038461538461538464], [0.00980392156862745, 0.0072992700729927005, 0.0], [0.0, 0.007246376811594203, 0.0], [0.011235955056179775, 0.021897810218978103, 0.037037037037037035], [0.014084507042253521, 0.03731343283582089, 0.08695652173913043], [0.014925373134328358, 0.009523809523809525, 0.0], [0.02127659574468085, 0.03571428571428571, 0.08695652173913043], [0.01818181818181818, 0.05, 0.0], [0.0, 0.07291666666666667, 0.1], [0.0, 0.05, 0.06666666666666667], [0.0, 0.06153846153846154, 0.35714285714285715], [0.0, 0.04054054054054054, 0.09090909090909091], [0.07894736842105263, 0.07462686567164178, 0.0], [0.09090909090909091, 0.16129032258064516, 0.09090909090909091], [0.17857142857142858, 0.0975609756097561, 0.08333333333333333], [0.0, 0.13725490196078433, 0.0], [0.058823529411764705, 0.06666666666666667, 0.1], [0.07692307692307693, 0.3103448275862069, 0.0], [0.25, 0.2, 0.0], [0.0, 0.1111111111111111, -1], [0.2857142857142857, 0.1875, 0.3333333333333333]], [[0.0, 0.0, 0.0], [0.0, 0.018867924528301886, 0.0], [0.0, 0.0, 0.0], [0.008333333333333333, 0.008333333333333333, 0.0], [0.0, 0.014492753623188406, 0.047619047619047616], [0.0, 0.0, 0.0], [0.0, 0.011695906432748537, 0.0], [0.0, 0.005917159763313609, 0.0], [0.0, 0.00558659217877095, 0.0], [0.01639344262295082, 0.005555555555555556, 0.1111111111111111], [0.009523809523809525, 0.009900990099009901, 0.0], [0.02, 0.01875, 0.043478260869565216], [0.011363636363636364, 0.0, 0.10526315789473684], [0.033707865168539325, 0.007575757575757576, 0.0], [0.0379746835443038, 0.021897810218978103, 0.03571428571428571], [0.0, 0.015873015873015872, 0.09523809523809523], [0.046153846153846156, 0.028037383177570093, 0.1111111111111111], [0.03571428571428571, 0.010869565217391304, 0.0], [0.047619047619047616, 0.034482758620689655, 0.0], [0.05128205128205128, 0.023809523809523808, 0.0], [0.0196078431372549, 0.02702702702702703, 0.07142857142857142], [0.03571428571428571, 0.05454545454545454, 0.09090909090909091], [0.12, 0.10344827586206896, 0.07692307692307693], [0.08, 0.1076923076923077, 0.0], [0.125, 0.09803921568627451, 0.14285714285714285], [0.17647058823529413, 0.05405405405405406, 0.0], [0.043478260869565216, 0.15151515151515152, 0.0], [0.4, 0.09090909090909091, 0.0], [0.07692307692307693, 0.17647058823529413, 0.0], [0.0, 0.17647058823529413, 0.0], [0.0, 0.0, -1]], [[0.0, 0.010810810810810811, 0.047619047619047616], [0.0, 0.006535947712418301, 0.05263157894736842], [0.0, 0.0, 0.0], [0.0, 0.009433962264150943, 0.0], [0.0, 0.016260162601626018, 0.045454545454545456], [0.0, 0.0, 0.0], [0.009523809523809525, 0.0, 0.05263157894736842], [0.0, 0.006024096385542169, 0.047619047619047616], [0.0, 0.005988023952095809, 0.0], [0.00909090909090909, 0.0, 0.0625], [0.0, 0.011904761904761904, 0.038461538461538464], [0.019417475728155338, 0.01694915254237288, 0.0], [0.0, 0.0223463687150838, 0.0], [0.0, 0.0136986301369863, 0.14285714285714285], [0.0, 0.058823529411764705, 0.043478260869565216], [0.029850746268656716, 0.05, 0.07142857142857142], [0.0, 0.05042016806722689, 0.08333333333333333], [0.03389830508474576, 0.008928571428571428, 0.05263157894736842], [0.022727272727272728, 0.08695652173913043, 0.07142857142857142], [0.04878048780487805, 0.04819277108433735, 0.2], [0.05405405405405406, 0.029850746268656716, 0.2857142857142857], [0.030303030303030304, 0.06329113924050633, 0.0], [0.023809523809523808, 0.06779661016949153, 0.09090909090909091], [0.0, 0.09259259259259259, 0.0], [0.15, 0.058823529411764705, 0.0], [0.2777777777777778, 0.10416666666666667, 0.0], [0.1, 0.06060606060606061, 0.0], [0.0, 0.10344827586206896, 0.0], [0.0, 0.08, 0.0], [0.42857142857142855, 0.11764705882352941, 0.5], [0.0, 0.36363636363636365, 0.0]], [[0.0, 0.005291005291005291, 0.0], [0.0, 0.0, 0.0], [0.008064516129032258, 0.0, 0.0], [0.0, 0.00641025641025641, 0.0], [0.0, 0.0, 0.0], [0.0, 0.0, 0.0], [0.0, 0.00847457627118644, 0.0], [0.012658227848101266, 0.008064516129032258, 0.0], [0.0, 0.014084507042253521, 0.0], [0.0, 0.0, 0.0], [0.011627906976744186, 0.018633540372670808, 0.0], [0.0, 0.00684931506849315, 0.0], [0.0, 0.013245033112582781, 0.0], [0.0, 0.0, 0.0], [0.0, 0.0, 0.0], [0.014285714285714285, 0.0364963503649635, 0.0], [0.017857142857142856, 0.008130081300813009, 0.0], [0.0, 0.030927835051546393, 0.0], [0.02564102564102564, 0.01098901098901099, 0.10344827586206896], [0.044444444444444446, 0.050505050505050504, 0.058823529411764705], [0.06060606060606061, 0.046511627906976744, 0.08333333333333333], [0.034482758620689655, 0.06944444444444445, 0.0], [0.037037037037037035, 0.038461538461538464, 0.0], [0.08695652173913043, 0.06349206349206349, 0.125], [0.08108108108108109, 0.08333333333333333, 0.0], [0.0, 0.09523809523809523, 0.0], [0.1111111111111111, 0.09523809523809523, 0.0], [0.0, 0.038461538461538464, 0.0], [0.11764705882352941, 0.10526315789473684, 0.0], [0.3333333333333333, 0.14285714285714285, 0.0], [0.0, 0.05555555555555555, 0.0]], [[0.008064516129032258, 0.0, 0.0], [0.0, 0.0, 0.0], [0.0, 0.0064516129032258064, 0.0], [0.0, 0.0, 0.0], [0.0, 0.0, 0.0], [0.0, 0.00847457627118644, 0.0], [0.0, 0.0, 0.0], [0.01639344262295082, 0.022988505747126436, 0.0], [0.0, 0.008849557522123894, 0.0], [0.01818181818181818, 0.02608695652173913, 0.0], [0.0, 0.015873015873015872, 0.0], [0.012987012987012988, 0.0, 0.0], [0.025, 0.029197080291970802, 0.0], [0.027777777777777776, 0.0, 0.0], [0.039473684210526314, 0.016260162601626018, 0.0], [0.0, 0.023622047244094488, 0.0], [0.07575757575757576, 0.025423728813559324, 0.058823529411764705], [0.018518518518518517, 0.0, 0.07142857142857142], [0.03333333333333333, 0.05747126436781609, 0.043478260869565216], [0.058823529411764705, 0.0375, 0.1111111111111111], [0.02564102564102564, 0.06493506493506493, 0.0], [0.02127659574468085, 0.03076923076923077, 0.0], [0.03571428571428571, 0.07547169811320754, 0.0], [0.0, 0.0, 0.0], [0.05555555555555555, 0.03333333333333333, 0.0], [0.0, 0.05, 0.0], [0.05555555555555555, 0.02857142857142857, 0.0], [0.07692307692307693, 0.0, 0.0], [0.0, 0.07142857142857142, 0.0], [0.0, 0.0, 0.0], [0.0, 0.1111111111111111, 0.0]]]\n"
     ]
    }
   ],
   "source": [
    "probs = [] # [year: 0 -> 1996 - 1998, 11 -> 2018 - 2020][age: 0 -> 65, ..., 3 -> 95][from: 0 - > Excellent, ..., 2 -> Poor][to: 0 -> Dead, 3 -> Poor]\n",
    "\n",
    "for i in range(1996, 2020, 2): # year loop\n",
    "    prob = []\n",
    "    data_select = data.loc[:, ['id + pn', 'age_' + str(i), 'age_' + str(i + 2) + '_group', 'hl_sta_' + str(i), 'hl_sta_' + str(i + 2), 'cnhMove_' + str(i), 'cnhMove_' + str(i + 2), 'gender_' + str(i)]].dropna()\n",
    "    for j in range(65, 96): # age loop\n",
    "        p = []\n",
    "        for k in range(1, 4, 1): # state(from) loop\n",
    "            denom = data[((data['age_' + str(i)] == j) & (data['hl_sta_' + str(i)] == k) & (data['cnhMove_' + str(i)] == 'n') & (data['gender_' + str(i)] == 'Female'))].shape[0]\n",
    "            if denom == 0:\n",
    "                p.append(-1)\n",
    "            else:\n",
    "                numer = data[((data['age_' + str(i)] == j) & (data['hl_sta_' + str(i)] == k) & (data['cnhMove_' + str(i)] == 'n') & (data['cnhMove_' + str(i + 2)] == 'y') & (data['gender_' + str(i)] == 'Female'))].shape[0]\n",
    "                p.append(numer / denom)\n",
    "        prob.append(p)\n",
    "    probs.append(prob)\n",
    "\n",
    "print(probs)"
   ]
  },
  {
   "cell_type": "code",
   "execution_count": 35,
   "metadata": {},
   "outputs": [
    {
     "name": "stdout",
     "output_type": "stream",
     "text": [
      "[[0.002355044323585112, 0.005236382603778455, 0.014613363363363364], [0.001141552511415525, 0.006485931878004881, 0.01767619479733817], [0.0031124461535092557, 0.004954181760646932, 0.013023135867963455], [0.0019333630061976516, 0.0035267225415963658, 0.00980392156862745], [0.0006510416666666666, 0.00764930214802174, 0.021129279546618255], [0.0023121806678804814, 0.007944061497683818, 0.054975653707537764], [0.002883106794630421, 0.00729491635120275, 0.024908586836504456], [0.005404794273076074, 0.007159959323209865, 0.023700576398017995], [0.003595469331216635, 0.007651507578819241, 0.025650750570827295], [0.008592585036485545, 0.01077605679441748, 0.06173873255957214], [0.004562234258553969, 0.007708989633758149, 0.026531339031339033], [0.007090352273104987, 0.011621742719472224, 0.021980676328502414], [0.006013214559613002, 0.016511686740990465, 0.03297831908229854], [0.017983515101325873, 0.01646279080531873, 0.03443050314708069], [0.009601580167212468, 0.02741169519540414, 0.0351940715985966], [0.013319114921695156, 0.03242451779206424, 0.03751273236567354], [0.03323645270632812, 0.03442365157990256, 0.06962413829421503], [0.031669863045707985, 0.034068402216713346, 0.03901883719995176], [0.03597943181551933, 0.05691748944085144, 0.07648408676417398], [0.045000981004995284, 0.055417343656159, 0.0792543631418312], [0.03778697344873816, 0.0651023715492722, 0.11559122081434454], [0.047923088438073864, 0.06559357671596015, 0.06393743344854629], [0.057470171366052376, 0.07518604256393198, 0.05532354407952494], [0.048899825470971714, 0.07971777857020315, 0.08119153573699028], [0.10963263463263463, 0.08332644848855077, 0.06137612387612388], [0.07033571004159239, 0.0936128412300897, 0.04253246753246753], [0.10302426396358039, 0.09460099774329021, 0.11006266460811914], [0.117921472466927, 0.12491363420046805, 0.01515151515151515], [0.13305615952674776, 0.11022715158938069, 0.03333333333333333], [0.11047619047619046, 0.10528180969357441, 0.08333333333333333], [0.11233766233766235, 0.16869582437764258, 0.08333333333333333]]\n"
     ]
    }
   ],
   "source": [
    "ave_probs = []\n",
    "\n",
    "for j in range(31): # age loop\n",
    "    ave_prob = []\n",
    "    for k in range(3): # state(from) loop\n",
    "        cal = 0\n",
    "        num = 0\n",
    "        for i in range(12): # year loop\n",
    "            if probs[i][j][k] != -1:\n",
    "                cal = cal + probs[i][j][k]\n",
    "                num = num + 1\n",
    "        ave_prob.append(cal / num)\n",
    "    ave_probs.append(ave_prob)\n",
    "    \n",
    "print(ave_probs)"
   ]
  },
  {
   "cell_type": "code",
   "execution_count": 36,
   "metadata": {},
   "outputs": [],
   "source": [
    "with xw.App(visible=True, add_book=False) as app:\n",
    "    app.display_alerts = False\n",
    "    app.screen_updating = False\n",
    "    wb = app.books.open('Data Output.xlsx')\n",
    "    sheet = wb.sheets('Permanent Nursing-Home Move')\n",
    "    sheet.range('Q4:S34').value = ave_probs\n",
    "    wb.save()"
   ]
  }
 ],
 "metadata": {
  "kernelspec": {
   "display_name": "Python 3 (ipykernel)",
   "language": "python",
   "name": "python3"
  },
  "language_info": {
   "codemirror_mode": {
    "name": "ipython",
    "version": 3
   },
   "file_extension": ".py",
   "mimetype": "text/x-python",
   "name": "python",
   "nbconvert_exporter": "python",
   "pygments_lexer": "ipython3",
   "version": "3.9.0"
  },
  "vscode": {
   "interpreter": {
    "hash": "81794d4967e6c3204c66dcd87b604927b115b27c00565d3d43f05ba2f3a2cb0d"
   }
  }
 },
 "nbformat": 4,
 "nbformat_minor": 2
}
