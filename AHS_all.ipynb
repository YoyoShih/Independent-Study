{
 "cells": [
  {
   "cell_type": "code",
   "execution_count": 1,
   "id": "16677d68",
   "metadata": {},
   "outputs": [],
   "source": [
    "import numpy as np\n",
    "import pandas as pd"
   ]
  },
  {
   "cell_type": "code",
   "execution_count": 5,
   "id": "304f6100",
   "metadata": {},
   "outputs": [
    {
     "name": "stdout",
     "output_type": "stream",
     "text": [
      "              CONTROL  UNITSF2001 RAM2001 VALUE2001  ZINC22001  UNITSF2003  \\\n",
      "0      '100029370149'      2500.0     '2'    185000     6000.0      2500.0   \n",
      "1      '100049180149'      4000.0     '2'    325000   297379.0      4000.0   \n",
      "2      '100121340142'      2000.0     '2'    285000   408065.0      2000.0   \n",
      "3      '100126110140'      3405.0     '2'    280000     1400.0      3405.0   \n",
      "4      '100168130146'      2800.0     '2'    199500        0.0      2800.0   \n",
      "...               ...         ...     ...       ...        ...         ...   \n",
      "16796  '999900056601'         NaN     NaN       NaN        NaN         NaN   \n",
      "16797  '999900056620'         NaN     NaN       NaN        NaN         NaN   \n",
      "16798  '999900056638'         NaN     NaN       NaN        NaN         NaN   \n",
      "16799  '999900056663'         NaN     NaN       NaN        NaN         NaN   \n",
      "16800  '999900056749'         NaN     NaN       NaN        NaN         NaN   \n",
      "\n",
      "      RAM2003 VALUE2003  ZINC22003  UNITSF2005  ... VALUE2009 ZINC22009  \\\n",
      "0         '2'    180000     2280.0         NaN  ...       NaN       NaN   \n",
      "1         '2'    288000   186100.0      4000.0  ...  400000.0   97000.0   \n",
      "2         '2'    320000   385122.0         NaN  ...       NaN       NaN   \n",
      "3         '2'    190000    25000.0      3405.0  ...  300000.0     100.0   \n",
      "4         '2'    200000    17208.0      2800.0  ...  550000.0   27050.0   \n",
      "...       ...       ...        ...         ...  ...       ...       ...   \n",
      "16796     NaN       NaN        NaN         NaN  ...       NaN       NaN   \n",
      "16797     NaN       NaN        NaN         NaN  ...       NaN       NaN   \n",
      "16798     NaN       NaN        NaN         NaN  ...       NaN       NaN   \n",
      "16799     NaN       NaN        NaN         NaN  ...       NaN       NaN   \n",
      "16800     NaN       NaN        NaN         NaN  ...       NaN       NaN   \n",
      "\n",
      "       ZINC22011  UNITSF2011 RAM2011  VALUE2011  UNITSF2013  RAM2013  \\\n",
      "0            NaN         NaN     NaN        NaN         NaN      NaN   \n",
      "1        87880.0      4000.0     '2'     350000      4000.0      '2'   \n",
      "2            NaN         NaN     NaN        NaN         NaN      NaN   \n",
      "3            NaN         NaN     NaN        NaN         NaN      NaN   \n",
      "4         9000.0      2800.0     '2'     118000      2800.0     '-9'   \n",
      "...          ...         ...     ...        ...         ...      ...   \n",
      "16796        NaN         NaN     NaN        NaN       600.0      '2'   \n",
      "16797        NaN         NaN     NaN        NaN      3000.0      '2'   \n",
      "16798        NaN         NaN     NaN        NaN       550.0      '2'   \n",
      "16799        NaN         NaN     NaN        NaN      1800.0      ' '   \n",
      "16800        NaN         NaN     NaN        NaN      2000.0      '2'   \n",
      "\n",
      "      VALUE2013  ZINC22013  \n",
      "0           NaN        NaN  \n",
      "1        350000    32400.0  \n",
      "2           NaN        NaN  \n",
      "3           NaN        NaN  \n",
      "4         30000    77987.0  \n",
      "...         ...        ...  \n",
      "16796         1    26400.0  \n",
      "16797    250000    30000.0  \n",
      "16798    100000     3100.0  \n",
      "16799    100000      787.0  \n",
      "16800    350000     1489.0  \n",
      "\n",
      "[16801 rows x 29 columns]\n"
     ]
    }
   ],
   "source": [
    "root_path = 'D:/Desktop/imf/專題/data/AHS/'\n",
    "usecols = ['CONTROL', 'VALUE', 'UNITSF', 'RAM', 'ZINC2']\n",
    "\n",
    "result = pd.DataFrame()\n",
    "for year in range(2001, 2015, 2):\n",
    "    try:\n",
    "        if year == 2011:\n",
    "            data_chunks = pd.read_csv(f'{root_path}AHS {year} National PUF v3.0 CSV/household.csv', usecols=usecols, chunksize=1000, low_memory=False)\n",
    "        else:\n",
    "            data_chunks = pd.read_csv(f'{root_path}AHS {year} National PUF v2.0 CSV/household.csv', usecols=usecols, chunksize=1000, low_memory=False)\n",
    "        \n",
    "        chunk_list = []\n",
    "        for data_chunk in data_chunks:\n",
    "            # operation\n",
    "            data_chunk = data_chunk.drop(data_chunk[data_chunk.RAM == \"'-6'\"].index)\n",
    "\n",
    "            chunk_list.append(data_chunk)\n",
    "        \n",
    "        temp = pd.concat(chunk_list).rename(columns=dict(zip(usecols, list(map(lambda x: x if x == 'CONTROL' else x + str(year), usecols)))))\n",
    "        if result.empty:\n",
    "            result = temp\n",
    "        else:\n",
    "            result = pd.merge(left=result, right=temp, how='outer')\n",
    "    except Exception as e:\n",
    "        print(e)\n",
    "\n",
    "print(result)\n",
    "file_name = 'AHS.csv'\n",
    "result.to_csv(file_name, index=False)"
   ]
  }
 ],
 "metadata": {
  "kernelspec": {
   "display_name": "Python 3 (ipykernel)",
   "language": "python",
   "name": "python3"
  },
  "language_info": {
   "codemirror_mode": {
    "name": "ipython",
    "version": 3
   },
   "file_extension": ".py",
   "mimetype": "text/x-python",
   "name": "python",
   "nbconvert_exporter": "python",
   "pygments_lexer": "ipython3",
   "version": "3.9.12"
  }
 },
 "nbformat": 4,
 "nbformat_minor": 5
}
