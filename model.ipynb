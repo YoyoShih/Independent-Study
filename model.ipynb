{
 "cells": [
  {
   "cell_type": "code",
   "execution_count": null,
   "metadata": {},
   "outputs": [],
   "source": [
    "# Constants\n",
    "PSI_2 = 1.34\n",
    "CHI_2 = 1.48\n",
    "R = 0.026\n",
    "IOTA_M = 0.017\n",
    "ALPHA = 0.35\n",
    "DELTA = 0.017\n",
    "KAPPA = 0.066\n",
    "BETA = 0.906\n",
    "ETA = 0.762\n",
    "SIGMA = 2.006\n",
    "OMEGA_1 = 4.918\n",
    "GAMMA = 20.534\n",
    "ZETA = 7619\n",
    "c_floor = 13919"
   ]
  },
  {
   "cell_type": "code",
   "execution_count": null,
   "metadata": {},
   "outputs": [],
   "source": [
    "H = set()\n",
    "# h0 = 0, h_1 = smallest house available, h_H = largest house available"
   ]
  },
  {
   "cell_type": "code",
   "execution_count": null,
   "metadata": {},
   "outputs": [],
   "source": [
    "# Functions\n",
    "def UtilityofRenter(i, b, s, m, x, p, a, k=0, h=0):\n",
    "    max_u = 0\n",
    "    a_prime = \n",
    "    for c_telta, h_telta in (H, H):\n",
    "        # subjection\n",
    "        if not(c_telta + a_prime + x + r_h * h_telta == (1 + r) * a + b * chi_s):\n",
    "            continue\n",
    "        c = max(c_floor * chi_s - r_h * h_telta, c_telta) if a_prime == 0 else c_telta\n",
    "        # calculation\n",
    "        temp = 0\n",
    "        for s_prime in s_set:\n",
    "            for m_prime in m_set:\n",
    "                for x_prime in x_set:\n",
    "                    for p_prime in p_set:\n",
    "                        temp = temp + UtilityofRenter(i+1, b, s_prime, m_prime, x_prime, p_prime, a_prime)\n",
    "        pi_im0 = \n",
    "        utility = u(s, c, h, 0) + BETA * temp + BETA * pi_im0 * v(a_prime)\n",
    "        if temp > max_u:\n",
    "            max_u = temp\n",
    "    return\n",
    "\n",
    "def u(s, c, h, o):\n",
    "    return\n",
    "\n",
    "def v(a):\n",
    "    return"
   ]
  },
  {
   "cell_type": "code",
   "execution_count": null,
   "metadata": {},
   "outputs": [],
   "source": []
  }
 ],
 "metadata": {
  "language_info": {
   "name": "python"
  },
  "orig_nbformat": 4
 },
 "nbformat": 4,
 "nbformat_minor": 2
}
