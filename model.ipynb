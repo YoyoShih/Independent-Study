{
 "cells": [
  {
   "cell_type": "code",
   "execution_count": 50,
   "metadata": {},
   "outputs": [],
   "source": [
    "import math\n",
    "from numpy import array, floor\n",
    "from pandas import read_csv, DataFrame, concat\n",
    "from itertools import product"
   ]
  },
  {
   "cell_type": "code",
   "execution_count": 72,
   "metadata": {},
   "outputs": [],
   "source": [
    "root_path = 'C:/Users/shih/Project/'\n",
    "def HRSs(year):\n",
    "    return read_csv(f'{root_path}data/HRS_{year}.csv')\n",
    "\n",
    "health_status_tran = read_csv(f'{root_path}transition prob/Health_Status_Transition_total.csv')\n",
    "household_size_tran = read_csv(f'{root_path}transition prob/Household_Size_Transition_total.csv')"
   ]
  },
  {
   "cell_type": "markdown",
   "metadata": {},
   "source": [
    "## Constants"
   ]
  },
  {
   "cell_type": "code",
   "execution_count": 3,
   "metadata": {},
   "outputs": [],
   "source": [
    "r = 0.026\n",
    "IOTA_M = 0.017\n",
    "ALPHA = 0.35\n",
    "DELTA = 0.017\n",
    "KAPPA = 0.066\n",
    "BETA = 0.906\n",
    "ETA = 0.762\n",
    "SIGMA = 2.006\n",
    "GAMMA = 20.534\n",
    "ZETA = 7619\n",
    "c_floor = 13919\n",
    "\n",
    "# By Appendix\n",
    "r_h = DELTA + r + IOTA_M\n",
    "\n",
    "def PSI(s):\n",
    "    return 1 if s == 1 else 1.34\n",
    "\n",
    "def CHI_s(s):\n",
    "    return 1 if s == 1 else 1.48\n",
    "\n",
    "def OMEGA(o):\n",
    "    return 1 if o == 0 else 4.918"
   ]
  },
  {
   "cell_type": "code",
   "execution_count": 70,
   "metadata": {},
   "outputs": [],
   "source": [
    "MAX_AGE = 95\n",
    "s_set = {1, 2}\n",
    "m_set = {1, 2, 3}\n",
    "# x_set = range()\n",
    "# p_set = range()\n",
    "\n",
    "bins = array([28000, 72500, 118000, 160000, 200000, 245000, 301000, 400000, 682000])\n",
    "def HouseAfford(money):\n",
    "    maps = lambda x: x < money\n",
    "    temp = maps(bins)\n",
    "    return sum(temp)"
   ]
  },
  {
   "cell_type": "markdown",
   "metadata": {},
   "source": [
    "## Functions"
   ]
  },
  {
   "cell_type": "code",
   "execution_count": 81,
   "metadata": {},
   "outputs": [],
   "source": [
    "'''\n",
    "Assumption:\n",
    "Renter would never buy house\n",
    "Pension income is constant during life cycle\n",
    "Rents are constant\n",
    "Housleholds only invest in risk-free bonds whose return is r\n",
    "'''\n",
    "def UtilityofRenter(i, b, s, m, x, p, a, k=0, h=0):\n",
    "    if i == MAX_AGE:\n",
    "        return 0\n",
    "    else:\n",
    "        max_u = 0\n",
    "        largest_house_afford = HouseAfford(int(floor(((1+r)*a+b*CHI_s(s)-x)/r_h)))\n",
    "        for h_index in range(0, largest_house_afford+1):\n",
    "            h_tilde = bins[h_index]\n",
    "            for a_prime in range(0, int(floor((1+r)*a+b*CHI_s(s)-x-r_h*h_tilde)), 1000):\n",
    "                for c_tilde in range(0, int(floor((1+r)*a+b*CHI_s(s)-x-r_h*h_tilde-a_prime)), 1000):\n",
    "                    c = max(c_floor * CHI_s(s) - r_h * h_tilde, c_tilde) if a_prime == 0 else c_tilde\n",
    "                    # calculation\n",
    "                    temp = 0\n",
    "                    for s_prime in s_set:\n",
    "                        index = (household_size_tran['age'] == i) & (household_size_tran['from'] == s) & (household_size_tran['to'] == s_prime)\n",
    "                        pi_issp = household_size_tran[index]['p'].values[0]\n",
    "                        for m_prime in m_set:\n",
    "                            index = (health_status_tran['age'] == i) & (health_status_tran['from'] == m) & (health_status_tran['to'] == m_prime)\n",
    "                            pi_immp = health_status_tran[index]['p'].values[0]\n",
    "                            # for x_prime in x_set:\n",
    "                            #     for p_prime in p_set:\n",
    "                            x_prime = x\n",
    "                            p_prime = p\n",
    "                            temp = temp + pi_issp * pi_immp * UtilityofRenter(i+1, b, s_prime, m_prime, x_prime, p_prime, a_prime)\n",
    "                    index = (health_status_tran['age'] == i) & (health_status_tran['from'] == m) & (health_status_tran['to'] == 4)\n",
    "                    pi_im0 = health_status_tran[index]['p'].values[0]\n",
    "                    utility = u(s, c, h, 0) + BETA * temp + BETA * pi_im0 * v(a_prime)\n",
    "                    if temp > max_u:\n",
    "                        max_u = temp\n",
    "        return max_u\n",
    "\n",
    "def u(s, c, h, o):\n",
    "    try:\n",
    "        return pow(pow(c, ETA)*pow(OMEGA(0)*h, 1-ETA)/PSI(s), 1-SIGMA)/(1-SIGMA)\n",
    "    except:\n",
    "        return 0\n",
    "\n",
    "def v(a):\n",
    "    try:\n",
    "        return GAMMA * pow(a+ZETA, 1-SIGMA)/(1-SIGMA)\n",
    "    except:\n",
    "        return 0"
   ]
  },
  {
   "cell_type": "code",
   "execution_count": 15,
   "metadata": {},
   "outputs": [
    {
     "name": "stdout",
     "output_type": "stream",
     "text": [
      "         age_1996 gender_1996  hh_size_1996  hl_sta_1996 cnhMove_1996  \\\n",
      "0            40.0      Female             2          2.0            n   \n",
      "1            50.0      Female             2          1.0            n   \n",
      "2            49.0      Female             1          1.0            n   \n",
      "3            60.0        Male             2          1.0            n   \n",
      "4            53.0      Female             2          1.0            n   \n",
      "...           ...         ...           ...          ...          ...   \n",
      "2337525      57.0      Female             2          2.0            n   \n",
      "2337526      68.0        Male             2          2.0            n   \n",
      "2337527      54.0      Female             2          1.0            n   \n",
      "2337528      57.0        Male             2          2.0            n   \n",
      "2337529      49.0      Female             2          1.0            n   \n",
      "\n",
      "         mdc_expen_1996  income_1996  fs_hold_1996  h_price_1996  \\\n",
      "0                   NaN          0.0           NaN           NaN   \n",
      "1                 700.0     386583.4           NaN           NaN   \n",
      "2                2628.0     539996.5           NaN           NaN   \n",
      "3                   NaN     303407.4           NaN           NaN   \n",
      "4                   NaN     303407.4           NaN           NaN   \n",
      "...                 ...          ...           ...           ...   \n",
      "2337525             NaN      44400.0           NaN           NaN   \n",
      "2337526             NaN       3108.0           NaN           NaN   \n",
      "2337527             NaN      62160.0       15000.0           NaN   \n",
      "2337528             NaN       1702.0           NaN           NaN   \n",
      "2337529             NaN       1702.0           NaN           NaN   \n",
      "\n",
      "         h_value_1996  ...  h_size_2020 food_stamp_2020  SS_2020  \\\n",
      "0             50000.0  ...          NaN               y      1.0   \n",
      "1            100000.0  ...          NaN               n      1.0   \n",
      "2                 NaN  ...          NaN               n      1.0   \n",
      "3            500000.0  ...          NaN               n      1.0   \n",
      "4            500000.0  ...          NaN               n      1.0   \n",
      "...               ...  ...          ...             ...      ...   \n",
      "2337525           NaN  ...          NaN               n      1.0   \n",
      "2337526      100000.0  ...          NaN               n      1.0   \n",
      "2337527      165000.0  ...          NaN               n      1.0   \n",
      "2337528       70000.0  ...          NaN               n      1.0   \n",
      "2337529       70000.0  ...          NaN               n      1.0   \n",
      "\n",
      "         welfare_2020  w_c_2020 HELC_2020 tenure_2020  rooms_2020 kitch_2020  \\\n",
      "0                 NaN       NaN         y         own         NaN        NaN   \n",
      "1                 NaN       NaN         n         own         NaN        NaN   \n",
      "2                 NaN       NaN         n         own         NaN        NaN   \n",
      "3                 NaN       NaN         y         own         NaN        NaN   \n",
      "4                 NaN       NaN         y         own         NaN        NaN   \n",
      "...               ...       ...       ...         ...         ...        ...   \n",
      "2337525           NaN       NaN         n         own         NaN        NaN   \n",
      "2337526           NaN       NaN         n         own         NaN        NaN   \n",
      "2337527           NaN       NaN         n         own         NaN        NaN   \n",
      "2337528           NaN       NaN         n         own         NaN        NaN   \n",
      "2337529           NaN       NaN         n         own         NaN        NaN   \n",
      "\n",
      "         num_person_2020  \n",
      "0                      1  \n",
      "1                      1  \n",
      "2                      1  \n",
      "3                      2  \n",
      "4                      2  \n",
      "...                  ...  \n",
      "2337525                2  \n",
      "2337526                1  \n",
      "2337527                1  \n",
      "2337528                2  \n",
      "2337529                2  \n",
      "\n",
      "[2337530 rows x 261 columns]\n"
     ]
    }
   ],
   "source": [
    "data = HRSs(1996)\n",
    "data['id + pn'] = data.apply(lambda x: x['id'] + x['pn'], axis=1)\n",
    "data = data.drop(['id', 'pn'], axis=1)\n",
    "for year in range(1998, 2022, 2):\n",
    "    new = HRSs(year)\n",
    "    new['id + pn'] = new.apply(lambda x: x['id'] + x['pn'], axis=1)\n",
    "    new = new.drop(['id', 'pn'], axis=1)\n",
    "    data = data.merge(new, how='inner', on='id + pn')\n",
    "print(data)"
   ]
  },
  {
   "cell_type": "code",
   "execution_count": 41,
   "metadata": {},
   "outputs": [
    {
     "name": "stdout",
     "output_type": "stream",
     "text": [
      "nan\n"
     ]
    }
   ],
   "source": [
    "index = (data['age_1996'] == 73)\n",
    "data_point = data.loc[80617]['h_price_1996']\n",
    "print(data_point)"
   ]
  },
  {
   "cell_type": "code",
   "execution_count": 82,
   "metadata": {},
   "outputs": [
    {
     "name": "stderr",
     "output_type": "stream",
     "text": [
      "C:\\Users\\shih\\AppData\\Local\\Temp\\ipykernel_13748\\3373509875.py:41: RuntimeWarning: divide by zero encountered in double_scalars\n",
      "  return pow(pow(c, ETA)*pow(OMEGA(0)*h, 1-ETA)/PSI(s), 1-SIGMA)/(1-SIGMA)\n"
     ]
    },
    {
     "name": "stdout",
     "output_type": "stream",
     "text": [
      "0\n"
     ]
    }
   ],
   "source": [
    "print(UtilityofRenter(94, 860, 1, 2, 20, 120000, 15000))"
   ]
  }
 ],
 "metadata": {
  "kernelspec": {
   "display_name": "Python 3 (ipykernel)",
   "language": "python",
   "name": "python3"
  },
  "language_info": {
   "codemirror_mode": {
    "name": "ipython",
    "version": 3
   },
   "file_extension": ".py",
   "mimetype": "text/x-python",
   "name": "python",
   "nbconvert_exporter": "python",
   "pygments_lexer": "ipython3",
   "version": "3.9.13"
  }
 },
 "nbformat": 4,
 "nbformat_minor": 2
}
