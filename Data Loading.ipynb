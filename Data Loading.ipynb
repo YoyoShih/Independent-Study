{
 "cells": [
  {
   "cell_type": "code",
   "execution_count": 24,
   "metadata": {},
   "outputs": [],
   "source": [
    "A_R_96 = open('D:\\Downloads\\h96core\\h96da\\H96A_R.DA', mode='r')\n",
    "A_R = A_R_96.read()"
   ]
  },
  {
   "cell_type": "markdown",
   "metadata": {},
   "source": [
    "## Data Description\n",
    "### Description\n",
    "##### Levels：\n",
    "* Household(H)：the entire household or finnancial respondent (6,816 rows)\n",
    "* Respondent(R)：ask for all respondent (10,964 rows)\n",
    "* Household-Member-and-Child(MC)：\n",
    "* Sibling(SB)：\n",
    "* Helper(HP)：\n",
    "* Transfer-to-Child-or-Grandchild(TC)：\n",
    "* Transfer-from-Child(FC)：\n",
    "\n",
    "### Notice：\n",
    "After each row, there is a char for newline.  \n",
    "A blank of a variable contains **3** \" \" chars.  \n",
    "A household (row) contains\n",
    "* A_R：146 chars, indexed from 0 to 145.\n",
    "\n",
    "### Vital Information：\n",
    "(Take example for the first household)"
   ]
  },
  {
   "cell_type": "markdown",
   "metadata": {},
   "source": [
    "Id：1 - 6 (in every data)"
   ]
  },
  {
   "cell_type": "code",
   "execution_count": 22,
   "metadata": {},
   "outputs": [
    {
     "name": "stdout",
     "output_type": "stream",
     "text": [
      "000002\n"
     ]
    }
   ],
   "source": [
    "id = A_R[0:6]\n",
    "print(id)"
   ]
  },
  {
   "cell_type": "markdown",
   "metadata": {},
   "source": [
    "Age：92 - 94 (A_R)"
   ]
  },
  {
   "cell_type": "code",
   "execution_count": 23,
   "metadata": {},
   "outputs": [
    {
     "name": "stdout",
     "output_type": "stream",
     "text": [
      "062\n"
     ]
    }
   ],
   "source": [
    "age = A_R[91:94]\n",
    "print(age)"
   ]
  },
  {
   "cell_type": "markdown",
   "metadata": {},
   "source": [
    "Pension income："
   ]
  },
  {
   "cell_type": "code",
   "execution_count": 23,
   "metadata": {},
   "outputs": [
    {
     "name": "stdout",
     "output_type": "stream",
     "text": [
      "062\n"
     ]
    }
   ],
   "source": [
    "pen_inc = A_R[91:94]\n",
    "print(pen_inc)"
   ]
  },
  {
   "cell_type": "markdown",
   "metadata": {},
   "source": [
    "<font color = \"#FF0000\">What is \"Household size\"<font>："
   ]
  },
  {
   "cell_type": "code",
   "execution_count": 23,
   "metadata": {},
   "outputs": [
    {
     "name": "stdout",
     "output_type": "stream",
     "text": [
      "062\n"
     ]
    }
   ],
   "source": [
    "hh_size = A_R[91:94]\n",
    "print(hh_size)"
   ]
  },
  {
   "cell_type": "markdown",
   "metadata": {},
   "source": [
    "(health relevant data are in section B)  \n",
    "<font color = \"#FF0000\">What is \"Health Status\", there are many variables related to health status in the dataset<font>："
   ]
  },
  {
   "cell_type": "code",
   "execution_count": 23,
   "metadata": {},
   "outputs": [
    {
     "name": "stdout",
     "output_type": "stream",
     "text": [
      "062\n"
     ]
    }
   ],
   "source": [
    "hl_sta = A_R[91:94]\n",
    "print(hl_sta)"
   ]
  },
  {
   "cell_type": "markdown",
   "metadata": {},
   "source": [
    "Medical expenditure："
   ]
  },
  {
   "cell_type": "code",
   "execution_count": 23,
   "metadata": {},
   "outputs": [
    {
     "name": "stdout",
     "output_type": "stream",
     "text": [
      "062\n"
     ]
    }
   ],
   "source": [
    "mdc_expen = A_R[91:94]\n",
    "print(mdc_expen)"
   ]
  },
  {
   "cell_type": "markdown",
   "metadata": {},
   "source": [
    "<font color = \"#FF0000\">Is it price or value ?<font>  \n",
    "House price："
   ]
  },
  {
   "cell_type": "code",
   "execution_count": 23,
   "metadata": {},
   "outputs": [
    {
     "name": "stdout",
     "output_type": "stream",
     "text": [
      "062\n"
     ]
    }
   ],
   "source": [
    "h_p = A_R[91:94]\n",
    "print(h_p)"
   ]
  },
  {
   "cell_type": "markdown",
   "metadata": {},
   "source": [
    "Reverse mortgage indicator："
   ]
  },
  {
   "cell_type": "code",
   "execution_count": 23,
   "metadata": {},
   "outputs": [
    {
     "name": "stdout",
     "output_type": "stream",
     "text": [
      "062\n"
     ]
    }
   ],
   "source": [
    "rm_ind = A_R[91:94]\n",
    "print(rm_ind)"
   ]
  },
  {
   "cell_type": "markdown",
   "metadata": {},
   "source": [
    "House size："
   ]
  },
  {
   "cell_type": "code",
   "execution_count": 23,
   "metadata": {},
   "outputs": [
    {
     "name": "stdout",
     "output_type": "stream",
     "text": [
      "062\n"
     ]
    }
   ],
   "source": [
    "h_size = A_R[91:94]\n",
    "print(h_size)"
   ]
  },
  {
   "cell_type": "markdown",
   "metadata": {},
   "source": [
    "Financial asset holdings："
   ]
  },
  {
   "cell_type": "code",
   "execution_count": 23,
   "metadata": {},
   "outputs": [
    {
     "name": "stdout",
     "output_type": "stream",
     "text": [
      "062\n"
     ]
    }
   ],
   "source": [
    "fs_hold = A_R[91:94]\n",
    "print(fs_hold)"
   ]
  },
  {
   "cell_type": "code",
   "execution_count": null,
   "metadata": {},
   "outputs": [],
   "source": [
    "f.close()"
   ]
  }
 ],
 "metadata": {
  "kernelspec": {
   "display_name": "Python 3",
   "language": "python",
   "name": "python3"
  },
  "language_info": {
   "codemirror_mode": {
    "name": "ipython",
    "version": 3
   },
   "file_extension": ".py",
   "mimetype": "text/x-python",
   "name": "python",
   "nbconvert_exporter": "python",
   "pygments_lexer": "ipython3",
   "version": "3.7.6"
  }
 },
 "nbformat": 4,
 "nbformat_minor": 4
}
