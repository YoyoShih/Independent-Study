{
 "cells": [
  {
   "cell_type": "code",
   "execution_count": null,
   "metadata": {},
   "outputs": [],
   "source": []
  },
  {
   "cell_type": "markdown",
   "metadata": {},
   "source": [
    "House price (value)：  \n",
    "57 - 64 (F_H)"
   ]
  },
  {
   "cell_type": "code",
   "execution_count": 4,
   "metadata": {},
   "outputs": [],
   "source": [
    "# h_p = datas[0][3][56:64]\n",
    "# print(h_p)"
   ]
  },
  {
   "cell_type": "markdown",
   "metadata": {},
   "source": [
    "Pension income：  \n",
    "non-financial income, including (net of taxes)\n",
    "* Social Security：321 - 327 (J_H)\n",
    "* pension：635 - 640, 641 - 646 (J_H)\n",
    "* disability：1079 - 1085 (J_H)\n",
    "* annuity：1306, 1310 - 1315 (J_H)\n",
    "* government transfer income：  \n",
    "    including\n",
    "    * unemployment compensation：169 - 175 (J_H)\n",
    "    * workers' compensation：245 - 251 (J_H)\n",
    "    * supplemental security income：369 - 372 (J_H)\n",
    "    * welfare：381 - 386 (J_H)\n",
    "    * veteran benefits or military pension：389 - 394 (J_H)\n",
    "* labor income：48 - 54, 60 - 66, 72 - 78, 84 - 90, 96 - 102 (J_H)\n",
    "* tax：\n",
    "\n",
    "<font color = '#FF0000'>should include spouse's or partner's？ or use adjustment factor？<?font>"
   ]
  },
  {
   "cell_type": "code",
   "execution_count": 5,
   "metadata": {},
   "outputs": [],
   "source": [
    "# pen_inc = A_R[91:94]\n",
    "# print(pen_inc)"
   ]
  },
  {
   "cell_type": "markdown",
   "metadata": {},
   "source": [
    "House size："
   ]
  },
  {
   "cell_type": "code",
   "execution_count": 6,
   "metadata": {},
   "outputs": [],
   "source": [
    "# h_size = A_R[91:94]\n",
    "# print(h_size)"
   ]
  },
  {
   "cell_type": "markdown",
   "metadata": {},
   "source": [
    "Financial asset holdings："
   ]
  },
  {
   "cell_type": "code",
   "execution_count": 7,
   "metadata": {},
   "outputs": [],
   "source": [
    "# fs_hold = A_R[91:94]\n",
    "# print(fs_hold)"
   ]
  }
 ],
 "metadata": {
  "kernelspec": {
   "display_name": "Python 3 (ipykernel)",
   "language": "python",
   "name": "python3"
  },
  "language_info": {
   "codemirror_mode": {
    "name": "ipython",
    "version": 3
   },
   "file_extension": ".py",
   "mimetype": "text/x-python",
   "name": "python",
   "nbconvert_exporter": "python",
   "pygments_lexer": "ipython3",
   "version": "3.9.0"
  },
  "vscode": {
   "interpreter": {
    "hash": "81794d4967e6c3204c66dcd87b604927b115b27c00565d3d43f05ba2f3a2cb0d"
   }
  }
 },
 "nbformat": 4,
 "nbformat_minor": 4
}
