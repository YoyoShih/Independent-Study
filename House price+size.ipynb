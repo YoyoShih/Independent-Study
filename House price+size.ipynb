{
 "cells": [
  {
   "cell_type": "code",
   "execution_count": 42,
   "metadata": {},
   "outputs": [],
   "source": [
    "import numpy as np\n",
    "import pandas as pd\n",
    "import xlwings as xw"
   ]
  },
  {
   "cell_type": "code",
   "execution_count": 43,
   "metadata": {},
   "outputs": [],
   "source": [
    "# 定義一些函數方便整理資料\n",
    "def int_limit(ip, maximum=10*10, minimum=0):\n",
    "    try:\n",
    "        op = int(ip)\n",
    "        if op > maximum or op < minimum:\n",
    "            return None\n",
    "        return op\n",
    "    except:\n",
    "        return None\n",
    "\n",
    "def float_limit(ip, maximum=10*10, minimum=0):\n",
    "    try:\n",
    "        op = float(ip)\n",
    "        if op > maximum or op < minimum:\n",
    "            return None\n",
    "        return op\n",
    "    except:\n",
    "        return None"
   ]
  },
  {
   "cell_type": "code",
   "execution_count": 44,
   "metadata": {},
   "outputs": [
    {
     "name": "stdout",
     "output_type": "stream",
     "text": [
      "[ 28000.  72500. 118000. 160000. 200000. 245000. 301000. 400000. 682000.]\n"
     ]
    }
   ],
   "source": [
    "H_H = np.array(list(open('D:\\Desktop\\imf\\專題\\data\\\\2020\\h20da\\H20H_H.DA', mode='r').read()))\n",
    "arr = np.array([])\n",
    "for i in range(11490):\n",
    "    p = int_limit(''.join(H_H[(698 * i + 275) : (698 * i + 283)]), 9999998, 0)\n",
    "    if p != None:\n",
    "        arr = np.append(arr, [p], axis=0)\n",
    "arr = np.sort(arr, axis=None)\n",
    "bins = np.array([arr[75], arr[150], arr[225], arr[300], arr[375], arr[450], arr[525], arr[600], arr[675]])\n",
    "print(bins)"
   ]
  },
  {
   "cell_type": "code",
   "execution_count": 45,
   "metadata": {},
   "outputs": [],
   "source": [
    "def transfer(price):\n",
    "    maps = lambda x: x < price\n",
    "    temp = maps(bins)\n",
    "    return sum(temp) + 1"
   ]
  },
  {
   "cell_type": "code",
   "execution_count": 46,
   "metadata": {},
   "outputs": [
    {
     "name": "stdout",
     "output_type": "stream",
     "text": [
      "          id subhh h_price_1996 h_size_1996\n",
      "0     000002     0         None        None\n",
      "1     000003     0       110000           3\n",
      "2     010001     0        90000           3\n",
      "3     010003     0        50000           2\n",
      "4     010004     0       100000           3\n",
      "...      ...   ...          ...         ...\n",
      "6811  098121     0        50000           2\n",
      "6812  098802     0        50000           2\n",
      "6813  098859     0         None        None\n",
      "6814  099231     0        40000           2\n",
      "6815  099564     0        60000           2\n",
      "\n",
      "[6816 rows x 4 columns]\n"
     ]
    }
   ],
   "source": [
    "# 1996, 以 household 為單位的回答\n",
    "F_H = np.array(list(open('D:\\Desktop\\imf\\專題\\data\\\\1996\\h96da\\H96F_H.DA', mode='r').read()))\n",
    "\n",
    "cols = ['id', 'subhh', 'h_price_1996', 'h_size_1996']\n",
    "data_1996_H = pd.DataFrame(columns=cols)\n",
    "for i in range(6816):\n",
    "    p = int_limit(''.join(F_H[(394 * i + 56) : (394 * i + 64)]), 99999997)\n",
    "    s = transfer(p) if p else None\n",
    "    new = pd.DataFrame({\n",
    "        'id': ''.join(F_H[(394 * i) : (394 * i + 6)]),\n",
    "        'subhh': ''.join(F_H[394 * i + 6]),\n",
    "        'h_price_1996': p,\n",
    "        'h_size_1996': s\n",
    "    }, index=[0])\n",
    "    data_1996_H = pd.concat([data_1996_H, new], ignore_index=True)\n",
    "\n",
    "print(data_1996_H)\n",
    "# alter_data_1996_H = data_1996_H.dropna()\n",
    "# maps = alter_data_1996_H['income_1996'].groupby(alter_data_1996_H['id']).mean()\n",
    "# print(maps)"
   ]
  },
  {
   "cell_type": "code",
   "execution_count": 47,
   "metadata": {},
   "outputs": [],
   "source": [
    "# 1998, 以 household 為單位的回答\n",
    "F_H = np.array(list(open('D:\\Desktop\\imf\\專題\\data\\\\1998\\h98da\\H98F_H.DA', mode='r').read()))\n",
    "\n",
    "cols = ['id', 'subhh', 'h_price_1998', 'h_size_1998']\n",
    "data_1998_H = pd.DataFrame(columns=cols)\n",
    "for i in range(14395):\n",
    "    p = int_limit(''.join(F_H[(368 * i + 157) : (368 * i + 164)]), 9999998)\n",
    "    s = transfer(p) if p else None\n",
    "    new = pd.DataFrame({\n",
    "        'id': ''.join(F_H[(368 * i) : (368 * i + 6)]),\n",
    "        'subhh': ''.join(F_H[368 * i + 6]),\n",
    "        'h_price_1998': p,\n",
    "        'h_size_1998': s\n",
    "    }, index=[0])\n",
    "    data_1998_H = pd.concat([data_1998_H, new], ignore_index=True)\n",
    "    \n",
    "# alter_data_1998_H = data_1998_H.dropna()\n",
    "# maps = alter_data_1998_H['income_1998'].groupby(alter_data_1998_H['id']).mean()\n",
    "# print(maps)"
   ]
  },
  {
   "cell_type": "code",
   "execution_count": 48,
   "metadata": {},
   "outputs": [],
   "source": [
    "# 2000, 以 household 為單位的回答\n",
    "F_H = np.array(list(open('D:\\Desktop\\imf\\專題\\data\\\\2000\\h00da\\H00F_H.DA', mode='r').read()))\n",
    "\n",
    "cols = ['id', 'subhh', 'h_price_2000', 'h_size_2000']\n",
    "data_2000_H = pd.DataFrame(columns=cols)\n",
    "for i in range(13214):\n",
    "    p = int_limit(''.join(F_H[(387 * i + 158) : (387 * i + 165)]), 9999998)\n",
    "    s = transfer(p) if p else None\n",
    "    new = pd.DataFrame({\n",
    "        'id': ''.join(F_H[(387 * i) : (387 * i + 6)]),\n",
    "        'subhh': ''.join(F_H[387 * i + 6]),\n",
    "        'h_price_2000': p,\n",
    "        'h_size_2000': s\n",
    "    }, index=[0])\n",
    "    data_2000_H = pd.concat([data_2000_H, new], ignore_index=True)\n",
    "    \n",
    "# alter_data_2000_H = data_2000_H.dropna()\n",
    "# maps = alter_data_2000_H['income_2000'].groupby(alter_data_2000_H['id']).mean()\n",
    "# print(maps)"
   ]
  },
  {
   "cell_type": "code",
   "execution_count": 49,
   "metadata": {},
   "outputs": [],
   "source": [
    "# 2002, 以 household 為單位的回答\n",
    "H_H = np.array(list(open('D:\\Desktop\\imf\\專題\\data\\\\2002\\h02da\\H02H_H.DA', mode='r').read()))\n",
    "\n",
    "cols = ['id', 'subhh', 'h_price_2002', 'h_size_2002']\n",
    "data_2002_H = pd.DataFrame(columns=cols)\n",
    "for i in range(12350):\n",
    "    p = int_limit(''.join(H_H[(553 * i + 237) : (553 * i + 244)]), 9999998)\n",
    "    s = transfer(p) if p else None\n",
    "    new = pd.DataFrame({\n",
    "        'id': ''.join(H_H[(553 * i) : (553 * i + 6)]),\n",
    "        'subhh': ''.join(H_H[553 * i + 6]),\n",
    "        'h_price_2002': p,\n",
    "        'h_size_2002': s\n",
    "    }, index=[0])\n",
    "    data_2002_H = pd.concat([data_2002_H, new], ignore_index=True)\n",
    "    \n",
    "# alter_data_2002_H = data_2002_H.dropna()\n",
    "# maps = alter_data_2002_H['income_2002'].groupby(alter_data_2002_H['id']).mean()\n",
    "# print(maps)"
   ]
  },
  {
   "cell_type": "code",
   "execution_count": 50,
   "metadata": {},
   "outputs": [],
   "source": [
    "# 2004, 以 household 為單位的回答\n",
    "H_H = np.array(list(open('D:\\Desktop\\imf\\專題\\data\\\\2004\\h04da\\H04H_H.DA', mode='r').read()))\n",
    "\n",
    "cols = ['id', 'subhh', 'h_price_2004', 'h_size_2004']\n",
    "data_2004_H = pd.DataFrame(columns=cols)\n",
    "for i in range(13645):\n",
    "    p = int_limit(''.join(H_H[(582 * i + 256) : (582 * i + 263)]), 9999998)\n",
    "    s = transfer(p) if p else None\n",
    "    new = pd.DataFrame({\n",
    "        'id': ''.join(H_H[(582 * i) : (582 * i + 6)]),\n",
    "        'subhh': ''.join(H_H[582 * i + 6]),\n",
    "        'h_price_2004': p,\n",
    "        'h_size_2004': s\n",
    "    }, index=[0])\n",
    "    data_2004_H = pd.concat([data_2004_H, new], ignore_index=True)\n",
    "    \n",
    "# alter_data_2004_H = data_2004_H.dropna()\n",
    "# maps = alter_data_2004_H['income_2004'].groupby(alter_data_2004_H['id']).mean()\n",
    "# print(maps)"
   ]
  },
  {
   "cell_type": "code",
   "execution_count": 51,
   "metadata": {},
   "outputs": [],
   "source": [
    "# 2006, 以 household 為單位的回答\n",
    "H_H = np.array(list(open('D:\\Desktop\\imf\\專題\\data\\\\2006\\h06da\\H06H_H.DA', mode='r').read()))\n",
    "\n",
    "cols = ['id', 'subhh', 'h_price_2006', 'h_size_2006']\n",
    "data_2006_H = pd.DataFrame(columns=cols)\n",
    "for i in range(12605):\n",
    "    p = int_limit(''.join(H_H[(710 * i + 319) : (710 * i + 326)]), 9999998)\n",
    "    s = transfer(p) if p else None\n",
    "    new = pd.DataFrame({\n",
    "        'id': ''.join(H_H[(710 * i) : (710 * i + 6)]),\n",
    "        'subhh': ''.join(H_H[710 * i + 6]),\n",
    "        'h_price_2006': p,\n",
    "        'h_size_2006': s\n",
    "    }, index=[0])\n",
    "    data_2006_H = pd.concat([data_2006_H, new], ignore_index=True)\n",
    "    \n",
    "# alter_data_2006_H = data_2006_H.dropna()\n",
    "# maps = alter_data_2006_H['income_2006'].groupby(alter_data_2006_H['id']).mean()\n",
    "# print(maps)"
   ]
  },
  {
   "cell_type": "code",
   "execution_count": 52,
   "metadata": {},
   "outputs": [],
   "source": [
    "# 2008, 以 household 為單位的回答\n",
    "H_H = np.array(list(open('D:\\Desktop\\imf\\專題\\data\\\\2008\\h08da\\H08H_H.DA', mode='r').read()))\n",
    "\n",
    "cols = ['id', 'subhh', 'h_price_2008', 'h_size_2008']\n",
    "data_2008_H = pd.DataFrame(columns=cols)\n",
    "for i in range(11897):\n",
    "    p = int_limit(''.join(H_H[(751 * i + 321) : (751 * i + 328)]), 9999998)\n",
    "    s = transfer(p) if p else None\n",
    "    new = pd.DataFrame({\n",
    "        'id': ''.join(H_H[(751 * i) : (751 * i + 6)]),\n",
    "        'subhh': ''.join(H_H[751 * i + 6]),\n",
    "        'h_price_2008': p,\n",
    "        'h_size_2008': s\n",
    "    }, index=[0])\n",
    "    data_2008_H = pd.concat([data_2008_H, new], ignore_index=True)\n",
    "    \n",
    "# alter_data_2008_H = data_2008_H.dropna()\n",
    "# maps = alter_data_2008_H['income_2008'].groupby(alter_data_2008_H['id']).mean()\n",
    "# print(maps)"
   ]
  },
  {
   "cell_type": "code",
   "execution_count": 53,
   "metadata": {},
   "outputs": [],
   "source": [
    "# 2010, 以 household 為單位的回答\n",
    "H_H = np.array(list(open('D:\\Desktop\\imf\\專題\\data\\\\2010\\h10da\\H10H_H.DA', mode='r').read()))\n",
    "\n",
    "cols = ['id', 'subhh', 'h_price_2010', 'h_size_2010']\n",
    "data_2010_H = pd.DataFrame(columns=cols)\n",
    "for i in range(15280):\n",
    "    p = int_limit(''.join(H_H[(675 * i + 269) : (675 * i + 276)]), 9999998)\n",
    "    s = transfer(p) if p else None\n",
    "    new = pd.DataFrame({\n",
    "        'id': ''.join(H_H[(675 * i) : (675 * i + 6)]),\n",
    "        'subhh': ''.join(H_H[675 * i + 6]),\n",
    "        'h_price_2010': p,\n",
    "        'h_size_2010': s\n",
    "    }, index=[0])\n",
    "    data_2010_H = pd.concat([data_2010_H, new], ignore_index=True)\n",
    "    \n",
    "# alter_data_2010_H = data_2010_H.dropna()\n",
    "# maps = alter_data_2010_H['income_2010'].groupby(alter_data_2010_H['id']).mean()\n",
    "# print(maps)"
   ]
  },
  {
   "cell_type": "code",
   "execution_count": 54,
   "metadata": {},
   "outputs": [],
   "source": [
    "# 2012, 以 household 為單位的回答\n",
    "H_H = np.array(list(open('D:\\Desktop\\imf\\專題\\data\\\\2012\\h12da\\H12H_H.DA', mode='r').read()))\n",
    "\n",
    "cols = ['id', 'subhh', 'h_price_2012', 'h_size_2012']\n",
    "data_2012_H = pd.DataFrame(columns=cols)\n",
    "for i in range(14316):\n",
    "    p = int_limit(''.join(H_H[(685 * i + 281) : (685 * i + 288)]), 9999998)\n",
    "    s = transfer(p) if p else None\n",
    "    new = pd.DataFrame({\n",
    "        'id': ''.join(H_H[(685 * i) : (685 * i + 6)]),\n",
    "        'subhh': ''.join(H_H[685 * i + 6]),\n",
    "        'h_price_2012': p,\n",
    "        'h_size_2012': s\n",
    "    }, index=[0])\n",
    "    data_2012_H = pd.concat([data_2012_H, new], ignore_index=True)\n",
    "    \n",
    "# alter_data_2012_H = data_2012_H.dropna()\n",
    "# maps = alter_data_2012_H['income_2012'].groupby(alter_data_2012_H['id']).mean()\n",
    "# print(maps)"
   ]
  },
  {
   "cell_type": "code",
   "execution_count": 55,
   "metadata": {},
   "outputs": [],
   "source": [
    "# 2014, 以 household 為單位的回答\n",
    "H_H = np.array(list(open('D:\\Desktop\\imf\\專題\\data\\\\2014\\h14da\\H14H_H.DA', mode='r').read()))\n",
    "\n",
    "cols = ['id', 'subhh', 'h_price_2014', 'h_size_2014']\n",
    "data_2014_H = pd.DataFrame(columns=cols)\n",
    "for i in range(13241):\n",
    "    p = int_limit(''.join(H_H[(624 * i + 267) : (624 * i + 274)]), 9999998)\n",
    "    s = transfer(p) if p else None\n",
    "    new = pd.DataFrame({\n",
    "        'id': ''.join(H_H[(624 * i) : (624 * i + 6)]),\n",
    "        'subhh': ''.join(H_H[624 * i + 6]),\n",
    "        'h_price_2014': p,\n",
    "        'h_size_2014': s\n",
    "    }, index=[0])\n",
    "    data_2014_H = pd.concat([data_2014_H, new], ignore_index=True)\n",
    "    \n",
    "# alter_data_2014_H = data_2014_H.dropna()\n",
    "# maps = alter_data_2014_H['income_2014'].groupby(alter_data_2014_H['id']).mean()\n",
    "# print(maps)"
   ]
  },
  {
   "cell_type": "code",
   "execution_count": 56,
   "metadata": {},
   "outputs": [],
   "source": [
    "# 2016, 以 household 為單位的回答\n",
    "H_H = np.array(list(open('D:\\Desktop\\imf\\專題\\data\\\\2016\\h16da\\H16H_H.DA', mode='r').read()))\n",
    "\n",
    "cols = ['id', 'subhh', 'h_price_2016', 'h_size_2016']\n",
    "data_2016_H = pd.DataFrame(columns=cols)\n",
    "for i in range(15023):\n",
    "    p = int_limit(''.join(H_H[(592 * i + 256) : (592 * i + 264)]), 99999998)\n",
    "    s = transfer(p) if p else None\n",
    "    new = pd.DataFrame({\n",
    "        'id': ''.join(H_H[(592 * i) : (592 * i + 6)]),\n",
    "        'subhh': ''.join(H_H[592 * i + 6]),\n",
    "        'h_price_2016': p,\n",
    "        'h_size_2016': s\n",
    "    }, index=[0])\n",
    "    data_2016_H = pd.concat([data_2016_H, new], ignore_index=True)\n",
    "    \n",
    "# alter_data_2016_H = data_2016_H.dropna()\n",
    "# maps = alter_data_2016_H['income_2016'].groupby(alter_data_2016_H['id']).mean()\n",
    "# print(maps)"
   ]
  },
  {
   "cell_type": "code",
   "execution_count": 57,
   "metadata": {},
   "outputs": [],
   "source": [
    "# 2018, 以 household 為單位的回答\n",
    "H_H = np.array(list(open('D:\\Desktop\\imf\\專題\\data\\\\2018\\h18da\\H18H_H.DA', mode='r').read()))\n",
    "\n",
    "cols = ['id', 'subhh', 'h_price_2018', 'h_size_2018']\n",
    "data_2018_H = pd.DataFrame(columns=cols)\n",
    "for i in range(12467):\n",
    "    p = int_limit(''.join(H_H[(760 * i + 288) : (760 * i + 296)]), 99999998, 0)\n",
    "    s = transfer(p) if p else None\n",
    "    new = pd.DataFrame({\n",
    "        'id': ''.join(H_H[(760 * i) : (760 * i + 6)]),\n",
    "        'subhh': ''.join(H_H[760 * i + 6]),\n",
    "        'h_price_2018': p,\n",
    "        'h_size_2018': s\n",
    "    }, index=[0])\n",
    "    data_2018_H = pd.concat([data_2018_H, new], ignore_index=True)\n",
    "    \n",
    "# alter_data_2018_H = data_2018_H.dropna()\n",
    "# maps = alter_data_2018_H['income_2018'].groupby(alter_data_2018_H['id']).mean()\n",
    "# print(maps)"
   ]
  },
  {
   "cell_type": "code",
   "execution_count": 58,
   "metadata": {},
   "outputs": [],
   "source": [
    "# 2020, 以 household 為單位的回答\n",
    "H_H = np.array(list(open('D:\\Desktop\\imf\\專題\\data\\\\2020\\h20da\\H20H_H.DA', mode='r').read()))\n",
    "\n",
    "cols = ['id', 'subhh', 'h_price_2020', 'h_size_2020']\n",
    "data_2020_H = pd.DataFrame(columns=cols)\n",
    "for i in range(11490):\n",
    "    p = int_limit(''.join(H_H[(698 * i + 275) : (698 * i + 283)]), 9999998, 0)\n",
    "    s = transfer(p) if p else None\n",
    "    new = pd.DataFrame({\n",
    "        'id': ''.join(H_H[(698 * i) : (698 * i + 6)]),\n",
    "        'subhh': ''.join(H_H[698 * i + 6]),\n",
    "        'h_price_2020': p,\n",
    "        'h_size_2020': s\n",
    "    }, index=[0])\n",
    "    data_2020_H = pd.concat([data_2020_H, new], ignore_index=True)\n",
    "    \n",
    "# alter_data_2020_H = data_2020_H.dropna()\n",
    "# maps = alter_data_2020_H['income_2020'].groupby(alter_data_2020_H['id']).mean()\n",
    "# print(maps)"
   ]
  }
 ],
 "metadata": {
  "kernelspec": {
   "display_name": "Python 3 (ipykernel)",
   "language": "python",
   "name": "python3"
  },
  "language_info": {
   "codemirror_mode": {
    "name": "ipython",
    "version": 3
   },
   "file_extension": ".py",
   "mimetype": "text/x-python",
   "name": "python",
   "nbconvert_exporter": "python",
   "pygments_lexer": "ipython3",
   "version": "3.9.0"
  },
  "vscode": {
   "interpreter": {
    "hash": "81794d4967e6c3204c66dcd87b604927b115b27c00565d3d43f05ba2f3a2cb0d"
   }
  }
 },
 "nbformat": 4,
 "nbformat_minor": 4
}
